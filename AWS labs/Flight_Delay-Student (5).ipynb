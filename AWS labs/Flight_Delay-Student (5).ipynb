{
 "cells": [
  {
   "cell_type": "markdown",
   "metadata": {},
   "source": [
    "# Problem: Predicting Airplane Delays\n",
    "\n",
    "The goals of this notebook are:\n",
    "- Process and create a dataset from downloaded .zip files\n",
    "- Perform exploratory data analysis (EDA)\n",
    "- Establish a baseline model\n",
    "- Move from a simple model to an ensemble model\n",
    "- Perform hyperparameter optimization\n",
    "- Check feature importance\n",
    "\n",
    "\n",
    "## Introduction to business scenario\n",
    "\n",
    "You work for a travel booking website that wants to improve the customer experience for flights that were delayed. The company wants to create a feature to let customers know if the flight will be delayed because of weather when they book a flight to or from the busiest airports for domestic travel in the US. \n",
    "\n",
    "You are tasked with solving part of this problem by using machine learning (ML) to identify whether the flight will be delayed because of weather. You have been given access to the a dataset about the on-time performance of domestic flights that were operated by large air carriers. You can use this data to train an ML model to predict if the flight is going to be delayed for the busiest airports.\n",
    "\n",
    "\n",
    "## About this dataset\n",
    "\n",
    "This dataset contains scheduled and actual departure and arrival times reported by certified US air carriers that account for at least 1 percent of domestic scheduled passenger revenues. The data was collected by the U.S. Office of Airline Information, Bureau of Transportation Statistics (BTS). The dataset contains date, time, origin, destination, airline, distance, and delay status of flights for flights between 2013 and 2018.\n",
    "\n",
    "\n",
    "### Features\n",
    "\n",
    "For more information about features in the dataset, see [On-time delay dataset features](https://www.transtats.bts.gov/Fields.asp).\n",
    "\n",
    "### Dataset attributions  \n",
    "Website: https://www.transtats.bts.gov/\n",
    "\n",
    "Dataset(s) used in this lab were compiled by the U.S. Office of Airline Information, Bureau of Transportation Statistics (BTS), Airline On-Time Performance Data, available at https://www.transtats.bts.gov/DatabaseInfo.asp?DB_ID=120&DB_URL=Mode_ID=1&Mode_Desc=Aviation&Subject_ID2=0."
   ]
  },
  {
   "cell_type": "markdown",
   "metadata": {},
   "source": [
    "# Step 1: Problem formulation and data collection\n",
    "\n",
    "Start this project by writing a few sentences that summarize the business problem and the business goal that you want to achieve in this scenario. You can write down your ideas in the following sections. Include a business metric that you would like your team to aspire toward. After you define that information, write the ML problem statement. Finally, add a comment or two about the type of ML this activity represents. \n",
    "\n",
    "#### <span style=\"color: blue;\">Project presentation: Include a summary of these details in your project presentation.</span>\n",
    "\n",
    "### 1. Determine if and why ML is an appropriate solution to deploy for this scenario."
   ]
  },
  {
   "cell_type": "code",
   "execution_count": 2,
   "metadata": {},
   "outputs": [],
   "source": [
    "# Machine learning is very much an appropriate solution to deploy for this scenario. \n",
    "# This is because we are trying to use a form of machine learning called supervised learning where we have\n",
    "# labeled data in which try to produce a model that fits this data to then predict whether or not a flight\n",
    "# will be delayed in the future based on inputs."
   ]
  },
  {
   "cell_type": "markdown",
   "metadata": {},
   "source": [
    "### 2. Formulate the business problem, success metrics, and desired ML output."
   ]
  },
  {
   "cell_type": "code",
   "execution_count": 3,
   "metadata": {},
   "outputs": [],
   "source": [
    "# The business problem is that we need to create a machine learning model that accurately predicts whether\n",
    "# or not a flight will be delayed due to weather. The success metrics that will be useful for this problem\n",
    "# are we that based on the input data, we need to accurately predict whether or not a flight will be delayed due to the weather\n",
    "# at least 90% of the time. Also, the desired ML output that we should see is a model that shows the binary classification \n",
    "# of these two classes into two distinct groups based on the inputs/features of each example. "
   ]
  },
  {
   "cell_type": "markdown",
   "metadata": {},
   "source": [
    "### 3. Identify the type of ML problem that you're working with."
   ]
  },
  {
   "cell_type": "code",
   "execution_count": 4,
   "metadata": {},
   "outputs": [],
   "source": [
    "# This is a supervised learning machine learning problem, mainly because we are working with \n",
    "# labeled data and we are trying to build a model that can then predict if a plane will be delayed\n",
    "# in the future based on specific input values (i.e. destination, airline, distance, etc.). More specifically, this is a \n",
    "# binary classification ML problem where the two classes are delayed or on-time. "
   ]
  },
  {
   "cell_type": "markdown",
   "metadata": {},
   "source": [
    "### 4. Analyze the appropriateness of the data that you're working with."
   ]
  },
  {
   "cell_type": "code",
   "execution_count": 5,
   "metadata": {},
   "outputs": [],
   "source": [
    "# This data is sufficient for our purposes because it has many features that will be useful to train a ML model\n",
    "# for predicting whether or not a flight will be delayed. "
   ]
  },
  {
   "cell_type": "markdown",
   "metadata": {},
   "source": [
    "### Setup\n",
    "\n",
    "Now that you have decided where you want to focus your attention, you will set up this lab so that you can start solving the problem.\n",
    "\n",
    "**Note:** This notebook was created and tested on an `ml.m4.xlarge` notebook instance with 25 GB storage. "
   ]
  },
  {
   "cell_type": "code",
   "execution_count": 6,
   "metadata": {},
   "outputs": [],
   "source": [
    "import os\n",
    "from pathlib2 import Path\n",
    "from zipfile import ZipFile\n",
    "import time\n",
    "\n",
    "import pandas as pd\n",
    "import numpy as np\n",
    "import subprocess\n",
    "\n",
    "import matplotlib.pyplot as plt\n",
    "import seaborn as sns\n",
    "\n",
    "sns.set()\n",
    "instance_type='ml.m4.xlarge'\n",
    "\n",
    "import warnings\n",
    "warnings.filterwarnings('ignore')\n",
    "\n",
    "%matplotlib inline"
   ]
  },
  {
   "cell_type": "markdown",
   "metadata": {},
   "source": [
    "# Step 2: Data preprocessing and visualization  \n",
    "In this data preprocessing phase, you explore and visualize your data to better understand it. First, import the necessary libraries and read the data into a pandas DataFrame. After you import the data, explore the dataset. Look for the shape of the dataset and explore your columns and the types of columns that you will work with (numerical, categorical). Consider performing basic statistics on the features to get a sense of feature means and ranges. Examine your target column closely, and determine its distribution.\n",
    "\n",
    "\n",
    "### Specific questions to consider\n",
    "\n",
    "Throughout this section of the lab, consider the following questions:\n",
    "\n",
    "1. What can you deduce from the basic statistics that you ran on the features? \n",
    "2. What can you deduce from the distributions of the target classes?\n",
    "3. Is there anything else you can deduce by exploring the data?\n",
    "\n",
    "#### <span style=\"color: blue;\">Project presentation: Include a summary of your answers to these questions (and other similar questions) in your project presentation.</span>"
   ]
  },
  {
   "cell_type": "markdown",
   "metadata": {},
   "source": [
    "Start by bringing in the dataset from a public Amazon Simple Storage Service (Amazon S3) bucket to this notebook environment."
   ]
  },
  {
   "cell_type": "code",
   "execution_count": 7,
   "metadata": {},
   "outputs": [
    {
     "name": "stdout",
     "output_type": "stream",
     "text": [
      "download: s3://aws-tc-largeobjects/CUR-TF-200-ACMLFO-1/flight_delay_project/data/On_Time_Reporting_Carrier_On_Time_Performance_1987_present_2014_10.zip to ../project/data/FlightDelays/On_Time_Reporting_Carrier_On_Time_Performance_1987_present_2014_10.zip\n",
      "download: s3://aws-tc-largeobjects/CUR-TF-200-ACMLFO-1/flight_delay_project/data/On_Time_Reporting_Carrier_On_Time_Performance_1987_present_2014_12.zip to ../project/data/FlightDelays/On_Time_Reporting_Carrier_On_Time_Performance_1987_present_2014_12.zip\n",
      "download: s3://aws-tc-largeobjects/CUR-TF-200-ACMLFO-1/flight_delay_project/data/On_Time_Reporting_Carrier_On_Time_Performance_1987_present_2014_1.zip to ../project/data/FlightDelays/On_Time_Reporting_Carrier_On_Time_Performance_1987_present_2014_1.zip\n",
      "download: s3://aws-tc-largeobjects/CUR-TF-200-ACMLFO-1/flight_delay_project/data/On_Time_Reporting_Carrier_On_Time_Performance_1987_present_2014_2.zip to ../project/data/FlightDelays/On_Time_Reporting_Carrier_On_Time_Performance_1987_present_2014_2.zip\n",
      "download: s3://aws-tc-largeobjects/CUR-TF-200-ACMLFO-1/flight_delay_project/data/On_Time_Reporting_Carrier_On_Time_Performance_1987_present_2014_11.zip to ../project/data/FlightDelays/On_Time_Reporting_Carrier_On_Time_Performance_1987_present_2014_11.zip\n",
      "download: s3://aws-tc-largeobjects/CUR-TF-200-ACMLFO-1/flight_delay_project/data/On_Time_Reporting_Carrier_On_Time_Performance_1987_present_2014_3.zip to ../project/data/FlightDelays/On_Time_Reporting_Carrier_On_Time_Performance_1987_present_2014_3.zip\n",
      "download: s3://aws-tc-largeobjects/CUR-TF-200-ACMLFO-1/flight_delay_project/data/On_Time_Reporting_Carrier_On_Time_Performance_1987_present_2014_5.zip to ../project/data/FlightDelays/On_Time_Reporting_Carrier_On_Time_Performance_1987_present_2014_5.zip\n",
      "download: s3://aws-tc-largeobjects/CUR-TF-200-ACMLFO-1/flight_delay_project/data/On_Time_Reporting_Carrier_On_Time_Performance_1987_present_2014_4.zip to ../project/data/FlightDelays/On_Time_Reporting_Carrier_On_Time_Performance_1987_present_2014_4.zip\n",
      "download: s3://aws-tc-largeobjects/CUR-TF-200-ACMLFO-1/flight_delay_project/data/On_Time_Reporting_Carrier_On_Time_Performance_1987_present_2014_6.zip to ../project/data/FlightDelays/On_Time_Reporting_Carrier_On_Time_Performance_1987_present_2014_6.zip\n",
      "download: s3://aws-tc-largeobjects/CUR-TF-200-ACMLFO-1/flight_delay_project/data/On_Time_Reporting_Carrier_On_Time_Performance_1987_present_2014_7.zip to ../project/data/FlightDelays/On_Time_Reporting_Carrier_On_Time_Performance_1987_present_2014_7.zip\n",
      "download: s3://aws-tc-largeobjects/CUR-TF-200-ACMLFO-1/flight_delay_project/data/On_Time_Reporting_Carrier_On_Time_Performance_1987_present_2014_8.zip to ../project/data/FlightDelays/On_Time_Reporting_Carrier_On_Time_Performance_1987_present_2014_8.zip\n",
      "download: s3://aws-tc-largeobjects/CUR-TF-200-ACMLFO-1/flight_delay_project/data/On_Time_Reporting_Carrier_On_Time_Performance_1987_present_2014_9.zip to ../project/data/FlightDelays/On_Time_Reporting_Carrier_On_Time_Performance_1987_present_2014_9.zip\n",
      "download: s3://aws-tc-largeobjects/CUR-TF-200-ACMLFO-1/flight_delay_project/data/On_Time_Reporting_Carrier_On_Time_Performance_1987_present_2015_1.zip to ../project/data/FlightDelays/On_Time_Reporting_Carrier_On_Time_Performance_1987_present_2015_1.zip\n",
      "download: s3://aws-tc-largeobjects/CUR-TF-200-ACMLFO-1/flight_delay_project/data/On_Time_Reporting_Carrier_On_Time_Performance_1987_present_2015_10.zip to ../project/data/FlightDelays/On_Time_Reporting_Carrier_On_Time_Performance_1987_present_2015_10.zip\n",
      "download: s3://aws-tc-largeobjects/CUR-TF-200-ACMLFO-1/flight_delay_project/data/On_Time_Reporting_Carrier_On_Time_Performance_1987_present_2015_11.zip to ../project/data/FlightDelays/On_Time_Reporting_Carrier_On_Time_Performance_1987_present_2015_11.zip\n",
      "download: s3://aws-tc-largeobjects/CUR-TF-200-ACMLFO-1/flight_delay_project/data/On_Time_Reporting_Carrier_On_Time_Performance_1987_present_2015_12.zip to ../project/data/FlightDelays/On_Time_Reporting_Carrier_On_Time_Performance_1987_present_2015_12.zip\n",
      "download: s3://aws-tc-largeobjects/CUR-TF-200-ACMLFO-1/flight_delay_project/data/On_Time_Reporting_Carrier_On_Time_Performance_1987_present_2015_2.zip to ../project/data/FlightDelays/On_Time_Reporting_Carrier_On_Time_Performance_1987_present_2015_2.zip\n",
      "download: s3://aws-tc-largeobjects/CUR-TF-200-ACMLFO-1/flight_delay_project/data/On_Time_Reporting_Carrier_On_Time_Performance_1987_present_2015_3.zip to ../project/data/FlightDelays/On_Time_Reporting_Carrier_On_Time_Performance_1987_present_2015_3.zip\n",
      "download: s3://aws-tc-largeobjects/CUR-TF-200-ACMLFO-1/flight_delay_project/data/On_Time_Reporting_Carrier_On_Time_Performance_1987_present_2015_6.zip to ../project/data/FlightDelays/On_Time_Reporting_Carrier_On_Time_Performance_1987_present_2015_6.zip\n",
      "download: s3://aws-tc-largeobjects/CUR-TF-200-ACMLFO-1/flight_delay_project/data/On_Time_Reporting_Carrier_On_Time_Performance_1987_present_2015_4.zip to ../project/data/FlightDelays/On_Time_Reporting_Carrier_On_Time_Performance_1987_present_2015_4.zip\n",
      "download: s3://aws-tc-largeobjects/CUR-TF-200-ACMLFO-1/flight_delay_project/data/On_Time_Reporting_Carrier_On_Time_Performance_1987_present_2015_5.zip to ../project/data/FlightDelays/On_Time_Reporting_Carrier_On_Time_Performance_1987_present_2015_5.zip\n",
      "download: s3://aws-tc-largeobjects/CUR-TF-200-ACMLFO-1/flight_delay_project/data/On_Time_Reporting_Carrier_On_Time_Performance_1987_present_2015_7.zip to ../project/data/FlightDelays/On_Time_Reporting_Carrier_On_Time_Performance_1987_present_2015_7.zip\n",
      "download: s3://aws-tc-largeobjects/CUR-TF-200-ACMLFO-1/flight_delay_project/data/On_Time_Reporting_Carrier_On_Time_Performance_1987_present_2015_9.zip to ../project/data/FlightDelays/On_Time_Reporting_Carrier_On_Time_Performance_1987_present_2015_9.zip\n",
      "download: s3://aws-tc-largeobjects/CUR-TF-200-ACMLFO-1/flight_delay_project/data/On_Time_Reporting_Carrier_On_Time_Performance_1987_present_2015_8.zip to ../project/data/FlightDelays/On_Time_Reporting_Carrier_On_Time_Performance_1987_present_2015_8.zip\n",
      "download: s3://aws-tc-largeobjects/CUR-TF-200-ACMLFO-1/flight_delay_project/data/On_Time_Reporting_Carrier_On_Time_Performance_1987_present_2016_1.zip to ../project/data/FlightDelays/On_Time_Reporting_Carrier_On_Time_Performance_1987_present_2016_1.zip\n",
      "download: s3://aws-tc-largeobjects/CUR-TF-200-ACMLFO-1/flight_delay_project/data/On_Time_Reporting_Carrier_On_Time_Performance_1987_present_2016_10.zip to ../project/data/FlightDelays/On_Time_Reporting_Carrier_On_Time_Performance_1987_present_2016_10.zip\n",
      "download: s3://aws-tc-largeobjects/CUR-TF-200-ACMLFO-1/flight_delay_project/data/On_Time_Reporting_Carrier_On_Time_Performance_1987_present_2016_3.zip to ../project/data/FlightDelays/On_Time_Reporting_Carrier_On_Time_Performance_1987_present_2016_3.zip\n",
      "download: s3://aws-tc-largeobjects/CUR-TF-200-ACMLFO-1/flight_delay_project/data/On_Time_Reporting_Carrier_On_Time_Performance_1987_present_2016_2.zip to ../project/data/FlightDelays/On_Time_Reporting_Carrier_On_Time_Performance_1987_present_2016_2.zip\n",
      "download: s3://aws-tc-largeobjects/CUR-TF-200-ACMLFO-1/flight_delay_project/data/On_Time_Reporting_Carrier_On_Time_Performance_1987_present_2016_12.zip to ../project/data/FlightDelays/On_Time_Reporting_Carrier_On_Time_Performance_1987_present_2016_12.zip\n",
      "download: s3://aws-tc-largeobjects/CUR-TF-200-ACMLFO-1/flight_delay_project/data/On_Time_Reporting_Carrier_On_Time_Performance_1987_present_2016_11.zip to ../project/data/FlightDelays/On_Time_Reporting_Carrier_On_Time_Performance_1987_present_2016_11.zip\n",
      "download: s3://aws-tc-largeobjects/CUR-TF-200-ACMLFO-1/flight_delay_project/data/On_Time_Reporting_Carrier_On_Time_Performance_1987_present_2016_5.zip to ../project/data/FlightDelays/On_Time_Reporting_Carrier_On_Time_Performance_1987_present_2016_5.zip\n",
      "download: s3://aws-tc-largeobjects/CUR-TF-200-ACMLFO-1/flight_delay_project/data/On_Time_Reporting_Carrier_On_Time_Performance_1987_present_2016_4.zip to ../project/data/FlightDelays/On_Time_Reporting_Carrier_On_Time_Performance_1987_present_2016_4.zip\n",
      "download: s3://aws-tc-largeobjects/CUR-TF-200-ACMLFO-1/flight_delay_project/data/On_Time_Reporting_Carrier_On_Time_Performance_1987_present_2016_6.zip to ../project/data/FlightDelays/On_Time_Reporting_Carrier_On_Time_Performance_1987_present_2016_6.zip\n",
      "download: s3://aws-tc-largeobjects/CUR-TF-200-ACMLFO-1/flight_delay_project/data/On_Time_Reporting_Carrier_On_Time_Performance_1987_present_2016_7.zip to ../project/data/FlightDelays/On_Time_Reporting_Carrier_On_Time_Performance_1987_present_2016_7.zip\n",
      "download: s3://aws-tc-largeobjects/CUR-TF-200-ACMLFO-1/flight_delay_project/data/On_Time_Reporting_Carrier_On_Time_Performance_1987_present_2016_8.zip to ../project/data/FlightDelays/On_Time_Reporting_Carrier_On_Time_Performance_1987_present_2016_8.zip\n",
      "download: s3://aws-tc-largeobjects/CUR-TF-200-ACMLFO-1/flight_delay_project/data/On_Time_Reporting_Carrier_On_Time_Performance_1987_present_2016_9.zip to ../project/data/FlightDelays/On_Time_Reporting_Carrier_On_Time_Performance_1987_present_2016_9.zip\n",
      "download: s3://aws-tc-largeobjects/CUR-TF-200-ACMLFO-1/flight_delay_project/data/On_Time_Reporting_Carrier_On_Time_Performance_1987_present_2017_1.zip to ../project/data/FlightDelays/On_Time_Reporting_Carrier_On_Time_Performance_1987_present_2017_1.zip\n",
      "download: s3://aws-tc-largeobjects/CUR-TF-200-ACMLFO-1/flight_delay_project/data/On_Time_Reporting_Carrier_On_Time_Performance_1987_present_2017_10.zip to ../project/data/FlightDelays/On_Time_Reporting_Carrier_On_Time_Performance_1987_present_2017_10.zip\n",
      "download: s3://aws-tc-largeobjects/CUR-TF-200-ACMLFO-1/flight_delay_project/data/On_Time_Reporting_Carrier_On_Time_Performance_1987_present_2017_2.zip to ../project/data/FlightDelays/On_Time_Reporting_Carrier_On_Time_Performance_1987_present_2017_2.zip\n",
      "download: s3://aws-tc-largeobjects/CUR-TF-200-ACMLFO-1/flight_delay_project/data/On_Time_Reporting_Carrier_On_Time_Performance_1987_present_2017_11.zip to ../project/data/FlightDelays/On_Time_Reporting_Carrier_On_Time_Performance_1987_present_2017_11.zip\n",
      "download: s3://aws-tc-largeobjects/CUR-TF-200-ACMLFO-1/flight_delay_project/data/On_Time_Reporting_Carrier_On_Time_Performance_1987_present_2017_12.zip to ../project/data/FlightDelays/On_Time_Reporting_Carrier_On_Time_Performance_1987_present_2017_12.zip\n",
      "download: s3://aws-tc-largeobjects/CUR-TF-200-ACMLFO-1/flight_delay_project/data/On_Time_Reporting_Carrier_On_Time_Performance_1987_present_2017_3.zip to ../project/data/FlightDelays/On_Time_Reporting_Carrier_On_Time_Performance_1987_present_2017_3.zip\n",
      "download: s3://aws-tc-largeobjects/CUR-TF-200-ACMLFO-1/flight_delay_project/data/On_Time_Reporting_Carrier_On_Time_Performance_1987_present_2017_4.zip to ../project/data/FlightDelays/On_Time_Reporting_Carrier_On_Time_Performance_1987_present_2017_4.zip\n",
      "download: s3://aws-tc-largeobjects/CUR-TF-200-ACMLFO-1/flight_delay_project/data/On_Time_Reporting_Carrier_On_Time_Performance_1987_present_2017_7.zip to ../project/data/FlightDelays/On_Time_Reporting_Carrier_On_Time_Performance_1987_present_2017_7.zip\n",
      "download: s3://aws-tc-largeobjects/CUR-TF-200-ACMLFO-1/flight_delay_project/data/On_Time_Reporting_Carrier_On_Time_Performance_1987_present_2017_5.zip to ../project/data/FlightDelays/On_Time_Reporting_Carrier_On_Time_Performance_1987_present_2017_5.zip\n",
      "download: s3://aws-tc-largeobjects/CUR-TF-200-ACMLFO-1/flight_delay_project/data/On_Time_Reporting_Carrier_On_Time_Performance_1987_present_2017_9.zip to ../project/data/FlightDelays/On_Time_Reporting_Carrier_On_Time_Performance_1987_present_2017_9.zip\n",
      "download: s3://aws-tc-largeobjects/CUR-TF-200-ACMLFO-1/flight_delay_project/data/On_Time_Reporting_Carrier_On_Time_Performance_1987_present_2017_6.zip to ../project/data/FlightDelays/On_Time_Reporting_Carrier_On_Time_Performance_1987_present_2017_6.zip\n",
      "download: s3://aws-tc-largeobjects/CUR-TF-200-ACMLFO-1/flight_delay_project/data/On_Time_Reporting_Carrier_On_Time_Performance_1987_present_2017_8.zip to ../project/data/FlightDelays/On_Time_Reporting_Carrier_On_Time_Performance_1987_present_2017_8.zip\n",
      "download: s3://aws-tc-largeobjects/CUR-TF-200-ACMLFO-1/flight_delay_project/data/On_Time_Reporting_Carrier_On_Time_Performance_1987_present_2018_11.zip to ../project/data/FlightDelays/On_Time_Reporting_Carrier_On_Time_Performance_1987_present_2018_11.zip\n",
      "download: s3://aws-tc-largeobjects/CUR-TF-200-ACMLFO-1/flight_delay_project/data/On_Time_Reporting_Carrier_On_Time_Performance_1987_present_2018_1.zip to ../project/data/FlightDelays/On_Time_Reporting_Carrier_On_Time_Performance_1987_present_2018_1.zip\n",
      "download: s3://aws-tc-largeobjects/CUR-TF-200-ACMLFO-1/flight_delay_project/data/On_Time_Reporting_Carrier_On_Time_Performance_1987_present_2018_12.zip to ../project/data/FlightDelays/On_Time_Reporting_Carrier_On_Time_Performance_1987_present_2018_12.zip\n",
      "download: s3://aws-tc-largeobjects/CUR-TF-200-ACMLFO-1/flight_delay_project/data/On_Time_Reporting_Carrier_On_Time_Performance_1987_present_2018_2.zip to ../project/data/FlightDelays/On_Time_Reporting_Carrier_On_Time_Performance_1987_present_2018_2.zip\n",
      "download: s3://aws-tc-largeobjects/CUR-TF-200-ACMLFO-1/flight_delay_project/data/On_Time_Reporting_Carrier_On_Time_Performance_1987_present_2018_10.zip to ../project/data/FlightDelays/On_Time_Reporting_Carrier_On_Time_Performance_1987_present_2018_10.zip\n",
      "download: s3://aws-tc-largeobjects/CUR-TF-200-ACMLFO-1/flight_delay_project/data/On_Time_Reporting_Carrier_On_Time_Performance_1987_present_2018_3.zip to ../project/data/FlightDelays/On_Time_Reporting_Carrier_On_Time_Performance_1987_present_2018_3.zip\n",
      "download: s3://aws-tc-largeobjects/CUR-TF-200-ACMLFO-1/flight_delay_project/data/On_Time_Reporting_Carrier_On_Time_Performance_1987_present_2018_5.zip to ../project/data/FlightDelays/On_Time_Reporting_Carrier_On_Time_Performance_1987_present_2018_5.zip\n",
      "download: s3://aws-tc-largeobjects/CUR-TF-200-ACMLFO-1/flight_delay_project/data/On_Time_Reporting_Carrier_On_Time_Performance_1987_present_2018_6.zip to ../project/data/FlightDelays/On_Time_Reporting_Carrier_On_Time_Performance_1987_present_2018_6.zip\n",
      "download: s3://aws-tc-largeobjects/CUR-TF-200-ACMLFO-1/flight_delay_project/data/On_Time_Reporting_Carrier_On_Time_Performance_1987_present_2018_4.zip to ../project/data/FlightDelays/On_Time_Reporting_Carrier_On_Time_Performance_1987_present_2018_4.zip\n",
      "download: s3://aws-tc-largeobjects/CUR-TF-200-ACMLFO-1/flight_delay_project/data/On_Time_Reporting_Carrier_On_Time_Performance_1987_present_2018_7.zip to ../project/data/FlightDelays/On_Time_Reporting_Carrier_On_Time_Performance_1987_present_2018_7.zip\n",
      "download: s3://aws-tc-largeobjects/CUR-TF-200-ACMLFO-1/flight_delay_project/data/On_Time_Reporting_Carrier_On_Time_Performance_1987_present_2018_8.zip to ../project/data/FlightDelays/On_Time_Reporting_Carrier_On_Time_Performance_1987_present_2018_8.zip\n",
      "download: s3://aws-tc-largeobjects/CUR-TF-200-ACMLFO-1/flight_delay_project/data/On_Time_Reporting_Carrier_On_Time_Performance_1987_present_2018_9.zip to ../project/data/FlightDelays/On_Time_Reporting_Carrier_On_Time_Performance_1987_present_2018_9.zip\n"
     ]
    }
   ],
   "source": [
    "# download the files\n",
    "\n",
    "zip_path = '/home/ec2-user/SageMaker/project/data/FlightDelays/'\n",
    "base_path = '/home/ec2-user/SageMaker/project/data/FlightDelays/'\n",
    "csv_base_path = '/home/ec2-user/SageMaker/project/data/csvFlightDelays/'\n",
    "\n",
    "!mkdir -p {zip_path}\n",
    "!mkdir -p {csv_base_path}\n",
    "!aws s3 cp s3://aws-tc-largeobjects/CUR-TF-200-ACMLFO-1/flight_delay_project/data/ {zip_path} --recursive\n"
   ]
  },
  {
   "cell_type": "code",
   "execution_count": 8,
   "metadata": {},
   "outputs": [
    {
     "data": {
      "text/plain": [
       "60"
      ]
     },
     "execution_count": 8,
     "metadata": {},
     "output_type": "execute_result"
    }
   ],
   "source": [
    "zip_files = [str(file) for file in list(Path(base_path).iterdir()) if '.zip' in str(file)]\n",
    "len(zip_files)"
   ]
  },
  {
   "cell_type": "markdown",
   "metadata": {},
   "source": [
    "Extract comma-separated values (CSV) files from the .zip files."
   ]
  },
  {
   "cell_type": "code",
   "execution_count": 9,
   "metadata": {},
   "outputs": [
    {
     "name": "stdout",
     "output_type": "stream",
     "text": [
      "Extracting /home/ec2-user/SageMaker/project/data/FlightDelays/On_Time_Reporting_Carrier_On_Time_Performance_1987_present_2017_12.zip \n",
      "Extracting /home/ec2-user/SageMaker/project/data/FlightDelays/On_Time_Reporting_Carrier_On_Time_Performance_1987_present_2016_7.zip \n",
      "Extracting /home/ec2-user/SageMaker/project/data/FlightDelays/On_Time_Reporting_Carrier_On_Time_Performance_1987_present_2014_7.zip \n",
      "Extracting /home/ec2-user/SageMaker/project/data/FlightDelays/On_Time_Reporting_Carrier_On_Time_Performance_1987_present_2014_1.zip \n",
      "Extracting /home/ec2-user/SageMaker/project/data/FlightDelays/On_Time_Reporting_Carrier_On_Time_Performance_1987_present_2016_4.zip \n",
      "Extracting /home/ec2-user/SageMaker/project/data/FlightDelays/On_Time_Reporting_Carrier_On_Time_Performance_1987_present_2015_2.zip \n",
      "Extracting /home/ec2-user/SageMaker/project/data/FlightDelays/On_Time_Reporting_Carrier_On_Time_Performance_1987_present_2014_3.zip \n",
      "Extracting /home/ec2-user/SageMaker/project/data/FlightDelays/On_Time_Reporting_Carrier_On_Time_Performance_1987_present_2018_1.zip \n",
      "Extracting /home/ec2-user/SageMaker/project/data/FlightDelays/On_Time_Reporting_Carrier_On_Time_Performance_1987_present_2015_8.zip \n",
      "Extracting /home/ec2-user/SageMaker/project/data/FlightDelays/On_Time_Reporting_Carrier_On_Time_Performance_1987_present_2016_1.zip \n",
      "Extracting /home/ec2-user/SageMaker/project/data/FlightDelays/On_Time_Reporting_Carrier_On_Time_Performance_1987_present_2016_6.zip \n",
      "Extracting /home/ec2-user/SageMaker/project/data/FlightDelays/On_Time_Reporting_Carrier_On_Time_Performance_1987_present_2017_2.zip \n",
      "Extracting /home/ec2-user/SageMaker/project/data/FlightDelays/On_Time_Reporting_Carrier_On_Time_Performance_1987_present_2015_7.zip \n",
      "Extracting /home/ec2-user/SageMaker/project/data/FlightDelays/On_Time_Reporting_Carrier_On_Time_Performance_1987_present_2015_12.zip \n",
      "Extracting /home/ec2-user/SageMaker/project/data/FlightDelays/On_Time_Reporting_Carrier_On_Time_Performance_1987_present_2015_9.zip \n",
      "Extracting /home/ec2-user/SageMaker/project/data/FlightDelays/On_Time_Reporting_Carrier_On_Time_Performance_1987_present_2016_9.zip \n",
      "Extracting /home/ec2-user/SageMaker/project/data/FlightDelays/On_Time_Reporting_Carrier_On_Time_Performance_1987_present_2016_3.zip \n",
      "Extracting /home/ec2-user/SageMaker/project/data/FlightDelays/On_Time_Reporting_Carrier_On_Time_Performance_1987_present_2018_4.zip \n",
      "Extracting /home/ec2-user/SageMaker/project/data/FlightDelays/On_Time_Reporting_Carrier_On_Time_Performance_1987_present_2015_10.zip \n",
      "Extracting /home/ec2-user/SageMaker/project/data/FlightDelays/On_Time_Reporting_Carrier_On_Time_Performance_1987_present_2018_12.zip \n",
      "Extracting /home/ec2-user/SageMaker/project/data/FlightDelays/On_Time_Reporting_Carrier_On_Time_Performance_1987_present_2018_8.zip \n",
      "Extracting /home/ec2-user/SageMaker/project/data/FlightDelays/On_Time_Reporting_Carrier_On_Time_Performance_1987_present_2015_3.zip \n",
      "Extracting /home/ec2-user/SageMaker/project/data/FlightDelays/On_Time_Reporting_Carrier_On_Time_Performance_1987_present_2018_6.zip \n",
      "Extracting /home/ec2-user/SageMaker/project/data/FlightDelays/On_Time_Reporting_Carrier_On_Time_Performance_1987_present_2017_6.zip \n",
      "Extracting /home/ec2-user/SageMaker/project/data/FlightDelays/On_Time_Reporting_Carrier_On_Time_Performance_1987_present_2016_5.zip \n",
      "Extracting /home/ec2-user/SageMaker/project/data/FlightDelays/On_Time_Reporting_Carrier_On_Time_Performance_1987_present_2017_4.zip \n",
      "Extracting /home/ec2-user/SageMaker/project/data/FlightDelays/On_Time_Reporting_Carrier_On_Time_Performance_1987_present_2017_10.zip \n",
      "Extracting /home/ec2-user/SageMaker/project/data/FlightDelays/On_Time_Reporting_Carrier_On_Time_Performance_1987_present_2014_2.zip \n",
      "Extracting /home/ec2-user/SageMaker/project/data/FlightDelays/On_Time_Reporting_Carrier_On_Time_Performance_1987_present_2018_11.zip \n",
      "Extracting /home/ec2-user/SageMaker/project/data/FlightDelays/On_Time_Reporting_Carrier_On_Time_Performance_1987_present_2017_7.zip \n",
      "Extracting /home/ec2-user/SageMaker/project/data/FlightDelays/On_Time_Reporting_Carrier_On_Time_Performance_1987_present_2018_3.zip \n",
      "Extracting /home/ec2-user/SageMaker/project/data/FlightDelays/On_Time_Reporting_Carrier_On_Time_Performance_1987_present_2015_1.zip \n",
      "Extracting /home/ec2-user/SageMaker/project/data/FlightDelays/On_Time_Reporting_Carrier_On_Time_Performance_1987_present_2014_6.zip \n",
      "Extracting /home/ec2-user/SageMaker/project/data/FlightDelays/On_Time_Reporting_Carrier_On_Time_Performance_1987_present_2017_1.zip \n",
      "Extracting /home/ec2-user/SageMaker/project/data/FlightDelays/On_Time_Reporting_Carrier_On_Time_Performance_1987_present_2014_8.zip \n",
      "Extracting /home/ec2-user/SageMaker/project/data/FlightDelays/On_Time_Reporting_Carrier_On_Time_Performance_1987_present_2016_11.zip \n",
      "Extracting /home/ec2-user/SageMaker/project/data/FlightDelays/On_Time_Reporting_Carrier_On_Time_Performance_1987_present_2016_2.zip \n",
      "Extracting /home/ec2-user/SageMaker/project/data/FlightDelays/On_Time_Reporting_Carrier_On_Time_Performance_1987_present_2014_12.zip \n",
      "Extracting /home/ec2-user/SageMaker/project/data/FlightDelays/On_Time_Reporting_Carrier_On_Time_Performance_1987_present_2018_2.zip \n",
      "Extracting /home/ec2-user/SageMaker/project/data/FlightDelays/On_Time_Reporting_Carrier_On_Time_Performance_1987_present_2016_12.zip \n",
      "Extracting /home/ec2-user/SageMaker/project/data/FlightDelays/On_Time_Reporting_Carrier_On_Time_Performance_1987_present_2015_6.zip \n",
      "Extracting /home/ec2-user/SageMaker/project/data/FlightDelays/On_Time_Reporting_Carrier_On_Time_Performance_1987_present_2017_3.zip \n",
      "Extracting /home/ec2-user/SageMaker/project/data/FlightDelays/On_Time_Reporting_Carrier_On_Time_Performance_1987_present_2017_9.zip \n",
      "Extracting /home/ec2-user/SageMaker/project/data/FlightDelays/On_Time_Reporting_Carrier_On_Time_Performance_1987_present_2018_7.zip \n",
      "Extracting /home/ec2-user/SageMaker/project/data/FlightDelays/On_Time_Reporting_Carrier_On_Time_Performance_1987_present_2018_9.zip \n",
      "Extracting /home/ec2-user/SageMaker/project/data/FlightDelays/On_Time_Reporting_Carrier_On_Time_Performance_1987_present_2014_10.zip \n",
      "Extracting /home/ec2-user/SageMaker/project/data/FlightDelays/On_Time_Reporting_Carrier_On_Time_Performance_1987_present_2016_10.zip \n",
      "Extracting /home/ec2-user/SageMaker/project/data/FlightDelays/On_Time_Reporting_Carrier_On_Time_Performance_1987_present_2018_10.zip \n",
      "Extracting /home/ec2-user/SageMaker/project/data/FlightDelays/On_Time_Reporting_Carrier_On_Time_Performance_1987_present_2015_5.zip \n",
      "Extracting /home/ec2-user/SageMaker/project/data/FlightDelays/On_Time_Reporting_Carrier_On_Time_Performance_1987_present_2018_5.zip \n",
      "Extracting /home/ec2-user/SageMaker/project/data/FlightDelays/On_Time_Reporting_Carrier_On_Time_Performance_1987_present_2017_5.zip \n",
      "Extracting /home/ec2-user/SageMaker/project/data/FlightDelays/On_Time_Reporting_Carrier_On_Time_Performance_1987_present_2014_11.zip \n",
      "Extracting /home/ec2-user/SageMaker/project/data/FlightDelays/On_Time_Reporting_Carrier_On_Time_Performance_1987_present_2014_4.zip \n",
      "Extracting /home/ec2-user/SageMaker/project/data/FlightDelays/On_Time_Reporting_Carrier_On_Time_Performance_1987_present_2015_11.zip \n",
      "Extracting /home/ec2-user/SageMaker/project/data/FlightDelays/On_Time_Reporting_Carrier_On_Time_Performance_1987_present_2014_9.zip \n",
      "Extracting /home/ec2-user/SageMaker/project/data/FlightDelays/On_Time_Reporting_Carrier_On_Time_Performance_1987_present_2016_8.zip \n",
      "Extracting /home/ec2-user/SageMaker/project/data/FlightDelays/On_Time_Reporting_Carrier_On_Time_Performance_1987_present_2015_4.zip \n",
      "Extracting /home/ec2-user/SageMaker/project/data/FlightDelays/On_Time_Reporting_Carrier_On_Time_Performance_1987_present_2017_11.zip \n",
      "Extracting /home/ec2-user/SageMaker/project/data/FlightDelays/On_Time_Reporting_Carrier_On_Time_Performance_1987_present_2014_5.zip \n",
      "Extracting /home/ec2-user/SageMaker/project/data/FlightDelays/On_Time_Reporting_Carrier_On_Time_Performance_1987_present_2017_8.zip \n",
      "Files Extracted\n"
     ]
    }
   ],
   "source": [
    "def zip2csv(zipFile_name , file_path):\n",
    "    \"\"\"\n",
    "    Extract csv from zip files\n",
    "    zipFile_name: name of the zip file\n",
    "    file_path : name of the folder to store csv\n",
    "    \"\"\"\n",
    "\n",
    "    try:\n",
    "        with ZipFile(zipFile_name, 'r') as z: \n",
    "            print(f'Extracting {zipFile_name} ') \n",
    "            z.extractall(path=file_path) \n",
    "    except:\n",
    "        print(f'zip2csv failed for {zipFile_name}')\n",
    "\n",
    "for file in zip_files:\n",
    "    zip2csv(file, csv_base_path)\n",
    "\n",
    "print(\"Files Extracted\")"
   ]
  },
  {
   "cell_type": "code",
   "execution_count": 10,
   "metadata": {},
   "outputs": [
    {
     "data": {
      "text/plain": [
       "60"
      ]
     },
     "execution_count": 10,
     "metadata": {},
     "output_type": "execute_result"
    }
   ],
   "source": [
    "csv_files = [str(file) for file in list(Path(csv_base_path).iterdir()) if '.csv' in str(file)]\n",
    "len(csv_files)"
   ]
  },
  {
   "cell_type": "markdown",
   "metadata": {},
   "source": [
    "Before you load the CSV file, read the HTML file from the extracted folder. This HTML file includes the background and more information about the features that are included in the dataset."
   ]
  },
  {
   "cell_type": "code",
   "execution_count": 11,
   "metadata": {},
   "outputs": [
    {
     "data": {
      "text/html": [
       "\n",
       "        <iframe\n",
       "            width=\"1000\"\n",
       "            height=\"600\"\n",
       "            src=\"../project/data/csvFlightDelays/readme.html\"\n",
       "            frameborder=\"0\"\n",
       "            allowfullscreen\n",
       "            \n",
       "        ></iframe>\n",
       "        "
      ],
      "text/plain": [
       "<IPython.lib.display.IFrame at 0x7f8a1f4b8a60>"
      ]
     },
     "execution_count": 11,
     "metadata": {},
     "output_type": "execute_result"
    }
   ],
   "source": [
    "from IPython.display import IFrame\n",
    "\n",
    "IFrame(src=os.path.relpath(f\"{csv_base_path}readme.html\"), width=1000, height=600)"
   ]
  },
  {
   "cell_type": "markdown",
   "metadata": {},
   "source": [
    "#### Load sample CSV file\n",
    "\n",
    "Before you combine all the CSV files, examine the data from a single CSV file. By using pandas, read the `On_Time_Reporting_Carrier_On_Time_Performance_(1987_present)_2018_9.csv` file first. You can use the built-in `read_csv` function in Python ([pandas.read_csv documentation](https://pandas.pydata.org/pandas-docs/stable/reference/api/pandas.read_csv.html))."
   ]
  },
  {
   "cell_type": "code",
   "execution_count": 12,
   "metadata": {},
   "outputs": [],
   "source": [
    "df_temp = pd.read_csv(f\"{csv_base_path}On_Time_Reporting_Carrier_On_Time_Performance_(1987_present)_2018_9.csv\")"
   ]
  },
  {
   "cell_type": "markdown",
   "metadata": {},
   "source": [
    "**Question**: Print the row and column length in the dataset, and print the column names.\n",
    "\n",
    "**Hint**: To view the rows and columns of a DataFrame, use the `<DataFrame>.shape` function. To view the column names, use the `<DataFrame>.columns` function."
   ]
  },
  {
   "cell_type": "code",
   "execution_count": 13,
   "metadata": {},
   "outputs": [
    {
     "name": "stdout",
     "output_type": "stream",
     "text": [
      "Rows and columns in one CSV file is (585749, 110)\n",
      "Column names of the dataframe are: Index(['Year', 'Quarter', 'Month', 'DayofMonth', 'DayOfWeek', 'FlightDate',\n",
      "       'Reporting_Airline', 'DOT_ID_Reporting_Airline',\n",
      "       'IATA_CODE_Reporting_Airline', 'Tail_Number',\n",
      "       ...\n",
      "       'Div4TailNum', 'Div5Airport', 'Div5AirportID', 'Div5AirportSeqID',\n",
      "       'Div5WheelsOn', 'Div5TotalGTime', 'Div5LongestGTime', 'Div5WheelsOff',\n",
      "       'Div5TailNum', 'Unnamed: 109'],\n",
      "      dtype='object', length=110)\n"
     ]
    }
   ],
   "source": [
    "df_shape = df_temp.shape\n",
    "df_columns = df_temp.columns\n",
    "print(f'Rows and columns in one CSV file is {df_shape}')\n",
    "print(f'Column names of the dataframe are: {df_columns}' )"
   ]
  },
  {
   "cell_type": "markdown",
   "metadata": {},
   "source": [
    "**Question**: Print the first 10 rows of the dataset.  \n",
    "\n",
    "**Hint**: To print `x` number of rows, use the built-in `head(x)` function in pandas."
   ]
  },
  {
   "cell_type": "code",
   "execution_count": 14,
   "metadata": {},
   "outputs": [
    {
     "data": {
      "text/html": [
       "<div>\n",
       "<style scoped>\n",
       "    .dataframe tbody tr th:only-of-type {\n",
       "        vertical-align: middle;\n",
       "    }\n",
       "\n",
       "    .dataframe tbody tr th {\n",
       "        vertical-align: top;\n",
       "    }\n",
       "\n",
       "    .dataframe thead th {\n",
       "        text-align: right;\n",
       "    }\n",
       "</style>\n",
       "<table border=\"1\" class=\"dataframe\">\n",
       "  <thead>\n",
       "    <tr style=\"text-align: right;\">\n",
       "      <th></th>\n",
       "      <th>Year</th>\n",
       "      <th>Quarter</th>\n",
       "      <th>Month</th>\n",
       "      <th>DayofMonth</th>\n",
       "      <th>DayOfWeek</th>\n",
       "      <th>FlightDate</th>\n",
       "      <th>Reporting_Airline</th>\n",
       "      <th>DOT_ID_Reporting_Airline</th>\n",
       "      <th>IATA_CODE_Reporting_Airline</th>\n",
       "      <th>Tail_Number</th>\n",
       "      <th>...</th>\n",
       "      <th>Div4TailNum</th>\n",
       "      <th>Div5Airport</th>\n",
       "      <th>Div5AirportID</th>\n",
       "      <th>Div5AirportSeqID</th>\n",
       "      <th>Div5WheelsOn</th>\n",
       "      <th>Div5TotalGTime</th>\n",
       "      <th>Div5LongestGTime</th>\n",
       "      <th>Div5WheelsOff</th>\n",
       "      <th>Div5TailNum</th>\n",
       "      <th>Unnamed: 109</th>\n",
       "    </tr>\n",
       "  </thead>\n",
       "  <tbody>\n",
       "    <tr>\n",
       "      <th>0</th>\n",
       "      <td>2018</td>\n",
       "      <td>3</td>\n",
       "      <td>9</td>\n",
       "      <td>3</td>\n",
       "      <td>1</td>\n",
       "      <td>2018-09-03</td>\n",
       "      <td>9E</td>\n",
       "      <td>20363</td>\n",
       "      <td>9E</td>\n",
       "      <td>N908XJ</td>\n",
       "      <td>...</td>\n",
       "      <td>NaN</td>\n",
       "      <td>NaN</td>\n",
       "      <td>NaN</td>\n",
       "      <td>NaN</td>\n",
       "      <td>NaN</td>\n",
       "      <td>NaN</td>\n",
       "      <td>NaN</td>\n",
       "      <td>NaN</td>\n",
       "      <td>NaN</td>\n",
       "      <td>NaN</td>\n",
       "    </tr>\n",
       "    <tr>\n",
       "      <th>1</th>\n",
       "      <td>2018</td>\n",
       "      <td>3</td>\n",
       "      <td>9</td>\n",
       "      <td>9</td>\n",
       "      <td>7</td>\n",
       "      <td>2018-09-09</td>\n",
       "      <td>9E</td>\n",
       "      <td>20363</td>\n",
       "      <td>9E</td>\n",
       "      <td>N315PQ</td>\n",
       "      <td>...</td>\n",
       "      <td>NaN</td>\n",
       "      <td>NaN</td>\n",
       "      <td>NaN</td>\n",
       "      <td>NaN</td>\n",
       "      <td>NaN</td>\n",
       "      <td>NaN</td>\n",
       "      <td>NaN</td>\n",
       "      <td>NaN</td>\n",
       "      <td>NaN</td>\n",
       "      <td>NaN</td>\n",
       "    </tr>\n",
       "    <tr>\n",
       "      <th>2</th>\n",
       "      <td>2018</td>\n",
       "      <td>3</td>\n",
       "      <td>9</td>\n",
       "      <td>10</td>\n",
       "      <td>1</td>\n",
       "      <td>2018-09-10</td>\n",
       "      <td>9E</td>\n",
       "      <td>20363</td>\n",
       "      <td>9E</td>\n",
       "      <td>N582CA</td>\n",
       "      <td>...</td>\n",
       "      <td>NaN</td>\n",
       "      <td>NaN</td>\n",
       "      <td>NaN</td>\n",
       "      <td>NaN</td>\n",
       "      <td>NaN</td>\n",
       "      <td>NaN</td>\n",
       "      <td>NaN</td>\n",
       "      <td>NaN</td>\n",
       "      <td>NaN</td>\n",
       "      <td>NaN</td>\n",
       "    </tr>\n",
       "    <tr>\n",
       "      <th>3</th>\n",
       "      <td>2018</td>\n",
       "      <td>3</td>\n",
       "      <td>9</td>\n",
       "      <td>13</td>\n",
       "      <td>4</td>\n",
       "      <td>2018-09-13</td>\n",
       "      <td>9E</td>\n",
       "      <td>20363</td>\n",
       "      <td>9E</td>\n",
       "      <td>N292PQ</td>\n",
       "      <td>...</td>\n",
       "      <td>NaN</td>\n",
       "      <td>NaN</td>\n",
       "      <td>NaN</td>\n",
       "      <td>NaN</td>\n",
       "      <td>NaN</td>\n",
       "      <td>NaN</td>\n",
       "      <td>NaN</td>\n",
       "      <td>NaN</td>\n",
       "      <td>NaN</td>\n",
       "      <td>NaN</td>\n",
       "    </tr>\n",
       "    <tr>\n",
       "      <th>4</th>\n",
       "      <td>2018</td>\n",
       "      <td>3</td>\n",
       "      <td>9</td>\n",
       "      <td>14</td>\n",
       "      <td>5</td>\n",
       "      <td>2018-09-14</td>\n",
       "      <td>9E</td>\n",
       "      <td>20363</td>\n",
       "      <td>9E</td>\n",
       "      <td>N600LR</td>\n",
       "      <td>...</td>\n",
       "      <td>NaN</td>\n",
       "      <td>NaN</td>\n",
       "      <td>NaN</td>\n",
       "      <td>NaN</td>\n",
       "      <td>NaN</td>\n",
       "      <td>NaN</td>\n",
       "      <td>NaN</td>\n",
       "      <td>NaN</td>\n",
       "      <td>NaN</td>\n",
       "      <td>NaN</td>\n",
       "    </tr>\n",
       "    <tr>\n",
       "      <th>5</th>\n",
       "      <td>2018</td>\n",
       "      <td>3</td>\n",
       "      <td>9</td>\n",
       "      <td>16</td>\n",
       "      <td>7</td>\n",
       "      <td>2018-09-16</td>\n",
       "      <td>9E</td>\n",
       "      <td>20363</td>\n",
       "      <td>9E</td>\n",
       "      <td>N316PQ</td>\n",
       "      <td>...</td>\n",
       "      <td>NaN</td>\n",
       "      <td>NaN</td>\n",
       "      <td>NaN</td>\n",
       "      <td>NaN</td>\n",
       "      <td>NaN</td>\n",
       "      <td>NaN</td>\n",
       "      <td>NaN</td>\n",
       "      <td>NaN</td>\n",
       "      <td>NaN</td>\n",
       "      <td>NaN</td>\n",
       "    </tr>\n",
       "    <tr>\n",
       "      <th>6</th>\n",
       "      <td>2018</td>\n",
       "      <td>3</td>\n",
       "      <td>9</td>\n",
       "      <td>17</td>\n",
       "      <td>1</td>\n",
       "      <td>2018-09-17</td>\n",
       "      <td>9E</td>\n",
       "      <td>20363</td>\n",
       "      <td>9E</td>\n",
       "      <td>N916XJ</td>\n",
       "      <td>...</td>\n",
       "      <td>NaN</td>\n",
       "      <td>NaN</td>\n",
       "      <td>NaN</td>\n",
       "      <td>NaN</td>\n",
       "      <td>NaN</td>\n",
       "      <td>NaN</td>\n",
       "      <td>NaN</td>\n",
       "      <td>NaN</td>\n",
       "      <td>NaN</td>\n",
       "      <td>NaN</td>\n",
       "    </tr>\n",
       "    <tr>\n",
       "      <th>7</th>\n",
       "      <td>2018</td>\n",
       "      <td>3</td>\n",
       "      <td>9</td>\n",
       "      <td>20</td>\n",
       "      <td>4</td>\n",
       "      <td>2018-09-20</td>\n",
       "      <td>9E</td>\n",
       "      <td>20363</td>\n",
       "      <td>9E</td>\n",
       "      <td>N371CA</td>\n",
       "      <td>...</td>\n",
       "      <td>NaN</td>\n",
       "      <td>NaN</td>\n",
       "      <td>NaN</td>\n",
       "      <td>NaN</td>\n",
       "      <td>NaN</td>\n",
       "      <td>NaN</td>\n",
       "      <td>NaN</td>\n",
       "      <td>NaN</td>\n",
       "      <td>NaN</td>\n",
       "      <td>NaN</td>\n",
       "    </tr>\n",
       "    <tr>\n",
       "      <th>8</th>\n",
       "      <td>2018</td>\n",
       "      <td>3</td>\n",
       "      <td>9</td>\n",
       "      <td>21</td>\n",
       "      <td>5</td>\n",
       "      <td>2018-09-21</td>\n",
       "      <td>9E</td>\n",
       "      <td>20363</td>\n",
       "      <td>9E</td>\n",
       "      <td>N601LR</td>\n",
       "      <td>...</td>\n",
       "      <td>NaN</td>\n",
       "      <td>NaN</td>\n",
       "      <td>NaN</td>\n",
       "      <td>NaN</td>\n",
       "      <td>NaN</td>\n",
       "      <td>NaN</td>\n",
       "      <td>NaN</td>\n",
       "      <td>NaN</td>\n",
       "      <td>NaN</td>\n",
       "      <td>NaN</td>\n",
       "    </tr>\n",
       "    <tr>\n",
       "      <th>9</th>\n",
       "      <td>2018</td>\n",
       "      <td>3</td>\n",
       "      <td>9</td>\n",
       "      <td>23</td>\n",
       "      <td>7</td>\n",
       "      <td>2018-09-23</td>\n",
       "      <td>9E</td>\n",
       "      <td>20363</td>\n",
       "      <td>9E</td>\n",
       "      <td>N906XJ</td>\n",
       "      <td>...</td>\n",
       "      <td>NaN</td>\n",
       "      <td>NaN</td>\n",
       "      <td>NaN</td>\n",
       "      <td>NaN</td>\n",
       "      <td>NaN</td>\n",
       "      <td>NaN</td>\n",
       "      <td>NaN</td>\n",
       "      <td>NaN</td>\n",
       "      <td>NaN</td>\n",
       "      <td>NaN</td>\n",
       "    </tr>\n",
       "  </tbody>\n",
       "</table>\n",
       "<p>10 rows × 110 columns</p>\n",
       "</div>"
      ],
      "text/plain": [
       "   Year  Quarter  Month  DayofMonth  DayOfWeek  FlightDate Reporting_Airline  \\\n",
       "0  2018        3      9           3          1  2018-09-03                9E   \n",
       "1  2018        3      9           9          7  2018-09-09                9E   \n",
       "2  2018        3      9          10          1  2018-09-10                9E   \n",
       "3  2018        3      9          13          4  2018-09-13                9E   \n",
       "4  2018        3      9          14          5  2018-09-14                9E   \n",
       "5  2018        3      9          16          7  2018-09-16                9E   \n",
       "6  2018        3      9          17          1  2018-09-17                9E   \n",
       "7  2018        3      9          20          4  2018-09-20                9E   \n",
       "8  2018        3      9          21          5  2018-09-21                9E   \n",
       "9  2018        3      9          23          7  2018-09-23                9E   \n",
       "\n",
       "   DOT_ID_Reporting_Airline IATA_CODE_Reporting_Airline Tail_Number  ...  \\\n",
       "0                     20363                          9E      N908XJ  ...   \n",
       "1                     20363                          9E      N315PQ  ...   \n",
       "2                     20363                          9E      N582CA  ...   \n",
       "3                     20363                          9E      N292PQ  ...   \n",
       "4                     20363                          9E      N600LR  ...   \n",
       "5                     20363                          9E      N316PQ  ...   \n",
       "6                     20363                          9E      N916XJ  ...   \n",
       "7                     20363                          9E      N371CA  ...   \n",
       "8                     20363                          9E      N601LR  ...   \n",
       "9                     20363                          9E      N906XJ  ...   \n",
       "\n",
       "   Div4TailNum  Div5Airport  Div5AirportID  Div5AirportSeqID Div5WheelsOn  \\\n",
       "0          NaN          NaN            NaN               NaN          NaN   \n",
       "1          NaN          NaN            NaN               NaN          NaN   \n",
       "2          NaN          NaN            NaN               NaN          NaN   \n",
       "3          NaN          NaN            NaN               NaN          NaN   \n",
       "4          NaN          NaN            NaN               NaN          NaN   \n",
       "5          NaN          NaN            NaN               NaN          NaN   \n",
       "6          NaN          NaN            NaN               NaN          NaN   \n",
       "7          NaN          NaN            NaN               NaN          NaN   \n",
       "8          NaN          NaN            NaN               NaN          NaN   \n",
       "9          NaN          NaN            NaN               NaN          NaN   \n",
       "\n",
       "  Div5TotalGTime Div5LongestGTime  Div5WheelsOff Div5TailNum  Unnamed: 109  \n",
       "0            NaN              NaN            NaN         NaN           NaN  \n",
       "1            NaN              NaN            NaN         NaN           NaN  \n",
       "2            NaN              NaN            NaN         NaN           NaN  \n",
       "3            NaN              NaN            NaN         NaN           NaN  \n",
       "4            NaN              NaN            NaN         NaN           NaN  \n",
       "5            NaN              NaN            NaN         NaN           NaN  \n",
       "6            NaN              NaN            NaN         NaN           NaN  \n",
       "7            NaN              NaN            NaN         NaN           NaN  \n",
       "8            NaN              NaN            NaN         NaN           NaN  \n",
       "9            NaN              NaN            NaN         NaN           NaN  \n",
       "\n",
       "[10 rows x 110 columns]"
      ]
     },
     "execution_count": 14,
     "metadata": {},
     "output_type": "execute_result"
    }
   ],
   "source": [
    "df_temp.head(10)"
   ]
  },
  {
   "cell_type": "markdown",
   "metadata": {},
   "source": [
    "**Question**: Print all the columns in the dataset. To view the column names, use `<DataFrame>.columns`."
   ]
  },
  {
   "cell_type": "code",
   "execution_count": 15,
   "metadata": {},
   "outputs": [
    {
     "name": "stdout",
     "output_type": "stream",
     "text": [
      "The column names are :\n",
      "#########\n",
      "Year\n",
      "Quarter\n",
      "Month\n",
      "DayofMonth\n",
      "DayOfWeek\n",
      "FlightDate\n",
      "Reporting_Airline\n",
      "DOT_ID_Reporting_Airline\n",
      "IATA_CODE_Reporting_Airline\n",
      "Tail_Number\n",
      "Flight_Number_Reporting_Airline\n",
      "OriginAirportID\n",
      "OriginAirportSeqID\n",
      "OriginCityMarketID\n",
      "Origin\n",
      "OriginCityName\n",
      "OriginState\n",
      "OriginStateFips\n",
      "OriginStateName\n",
      "OriginWac\n",
      "DestAirportID\n",
      "DestAirportSeqID\n",
      "DestCityMarketID\n",
      "Dest\n",
      "DestCityName\n",
      "DestState\n",
      "DestStateFips\n",
      "DestStateName\n",
      "DestWac\n",
      "CRSDepTime\n",
      "DepTime\n",
      "DepDelay\n",
      "DepDelayMinutes\n",
      "DepDel15\n",
      "DepartureDelayGroups\n",
      "DepTimeBlk\n",
      "TaxiOut\n",
      "WheelsOff\n",
      "WheelsOn\n",
      "TaxiIn\n",
      "CRSArrTime\n",
      "ArrTime\n",
      "ArrDelay\n",
      "ArrDelayMinutes\n",
      "ArrDel15\n",
      "ArrivalDelayGroups\n",
      "ArrTimeBlk\n",
      "Cancelled\n",
      "CancellationCode\n",
      "Diverted\n",
      "CRSElapsedTime\n",
      "ActualElapsedTime\n",
      "AirTime\n",
      "Flights\n",
      "Distance\n",
      "DistanceGroup\n",
      "CarrierDelay\n",
      "WeatherDelay\n",
      "NASDelay\n",
      "SecurityDelay\n",
      "LateAircraftDelay\n",
      "FirstDepTime\n",
      "TotalAddGTime\n",
      "LongestAddGTime\n",
      "DivAirportLandings\n",
      "DivReachedDest\n",
      "DivActualElapsedTime\n",
      "DivArrDelay\n",
      "DivDistance\n",
      "Div1Airport\n",
      "Div1AirportID\n",
      "Div1AirportSeqID\n",
      "Div1WheelsOn\n",
      "Div1TotalGTime\n",
      "Div1LongestGTime\n",
      "Div1WheelsOff\n",
      "Div1TailNum\n",
      "Div2Airport\n",
      "Div2AirportID\n",
      "Div2AirportSeqID\n",
      "Div2WheelsOn\n",
      "Div2TotalGTime\n",
      "Div2LongestGTime\n",
      "Div2WheelsOff\n",
      "Div2TailNum\n",
      "Div3Airport\n",
      "Div3AirportID\n",
      "Div3AirportSeqID\n",
      "Div3WheelsOn\n",
      "Div3TotalGTime\n",
      "Div3LongestGTime\n",
      "Div3WheelsOff\n",
      "Div3TailNum\n",
      "Div4Airport\n",
      "Div4AirportID\n",
      "Div4AirportSeqID\n",
      "Div4WheelsOn\n",
      "Div4TotalGTime\n",
      "Div4LongestGTime\n",
      "Div4WheelsOff\n",
      "Div4TailNum\n",
      "Div5Airport\n",
      "Div5AirportID\n",
      "Div5AirportSeqID\n",
      "Div5WheelsOn\n",
      "Div5TotalGTime\n",
      "Div5LongestGTime\n",
      "Div5WheelsOff\n",
      "Div5TailNum\n",
      "Unnamed: 109\n"
     ]
    }
   ],
   "source": [
    "print(f'The column names are :')\n",
    "print('#########')\n",
    "for col in df_columns:# **ENTER YOUR CODE HERE**\n",
    "    print(col)"
   ]
  },
  {
   "cell_type": "markdown",
   "metadata": {},
   "source": [
    "**Question**: Print all the columns in the dataset that contain the word *Del*. This will help you see how many columns have *delay data* in them.\n",
    "\n",
    "**Hint**: To include values that pass certain `if` statement criteria, you can use a Python list comprehension.\n",
    "\n",
    "For example: `[x for x in [1,2,3,4,5] if x > 2]`  \n",
    "\n",
    "**Hint**: To check if the value is in a list, you can use the `in` keyword ([Python in Keyword documentation](https://www.w3schools.com/python/ref_keyword_in.asp)). \n",
    "\n",
    "For example: `5 in [1,2,3,4,5]`"
   ]
  },
  {
   "cell_type": "code",
   "execution_count": 16,
   "metadata": {},
   "outputs": [
    {
     "name": "stdout",
     "output_type": "stream",
     "text": [
      "['DepDelay', 'DepDelayMinutes', 'DepDel15', 'DepartureDelayGroups', 'ArrDelay', 'ArrDelayMinutes', 'ArrDel15', 'ArrivalDelayGroups', 'CarrierDelay', 'WeatherDelay', 'NASDelay', 'SecurityDelay', 'LateAircraftDelay', 'DivArrDelay']\n"
     ]
    }
   ],
   "source": [
    "delay_columns = [x for x in df_columns if 'Del' in x]\n",
    "print(delay_columns)"
   ]
  },
  {
   "cell_type": "markdown",
   "metadata": {},
   "source": [
    "Here are some more questions to help you learn more about your dataset.\n",
    "\n",
    "**Questions**   \n",
    "\n",
    "1. How many rows and columns does the dataset have?   \n",
    "2. How many years are included in the dataset?   \n",
    "3. What is the date range for the dataset?   \n",
    "4. Which airlines are included in the dataset?   \n",
    "5. Which origin and destination airports are covered?\n",
    "\n",
    "**Hints**\n",
    "- To show the dimensions of the DataFrame, use `df_temp.shape`.\n",
    "- To refer to a specific column, use `df_temp.columnName` (for example, `df_temp.CarrierDelay`).\n",
    "- To get unique values for a column, use `df_temp.column.unique()` (for, example `df_temp.Year.unique()`)."
   ]
  },
  {
   "cell_type": "code",
   "execution_count": 17,
   "metadata": {},
   "outputs": [
    {
     "name": "stdout",
     "output_type": "stream",
     "text": [
      "The #rows and #columns are  585749  and  110\n",
      "The years in this dataset are:  [2018]\n",
      "The months covered in this dataset are:  [9]\n",
      "The date range for data is : 2018-09-01  to  2018-09-30\n",
      "The airlines covered in this dataset are:  ['9E', 'B6', 'WN', 'YV', 'YX', 'EV', 'AA', 'AS', 'DL', 'HA', 'UA', 'F9', 'G4', 'MQ', 'NK', 'OH', 'OO']\n",
      "The Origin airports covered are:  ['DFW', 'LGA', 'MSN', 'MSP', 'ATL', 'BDL', 'VLD', 'JFK', 'RDU', 'CHS', 'DTW', 'GRB', 'PVD', 'SHV', 'FNT', 'PIT', 'RIC', 'RST', 'RSW', 'CVG', 'LIT', 'ORD', 'JAX', 'TRI', 'BOS', 'CWA', 'DCA', 'CHO', 'AVP', 'IND', 'GRR', 'BTR', 'MEM', 'TUL', 'CLE', 'STL', 'BTV', 'OMA', 'MGM', 'TVC', 'SAV', 'GSP', 'EWR', 'OAJ', 'BNA', 'MCI', 'TLH', 'ROC', 'LEX', 'PWM', 'BUF', 'AGS', 'CLT', 'GSO', 'BWI', 'SAT', 'PHL', 'TYS', 'ACK', 'DSM', 'GNV', 'AVL', 'BGR', 'MHT', 'ILM', 'MOT', 'IAH', 'SBN', 'SYR', 'ORF', 'MKE', 'XNA', 'MSY', 'PBI', 'ABE', 'HPN', 'EVV', 'ALB', 'LNK', 'AUS', 'PHF', 'CHA', 'GTR', 'BMI', 'BQK', 'CID', 'CAK', 'ATW', 'ABY', 'CAE', 'SRQ', 'MLI', 'BHM', 'IAD', 'CSG', 'CMH', 'MCO', 'MBS', 'FLL', 'SDF', 'TPA', 'MVY', 'LAS', 'LGB', 'SFO', 'SAN', 'LAX', 'RNO', 'PDX', 'ANC', 'ABQ', 'SLC', 'DEN', 'PHX', 'OAK', 'SMF', 'SJU', 'SEA', 'HOU', 'STX', 'BUR', 'SWF', 'SJC', 'DAB', 'BQN', 'PSE', 'ORH', 'HYA', 'STT', 'ONT', 'HRL', 'ICT', 'ISP', 'LBB', 'MAF', 'MDW', 'OKC', 'PNS', 'SNA', 'TUS', 'AMA', 'BOI', 'CRP', 'DAL', 'ECP', 'ELP', 'GEG', 'LFT', 'MFE', 'MDT', 'JAN', 'COS', 'MOB', 'VPS', 'MTJ', 'DRO', 'GPT', 'BFL', 'MRY', 'SBA', 'PSP', 'FSD', 'BRO', 'RAP', 'COU', 'STS', 'PIA', 'FAT', 'SBP', 'FSM', 'HSV', 'BIS', 'DAY', 'BZN', 'MIA', 'EYW', 'MYR', 'HHH', 'GJT', 'FAR', 'SGF', 'HOB', 'CLL', 'LRD', 'AEX', 'ERI', 'MLU', 'LCH', 'ROA', 'LAW', 'MHK', 'GRK', 'SAF', 'GRI', 'JLN', 'ROW', 'FWA', 'CRW', 'LAN', 'OGG', 'HNL', 'KOA', 'EGE', 'LIH', 'MLB', 'JAC', 'FAI', 'RDM', 'ADQ', 'BET', 'BRW', 'SCC', 'KTN', 'YAK', 'CDV', 'JNU', 'SIT', 'PSG', 'WRG', 'OME', 'OTZ', 'ADK', 'FCA', 'FAY', 'PSC', 'BIL', 'MSO', 'ITO', 'PPG', 'MFR', 'EUG', 'GUM', 'SPN', 'DLH', 'TTN', 'BKG', 'SFB', 'PIE', 'PGD', 'AZA', 'SMX', 'RFD', 'SCK', 'OWB', 'HTS', 'BLV', 'IAG', 'USA', 'GFK', 'BLI', 'ELM', 'PBG', 'LCK', 'GTF', 'OGD', 'IDA', 'PVU', 'TOL', 'PSM', 'CKB', 'HGR', 'SPI', 'STC', 'ACT', 'TYR', 'ABI', 'AZO', 'CMI', 'BPT', 'GCK', 'MQT', 'ALO', 'TXK', 'SPS', 'SWO', 'DBQ', 'SUX', 'SJT', 'GGG', 'LSE', 'LBE', 'ACY', 'LYH', 'PGV', 'HVN', 'EWN', 'DHN', 'PIH', 'IMT', 'WYS', 'CPR', 'SCE', 'HLN', 'SUN', 'ISN', 'CMX', 'EAU', 'LWB', 'SHD', 'LBF', 'HYS', 'SLN', 'EAR', 'VEL', 'CNY', 'GCC', 'RKS', 'PUB', 'LBL', 'MKG', 'PAH', 'CGI', 'UIN', 'BFF', 'DVL', 'JMS', 'LAR', 'SGU', 'PRC', 'ASE', 'RDD', 'ACV', 'OTH', 'COD', 'LWS', 'ABR', 'APN', 'ESC', 'PLN', 'BJI', 'BRD', 'BTM', 'CDC', 'CIU', 'EKO', 'TWF', 'HIB', 'BGM', 'RHI', 'ITH', 'INL', 'FLG', 'YUM', 'MEI', 'PIB', 'HDN']\n",
      "The Destination airports covered are:  ['CVG', 'PWM', 'RDU', 'MSP', 'MSN', 'SHV', 'CLT', 'PIT', 'RIC', 'IAH', 'ATL', 'JFK', 'DCA', 'DTW', 'LGA', 'TYS', 'PVD', 'FNT', 'LIT', 'BUF', 'ORD', 'TRI', 'IND', 'BGR', 'AVP', 'BWI', 'LEX', 'BDL', 'GRR', 'CWA', 'TUL', 'MEM', 'AGS', 'EWR', 'MGM', 'PHL', 'SYR', 'OMA', 'STL', 'TVC', 'ORF', 'CLE', 'ABY', 'BOS', 'OAJ', 'TLH', 'BTR', 'SAT', 'JAX', 'BNA', 'CHO', 'VLD', 'ROC', 'DFW', 'GNV', 'ACK', 'PBI', 'CHS', 'GRB', 'MOT', 'MKE', 'DSM', 'ILM', 'GSO', 'MCI', 'SBN', 'BTV', 'MVY', 'XNA', 'RST', 'EVV', 'HPN', 'RSW', 'MDT', 'ROA', 'GSP', 'MCO', 'CSG', 'SAV', 'PHF', 'ALB', 'CHA', 'ABE', 'BMI', 'MSY', 'IAD', 'GTR', 'CID', 'CAK', 'ATW', 'AUS', 'BQK', 'MLI', 'CAE', 'CMH', 'AVL', 'MBS', 'FLL', 'SDF', 'TPA', 'LNK', 'SRQ', 'MHT', 'BHM', 'LAS', 'SFO', 'SAN', 'RNO', 'LGB', 'ANC', 'PDX', 'SJU', 'ABQ', 'SLC', 'DEN', 'LAX', 'PHX', 'OAK', 'SMF', 'SEA', 'STX', 'BUR', 'DAB', 'SJC', 'SWF', 'HOU', 'BQN', 'PSE', 'ORH', 'HYA', 'STT', 'ONT', 'DAL', 'ECP', 'ELP', 'HRL', 'MAF', 'MDW', 'OKC', 'PNS', 'SNA', 'AMA', 'BOI', 'GEG', 'ICT', 'LBB', 'TUS', 'ISP', 'CRP', 'MFE', 'LFT', 'VPS', 'JAN', 'COS', 'MOB', 'DRO', 'GPT', 'BFL', 'COU', 'SBP', 'MTJ', 'SBA', 'PSP', 'FSD', 'FSM', 'BRO', 'PIA', 'STS', 'FAT', 'RAP', 'MRY', 'HSV', 'BIS', 'DAY', 'BZN', 'MIA', 'EYW', 'MYR', 'HHH', 'GJT', 'FAR', 'MLU', 'LRD', 'CLL', 'LCH', 'FWA', 'GRK', 'SGF', 'HOB', 'LAW', 'MHK', 'SAF', 'JLN', 'ROW', 'GRI', 'AEX', 'CRW', 'LAN', 'ERI', 'HNL', 'KOA', 'OGG', 'EGE', 'LIH', 'JAC', 'MLB', 'RDM', 'BET', 'ADQ', 'BRW', 'SCC', 'FAI', 'JNU', 'CDV', 'YAK', 'SIT', 'KTN', 'WRG', 'PSG', 'OME', 'OTZ', 'ADK', 'FCA', 'BIL', 'PSC', 'FAY', 'MSO', 'ITO', 'PPG', 'MFR', 'DLH', 'EUG', 'GUM', 'SPN', 'TTN', 'BKG', 'AZA', 'SFB', 'LCK', 'BLI', 'SCK', 'PIE', 'RFD', 'PVU', 'PBG', 'BLV', 'PGD', 'SPI', 'USA', 'TOL', 'IDA', 'ELM', 'HTS', 'HGR', 'SMX', 'OGD', 'GFK', 'STC', 'GTF', 'IAG', 'CKB', 'OWB', 'PSM', 'ABI', 'TYR', 'ALO', 'SUX', 'AZO', 'ACT', 'CMI', 'BPT', 'TXK', 'SWO', 'SPS', 'DBQ', 'SJT', 'GGG', 'LSE', 'MQT', 'GCK', 'LBE', 'ACY', 'LYH', 'PGV', 'HVN', 'EWN', 'DHN', 'PIH', 'WYS', 'SCE', 'IMT', 'HLN', 'ASE', 'SUN', 'ISN', 'EAR', 'SGU', 'VEL', 'SHD', 'LWB', 'MKG', 'SLN', 'HYS', 'BFF', 'PUB', 'LBL', 'CMX', 'EAU', 'PAH', 'UIN', 'RKS', 'CGI', 'CNY', 'JMS', 'DVL', 'LAR', 'GCC', 'LBF', 'PRC', 'RDD', 'ACV', 'OTH', 'COD', 'LWS', 'ABR', 'APN', 'PLN', 'BJI', 'CPR', 'BRD', 'BTM', 'CDC', 'CIU', 'ESC', 'EKO', 'ITH', 'HIB', 'BGM', 'TWF', 'RHI', 'INL', 'FLG', 'YUM', 'MEI', 'PIB', 'HDN']\n"
     ]
    }
   ],
   "source": [
    "print(\"The #rows and #columns are \", df_temp.shape[0] , \" and \", df_temp.shape[1])\n",
    "print(\"The years in this dataset are: \", df_temp[\"Year\"].unique())\n",
    "print(\"The months covered in this dataset are: \", df_temp[\"Month\"].unique())\n",
    "print(\"The date range for data is :\" , min(df_temp[\"FlightDate\"]), \" to \", max(df_temp[\"FlightDate\"]))\n",
    "print(\"The airlines covered in this dataset are: \", list(df_temp[\"Reporting_Airline\"].unique()))\n",
    "print(\"The Origin airports covered are: \", list(df_temp[\"Origin\"].unique()))\n",
    "print(\"The Destination airports covered are: \", list(df_temp[\"Dest\"].unique()))"
   ]
  },
  {
   "cell_type": "markdown",
   "metadata": {},
   "source": [
    "**Question**: What is the count of all the origin and destination airports?\n",
    "\n",
    "**Hint**: To find the values for each airport by using the **Origin** and **Dest** columns, you can use the `values_count` function in pandas ([pandas.Series.value_counts documentation](https://pandas.pydata.org/pandas-docs/stable/reference/api/pandas.Series.value_counts.html))."
   ]
  },
  {
   "cell_type": "code",
   "execution_count": 18,
   "metadata": {},
   "outputs": [
    {
     "data": {
      "text/html": [
       "<div>\n",
       "<style scoped>\n",
       "    .dataframe tbody tr th:only-of-type {\n",
       "        vertical-align: middle;\n",
       "    }\n",
       "\n",
       "    .dataframe tbody tr th {\n",
       "        vertical-align: top;\n",
       "    }\n",
       "\n",
       "    .dataframe thead th {\n",
       "        text-align: right;\n",
       "    }\n",
       "</style>\n",
       "<table border=\"1\" class=\"dataframe\">\n",
       "  <thead>\n",
       "    <tr style=\"text-align: right;\">\n",
       "      <th></th>\n",
       "      <th>Origin</th>\n",
       "      <th>Destination</th>\n",
       "    </tr>\n",
       "  </thead>\n",
       "  <tbody>\n",
       "    <tr>\n",
       "      <th>ABE</th>\n",
       "      <td>303</td>\n",
       "      <td>303</td>\n",
       "    </tr>\n",
       "    <tr>\n",
       "      <th>ABI</th>\n",
       "      <td>169</td>\n",
       "      <td>169</td>\n",
       "    </tr>\n",
       "    <tr>\n",
       "      <th>ABQ</th>\n",
       "      <td>2077</td>\n",
       "      <td>2076</td>\n",
       "    </tr>\n",
       "    <tr>\n",
       "      <th>ABR</th>\n",
       "      <td>60</td>\n",
       "      <td>60</td>\n",
       "    </tr>\n",
       "    <tr>\n",
       "      <th>ABY</th>\n",
       "      <td>79</td>\n",
       "      <td>79</td>\n",
       "    </tr>\n",
       "    <tr>\n",
       "      <th>...</th>\n",
       "      <td>...</td>\n",
       "      <td>...</td>\n",
       "    </tr>\n",
       "    <tr>\n",
       "      <th>WRG</th>\n",
       "      <td>60</td>\n",
       "      <td>60</td>\n",
       "    </tr>\n",
       "    <tr>\n",
       "      <th>WYS</th>\n",
       "      <td>52</td>\n",
       "      <td>52</td>\n",
       "    </tr>\n",
       "    <tr>\n",
       "      <th>XNA</th>\n",
       "      <td>1004</td>\n",
       "      <td>1004</td>\n",
       "    </tr>\n",
       "    <tr>\n",
       "      <th>YAK</th>\n",
       "      <td>60</td>\n",
       "      <td>60</td>\n",
       "    </tr>\n",
       "    <tr>\n",
       "      <th>YUM</th>\n",
       "      <td>96</td>\n",
       "      <td>96</td>\n",
       "    </tr>\n",
       "  </tbody>\n",
       "</table>\n",
       "<p>346 rows × 2 columns</p>\n",
       "</div>"
      ],
      "text/plain": [
       "     Origin  Destination\n",
       "ABE     303          303\n",
       "ABI     169          169\n",
       "ABQ    2077         2076\n",
       "ABR      60           60\n",
       "ABY      79           79\n",
       "..      ...          ...\n",
       "WRG      60           60\n",
       "WYS      52           52\n",
       "XNA    1004         1004\n",
       "YAK      60           60\n",
       "YUM      96           96\n",
       "\n",
       "[346 rows x 2 columns]"
      ]
     },
     "execution_count": 18,
     "metadata": {},
     "output_type": "execute_result"
    }
   ],
   "source": [
    "counts = pd.DataFrame({'Origin':df_temp[\"Origin\"].value_counts(), 'Destination':df_temp[\"Dest\"].value_counts()})\n",
    "counts"
   ]
  },
  {
   "cell_type": "markdown",
   "metadata": {},
   "source": [
    "**Question**: Print the top 15 origin and destination airports based on number of flights in the dataset.\n",
    "\n",
    "**Hint**: You can use the `sort_values` function in pandas ([pandas.DataFrame.sort_values documentation](https://pandas.pydata.org/pandas-docs/stable/reference/api/pandas.DataFrame.sort_values.html))."
   ]
  },
  {
   "cell_type": "code",
   "execution_count": 19,
   "metadata": {},
   "outputs": [
    {
     "data": {
      "text/html": [
       "<div>\n",
       "<style scoped>\n",
       "    .dataframe tbody tr th:only-of-type {\n",
       "        vertical-align: middle;\n",
       "    }\n",
       "\n",
       "    .dataframe tbody tr th {\n",
       "        vertical-align: top;\n",
       "    }\n",
       "\n",
       "    .dataframe thead th {\n",
       "        text-align: right;\n",
       "    }\n",
       "</style>\n",
       "<table border=\"1\" class=\"dataframe\">\n",
       "  <thead>\n",
       "    <tr style=\"text-align: right;\">\n",
       "      <th></th>\n",
       "      <th>Origin</th>\n",
       "      <th>Destination</th>\n",
       "    </tr>\n",
       "  </thead>\n",
       "  <tbody>\n",
       "    <tr>\n",
       "      <th>ATL</th>\n",
       "      <td>31525</td>\n",
       "      <td>31521</td>\n",
       "    </tr>\n",
       "    <tr>\n",
       "      <th>ORD</th>\n",
       "      <td>28257</td>\n",
       "      <td>28250</td>\n",
       "    </tr>\n",
       "    <tr>\n",
       "      <th>DFW</th>\n",
       "      <td>22802</td>\n",
       "      <td>22795</td>\n",
       "    </tr>\n",
       "    <tr>\n",
       "      <th>DEN</th>\n",
       "      <td>19807</td>\n",
       "      <td>19807</td>\n",
       "    </tr>\n",
       "    <tr>\n",
       "      <th>CLT</th>\n",
       "      <td>19655</td>\n",
       "      <td>19654</td>\n",
       "    </tr>\n",
       "    <tr>\n",
       "      <th>LAX</th>\n",
       "      <td>17875</td>\n",
       "      <td>17873</td>\n",
       "    </tr>\n",
       "    <tr>\n",
       "      <th>SFO</th>\n",
       "      <td>14332</td>\n",
       "      <td>14348</td>\n",
       "    </tr>\n",
       "    <tr>\n",
       "      <th>IAH</th>\n",
       "      <td>14210</td>\n",
       "      <td>14203</td>\n",
       "    </tr>\n",
       "    <tr>\n",
       "      <th>LGA</th>\n",
       "      <td>13850</td>\n",
       "      <td>13850</td>\n",
       "    </tr>\n",
       "    <tr>\n",
       "      <th>MSP</th>\n",
       "      <td>13349</td>\n",
       "      <td>13347</td>\n",
       "    </tr>\n",
       "    <tr>\n",
       "      <th>LAS</th>\n",
       "      <td>13318</td>\n",
       "      <td>13322</td>\n",
       "    </tr>\n",
       "    <tr>\n",
       "      <th>PHX</th>\n",
       "      <td>13126</td>\n",
       "      <td>13128</td>\n",
       "    </tr>\n",
       "    <tr>\n",
       "      <th>DTW</th>\n",
       "      <td>12725</td>\n",
       "      <td>12724</td>\n",
       "    </tr>\n",
       "    <tr>\n",
       "      <th>BOS</th>\n",
       "      <td>12223</td>\n",
       "      <td>12227</td>\n",
       "    </tr>\n",
       "    <tr>\n",
       "      <th>SEA</th>\n",
       "      <td>11872</td>\n",
       "      <td>11877</td>\n",
       "    </tr>\n",
       "  </tbody>\n",
       "</table>\n",
       "</div>"
      ],
      "text/plain": [
       "     Origin  Destination\n",
       "ATL   31525        31521\n",
       "ORD   28257        28250\n",
       "DFW   22802        22795\n",
       "DEN   19807        19807\n",
       "CLT   19655        19654\n",
       "LAX   17875        17873\n",
       "SFO   14332        14348\n",
       "IAH   14210        14203\n",
       "LGA   13850        13850\n",
       "MSP   13349        13347\n",
       "LAS   13318        13322\n",
       "PHX   13126        13128\n",
       "DTW   12725        12724\n",
       "BOS   12223        12227\n",
       "SEA   11872        11877"
      ]
     },
     "execution_count": 19,
     "metadata": {},
     "output_type": "execute_result"
    }
   ],
   "source": [
    "counts.sort_values(by=['Origin', 'Destination'] ,ascending=False).head(15) # Enter your code here"
   ]
  },
  {
   "cell_type": "markdown",
   "metadata": {},
   "source": [
    "**Given all the information about a flight trip, can you predict if it would be delayed?**"
   ]
  },
  {
   "cell_type": "markdown",
   "metadata": {},
   "source": [
    "The **ArrDel15** column is an indicator variable that takes the value *1* when the delay is more than 15 minutes. Otherwise, it takes a value of *0*.\n",
    "\n",
    "You could use this as a target column for the classification problem."
   ]
  },
  {
   "cell_type": "markdown",
   "metadata": {},
   "source": [
    "Now, assume that you are traveling from San Francisco to Los Angeles on a work trip. You want to better manage your reservations in Los Angeles. Thus, want to have an idea of whether your flight will be delayed, given a set of features. How many features from this dataset would you need to know before your flight?\n",
    "\n",
    "Columns such as `DepDelay`, `ArrDelay`, `CarrierDelay`, `WeatherDelay`, `NASDelay`, `SecurityDelay`, `LateAircraftDelay`, and `DivArrDelay` contain information about a delay. But this delay could have occured at the origin or the destination. If there were a sudden weather delay 10 minutes before landing, this data wouldn't be helpful to managing your Los Angeles reservations.\n",
    "\n",
    "So to simplify the problem statement, consider the following columns to predict an arrival delay:<br>\n",
    "\n",
    "`Year`, `Quarter`, `Month`, `DayofMonth`, `DayOfWeek`, `FlightDate`, `Reporting_Airline`, `Origin`, `OriginState`, `Dest`, `DestState`, `CRSDepTime`, `DepDelayMinutes`, `DepartureDelayGroups`, `Cancelled`, `Diverted`, `Distance`, `DistanceGroup`, `ArrDelay`, `ArrDelayMinutes`, `ArrDel15`, `AirTime`\n",
    "\n",
    "You will also filter the source and destination airports to be:\n",
    "- Top airports: ATL, ORD, DFW, DEN, CLT, LAX, IAH, PHX, SFO\n",
    "- Top five airlines: UA, OO, WN, AA, DL\n",
    "\n",
    "This information should help reduce the size of data across the CSV files that will be combined."
   ]
  },
  {
   "cell_type": "markdown",
   "metadata": {},
   "source": [
    "#### Combine all CSV files\n",
    " \n",
    "First, create an empy DataFrame that you will use to copy your individual DataFrames from each file. Then, for each file in the `csv_files` list:\n",
    "\n",
    "1. Read the CSV file into a dataframe \n",
    "2. Filter the columns based on the `filter_cols` variable\n",
    "\n",
    "```\n",
    "        columns = ['col1', 'col2']\n",
    "        df_filter = df[columns]\n",
    "```\n",
    "\n",
    "3. Keep only the `subset_vals` in each of the `subset_cols`. To check if the `val` is in the DataFrame column, use the `isin` function in pandas ([pandas.DataFram.isin documentation](https://pandas.pydata.org/pandas-docs/stable/reference/api/pandas.DataFrame.isin.html)). Then, choose the rows that include it.\n",
    "\n",
    "```\n",
    "        df_eg[df_eg['col1'].isin('5')]\n",
    "```\n",
    "\n",
    "4. Concatenate the DataFrame with the empty DataFrame "
   ]
  },
  {
   "cell_type": "code",
   "execution_count": 20,
   "metadata": {},
   "outputs": [],
   "source": [
    "def combine_csv(csv_files, filter_cols, subset_cols, subset_vals, file_name):\n",
    "\n",
    "    \"\"\"\n",
    "    Combine csv files into one Data Frame\n",
    "    csv_files: list of csv file paths\n",
    "    filter_cols: list of columns to filter\n",
    "    subset_cols: list of columns to subset rows\n",
    "    subset_vals: list of list of values to subset rows\n",
    "    \"\"\"\n",
    "\n",
    "    df = pd.DataFrame()\n",
    "    \n",
    "    for file in csv_files:\n",
    "        df_temp = pd.read_csv(file)\n",
    "        df_temp = df_temp[filter_cols]\n",
    "        for col, val in zip(subset_cols,subset_vals):\n",
    "            df_temp = df_temp[df_temp[col].isin(val)]      \n",
    "        \n",
    "        df = pd.concat([df, df_temp], axis=0)\n",
    "      \n",
    "    df.to_csv(file_name, index=False)\n",
    "    print(f'Combined csv stored at {file_name}')"
   ]
  },
  {
   "cell_type": "code",
   "execution_count": 21,
   "metadata": {},
   "outputs": [],
   "source": [
    "#cols is the list of columns to predict Arrival Delay \n",
    "cols = ['Year','Quarter','Month','DayofMonth','DayOfWeek','FlightDate',\n",
    "        'Reporting_Airline','Origin','OriginState','Dest','DestState',\n",
    "        'CRSDepTime','Cancelled','Diverted','Distance','DistanceGroup',\n",
    "        'ArrDelay','ArrDelayMinutes','ArrDel15','AirTime']\n",
    "\n",
    "subset_cols = ['Origin', 'Dest', 'Reporting_Airline']\n",
    "\n",
    "# subset_vals is a list collection of the top origin and destination airports and top 5 airlines\n",
    "subset_vals = [['ATL', 'ORD', 'DFW', 'DEN', 'CLT', 'LAX', 'IAH', 'PHX', 'SFO'], \n",
    "               ['ATL', 'ORD', 'DFW', 'DEN', 'CLT', 'LAX', 'IAH', 'PHX', 'SFO'], \n",
    "               ['UA', 'OO', 'WN', 'AA', 'DL']]"
   ]
  },
  {
   "cell_type": "markdown",
   "metadata": {},
   "source": [
    "Use the previous function to merge all the different files into a single file that you can read easily. \n",
    "\n",
    "**Note**: This process will take 5-7 minutes to complete."
   ]
  },
  {
   "cell_type": "code",
   "execution_count": 22,
   "metadata": {},
   "outputs": [
    {
     "name": "stdout",
     "output_type": "stream",
     "text": [
      "Combined csv stored at /home/ec2-user/SageMaker/project/data/FlightDelays/combined_files.csv\n",
      "CSVs merged in 4.83 minutes\n"
     ]
    }
   ],
   "source": [
    "start = time.time()\n",
    "combined_csv_filename = f\"{base_path}combined_files.csv\"\n",
    "combine_csv(csv_files, cols, subset_cols, subset_vals, combined_csv_filename)\n",
    "print(f'CSVs merged in {round((time.time() - start)/60,2)} minutes')"
   ]
  },
  {
   "cell_type": "markdown",
   "metadata": {},
   "source": [
    "#### Load the dataset\n",
    "\n",
    "Load the combined dataset."
   ]
  },
  {
   "cell_type": "code",
   "execution_count": 44,
   "metadata": {},
   "outputs": [],
   "source": [
    "data = pd.read_csv(combined_csv_filename)"
   ]
  },
  {
   "cell_type": "markdown",
   "metadata": {},
   "source": [
    "Print the first five records."
   ]
  },
  {
   "cell_type": "code",
   "execution_count": 45,
   "metadata": {},
   "outputs": [
    {
     "data": {
      "text/html": [
       "<div>\n",
       "<style scoped>\n",
       "    .dataframe tbody tr th:only-of-type {\n",
       "        vertical-align: middle;\n",
       "    }\n",
       "\n",
       "    .dataframe tbody tr th {\n",
       "        vertical-align: top;\n",
       "    }\n",
       "\n",
       "    .dataframe thead th {\n",
       "        text-align: right;\n",
       "    }\n",
       "</style>\n",
       "<table border=\"1\" class=\"dataframe\">\n",
       "  <thead>\n",
       "    <tr style=\"text-align: right;\">\n",
       "      <th></th>\n",
       "      <th>Year</th>\n",
       "      <th>Quarter</th>\n",
       "      <th>Month</th>\n",
       "      <th>DayofMonth</th>\n",
       "      <th>DayOfWeek</th>\n",
       "      <th>FlightDate</th>\n",
       "      <th>Reporting_Airline</th>\n",
       "      <th>Origin</th>\n",
       "      <th>OriginState</th>\n",
       "      <th>Dest</th>\n",
       "      <th>DestState</th>\n",
       "      <th>CRSDepTime</th>\n",
       "      <th>Cancelled</th>\n",
       "      <th>Diverted</th>\n",
       "      <th>Distance</th>\n",
       "      <th>DistanceGroup</th>\n",
       "      <th>ArrDelay</th>\n",
       "      <th>ArrDelayMinutes</th>\n",
       "      <th>ArrDel15</th>\n",
       "      <th>AirTime</th>\n",
       "    </tr>\n",
       "  </thead>\n",
       "  <tbody>\n",
       "    <tr>\n",
       "      <th>0</th>\n",
       "      <td>2018</td>\n",
       "      <td>2</td>\n",
       "      <td>5</td>\n",
       "      <td>8</td>\n",
       "      <td>2</td>\n",
       "      <td>2018-05-08</td>\n",
       "      <td>OO</td>\n",
       "      <td>CLT</td>\n",
       "      <td>NC</td>\n",
       "      <td>DEN</td>\n",
       "      <td>CO</td>\n",
       "      <td>830</td>\n",
       "      <td>0.0</td>\n",
       "      <td>0.0</td>\n",
       "      <td>1337.0</td>\n",
       "      <td>6</td>\n",
       "      <td>-25.0</td>\n",
       "      <td>0.0</td>\n",
       "      <td>0.0</td>\n",
       "      <td>178.0</td>\n",
       "    </tr>\n",
       "    <tr>\n",
       "      <th>1</th>\n",
       "      <td>2018</td>\n",
       "      <td>2</td>\n",
       "      <td>5</td>\n",
       "      <td>8</td>\n",
       "      <td>2</td>\n",
       "      <td>2018-05-08</td>\n",
       "      <td>OO</td>\n",
       "      <td>DFW</td>\n",
       "      <td>TX</td>\n",
       "      <td>SFO</td>\n",
       "      <td>CA</td>\n",
       "      <td>1255</td>\n",
       "      <td>0.0</td>\n",
       "      <td>0.0</td>\n",
       "      <td>1464.0</td>\n",
       "      <td>6</td>\n",
       "      <td>3.0</td>\n",
       "      <td>3.0</td>\n",
       "      <td>0.0</td>\n",
       "      <td>223.0</td>\n",
       "    </tr>\n",
       "    <tr>\n",
       "      <th>2</th>\n",
       "      <td>2018</td>\n",
       "      <td>2</td>\n",
       "      <td>5</td>\n",
       "      <td>8</td>\n",
       "      <td>2</td>\n",
       "      <td>2018-05-08</td>\n",
       "      <td>OO</td>\n",
       "      <td>DFW</td>\n",
       "      <td>TX</td>\n",
       "      <td>LAX</td>\n",
       "      <td>CA</td>\n",
       "      <td>1925</td>\n",
       "      <td>0.0</td>\n",
       "      <td>0.0</td>\n",
       "      <td>1235.0</td>\n",
       "      <td>5</td>\n",
       "      <td>-17.0</td>\n",
       "      <td>0.0</td>\n",
       "      <td>0.0</td>\n",
       "      <td>175.0</td>\n",
       "    </tr>\n",
       "    <tr>\n",
       "      <th>3</th>\n",
       "      <td>2018</td>\n",
       "      <td>2</td>\n",
       "      <td>5</td>\n",
       "      <td>8</td>\n",
       "      <td>2</td>\n",
       "      <td>2018-05-08</td>\n",
       "      <td>OO</td>\n",
       "      <td>DEN</td>\n",
       "      <td>CO</td>\n",
       "      <td>DFW</td>\n",
       "      <td>TX</td>\n",
       "      <td>805</td>\n",
       "      <td>0.0</td>\n",
       "      <td>0.0</td>\n",
       "      <td>641.0</td>\n",
       "      <td>3</td>\n",
       "      <td>-11.0</td>\n",
       "      <td>0.0</td>\n",
       "      <td>0.0</td>\n",
       "      <td>91.0</td>\n",
       "    </tr>\n",
       "    <tr>\n",
       "      <th>4</th>\n",
       "      <td>2018</td>\n",
       "      <td>2</td>\n",
       "      <td>5</td>\n",
       "      <td>8</td>\n",
       "      <td>2</td>\n",
       "      <td>2018-05-08</td>\n",
       "      <td>OO</td>\n",
       "      <td>DEN</td>\n",
       "      <td>CO</td>\n",
       "      <td>ATL</td>\n",
       "      <td>GA</td>\n",
       "      <td>1235</td>\n",
       "      <td>0.0</td>\n",
       "      <td>0.0</td>\n",
       "      <td>1199.0</td>\n",
       "      <td>5</td>\n",
       "      <td>-10.0</td>\n",
       "      <td>0.0</td>\n",
       "      <td>0.0</td>\n",
       "      <td>147.0</td>\n",
       "    </tr>\n",
       "  </tbody>\n",
       "</table>\n",
       "</div>"
      ],
      "text/plain": [
       "   Year  Quarter  Month  DayofMonth  DayOfWeek  FlightDate Reporting_Airline  \\\n",
       "0  2018        2      5           8          2  2018-05-08                OO   \n",
       "1  2018        2      5           8          2  2018-05-08                OO   \n",
       "2  2018        2      5           8          2  2018-05-08                OO   \n",
       "3  2018        2      5           8          2  2018-05-08                OO   \n",
       "4  2018        2      5           8          2  2018-05-08                OO   \n",
       "\n",
       "  Origin OriginState Dest DestState  CRSDepTime  Cancelled  Diverted  \\\n",
       "0    CLT          NC  DEN        CO         830        0.0       0.0   \n",
       "1    DFW          TX  SFO        CA        1255        0.0       0.0   \n",
       "2    DFW          TX  LAX        CA        1925        0.0       0.0   \n",
       "3    DEN          CO  DFW        TX         805        0.0       0.0   \n",
       "4    DEN          CO  ATL        GA        1235        0.0       0.0   \n",
       "\n",
       "   Distance  DistanceGroup  ArrDelay  ArrDelayMinutes  ArrDel15  AirTime  \n",
       "0    1337.0              6     -25.0              0.0       0.0    178.0  \n",
       "1    1464.0              6       3.0              3.0       0.0    223.0  \n",
       "2    1235.0              5     -17.0              0.0       0.0    175.0  \n",
       "3     641.0              3     -11.0              0.0       0.0     91.0  \n",
       "4    1199.0              5     -10.0              0.0       0.0    147.0  "
      ]
     },
     "execution_count": 45,
     "metadata": {},
     "output_type": "execute_result"
    }
   ],
   "source": [
    "data.head(5)"
   ]
  },
  {
   "cell_type": "markdown",
   "metadata": {},
   "source": [
    "Here are some more questions to help you learn more about your dataset.\n",
    "\n",
    "**Questions**   \n",
    "\n",
    "1. How many rows and columns does the dataset have?   \n",
    "2. How many years are included in the dataset?   \n",
    "3. What is the date range for the dataset?   \n",
    "4. Which airlines are included in the dataset?   \n",
    "5. Which origin and destination airports are covered?"
   ]
  },
  {
   "cell_type": "code",
   "execution_count": 46,
   "metadata": {},
   "outputs": [
    {
     "name": "stdout",
     "output_type": "stream",
     "text": [
      "The #rows and #columns are  1658130  and  20\n",
      "The years in this dataset are:  [2018, 2014, 2017, 2015, 2016]\n",
      "The months covered in this dataset are:  [1, 2, 3, 4, 5, 6, 7, 8, 9, 10, 11, 12]\n",
      "The date range for data is : 2014-01-01  to  2018-12-31\n",
      "The airlines covered in this dataset are:  ['OO', 'WN', 'AA', 'DL', 'UA']\n",
      "The Origin airports covered are:  ['CLT', 'DFW', 'DEN', 'ORD', 'LAX', 'IAH', 'SFO', 'PHX', 'ATL']\n",
      "The Destination airports covered are:  ['DEN', 'SFO', 'LAX', 'DFW', 'ATL', 'IAH', 'CLT', 'ORD', 'PHX']\n"
     ]
    }
   ],
   "source": [
    "print(\"The #rows and #columns are \", data.shape[0] , \" and \", data.shape[1])\n",
    "print(\"The years in this dataset are: \", list(data['Year'].unique()))\n",
    "print(\"The months covered in this dataset are: \", sorted(list(data['Month'].unique())))\n",
    "print(\"The date range for data is :\" , min(data['FlightDate']), \" to \", max(data['FlightDate']))\n",
    "print(\"The airlines covered in this dataset are: \", list(data['Reporting_Airline'].unique()))\n",
    "print(\"The Origin airports covered are: \", list(data['Origin'].unique()))\n",
    "print(\"The Destination airports covered are: \", list(data['Dest'].unique()))"
   ]
  },
  {
   "cell_type": "markdown",
   "metadata": {},
   "source": [
    "Define your target column: **is_delay** (*1* means that the arrival time delayed more than 15 minutes, and *0* means all other cases). To rename the column from **ArrDel15** to *is_delay*, use the `rename` method .\n",
    "\n",
    "**Hint**: You can use the `rename` function in pandas ([pandas.DataFrame.rename documentation](https://pandas.pydata.org/pandas-docs/stable/reference/api/pandas.DataFrame.rename.html)).\n",
    "\n",
    "For example:\n",
    "```\n",
    "data.rename(columns={'col1':'column1'}, inplace=True)\n",
    "```"
   ]
  },
  {
   "cell_type": "code",
   "execution_count": 47,
   "metadata": {},
   "outputs": [],
   "source": [
    "data.rename(columns={'ArrDel15':'is_delay'}, inplace=True) # Enter your code here"
   ]
  },
  {
   "cell_type": "markdown",
   "metadata": {},
   "source": [
    "Look for nulls across columns. You can use the `isnull()` function ([pandas.isnull documentation](https://pandas.pydata.org/pandas-docs/version/0.17.0/generated/pandas.isnull.html)).\n",
    "\n",
    "**Hint**: `isnull()` detects whether the particular value is null or not. It returns a boolean (*True* or *False*) in its place. To sum the number of columns, use the `sum(axis=0)` function (for example, `df.isnull().sum(axis=0)`)."
   ]
  },
  {
   "cell_type": "code",
   "execution_count": 48,
   "metadata": {},
   "outputs": [
    {
     "data": {
      "text/plain": [
       "Year                     0\n",
       "Quarter                  0\n",
       "Month                    0\n",
       "DayofMonth               0\n",
       "DayOfWeek                0\n",
       "FlightDate               0\n",
       "Reporting_Airline        0\n",
       "Origin                   0\n",
       "OriginState              0\n",
       "Dest                     0\n",
       "DestState                0\n",
       "CRSDepTime               0\n",
       "Cancelled                0\n",
       "Diverted                 0\n",
       "Distance                 0\n",
       "DistanceGroup            0\n",
       "ArrDelay             22540\n",
       "ArrDelayMinutes      22540\n",
       "is_delay             22540\n",
       "AirTime              22540\n",
       "dtype: int64"
      ]
     },
     "execution_count": 48,
     "metadata": {},
     "output_type": "execute_result"
    }
   ],
   "source": [
    "data.isnull().sum(axis=0)"
   ]
  },
  {
   "cell_type": "markdown",
   "metadata": {},
   "source": [
    "The arrival delay details and airtime are missing for 22,540 out of 1,658,130 rows, which is 1.3 percent. You can either remove or impute these rows. The documentation doesn't mention any information about missing rows.\n"
   ]
  },
  {
   "cell_type": "code",
   "execution_count": 49,
   "metadata": {},
   "outputs": [
    {
     "data": {
      "text/plain": [
       "Year                 0\n",
       "Quarter              0\n",
       "Month                0\n",
       "DayofMonth           0\n",
       "DayOfWeek            0\n",
       "FlightDate           0\n",
       "Reporting_Airline    0\n",
       "Origin               0\n",
       "OriginState          0\n",
       "Dest                 0\n",
       "DestState            0\n",
       "CRSDepTime           0\n",
       "Cancelled            0\n",
       "Diverted             0\n",
       "Distance             0\n",
       "DistanceGroup        0\n",
       "ArrDelay             0\n",
       "ArrDelayMinutes      0\n",
       "is_delay             0\n",
       "AirTime              0\n",
       "dtype: int64"
      ]
     },
     "execution_count": 49,
     "metadata": {},
     "output_type": "execute_result"
    }
   ],
   "source": [
    "### Remove null columns\n",
    "data = data[~data.is_delay.isnull()]\n",
    "data.isnull().sum(axis = 0)"
   ]
  },
  {
   "cell_type": "markdown",
   "metadata": {},
   "source": [
    "Get the hour of the day in 24-hour-time format from CRSDepTime."
   ]
  },
  {
   "cell_type": "code",
   "execution_count": 50,
   "metadata": {},
   "outputs": [],
   "source": [
    "data['DepHourofDay'] = (data['CRSDepTime']//100)"
   ]
  },
  {
   "cell_type": "markdown",
   "metadata": {},
   "source": [
    "## **The ML problem statement**\n",
    "- Given a set of features, can you predict if a flight is going to be delayed more than 15 minutes?\n",
    "- Because the target variable takes only a value of *0* or *1*, you could use a classification algorithm. \n",
    "\n",
    "Before you start modeling, it's a good practice to look at feature distribution, correlations, and others.\n",
    "- This will give you an idea of any non-linearity or patterns in the data\n",
    "    - Linear models: Add power, exponential, or interaction features\n",
    "    - Try a non-linear model\n",
    "- Data imbalance \n",
    "    - Choose metrics that won't give biased model performance (accuracy versus the area under the curve, or AUC)\n",
    "    - Use weighted or custom loss functions\n",
    "- Missing data\n",
    "    - Do imputation based on simple statistics -- mean, median, mode (numerical variables), frequent class (categorical variables)\n",
    "    - Clustering-based imputation (k-nearest neighbors, or KNNs, to predict column value)\n",
    "    - Drop column"
   ]
  },
  {
   "cell_type": "markdown",
   "metadata": {},
   "source": [
    "### Data exploration\n",
    "\n",
    "Check the classes *delay* versus *no delay*.\n"
   ]
  },
  {
   "cell_type": "code",
   "execution_count": 51,
   "metadata": {},
   "outputs": [
    {
     "data": {
      "image/png": "[encoded data removed]",
      "text/plain": [
       "<Figure size 432x288 with 1 Axes>"
      ]
     },
     "metadata": {
      "needs_background": "light"
     },
     "output_type": "display_data"
    }
   ],
   "source": [
    "(data.groupby('is_delay').size()/len(data) ).plot(kind='bar')# Enter your code here\n",
    "plt.ylabel('Frequency')\n",
    "plt.title('Distribution of classes')\n",
    "plt.show()"
   ]
  },
  {
   "cell_type": "markdown",
   "metadata": {},
   "source": [
    "**Question**: What can you deduce from the bar plot about the ratio of *delay* versus *no delay*?"
   ]
  },
  {
   "cell_type": "code",
   "execution_count": 52,
   "metadata": {},
   "outputs": [],
   "source": [
    "# About 80% of flights were on time (no_delay), leaving about 20% of flights being delayed."
   ]
  },
  {
   "cell_type": "markdown",
   "metadata": {},
   "source": [
    "Run the following two cells and answer the questions."
   ]
  },
  {
   "cell_type": "code",
   "execution_count": 53,
   "metadata": {},
   "outputs": [
    {
     "data": {
      "image/png": "[encoded data removed]",
      "text/plain": [
       "<Figure size 1440x1440 with 6 Axes>"
      ]
     },
     "metadata": {
      "needs_background": "light"
     },
     "output_type": "display_data"
    }
   ],
   "source": [
    "viz_columns = ['Month', 'DepHourofDay', 'DayOfWeek', 'Reporting_Airline', 'Origin', 'Dest']\n",
    "fig, axes = plt.subplots(3, 2, figsize=(20,20), squeeze=False)\n",
    "# fig.autofmt_xdate(rotation=90)\n",
    "\n",
    "for idx, column in enumerate(viz_columns):\n",
    "    ax = axes[idx//2, idx%2]\n",
    "    temp = data.groupby(column)['is_delay'].value_counts(normalize=True).rename('percentage').\\\n",
    "    mul(100).reset_index().sort_values(column)\n",
    "    sns.barplot(x=column, y=\"percentage\", hue=\"is_delay\", data=temp, ax=ax)\n",
    "    plt.ylabel('% delay/no-delay')\n",
    "    \n",
    "\n",
    "plt.show()"
   ]
  },
  {
   "cell_type": "code",
   "execution_count": 54,
   "metadata": {},
   "outputs": [
    {
     "data": {
      "image/png": "[encoded data removed]",
      "text/plain": [
       "<Figure size 360x360 with 1 Axes>"
      ]
     },
     "metadata": {
      "needs_background": "light"
     },
     "output_type": "display_data"
    }
   ],
   "source": [
    "sns.lmplot( x=\"is_delay\", y=\"Distance\", data=data, fit_reg=False, hue='is_delay', legend=False)\n",
    "plt.legend(loc='center')\n",
    "plt.xlabel('is_delay')\n",
    "plt.ylabel('Distance')\n",
    "plt.show()"
   ]
  },
  {
   "cell_type": "markdown",
   "metadata": {},
   "source": [
    "**Questions**\n",
    "\n",
    "Using the data from the previous charts, answer these questions:\n",
    "\n",
    "- Which months have the most delays?\n",
    "- What time of the day has the most delays?\n",
    "- What day of the week has the most delays?\n",
    "- Which airline has the most delays?\n",
    "- Which origin and destination airports have the most delays?\n",
    "- Is flight distance a factor in the delays?"
   ]
  },
  {
   "cell_type": "code",
   "execution_count": 55,
   "metadata": {},
   "outputs": [],
   "source": [
    "# June and July have the most delays.\n",
    "# 6,7, and 8pm have the most delays.\n",
    "# Monday, Wednesday, and Thursday are tied for the most delays.\n",
    "# WN (Southwest) has the most delays\n",
    "# Origin: ORD and SFO have most delays as origins. Destination: LAX and SFO have most delays as destinations.\n",
    "#Yes, most of the delays are occurring when the flight has a distance of 500-1000 miles."
   ]
  },
  {
   "cell_type": "markdown",
   "metadata": {},
   "source": [
    "### Features\n",
    "\n",
    "Look at all the columns and what their specific types are."
   ]
  },
  {
   "cell_type": "code",
   "execution_count": 56,
   "metadata": {},
   "outputs": [
    {
     "data": {
      "text/plain": [
       "Index(['Year', 'Quarter', 'Month', 'DayofMonth', 'DayOfWeek', 'FlightDate',\n",
       "       'Reporting_Airline', 'Origin', 'OriginState', 'Dest', 'DestState',\n",
       "       'CRSDepTime', 'Cancelled', 'Diverted', 'Distance', 'DistanceGroup',\n",
       "       'ArrDelay', 'ArrDelayMinutes', 'is_delay', 'AirTime', 'DepHourofDay'],\n",
       "      dtype='object')"
      ]
     },
     "execution_count": 56,
     "metadata": {},
     "output_type": "execute_result"
    }
   ],
   "source": [
    "data.columns"
   ]
  },
  {
   "cell_type": "code",
   "execution_count": 57,
   "metadata": {},
   "outputs": [
    {
     "data": {
      "text/plain": [
       "Year                   int64\n",
       "Quarter                int64\n",
       "Month                  int64\n",
       "DayofMonth             int64\n",
       "DayOfWeek              int64\n",
       "FlightDate            object\n",
       "Reporting_Airline     object\n",
       "Origin                object\n",
       "OriginState           object\n",
       "Dest                  object\n",
       "DestState             object\n",
       "CRSDepTime             int64\n",
       "Cancelled            float64\n",
       "Diverted             float64\n",
       "Distance             float64\n",
       "DistanceGroup          int64\n",
       "ArrDelay             float64\n",
       "ArrDelayMinutes      float64\n",
       "is_delay             float64\n",
       "AirTime              float64\n",
       "DepHourofDay           int64\n",
       "dtype: object"
      ]
     },
     "execution_count": 57,
     "metadata": {},
     "output_type": "execute_result"
    }
   ],
   "source": [
    "data.dtypes"
   ]
  },
  {
   "cell_type": "markdown",
   "metadata": {},
   "source": [
    "Filtering the required columns:\n",
    "- *Date* is redundant, because you have *Year*, *Quarter*, *Month*, *DayofMonth*, and *DayOfWeek* to describe the date.\n",
    "- Use *Origin* and *Dest* codes instead of *OriginState* and *DestState*.\n",
    "- Because you are only classifying whether the flight is delayed or not, you don't need *TotalDelayMinutes*, *DepDelayMinutes*, and *ArrDelayMinutes*.\n",
    "\n",
    "Treat *DepHourofDay* as a categorical variable because it doesn't have any quantitative relation with the target.\n",
    "- If you needed to do a one-hot encoding of this variable, it would result in 23 more columns.\n",
    "- Other alternatives to handling categorical variables include hash encoding, regularized mean encoding, and bucketizing the values, among others.\n",
    "- In this case, you only need to split into buckets.\n",
    "\n",
    "To change a column type to category, use the `astype` function ([pandas.DataFrame.astype documentation](https://pandas.pydata.org/pandas-docs/stable/reference/api/pandas.DataFrame.astype.html))."
   ]
  },
  {
   "cell_type": "code",
   "execution_count": 58,
   "metadata": {},
   "outputs": [],
   "source": [
    "data_orig = data.copy()\n",
    "data = data[[ 'is_delay', 'Quarter', 'Month', 'DayofMonth', 'DayOfWeek', \n",
    "       'Reporting_Airline', 'Origin', 'Dest','Distance','DepHourofDay']]\n",
    "categorical_columns  = ['Quarter', 'Month', 'DayofMonth', 'DayOfWeek', \n",
    "       'Reporting_Airline', 'Origin', 'Dest', 'DepHourofDay']\n",
    "for c in categorical_columns:\n",
    "    data[c] = data[c].astype('category')"
   ]
  },
  {
   "cell_type": "markdown",
   "metadata": {},
   "source": [
    "To use one-hot encoding, use the `get_dummies` function in pandas for the categorical columns that you selected. Then, you can concatenate those generated features to your original dataset by using the `concat` function in pandas. For encoding categorical variables, you can also use *dummy encoding* by using a keyword `drop_first=True`. For more information about dummy encoding, see [Dummy variable (statistics)](https://en.wikiversity.org/wiki/Dummy_variable_(statistics)).\n",
    "\n",
    "For example:\n",
    "```\n",
    "pd.get_dummies(df[['column1','columns2']], drop_first=True)\n",
    "```"
   ]
  },
  {
   "cell_type": "code",
   "execution_count": 59,
   "metadata": {},
   "outputs": [],
   "source": [
    "data_dummies = pd.get_dummies(data[['Quarter', 'Month', 'DayofMonth', 'DayOfWeek', \n",
    "       'Reporting_Airline', 'Origin', 'Dest', 'DepHourofDay']], drop_first=True) # Enter your code here\n",
    "data = pd.concat([data, data_dummies], axis = 1)\n",
    "data.drop(categorical_columns,axis=1, inplace=True)"
   ]
  },
  {
   "cell_type": "markdown",
   "metadata": {},
   "source": [
    "Check the length of the dataset and the new columns.\n",
    "\n",
    "**Hint**: Use the `shape` and `columns` properties."
   ]
  },
  {
   "cell_type": "code",
   "execution_count": 60,
   "metadata": {},
   "outputs": [
    {
     "data": {
      "text/plain": [
       "(1635590, 94)"
      ]
     },
     "execution_count": 60,
     "metadata": {},
     "output_type": "execute_result"
    }
   ],
   "source": [
    "data.shape"
   ]
  },
  {
   "cell_type": "code",
   "execution_count": 61,
   "metadata": {},
   "outputs": [
    {
     "data": {
      "text/plain": [
       "Index(['is_delay', 'Distance', 'Quarter_2', 'Quarter_3', 'Quarter_4',\n",
       "       'Month_2', 'Month_3', 'Month_4', 'Month_5', 'Month_6', 'Month_7',\n",
       "       'Month_8', 'Month_9', 'Month_10', 'Month_11', 'Month_12',\n",
       "       'DayofMonth_2', 'DayofMonth_3', 'DayofMonth_4', 'DayofMonth_5',\n",
       "       'DayofMonth_6', 'DayofMonth_7', 'DayofMonth_8', 'DayofMonth_9',\n",
       "       'DayofMonth_10', 'DayofMonth_11', 'DayofMonth_12', 'DayofMonth_13',\n",
       "       'DayofMonth_14', 'DayofMonth_15', 'DayofMonth_16', 'DayofMonth_17',\n",
       "       'DayofMonth_18', 'DayofMonth_19', 'DayofMonth_20', 'DayofMonth_21',\n",
       "       'DayofMonth_22', 'DayofMonth_23', 'DayofMonth_24', 'DayofMonth_25',\n",
       "       'DayofMonth_26', 'DayofMonth_27', 'DayofMonth_28', 'DayofMonth_29',\n",
       "       'DayofMonth_30', 'DayofMonth_31', 'DayOfWeek_2', 'DayOfWeek_3',\n",
       "       'DayOfWeek_4', 'DayOfWeek_5', 'DayOfWeek_6', 'DayOfWeek_7',\n",
       "       'Reporting_Airline_DL', 'Reporting_Airline_OO', 'Reporting_Airline_UA',\n",
       "       'Reporting_Airline_WN', 'Origin_CLT', 'Origin_DEN', 'Origin_DFW',\n",
       "       'Origin_IAH', 'Origin_LAX', 'Origin_ORD', 'Origin_PHX', 'Origin_SFO',\n",
       "       'Dest_CLT', 'Dest_DEN', 'Dest_DFW', 'Dest_IAH', 'Dest_LAX', 'Dest_ORD',\n",
       "       'Dest_PHX', 'Dest_SFO', 'DepHourofDay_1', 'DepHourofDay_2',\n",
       "       'DepHourofDay_4', 'DepHourofDay_5', 'DepHourofDay_6', 'DepHourofDay_7',\n",
       "       'DepHourofDay_8', 'DepHourofDay_9', 'DepHourofDay_10',\n",
       "       'DepHourofDay_11', 'DepHourofDay_12', 'DepHourofDay_13',\n",
       "       'DepHourofDay_14', 'DepHourofDay_15', 'DepHourofDay_16',\n",
       "       'DepHourofDay_17', 'DepHourofDay_18', 'DepHourofDay_19',\n",
       "       'DepHourofDay_20', 'DepHourofDay_21', 'DepHourofDay_22',\n",
       "       'DepHourofDay_23'],\n",
       "      dtype='object')"
      ]
     },
     "execution_count": 61,
     "metadata": {},
     "output_type": "execute_result"
    }
   ],
   "source": [
    "data.columns"
   ]
  },
  {
   "cell_type": "markdown",
   "metadata": {},
   "source": [
    "You are now ready to train the model. Before you split the data, rename the **is_delay** column to *target*.\n",
    "\n",
    "**Hint**: You can use the `rename` function in pandas ([pandas.DataFrame.rename documentation](https://pandas.pydata.org/pandas-docs/stable/reference/api/pandas.DataFrame.rename.html))."
   ]
  },
  {
   "cell_type": "code",
   "execution_count": 62,
   "metadata": {},
   "outputs": [],
   "source": [
    "data.rename(columns = {'is_delay':'target'}, inplace=True )# Enter your code here"
   ]
  },
  {
   "cell_type": "markdown",
   "metadata": {},
   "source": [
    "## <span style=\"color:red\"> End of Step 2 </span>\n",
    "\n",
    "Save the project file to your local computer. Follow these steps:\n",
    "\n",
    "1. In the file explorer on the left, right-click the notebook that you're working on. \n",
    "\n",
    "2. Choose **Download**, and save the file locally.  \n",
    "\n",
    "This action downloads the current notebook to the default download folder on your computer."
   ]
  },
  {
   "cell_type": "markdown",
   "metadata": {},
   "source": [
    "# Step 3: Model training and evaluation\n",
    "\n",
    "You must include some preliminary steps when you convert the dataset from a DataFrame to a format that a machine learning algorithm can use. For Amazon SageMaker, you must perform these steps:\n",
    "\n",
    "1. Split the data into `train_data`, `validation_data`, and `test_data` by using `sklearn.model_selection.train_test_split`.  \n",
    "\n",
    "2. Convert the dataset to an appropriate file format that the Amazon SageMaker training job can use. This can be either a CSV file or record protobuf. For more information, see [Common Data Formats for Training](https://docs.aws.amazon.com/sagemaker/latest/dg/cdf-training.html).  \n",
    "\n",
    "3. Upload the data to your S3 bucket. If you haven't created one before, see [Create a Bucket](https://docs.aws.amazon.com/AmazonS3/latest/gsg/CreatingABucket.html).  \n",
    "\n",
    "Use the following cells to complete these steps. Insert and delete cells where needed.\n",
    "\n",
    "#### <span style=\"color: blue;\">Project presentation: In your project presentation, write down the key decisions that you made in this phase.</span>"
   ]
  },
  {
   "cell_type": "markdown",
   "metadata": {},
   "source": [
    "### Train-test split"
   ]
  },
  {
   "cell_type": "code",
   "execution_count": 63,
   "metadata": {},
   "outputs": [],
   "source": [
    "from sklearn.model_selection import train_test_split\n",
    "def split_data(data):\n",
    "    train, test_and_validate = train_test_split(data, test_size=0.2, random_state=42, stratify=data['target'])\n",
    "    test, validate = train_test_split(test_and_validate, test_size=0.5, random_state=42, stratify=test_and_validate['target'])\n",
    "    return train, validate, test"
   ]
  },
  {
   "cell_type": "code",
   "execution_count": 64,
   "metadata": {},
   "outputs": [
    {
     "name": "stdout",
     "output_type": "stream",
     "text": [
      "0.0    1033806\n",
      "1.0     274666\n",
      "Name: target, dtype: int64\n",
      "0.0    129226\n",
      "1.0     34333\n",
      "Name: target, dtype: int64\n",
      "0.0    129226\n",
      "1.0     34333\n",
      "Name: target, dtype: int64\n"
     ]
    }
   ],
   "source": [
    "train, validate, test = split_data(data)\n",
    "print(train['target'].value_counts())\n",
    "print(test['target'].value_counts())\n",
    "print(validate['target'].value_counts())"
   ]
  },
  {
   "cell_type": "markdown",
   "metadata": {},
   "source": [
    "**Sample answer**\n",
    "```\n",
    "0.0    1033570\n",
    "1.0     274902\n",
    "Name: target, dtype: int64\n",
    "0.0    129076\n",
    "1.0     34483\n",
    "Name: target, dtype: int64\n",
    "0.0    129612\n",
    "1.0     33947\n",
    "Name: target, dtype: int64\n",
    "```"
   ]
  },
  {
   "cell_type": "markdown",
   "metadata": {},
   "source": [
    "### Baseline classification model"
   ]
  },
  {
   "cell_type": "code",
   "execution_count": 65,
   "metadata": {},
   "outputs": [],
   "source": [
    "import sagemaker\n",
    "from sagemaker.serializers import CSVSerializer\n",
    "from sagemaker.amazon.amazon_estimator import RecordSet\n",
    "import boto3\n",
    "\n",
    "# Instantiate the LinearLearner estimator object with 1 ml.m4.xlarge\n",
    "classifier_estimator = sagemaker.LinearLearner(role=sagemaker.get_execution_role(),\n",
    "                                               instance_count=1,\n",
    "                                               instance_type='ml.m4.xlarge',\n",
    "                                               predictor_type='binary_classifier',\n",
    "                                               binary_classifier_model_selection_criteria='cross_entropy_loss')"
   ]
  },
  {
   "cell_type": "markdown",
   "metadata": {},
   "source": [
    "### Sample code\n",
    "```\n",
    "num_classes = len(pd.unique(train_labels))\n",
    "classifier_estimator = sagemaker.LinearLearner(role=sagemaker.get_execution_role(),\n",
    "                                              instance_count=1,\n",
    "                                              instance_type='ml.m4.xlarge',\n",
    "                                              predictor_type='binary_classifier',\n",
    "                                              binary_classifier_model_selection_criteria = 'cross_entropy_loss')\n",
    "                                              \n",
    "```"
   ]
  },
  {
   "cell_type": "markdown",
   "metadata": {},
   "source": [
    "Linear learner accepts training data in protobuf or CSV content types. It also accepts inference requests in protobuf, CSV, or JavaScript Object Notation (JSON) content types. Training data has features and ground-truth labels, but the data in an inference request has only features.\n",
    "\n",
    "In a production pipeline, AWS recommends converting the data to the Amazon SageMaker protobuf format and storing it in Amazon S3. To get up and running quickly, AWS provides the `record_set` operation for converting and uploading the dataset when it's small enough to fit in local memory. It accepts NumPy arrays like the ones you already have, so you will use it for this step. The `RecordSet` object will track the temporary Amazon S3 location of your data. Create train, validation, and test records by using the `estimator.record_set` function. Then, start your training job by using the `estimator.fit` function."
   ]
  },
  {
   "cell_type": "code",
   "execution_count": 66,
   "metadata": {},
   "outputs": [],
   "source": [
    "### Create train, validate, and test records\n",
    "train_records = classifier_estimator.record_set(train.values[:, 1:].astype(np.float32), train.values[:, 0].astype(np.float32), channel='train')\n",
    "val_records = classifier_estimator.record_set(validate.values[:, 1:].astype(np.float32), validate.values[:, 0].astype(np.float32), channel='validation')\n",
    "test_records = classifier_estimator.record_set(test.values[:, 1:].astype(np.float32), test.values[:, 0].astype(np.float32), channel='test')"
   ]
  },
  {
   "cell_type": "markdown",
   "metadata": {},
   "source": [
    "Now, train your model on the dataset that you just uploaded.\n",
    "\n",
    "### Sample code\n",
    "```\n",
    "linear.fit([train_records,val_records,test_records])\n",
    "```"
   ]
  },
  {
   "cell_type": "code",
   "execution_count": null,
   "metadata": {},
   "outputs": [
    {
     "name": "stderr",
     "output_type": "stream",
     "text": [
      "Defaulting to the only supported framework/algorithm version: 1. Ignoring framework/algorithm version: 1.\n",
      "Defaulting to the only supported framework/algorithm version: 1. Ignoring framework/algorithm version: 1.\n"
     ]
    },
    {
     "name": "stdout",
     "output_type": "stream",
     "text": [
      "2022-08-02 20:37:29 Starting - Starting the training job...\n",
      "2022-08-02 20:37:55 Starting - Preparing the instances for trainingProfilerReport-1659472648: InProgress\n",
      ".........\n",
      "2022-08-02 20:39:27 Downloading - Downloading input data.........\n",
      "2022-08-02 20:40:58 Training - Downloading the training image..\u001b[34mDocker entrypoint called with argument(s): train\u001b[0m\n",
      "\u001b[34mRunning default environment configuration script\u001b[0m\n",
      "\u001b[34m[08/02/2022 20:41:14 INFO 140651768051520] Reading default configuration from /opt/amazon/lib/python3.7/site-packages/algorithm/resources/default-input.json: {'mini_batch_size': '1000', 'epochs': '15', 'feature_dim': 'auto', 'use_bias': 'true', 'binary_classifier_model_selection_criteria': 'accuracy', 'f_beta': '1.0', 'target_recall': '0.8', 'target_precision': '0.8', 'num_models': 'auto', 'num_calibration_samples': '10000000', 'init_method': 'uniform', 'init_scale': '0.07', 'init_sigma': '0.01', 'init_bias': '0.0', 'optimizer': 'auto', 'loss': 'auto', 'margin': '1.0', 'quantile': '0.5', 'loss_insensitivity': '0.01', 'huber_delta': '1.0', 'num_classes': '1', 'accuracy_top_k': '3', 'wd': 'auto', 'l1': 'auto', 'momentum': 'auto', 'learning_rate': 'auto', 'beta_1': 'auto', 'beta_2': 'auto', 'bias_lr_mult': 'auto', 'bias_wd_mult': 'auto', 'use_lr_scheduler': 'true', 'lr_scheduler_step': 'auto', 'lr_scheduler_factor': 'auto', 'lr_scheduler_minimum_lr': 'auto', 'positive_example_weight_mult': '1.0', 'balance_multiclass_weights': 'false', 'normalize_data': 'true', 'normalize_label': 'auto', 'unbias_data': 'auto', 'unbias_label': 'auto', 'num_point_for_scaler': '10000', '_kvstore': 'auto', '_num_gpus': 'auto', '_num_kv_servers': 'auto', '_log_level': 'info', '_tuning_objective_metric': '', 'early_stopping_patience': '3', 'early_stopping_tolerance': '0.001', '_enable_profiler': 'false'}\u001b[0m\n",
      "\u001b[34m[08/02/2022 20:41:14 INFO 140651768051520] Merging with provided configuration from /opt/ml/input/config/hyperparameters.json: {'binary_classifier_model_selection_criteria': 'cross_entropy_loss', 'feature_dim': '93', 'mini_batch_size': '1000', 'predictor_type': 'binary_classifier'}\u001b[0m\n",
      "\u001b[34m[08/02/2022 20:41:14 INFO 140651768051520] Final configuration: {'mini_batch_size': '1000', 'epochs': '15', 'feature_dim': '93', 'use_bias': 'true', 'binary_classifier_model_selection_criteria': 'cross_entropy_loss', 'f_beta': '1.0', 'target_recall': '0.8', 'target_precision': '0.8', 'num_models': 'auto', 'num_calibration_samples': '10000000', 'init_method': 'uniform', 'init_scale': '0.07', 'init_sigma': '0.01', 'init_bias': '0.0', 'optimizer': 'auto', 'loss': 'auto', 'margin': '1.0', 'quantile': '0.5', 'loss_insensitivity': '0.01', 'huber_delta': '1.0', 'num_classes': '1', 'accuracy_top_k': '3', 'wd': 'auto', 'l1': 'auto', 'momentum': 'auto', 'learning_rate': 'auto', 'beta_1': 'auto', 'beta_2': 'auto', 'bias_lr_mult': 'auto', 'bias_wd_mult': 'auto', 'use_lr_scheduler': 'true', 'lr_scheduler_step': 'auto', 'lr_scheduler_factor': 'auto', 'lr_scheduler_minimum_lr': 'auto', 'positive_example_weight_mult': '1.0', 'balance_multiclass_weights': 'false', 'normalize_data': 'true', 'normalize_label': 'auto', 'unbias_data': 'auto', 'unbias_label': 'auto', 'num_point_for_scaler': '10000', '_kvstore': 'auto', '_num_gpus': 'auto', '_num_kv_servers': 'auto', '_log_level': 'info', '_tuning_objective_metric': '', 'early_stopping_patience': '3', 'early_stopping_tolerance': '0.001', '_enable_profiler': 'false', 'predictor_type': 'binary_classifier'}\u001b[0m\n",
      "\u001b[34m[08/02/2022 20:41:14 WARNING 140651768051520] Loggers have already been setup.\u001b[0m\n",
      "\u001b[34mProcess 1 is a worker.\u001b[0m\n",
      "\u001b[34m[08/02/2022 20:41:14 INFO 140651768051520] Using default worker.\u001b[0m\n",
      "\u001b[34m[08/02/2022 20:41:14 INFO 140651768051520] Checkpoint loading and saving are disabled.\u001b[0m\n",
      "\u001b[34m[2022-08-02 20:41:14.844] [tensorio] [warning] TensorIO is already initialized; ignoring the initialization routine.\u001b[0m\n",
      "\u001b[34m[2022-08-02 20:41:14.856] [tensorio] [warning] TensorIO is already initialized; ignoring the initialization routine.\u001b[0m\n",
      "\u001b[34m[2022-08-02 20:41:14.911] [tensorio] [info] epoch_stats={\"data_pipeline\": \"/opt/ml/input/data/train\", \"epoch\": 0, \"duration\": 73, \"num_examples\": 1, \"num_bytes\": 420000}\u001b[0m\n",
      "\u001b[34m[08/02/2022 20:41:14 INFO 140651768051520] Create Store: local\u001b[0m\n",
      "\u001b[34m[2022-08-02 20:41:15.124] [tensorio] [info] epoch_stats={\"data_pipeline\": \"/opt/ml/input/data/train\", \"epoch\": 1, \"duration\": 211, \"num_examples\": 11, \"num_bytes\": 4620000}\u001b[0m\n",
      "\u001b[34m[08/02/2022 20:41:15 INFO 140651768051520] Scaler algorithm parameters\n",
      " <algorithm.scaler.ScalerAlgorithmStable object at 0x7feb92b75190>\u001b[0m\n",
      "\u001b[34m[08/02/2022 20:41:15 INFO 140651768051520] Scaling model computed with parameters:\n",
      " {'stdev_label': None, 'stdev_weight': \u001b[0m\n",
      "\u001b[34m[5.3842529e+02 4.3395337e-01 4.4167149e-01 4.3483421e-01 2.5953865e-01\n",
      " 2.6659146e-01 2.7101153e-01 2.7588221e-01 2.8448114e-01 2.8605148e-01\n",
      " 2.8735036e-01 2.7874640e-01 2.7752411e-01 2.7227589e-01 2.8395480e-01\n",
      " 1.7233042e-01 1.7720395e-01 1.7405386e-01 1.7503002e-01 1.7356345e-01\n",
      " 1.8831518e-01 1.7083751e-01 1.7356344e-01 1.7792189e-01 1.7982030e-01\n",
      " 1.8354957e-01 1.7863652e-01 1.7839864e-01 1.7934784e-01 1.7887402e-01\n",
      " 1.7934789e-01 1.7982031e-01 1.7839867e-01 1.7478655e-01 1.8099521e-01\n",
      " 1.7744365e-01 1.7792191e-01 1.8262547e-01 1.7429848e-01 1.7887399e-01\n",
      " 1.7575808e-01 1.8942934e-01 1.7502999e-01 1.6932963e-01 1.3716368e-01\n",
      " 3.5136610e-01 3.5108969e-01 3.5099754e-01 3.5437757e-01 3.2999593e-01\n",
      " 3.4632564e-01 3.6803326e-01 2.4732620e-01 4.5833692e-01 3.0760476e-01\n",
      " 2.4716641e-01 3.2174501e-01 3.3429217e-01 2.6817161e-01 3.5555002e-01\n",
      " 3.3620343e-01 3.0156931e-01 3.2163683e-01 2.4263565e-01 3.1015062e-01\n",
      " 3.2885411e-01 2.6295078e-01 3.5787156e-01 3.4679833e-01 2.9446656e-01\n",
      " 3.3113077e-01 6.5226309e-02 1.0000000e+00 1.0000000e+00 1.5162808e-01\n",
      " 2.3009719e-01 2.4939117e-01 2.5484037e-01 2.4032816e-01 2.4523814e-01\n",
      " 2.3916349e-01 2.4604400e-01 2.3613445e-01 2.4426648e-01 2.3339932e-01\n",
      " 2.3511358e-01 2.4475294e-01 2.2165978e-01 2.1869417e-01 1.9467378e-01\n",
      " 1.6856998e-01 1.7356342e-01 1.0765567e-01]\u001b[0m\n",
      "\u001b[34m<NDArray 93 @cpu(0)>, 'mean_label': None, 'mean_weight': \u001b[0m\n",
      "\u001b[34m[1.01705499e+03 2.51636386e-01 2.65636384e-01 2.53181845e-01\n",
      " 7.26363659e-02 7.70000070e-02 7.98181817e-02 8.30000043e-02\n",
      " 8.88181925e-02 8.99090990e-02 9.08181891e-02 8.49090889e-02\n",
      " 8.40909183e-02 8.06363672e-02 8.84545594e-02 3.06363646e-02\n",
      " 3.24545465e-02 3.12727280e-02 3.16363648e-02 3.10909133e-02\n",
      " 3.68181765e-02 3.00909095e-02 3.10909078e-02 3.27272750e-02\n",
      " 3.34545523e-02 3.49090956e-02 3.29999998e-02 3.29090916e-02\n",
      " 3.32727246e-02 3.30909118e-02 3.32727320e-02 3.34545486e-02\n",
      " 3.29090953e-02 3.15454565e-02 3.39090899e-02 3.25454585e-02\n",
      " 3.27272788e-02 3.45454514e-02 3.13636363e-02 3.30909081e-02\n",
      " 3.19090933e-02 3.72727290e-02 3.16363685e-02 2.95454562e-02\n",
      " 1.91818196e-02 1.44272730e-01 1.44000039e-01 1.43909112e-01\n",
      " 1.47272736e-01 1.24363653e-01 1.39363661e-01 1.61545470e-01\n",
      " 6.54545575e-02 3.00181836e-01 1.05818190e-01 6.53636456e-02\n",
      " 1.17272735e-01 1.28181830e-01 7.80000091e-02 1.48454577e-01\n",
      " 1.29909098e-01 1.01181827e-01 1.17181815e-01 6.28181919e-02\n",
      " 1.07818186e-01 1.23363644e-01 7.47272745e-02 1.50818199e-01\n",
      " 1.39818192e-01 9.59090963e-02 1.25363663e-01 4.27272776e-03\n",
      " 0.00000000e+00 0.00000000e+00 2.35454552e-02 5.60909137e-02\n",
      " 6.66363686e-02 6.98181987e-02 6.15454540e-02 6.42727241e-02\n",
      " 6.09090999e-02 6.47272766e-02 5.92727326e-02 6.37272745e-02\n",
      " 5.78181818e-02 5.87272756e-02 6.40000030e-02 5.18181883e-02\n",
      " 5.03636412e-02 3.94545458e-02 2.92727277e-02 3.10909115e-02\n",
      " 1.17272744e-02]\u001b[0m\n",
      "\u001b[34m<NDArray 93 @cpu(0)>}\u001b[0m\n",
      "\u001b[34m[08/02/2022 20:41:15 INFO 140651768051520] nvidia-smi: took 0.067 seconds to run.\u001b[0m\n",
      "\u001b[34m[08/02/2022 20:41:15 INFO 140651768051520] nvidia-smi identified 0 GPUs.\u001b[0m\n",
      "\u001b[34m[08/02/2022 20:41:15 INFO 140651768051520] Number of GPUs being used: 0\u001b[0m\n",
      "\u001b[34m#metrics {\"StartTime\": 1659472875.3018, \"EndTime\": 1659472875.3018644, \"Dimensions\": {\"Algorithm\": \"Linear Learner\", \"Host\": \"algo-1\", \"Operation\": \"training\", \"Meta\": \"init_train_data_iter\"}, \"Metrics\": {\"Total Records Seen\": {\"sum\": 12000.0, \"count\": 1, \"min\": 12000, \"max\": 12000}, \"Total Batches Seen\": {\"sum\": 12.0, \"count\": 1, \"min\": 12, \"max\": 12}, \"Max Records Seen Between Resets\": {\"sum\": 11000.0, \"count\": 1, \"min\": 11000, \"max\": 11000}, \"Max Batches Seen Between Resets\": {\"sum\": 11.0, \"count\": 1, \"min\": 11, \"max\": 11}, \"Reset Count\": {\"sum\": 2.0, \"count\": 1, \"min\": 2, \"max\": 2}, \"Number of Records Since Last Reset\": {\"sum\": 0.0, \"count\": 1, \"min\": 0, \"max\": 0}, \"Number of Batches Since Last Reset\": {\"sum\": 0.0, \"count\": 1, \"min\": 0, \"max\": 0}}}\u001b[0m\n",
      "\n",
      "2022-08-02 20:41:13 Training - Training image download completed. Training in progress.\u001b[34m[2022-08-02 20:42:14.558] [tensorio] [info] epoch_stats={\"data_pipeline\": \"/opt/ml/input/data/train\", \"epoch\": 3, \"duration\": 59256, \"num_examples\": 1309, \"num_bytes\": 549558240}\u001b[0m\n",
      "\u001b[34m#metrics {\"StartTime\": 1659472934.5586545, \"EndTime\": 1659472934.5587723, \"Dimensions\": {\"Algorithm\": \"Linear Learner\", \"Host\": \"algo-1\", \"Operation\": \"training\", \"epoch\": 0, \"model\": 0}, \"Metrics\": {\"train_binary_classification_cross_entropy_objective\": {\"sum\": 0.4943062491227363, \"count\": 1, \"min\": 0.4943062491227363, \"max\": 0.4943062491227363}}}\u001b[0m\n",
      "\u001b[34m#metrics {\"StartTime\": 1659472934.5592656, \"EndTime\": 1659472934.5592885, \"Dimensions\": {\"Algorithm\": \"Linear Learner\", \"Host\": \"algo-1\", \"Operation\": \"training\", \"epoch\": 0, \"model\": 1}, \"Metrics\": {\"train_binary_classification_cross_entropy_objective\": {\"sum\": 0.4949273009693951, \"count\": 1, \"min\": 0.4949273009693951, \"max\": 0.4949273009693951}}}\u001b[0m\n",
      "\u001b[34m#metrics {\"StartTime\": 1659472934.5593548, \"EndTime\": 1659472934.5593739, \"Dimensions\": {\"Algorithm\": \"Linear Learner\", \"Host\": \"algo-1\", \"Operation\": \"training\", \"epoch\": 0, \"model\": 2}, \"Metrics\": {\"train_binary_classification_cross_entropy_objective\": {\"sum\": 0.49440369629932834, \"count\": 1, \"min\": 0.49440369629932834, \"max\": 0.49440369629932834}}}\u001b[0m\n",
      "\u001b[34m#metrics {\"StartTime\": 1659472934.5594342, \"EndTime\": 1659472934.559453, \"Dimensions\": {\"Algorithm\": \"Linear Learner\", \"Host\": \"algo-1\", \"Operation\": \"training\", \"epoch\": 0, \"model\": 3}, \"Metrics\": {\"train_binary_classification_cross_entropy_objective\": {\"sum\": 0.4949555019646974, \"count\": 1, \"min\": 0.4949555019646974, \"max\": 0.4949555019646974}}}\u001b[0m\n",
      "\u001b[34m#metrics {\"StartTime\": 1659472934.5595121, \"EndTime\": 1659472934.5595305, \"Dimensions\": {\"Algorithm\": \"Linear Learner\", \"Host\": \"algo-1\", \"Operation\": \"training\", \"epoch\": 0, \"model\": 4}, \"Metrics\": {\"train_binary_classification_cross_entropy_objective\": {\"sum\": 0.5072007106582688, \"count\": 1, \"min\": 0.5072007106582688, \"max\": 0.5072007106582688}}}\u001b[0m\n",
      "\u001b[34m#metrics {\"StartTime\": 1659472934.5595863, \"EndTime\": 1659472934.559604, \"Dimensions\": {\"Algorithm\": \"Linear Learner\", \"Host\": \"algo-1\", \"Operation\": \"training\", \"epoch\": 0, \"model\": 5}, \"Metrics\": {\"train_binary_classification_cross_entropy_objective\": {\"sum\": 0.5176052988501499, \"count\": 1, \"min\": 0.5176052988501499, \"max\": 0.5176052988501499}}}\u001b[0m\n",
      "\u001b[34m#metrics {\"StartTime\": 1659472934.5596592, \"EndTime\": 1659472934.5596757, \"Dimensions\": {\"Algorithm\": \"Linear Learner\", \"Host\": \"algo-1\", \"Operation\": \"training\", \"epoch\": 0, \"model\": 6}, \"Metrics\": {\"train_binary_classification_cross_entropy_objective\": {\"sum\": 0.5072204901552346, \"count\": 1, \"min\": 0.5072204901552346, \"max\": 0.5072204901552346}}}\u001b[0m\n",
      "\u001b[34m#metrics {\"StartTime\": 1659472934.559731, \"EndTime\": 1659472934.5597486, \"Dimensions\": {\"Algorithm\": \"Linear Learner\", \"Host\": \"algo-1\", \"Operation\": \"training\", \"epoch\": 0, \"model\": 7}, \"Metrics\": {\"train_binary_classification_cross_entropy_objective\": {\"sum\": 0.5176296734124514, \"count\": 1, \"min\": 0.5176296734124514, \"max\": 0.5176296734124514}}}\u001b[0m\n",
      "\u001b[34m#metrics {\"StartTime\": 1659472934.5598042, \"EndTime\": 1659472934.559821, \"Dimensions\": {\"Algorithm\": \"Linear Learner\", \"Host\": \"algo-1\", \"Operation\": \"training\", \"epoch\": 0, \"model\": 8}, \"Metrics\": {\"train_binary_classification_cross_entropy_objective\": {\"sum\": 0.4944757745025355, \"count\": 1, \"min\": 0.4944757745025355, \"max\": 0.4944757745025355}}}\u001b[0m\n",
      "\u001b[34m#metrics {\"StartTime\": 1659472934.5598848, \"EndTime\": 1659472934.559901, \"Dimensions\": {\"Algorithm\": \"Linear Learner\", \"Host\": \"algo-1\", \"Operation\": \"training\", \"epoch\": 0, \"model\": 9}, \"Metrics\": {\"train_binary_classification_cross_entropy_objective\": {\"sum\": 0.494962592192017, \"count\": 1, \"min\": 0.494962592192017, \"max\": 0.494962592192017}}}\u001b[0m\n",
      "\u001b[34m#metrics {\"StartTime\": 1659472934.559963, \"EndTime\": 1659472934.5599828, \"Dimensions\": {\"Algorithm\": \"Linear Learner\", \"Host\": \"algo-1\", \"Operation\": \"training\", \"epoch\": 0, \"model\": 10}, \"Metrics\": {\"train_binary_classification_cross_entropy_objective\": {\"sum\": 0.4945188453744311, \"count\": 1, \"min\": 0.4945188453744311, \"max\": 0.4945188453744311}}}\u001b[0m\n",
      "\u001b[34m#metrics {\"StartTime\": 1659472934.5600338, \"EndTime\": 1659472934.560049, \"Dimensions\": {\"Algorithm\": \"Linear Learner\", \"Host\": \"algo-1\", \"Operation\": \"training\", \"epoch\": 0, \"model\": 11}, \"Metrics\": {\"train_binary_classification_cross_entropy_objective\": {\"sum\": 0.4949803431099708, \"count\": 1, \"min\": 0.4949803431099708, \"max\": 0.4949803431099708}}}\u001b[0m\n",
      "\u001b[34m#metrics {\"StartTime\": 1659472934.5601025, \"EndTime\": 1659472934.5601203, \"Dimensions\": {\"Algorithm\": \"Linear Learner\", \"Host\": \"algo-1\", \"Operation\": \"training\", \"epoch\": 0, \"model\": 12}, \"Metrics\": {\"train_binary_classification_cross_entropy_objective\": {\"sum\": 0.5064254149457366, \"count\": 1, \"min\": 0.5064254149457366, \"max\": 0.5064254149457366}}}\u001b[0m\n",
      "\u001b[34m#metrics {\"StartTime\": 1659472934.5601707, \"EndTime\": 1659472934.5601852, \"Dimensions\": {\"Algorithm\": \"Linear Learner\", \"Host\": \"algo-1\", \"Operation\": \"training\", \"epoch\": 0, \"model\": 13}, \"Metrics\": {\"train_binary_classification_cross_entropy_objective\": {\"sum\": 0.5159770517145092, \"count\": 1, \"min\": 0.5159770517145092, \"max\": 0.5159770517145092}}}\u001b[0m\n",
      "\u001b[34m#metrics {\"StartTime\": 1659472934.5602367, \"EndTime\": 1659472934.5602522, \"Dimensions\": {\"Algorithm\": \"Linear Learner\", \"Host\": \"algo-1\", \"Operation\": \"training\", \"epoch\": 0, \"model\": 14}, \"Metrics\": {\"train_binary_classification_cross_entropy_objective\": {\"sum\": 0.506403861672871, \"count\": 1, \"min\": 0.506403861672871, \"max\": 0.506403861672871}}}\u001b[0m\n",
      "\u001b[34m#metrics {\"StartTime\": 1659472934.560305, \"EndTime\": 1659472934.5603216, \"Dimensions\": {\"Algorithm\": \"Linear Learner\", \"Host\": \"algo-1\", \"Operation\": \"training\", \"epoch\": 0, \"model\": 15}, \"Metrics\": {\"train_binary_classification_cross_entropy_objective\": {\"sum\": 0.5159993973478265, \"count\": 1, \"min\": 0.5159993973478265, \"max\": 0.5159993973478265}}}\u001b[0m\n",
      "\u001b[34m#metrics {\"StartTime\": 1659472934.560374, \"EndTime\": 1659472934.5603893, \"Dimensions\": {\"Algorithm\": \"Linear Learner\", \"Host\": \"algo-1\", \"Operation\": \"training\", \"epoch\": 0, \"model\": 16}, \"Metrics\": {\"train_binary_classification_cross_entropy_objective\": {\"sum\": 0.5091827713152685, \"count\": 1, \"min\": 0.5091827713152685, \"max\": 0.5091827713152685}}}\u001b[0m\n",
      "\u001b[34m#metrics {\"StartTime\": 1659472934.56044, \"EndTime\": 1659472934.5604577, \"Dimensions\": {\"Algorithm\": \"Linear Learner\", \"Host\": \"algo-1\", \"Operation\": \"training\", \"epoch\": 0, \"model\": 17}, \"Metrics\": {\"train_binary_classification_cross_entropy_objective\": {\"sum\": 0.5092818018128747, \"count\": 1, \"min\": 0.5092818018128747, \"max\": 0.5092818018128747}}}\u001b[0m\n",
      "\u001b[34m#metrics {\"StartTime\": 1659472934.5605116, \"EndTime\": 1659472934.5605261, \"Dimensions\": {\"Algorithm\": \"Linear Learner\", \"Host\": \"algo-1\", \"Operation\": \"training\", \"epoch\": 0, \"model\": 18}, \"Metrics\": {\"train_binary_classification_cross_entropy_objective\": {\"sum\": 0.50915989738721, \"count\": 1, \"min\": 0.50915989738721, \"max\": 0.50915989738721}}}\u001b[0m\n",
      "\u001b[34m#metrics {\"StartTime\": 1659472934.560592, \"EndTime\": 1659472934.5606694, \"Dimensions\": {\"Algorithm\": \"Linear Learner\", \"Host\": \"algo-1\", \"Operation\": \"training\", \"epoch\": 0, \"model\": 19}, \"Metrics\": {\"train_binary_classification_cross_entropy_objective\": {\"sum\": 0.5092760858331616, \"count\": 1, \"min\": 0.5092760858331616, \"max\": 0.5092760858331616}}}\u001b[0m\n",
      "\u001b[34m#metrics {\"StartTime\": 1659472934.5607321, \"EndTime\": 1659472934.5607486, \"Dimensions\": {\"Algorithm\": \"Linear Learner\", \"Host\": \"algo-1\", \"Operation\": \"training\", \"epoch\": 0, \"model\": 20}, \"Metrics\": {\"train_binary_classification_cross_entropy_objective\": {\"sum\": 0.5105517616155315, \"count\": 1, \"min\": 0.5105517616155315, \"max\": 0.5105517616155315}}}\u001b[0m\n",
      "\u001b[34m#metrics {\"StartTime\": 1659472934.5608025, \"EndTime\": 1659472934.560819, \"Dimensions\": {\"Algorithm\": \"Linear Learner\", \"Host\": \"algo-1\", \"Operation\": \"training\", \"epoch\": 0, \"model\": 21}, \"Metrics\": {\"train_binary_classification_cross_entropy_objective\": {\"sum\": 0.5123311757778902, \"count\": 1, \"min\": 0.5123311757778902, \"max\": 0.5123311757778902}}}\u001b[0m\n",
      "\u001b[34m#metrics {\"StartTime\": 1659472934.5608733, \"EndTime\": 1659472934.5608902, \"Dimensions\": {\"Algorithm\": \"Linear Learner\", \"Host\": \"algo-1\", \"Operation\": \"training\", \"epoch\": 0, \"model\": 22}, \"Metrics\": {\"train_binary_classification_cross_entropy_objective\": {\"sum\": 0.5105420962925715, \"count\": 1, \"min\": 0.5105420962925715, \"max\": 0.5105420962925715}}}\u001b[0m\n",
      "\u001b[34m#metrics {\"StartTime\": 1659472934.5609436, \"EndTime\": 1659472934.560961, \"Dimensions\": {\"Algorithm\": \"Linear Learner\", \"Host\": \"algo-1\", \"Operation\": \"training\", \"epoch\": 0, \"model\": 23}, \"Metrics\": {\"train_binary_classification_cross_entropy_objective\": {\"sum\": 0.5123454038754152, \"count\": 1, \"min\": 0.5123454038754152, \"max\": 0.5123454038754152}}}\u001b[0m\n",
      "\u001b[34m#metrics {\"StartTime\": 1659472934.561015, \"EndTime\": 1659472934.5610313, \"Dimensions\": {\"Algorithm\": \"Linear Learner\", \"Host\": \"algo-1\", \"Operation\": \"training\", \"epoch\": 0, \"model\": 24}, \"Metrics\": {\"train_binary_classification_cross_entropy_objective\": {\"sum\": 0.5150632282455397, \"count\": 1, \"min\": 0.5150632282455397, \"max\": 0.5150632282455397}}}\u001b[0m\n",
      "\u001b[34m#metrics {\"StartTime\": 1659472934.5610864, \"EndTime\": 1659472934.561102, \"Dimensions\": {\"Algorithm\": \"Linear Learner\", \"Host\": \"algo-1\", \"Operation\": \"training\", \"epoch\": 0, \"model\": 25}, \"Metrics\": {\"train_binary_classification_cross_entropy_objective\": {\"sum\": 0.5151221400969619, \"count\": 1, \"min\": 0.5151221400969619, \"max\": 0.5151221400969619}}}\u001b[0m\n",
      "\u001b[34m#metrics {\"StartTime\": 1659472934.5611525, \"EndTime\": 1659472934.5611691, \"Dimensions\": {\"Algorithm\": \"Linear Learner\", \"Host\": \"algo-1\", \"Operation\": \"training\", \"epoch\": 0, \"model\": 26}, \"Metrics\": {\"train_binary_classification_cross_entropy_objective\": {\"sum\": 0.5150547736398307, \"count\": 1, \"min\": 0.5150547736398307, \"max\": 0.5150547736398307}}}\u001b[0m\n",
      "\u001b[34m#metrics {\"StartTime\": 1659472934.5612192, \"EndTime\": 1659472934.5612352, \"Dimensions\": {\"Algorithm\": \"Linear Learner\", \"Host\": \"algo-1\", \"Operation\": \"training\", \"epoch\": 0, \"model\": 27}, \"Metrics\": {\"train_binary_classification_cross_entropy_objective\": {\"sum\": 0.5150989388282146, \"count\": 1, \"min\": 0.5150989388282146, \"max\": 0.5150989388282146}}}\u001b[0m\n",
      "\u001b[34m#metrics {\"StartTime\": 1659472934.5612824, \"EndTime\": 1659472934.5612922, \"Dimensions\": {\"Algorithm\": \"Linear Learner\", \"Host\": \"algo-1\", \"Operation\": \"training\", \"epoch\": 0, \"model\": 28}, \"Metrics\": {\"train_binary_classification_cross_entropy_objective\": {\"sum\": 0.5150715822692311, \"count\": 1, \"min\": 0.5150715822692311, \"max\": 0.5150715822692311}}}\u001b[0m\n",
      "\u001b[34m#metrics {\"StartTime\": 1659472934.561319, \"EndTime\": 1659472934.5613272, \"Dimensions\": {\"Algorithm\": \"Linear Learner\", \"Host\": \"algo-1\", \"Operation\": \"training\", \"epoch\": 0, \"model\": 29}, \"Metrics\": {\"train_binary_classification_cross_entropy_objective\": {\"sum\": 0.5158188959990802, \"count\": 1, \"min\": 0.5158188959990802, \"max\": 0.5158188959990802}}}\u001b[0m\n",
      "\u001b[34m#metrics {\"StartTime\": 1659472934.5613523, \"EndTime\": 1659472934.56136, \"Dimensions\": {\"Algorithm\": \"Linear Learner\", \"Host\": \"algo-1\", \"Operation\": \"training\", \"epoch\": 0, \"model\": 30}, \"Metrics\": {\"train_binary_classification_cross_entropy_objective\": {\"sum\": 0.5150802284497369, \"count\": 1, \"min\": 0.5150802284497369, \"max\": 0.5150802284497369}}}\u001b[0m\n",
      "\u001b[34m#metrics {\"StartTime\": 1659472934.5613945, \"EndTime\": 1659472934.5614095, \"Dimensions\": {\"Algorithm\": \"Linear Learner\", \"Host\": \"algo-1\", \"Operation\": \"training\", \"epoch\": 0, \"model\": 31}, \"Metrics\": {\"train_binary_classification_cross_entropy_objective\": {\"sum\": 0.5157894806934789, \"count\": 1, \"min\": 0.5157894806934789, \"max\": 0.5157894806934789}}}\u001b[0m\n",
      "\u001b[34m[08/02/2022 20:42:14 INFO 140651768051520] #quality_metric: host=algo-1, epoch=0, train binary_classification_cross_entropy_objective <loss>=0.4943062491227363\u001b[0m\n",
      "\u001b[34m[2022-08-02 20:42:14.591] [tensorio] [info] epoch_stats={\"data_pipeline\": \"/opt/ml/input/data/validation\", \"epoch\": 0, \"duration\": 59746, \"num_examples\": 1, \"num_bytes\": 420000}\u001b[0m\n",
      "\u001b[34m[2022-08-02 20:42:20.678] [tensorio] [info] epoch_stats={\"data_pipeline\": \"/opt/ml/input/data/validation\", \"epoch\": 2, \"duration\": 6086, \"num_examples\": 164, \"num_bytes\": 68694780}\u001b[0m\n",
      "\u001b[34m#metrics {\"StartTime\": 1659472940.6904814, \"EndTime\": 1659472940.6906238, \"Dimensions\": {\"Algorithm\": \"Linear Learner\", \"Host\": \"algo-1\", \"Operation\": \"training\", \"epoch\": 0, \"model\": 0}, \"Metrics\": {\"validation_binary_classification_cross_entropy_objective\": {\"sum\": 0.4927728677081813, \"count\": 1, \"min\": 0.4927728677081813, \"max\": 0.4927728677081813}}}\u001b[0m\n",
      "\u001b[34m#metrics {\"StartTime\": 1659472940.6907609, \"EndTime\": 1659472940.6907864, \"Dimensions\": {\"Algorithm\": \"Linear Learner\", \"Host\": \"algo-1\", \"Operation\": \"training\", \"epoch\": 0, \"model\": 1}, \"Metrics\": {\"validation_binary_classification_cross_entropy_objective\": {\"sum\": 0.49451292904170857, \"count\": 1, \"min\": 0.49451292904170857, \"max\": 0.49451292904170857}}}\u001b[0m\n",
      "\u001b[34m#metrics {\"StartTime\": 1659472940.6908498, \"EndTime\": 1659472940.690869, \"Dimensions\": {\"Algorithm\": \"Linear Learner\", \"Host\": \"algo-1\", \"Operation\": \"training\", \"epoch\": 0, \"model\": 2}, \"Metrics\": {\"validation_binary_classification_cross_entropy_objective\": {\"sum\": 0.49277705653074017, \"count\": 1, \"min\": 0.49277705653074017, \"max\": 0.49277705653074017}}}\u001b[0m\n",
      "\u001b[34m#metrics {\"StartTime\": 1659472940.6909378, \"EndTime\": 1659472940.690957, \"Dimensions\": {\"Algorithm\": \"Linear Learner\", \"Host\": \"algo-1\", \"Operation\": \"training\", \"epoch\": 0, \"model\": 3}, \"Metrics\": {\"validation_binary_classification_cross_entropy_objective\": {\"sum\": 0.4945111945519755, \"count\": 1, \"min\": 0.4945111945519755, \"max\": 0.4945111945519755}}}\u001b[0m\n",
      "\u001b[34m#metrics {\"StartTime\": 1659472940.6910152, \"EndTime\": 1659472940.6910322, \"Dimensions\": {\"Algorithm\": \"Linear Learner\", \"Host\": \"algo-1\", \"Operation\": \"training\", \"epoch\": 0, \"model\": 4}, \"Metrics\": {\"validation_binary_classification_cross_entropy_objective\": {\"sum\": 0.5003186945763359, \"count\": 1, \"min\": 0.5003186945763359, \"max\": 0.5003186945763359}}}\u001b[0m\n",
      "\u001b[34m#metrics {\"StartTime\": 1659472940.6910892, \"EndTime\": 1659472940.6911058, \"Dimensions\": {\"Algorithm\": \"Linear Learner\", \"Host\": \"algo-1\", \"Operation\": \"training\", \"epoch\": 0, \"model\": 5}, \"Metrics\": {\"validation_binary_classification_cross_entropy_objective\": {\"sum\": 0.5067606590409581, \"count\": 1, \"min\": 0.5067606590409581, \"max\": 0.5067606590409581}}}\u001b[0m\n",
      "\u001b[34m#metrics {\"StartTime\": 1659472940.69117, \"EndTime\": 1659472940.6911883, \"Dimensions\": {\"Algorithm\": \"Linear Learner\", \"Host\": \"algo-1\", \"Operation\": \"training\", \"epoch\": 0, \"model\": 6}, \"Metrics\": {\"validation_binary_classification_cross_entropy_objective\": {\"sum\": 0.5003158788292876, \"count\": 1, \"min\": 0.5003158788292876, \"max\": 0.5003158788292876}}}\u001b[0m\n",
      "\u001b[34m#metrics {\"StartTime\": 1659472940.6912522, \"EndTime\": 1659472940.69127, \"Dimensions\": {\"Algorithm\": \"Linear Learner\", \"Host\": \"algo-1\", \"Operation\": \"training\", \"epoch\": 0, \"model\": 7}, \"Metrics\": {\"validation_binary_classification_cross_entropy_objective\": {\"sum\": 0.5067615841270271, \"count\": 1, \"min\": 0.5067615841270271, \"max\": 0.5067615841270271}}}\u001b[0m\n",
      "\u001b[34m#metrics {\"StartTime\": 1659472940.6913261, \"EndTime\": 1659472940.691345, \"Dimensions\": {\"Algorithm\": \"Linear Learner\", \"Host\": \"algo-1\", \"Operation\": \"training\", \"epoch\": 0, \"model\": 8}, \"Metrics\": {\"validation_binary_classification_cross_entropy_objective\": {\"sum\": 0.4929222959764806, \"count\": 1, \"min\": 0.4929222959764806, \"max\": 0.4929222959764806}}}\u001b[0m\n",
      "\u001b[34m#metrics {\"StartTime\": 1659472940.6914084, \"EndTime\": 1659472940.6914222, \"Dimensions\": {\"Algorithm\": \"Linear Learner\", \"Host\": \"algo-1\", \"Operation\": \"training\", \"epoch\": 0, \"model\": 9}, \"Metrics\": {\"validation_binary_classification_cross_entropy_objective\": {\"sum\": 0.4946077608125045, \"count\": 1, \"min\": 0.4946077608125045, \"max\": 0.4946077608125045}}}\u001b[0m\n",
      "\u001b[34m#metrics {\"StartTime\": 1659472940.691477, \"EndTime\": 1659472940.6914937, \"Dimensions\": {\"Algorithm\": \"Linear Learner\", \"Host\": \"algo-1\", \"Operation\": \"training\", \"epoch\": 0, \"model\": 10}, \"Metrics\": {\"validation_binary_classification_cross_entropy_objective\": {\"sum\": 0.4929217485374878, \"count\": 1, \"min\": 0.4929217485374878, \"max\": 0.4929217485374878}}}\u001b[0m\n",
      "\u001b[34m#metrics {\"StartTime\": 1659472940.6915545, \"EndTime\": 1659472940.6915722, \"Dimensions\": {\"Algorithm\": \"Linear Learner\", \"Host\": \"algo-1\", \"Operation\": \"training\", \"epoch\": 0, \"model\": 11}, \"Metrics\": {\"validation_binary_classification_cross_entropy_objective\": {\"sum\": 0.49460755743537355, \"count\": 1, \"min\": 0.49460755743537355, \"max\": 0.49460755743537355}}}\u001b[0m\n",
      "\u001b[34m#metrics {\"StartTime\": 1659472940.691631, \"EndTime\": 1659472940.6916468, \"Dimensions\": {\"Algorithm\": \"Linear Learner\", \"Host\": \"algo-1\", \"Operation\": \"training\", \"epoch\": 0, \"model\": 12}, \"Metrics\": {\"validation_binary_classification_cross_entropy_objective\": {\"sum\": 0.5001981861628846, \"count\": 1, \"min\": 0.5001981861628846, \"max\": 0.5001981861628846}}}\u001b[0m\n",
      "\u001b[34m#metrics {\"StartTime\": 1659472940.6916986, \"EndTime\": 1659472940.6917145, \"Dimensions\": {\"Algorithm\": \"Linear Learner\", \"Host\": \"algo-1\", \"Operation\": \"training\", \"epoch\": 0, \"model\": 13}, \"Metrics\": {\"validation_binary_classification_cross_entropy_objective\": {\"sum\": 0.5058093718403031, \"count\": 1, \"min\": 0.5058093718403031, \"max\": 0.5058093718403031}}}\u001b[0m\n",
      "\u001b[34m#metrics {\"StartTime\": 1659472940.6917646, \"EndTime\": 1659472940.6917791, \"Dimensions\": {\"Algorithm\": \"Linear Learner\", \"Host\": \"algo-1\", \"Operation\": \"training\", \"epoch\": 0, \"model\": 14}, \"Metrics\": {\"validation_binary_classification_cross_entropy_objective\": {\"sum\": 0.5001956295817397, \"count\": 1, \"min\": 0.5001956295817397, \"max\": 0.5001956295817397}}}\u001b[0m\n",
      "\u001b[34m#metrics {\"StartTime\": 1659472940.691831, \"EndTime\": 1659472940.6918464, \"Dimensions\": {\"Algorithm\": \"Linear Learner\", \"Host\": \"algo-1\", \"Operation\": \"training\", \"epoch\": 0, \"model\": 15}, \"Metrics\": {\"validation_binary_classification_cross_entropy_objective\": {\"sum\": 0.5058047788756657, \"count\": 1, \"min\": 0.5058047788756657, \"max\": 0.5058047788756657}}}\u001b[0m\n",
      "\u001b[34m#metrics {\"StartTime\": 1659472940.6918993, \"EndTime\": 1659472940.6919167, \"Dimensions\": {\"Algorithm\": \"Linear Learner\", \"Host\": \"algo-1\", \"Operation\": \"training\", \"epoch\": 0, \"model\": 16}, \"Metrics\": {\"validation_binary_classification_cross_entropy_objective\": {\"sum\": 0.5081558905307345, \"count\": 1, \"min\": 0.5081558905307345, \"max\": 0.5081558905307345}}}\u001b[0m\n",
      "\u001b[34m#metrics {\"StartTime\": 1659472940.6919813, \"EndTime\": 1659472940.6919994, \"Dimensions\": {\"Algorithm\": \"Linear Learner\", \"Host\": \"algo-1\", \"Operation\": \"training\", \"epoch\": 0, \"model\": 17}, \"Metrics\": {\"validation_binary_classification_cross_entropy_objective\": {\"sum\": 0.509099483358798, \"count\": 1, \"min\": 0.509099483358798, \"max\": 0.509099483358798}}}\u001b[0m\n",
      "\u001b[34m#metrics {\"StartTime\": 1659472940.6920538, \"EndTime\": 1659472940.692071, \"Dimensions\": {\"Algorithm\": \"Linear Learner\", \"Host\": \"algo-1\", \"Operation\": \"training\", \"epoch\": 0, \"model\": 18}, \"Metrics\": {\"validation_binary_classification_cross_entropy_objective\": {\"sum\": 0.5081533257398706, \"count\": 1, \"min\": 0.5081533257398706, \"max\": 0.5081533257398706}}}\u001b[0m\n",
      "\u001b[34m#metrics {\"StartTime\": 1659472940.6921241, \"EndTime\": 1659472940.6921403, \"Dimensions\": {\"Algorithm\": \"Linear Learner\", \"Host\": \"algo-1\", \"Operation\": \"training\", \"epoch\": 0, \"model\": 19}, \"Metrics\": {\"validation_binary_classification_cross_entropy_objective\": {\"sum\": 0.5090961772676211, \"count\": 1, \"min\": 0.5090961772676211, \"max\": 0.5090961772676211}}}\u001b[0m\n",
      "\u001b[34m#metrics {\"StartTime\": 1659472940.6922376, \"EndTime\": 1659472940.6922586, \"Dimensions\": {\"Algorithm\": \"Linear Learner\", \"Host\": \"algo-1\", \"Operation\": \"training\", \"epoch\": 0, \"model\": 20}, \"Metrics\": {\"validation_binary_classification_cross_entropy_objective\": {\"sum\": 0.5104677343532666, \"count\": 1, \"min\": 0.5104677343532666, \"max\": 0.5104677343532666}}}\u001b[0m\n",
      "\u001b[34m#metrics {\"StartTime\": 1659472940.6923256, \"EndTime\": 1659472940.692343, \"Dimensions\": {\"Algorithm\": \"Linear Learner\", \"Host\": \"algo-1\", \"Operation\": \"training\", \"epoch\": 0, \"model\": 21}, \"Metrics\": {\"validation_binary_classification_cross_entropy_objective\": {\"sum\": 0.510771046155124, \"count\": 1, \"min\": 0.510771046155124, \"max\": 0.510771046155124}}}\u001b[0m\n",
      "\u001b[34m#metrics {\"StartTime\": 1659472940.6924078, \"EndTime\": 1659472940.6924262, \"Dimensions\": {\"Algorithm\": \"Linear Learner\", \"Host\": \"algo-1\", \"Operation\": \"training\", \"epoch\": 0, \"model\": 22}, \"Metrics\": {\"validation_binary_classification_cross_entropy_objective\": {\"sum\": 0.5104750344727595, \"count\": 1, \"min\": 0.5104750344727595, \"max\": 0.5104750344727595}}}\u001b[0m\n",
      "\u001b[34m#metrics {\"StartTime\": 1659472940.692484, \"EndTime\": 1659472940.6924994, \"Dimensions\": {\"Algorithm\": \"Linear Learner\", \"Host\": \"algo-1\", \"Operation\": \"training\", \"epoch\": 0, \"model\": 23}, \"Metrics\": {\"validation_binary_classification_cross_entropy_objective\": {\"sum\": 0.5107700958801444, \"count\": 1, \"min\": 0.5107700958801444, \"max\": 0.5107700958801444}}}\u001b[0m\n",
      "\u001b[34m#metrics {\"StartTime\": 1659472940.692548, \"EndTime\": 1659472940.6925633, \"Dimensions\": {\"Algorithm\": \"Linear Learner\", \"Host\": \"algo-1\", \"Operation\": \"training\", \"epoch\": 0, \"model\": 24}, \"Metrics\": {\"validation_binary_classification_cross_entropy_objective\": {\"sum\": 0.5137474829673109, \"count\": 1, \"min\": 0.5137474829673109, \"max\": 0.5137474829673109}}}\u001b[0m\n",
      "\u001b[34m#metrics {\"StartTime\": 1659472940.6926193, \"EndTime\": 1659472940.6926374, \"Dimensions\": {\"Algorithm\": \"Linear Learner\", \"Host\": \"algo-1\", \"Operation\": \"training\", \"epoch\": 0, \"model\": 25}, \"Metrics\": {\"validation_binary_classification_cross_entropy_objective\": {\"sum\": 0.5144163239268184, \"count\": 1, \"min\": 0.5144163239268184, \"max\": 0.5144163239268184}}}\u001b[0m\n",
      "\u001b[34m#metrics {\"StartTime\": 1659472940.6926918, \"EndTime\": 1659472940.6927078, \"Dimensions\": {\"Algorithm\": \"Linear Learner\", \"Host\": \"algo-1\", \"Operation\": \"training\", \"epoch\": 0, \"model\": 26}, \"Metrics\": {\"validation_binary_classification_cross_entropy_objective\": {\"sum\": 0.5137670021340971, \"count\": 1, \"min\": 0.5137670021340971, \"max\": 0.5137670021340971}}}\u001b[0m\n",
      "\u001b[34m#metrics {\"StartTime\": 1659472940.6928015, \"EndTime\": 1659472940.6928215, \"Dimensions\": {\"Algorithm\": \"Linear Learner\", \"Host\": \"algo-1\", \"Operation\": \"training\", \"epoch\": 0, \"model\": 27}, \"Metrics\": {\"validation_binary_classification_cross_entropy_objective\": {\"sum\": 0.5144239940434219, \"count\": 1, \"min\": 0.5144239940434219, \"max\": 0.5144239940434219}}}\u001b[0m\n",
      "\u001b[34m#metrics {\"StartTime\": 1659472940.6928775, \"EndTime\": 1659472940.692895, \"Dimensions\": {\"Algorithm\": \"Linear Learner\", \"Host\": \"algo-1\", \"Operation\": \"training\", \"epoch\": 0, \"model\": 28}, \"Metrics\": {\"validation_binary_classification_cross_entropy_objective\": {\"sum\": 0.5153226121647043, \"count\": 1, \"min\": 0.5153226121647043, \"max\": 0.5153226121647043}}}\u001b[0m\n",
      "\u001b[34m#metrics {\"StartTime\": 1659472940.6929836, \"EndTime\": 1659472940.6930013, \"Dimensions\": {\"Algorithm\": \"Linear Learner\", \"Host\": \"algo-1\", \"Operation\": \"training\", \"epoch\": 0, \"model\": 29}, \"Metrics\": {\"validation_binary_classification_cross_entropy_objective\": {\"sum\": 0.5138644240712521, \"count\": 1, \"min\": 0.5138644240712521, \"max\": 0.5138644240712521}}}\u001b[0m\n",
      "\u001b[34m#metrics {\"StartTime\": 1659472940.6930535, \"EndTime\": 1659472940.693069, \"Dimensions\": {\"Algorithm\": \"Linear Learner\", \"Host\": \"algo-1\", \"Operation\": \"training\", \"epoch\": 0, \"model\": 30}, \"Metrics\": {\"validation_binary_classification_cross_entropy_objective\": {\"sum\": 0.5152864630924826, \"count\": 1, \"min\": 0.5152864630924826, \"max\": 0.5152864630924826}}}\u001b[0m\n",
      "\u001b[34m#metrics {\"StartTime\": 1659472940.6931188, \"EndTime\": 1659472940.6931343, \"Dimensions\": {\"Algorithm\": \"Linear Learner\", \"Host\": \"algo-1\", \"Operation\": \"training\", \"epoch\": 0, \"model\": 31}, \"Metrics\": {\"validation_binary_classification_cross_entropy_objective\": {\"sum\": 0.5137713364925844, \"count\": 1, \"min\": 0.5137713364925844, \"max\": 0.5137713364925844}}}\u001b[0m\n",
      "\u001b[34m[08/02/2022 20:42:20 INFO 140651768051520] #quality_metric: host=algo-1, epoch=0, validation binary_classification_cross_entropy_objective <loss>=0.4927728677081813\u001b[0m\n",
      "\u001b[34m[08/02/2022 20:42:20 INFO 140651768051520] #early_stopping_criteria_metric: host=algo-1, epoch=0, criteria=binary_classification_cross_entropy_objective, value=0.4927728677081813\u001b[0m\n",
      "\u001b[34m[08/02/2022 20:42:20 INFO 140651768051520] Epoch 0: Loss improved. Updating best model\u001b[0m\n",
      "\u001b[34m[08/02/2022 20:42:20 INFO 140651768051520] Saving model for epoch: 0\u001b[0m\n",
      "\u001b[34m[08/02/2022 20:42:20 INFO 140651768051520] Saved checkpoint to \"/tmp/tmpj180jnic/mx-mod-0000.params\"\u001b[0m\n",
      "\u001b[34m[08/02/2022 20:42:20 INFO 140651768051520] #progress_metric: host=algo-1, completed 6.666666666666667 % of epochs\u001b[0m\n",
      "\u001b[34m#metrics {\"StartTime\": 1659472875.3022554, \"EndTime\": 1659472940.7049615, \"Dimensions\": {\"Algorithm\": \"Linear Learner\", \"Host\": \"algo-1\", \"Operation\": \"training\", \"epoch\": 0, \"Meta\": \"training_data_iter\"}, \"Metrics\": {\"Total Records Seen\": {\"sum\": 1320472.0, \"count\": 1, \"min\": 1320472, \"max\": 1320472}, \"Total Batches Seen\": {\"sum\": 1321.0, \"count\": 1, \"min\": 1321, \"max\": 1321}, \"Max Records Seen Between Resets\": {\"sum\": 1308472.0, \"count\": 1, \"min\": 1308472, \"max\": 1308472}, \"Max Batches Seen Between Resets\": {\"sum\": 1309.0, \"count\": 1, \"min\": 1309, \"max\": 1309}, \"Reset Count\": {\"sum\": 3.0, \"count\": 1, \"min\": 3, \"max\": 3}, \"Number of Records Since Last Reset\": {\"sum\": 1308472.0, \"count\": 1, \"min\": 1308472, \"max\": 1308472}, \"Number of Batches Since Last Reset\": {\"sum\": 1309.0, \"count\": 1, \"min\": 1309, \"max\": 1309}}}\u001b[0m\n",
      "\u001b[34m[08/02/2022 20:42:20 INFO 140651768051520] #throughput_metric: host=algo-1, train throughput=20006.349618876357 records/second\u001b[0m\n",
      "\u001b[34m[2022-08-02 20:43:20.301] [tensorio] [info] epoch_stats={\"data_pipeline\": \"/opt/ml/input/data/train\", \"epoch\": 5, \"duration\": 59595, \"num_examples\": 1309, \"num_bytes\": 549558240}\u001b[0m\n",
      "\u001b[34m#metrics {\"StartTime\": 1659473000.3020294, \"EndTime\": 1659473000.3021457, \"Dimensions\": {\"Algorithm\": \"Linear Learner\", \"Host\": \"algo-1\", \"Operation\": \"training\", \"epoch\": 1, \"model\": 0}, \"Metrics\": {\"train_binary_classification_cross_entropy_objective\": {\"sum\": 0.4921628717311661, \"count\": 1, \"min\": 0.4921628717311661, \"max\": 0.4921628717311661}}}\u001b[0m\n",
      "\u001b[34m#metrics {\"StartTime\": 1659473000.3022478, \"EndTime\": 1659473000.302272, \"Dimensions\": {\"Algorithm\": \"Linear Learner\", \"Host\": \"algo-1\", \"Operation\": \"training\", \"epoch\": 1, \"model\": 1}, \"Metrics\": {\"train_binary_classification_cross_entropy_objective\": {\"sum\": 0.4932100672823938, \"count\": 1, \"min\": 0.4932100672823938, \"max\": 0.4932100672823938}}}\u001b[0m\n",
      "\u001b[34m#metrics {\"StartTime\": 1659473000.3023367, \"EndTime\": 1659473000.3023555, \"Dimensions\": {\"Algorithm\": \"Linear Learner\", \"Host\": \"algo-1\", \"Operation\": \"training\", \"epoch\": 1, \"model\": 2}, \"Metrics\": {\"train_binary_classification_cross_entropy_objective\": {\"sum\": 0.49216982304284335, \"count\": 1, \"min\": 0.49216982304284335, \"max\": 0.49216982304284335}}}\u001b[0m\n",
      "\u001b[34m#metrics {\"StartTime\": 1659473000.3024185, \"EndTime\": 1659473000.3024366, \"Dimensions\": {\"Algorithm\": \"Linear Learner\", \"Host\": \"algo-1\", \"Operation\": \"training\", \"epoch\": 1, \"model\": 3}, \"Metrics\": {\"train_binary_classification_cross_entropy_objective\": {\"sum\": 0.49320665178678086, \"count\": 1, \"min\": 0.49320665178678086, \"max\": 0.49320665178678086}}}\u001b[0m\n",
      "\u001b[34m#metrics {\"StartTime\": 1659473000.3024948, \"EndTime\": 1659473000.302513, \"Dimensions\": {\"Algorithm\": \"Linear Learner\", \"Host\": \"algo-1\", \"Operation\": \"training\", \"epoch\": 1, \"model\": 4}, \"Metrics\": {\"train_binary_classification_cross_entropy_objective\": {\"sum\": 0.49623313661161184, \"count\": 1, \"min\": 0.49623313661161184, \"max\": 0.49623313661161184}}}\u001b[0m\n",
      "\u001b[34m#metrics {\"StartTime\": 1659473000.3026357, \"EndTime\": 1659473000.3026574, \"Dimensions\": {\"Algorithm\": \"Linear Learner\", \"Host\": \"algo-1\", \"Operation\": \"training\", \"epoch\": 1, \"model\": 5}, \"Metrics\": {\"train_binary_classification_cross_entropy_objective\": {\"sum\": 0.5139133610623328, \"count\": 1, \"min\": 0.5139133610623328, \"max\": 0.5139133610623328}}}\u001b[0m\n",
      "\u001b[34m#metrics {\"StartTime\": 1659473000.3027318, \"EndTime\": 1659473000.3027496, \"Dimensions\": {\"Algorithm\": \"Linear Learner\", \"Host\": \"algo-1\", \"Operation\": \"training\", \"epoch\": 1, \"model\": 6}, \"Metrics\": {\"train_binary_classification_cross_entropy_objective\": {\"sum\": 0.49623230906728577, \"count\": 1, \"min\": 0.49623230906728577, \"max\": 0.49623230906728577}}}\u001b[0m\n",
      "\u001b[34m#metrics {\"StartTime\": 1659473000.302802, \"EndTime\": 1659473000.3028183, \"Dimensions\": {\"Algorithm\": \"Linear Learner\", \"Host\": \"algo-1\", \"Operation\": \"training\", \"epoch\": 1, \"model\": 7}, \"Metrics\": {\"train_binary_classification_cross_entropy_objective\": {\"sum\": 0.5139137298863962, \"count\": 1, \"min\": 0.5139137298863962, \"max\": 0.5139137298863962}}}\u001b[0m\n",
      "\u001b[34m#metrics {\"StartTime\": 1659473000.3028703, \"EndTime\": 1659473000.302887, \"Dimensions\": {\"Algorithm\": \"Linear Learner\", \"Host\": \"algo-1\", \"Operation\": \"training\", \"epoch\": 1, \"model\": 8}, \"Metrics\": {\"train_binary_classification_cross_entropy_objective\": {\"sum\": 0.492350680476664, \"count\": 1, \"min\": 0.492350680476664, \"max\": 0.492350680476664}}}\u001b[0m\n",
      "\u001b[34m#metrics {\"StartTime\": 1659473000.30294, \"EndTime\": 1659473000.3029573, \"Dimensions\": {\"Algorithm\": \"Linear Learner\", \"Host\": \"algo-1\", \"Operation\": \"training\", \"epoch\": 1, \"model\": 9}, \"Metrics\": {\"train_binary_classification_cross_entropy_objective\": {\"sum\": 0.4933548997884861, \"count\": 1, \"min\": 0.4933548997884861, \"max\": 0.4933548997884861}}}\u001b[0m\n",
      "\u001b[34m#metrics {\"StartTime\": 1659473000.3030114, \"EndTime\": 1659473000.3030279, \"Dimensions\": {\"Algorithm\": \"Linear Learner\", \"Host\": \"algo-1\", \"Operation\": \"training\", \"epoch\": 1, \"model\": 10}, \"Metrics\": {\"train_binary_classification_cross_entropy_objective\": {\"sum\": 0.49235014681568207, \"count\": 1, \"min\": 0.49235014681568207, \"max\": 0.49235014681568207}}}\u001b[0m\n",
      "\u001b[34m#metrics {\"StartTime\": 1659473000.303081, \"EndTime\": 1659473000.3030982, \"Dimensions\": {\"Algorithm\": \"Linear Learner\", \"Host\": \"algo-1\", \"Operation\": \"training\", \"epoch\": 1, \"model\": 11}, \"Metrics\": {\"train_binary_classification_cross_entropy_objective\": {\"sum\": 0.49335493002608644, \"count\": 1, \"min\": 0.49335493002608644, \"max\": 0.49335493002608644}}}\u001b[0m\n",
      "\u001b[34m#metrics {\"StartTime\": 1659473000.3031528, \"EndTime\": 1659473000.3031695, \"Dimensions\": {\"Algorithm\": \"Linear Learner\", \"Host\": \"algo-1\", \"Operation\": \"training\", \"epoch\": 1, \"model\": 12}, \"Metrics\": {\"train_binary_classification_cross_entropy_objective\": {\"sum\": 0.4961947924879348, \"count\": 1, \"min\": 0.4961947924879348, \"max\": 0.4961947924879348}}}\u001b[0m\n",
      "\u001b[34m#metrics {\"StartTime\": 1659473000.303221, \"EndTime\": 1659473000.3032386, \"Dimensions\": {\"Algorithm\": \"Linear Learner\", \"Host\": \"algo-1\", \"Operation\": \"training\", \"epoch\": 1, \"model\": 13}, \"Metrics\": {\"train_binary_classification_cross_entropy_objective\": {\"sum\": 0.5126044915808815, \"count\": 1, \"min\": 0.5126044915808815, \"max\": 0.5126044915808815}}}\u001b[0m\n",
      "\u001b[34m#metrics {\"StartTime\": 1659473000.3032913, \"EndTime\": 1659473000.3033075, \"Dimensions\": {\"Algorithm\": \"Linear Learner\", \"Host\": \"algo-1\", \"Operation\": \"training\", \"epoch\": 1, \"model\": 14}, \"Metrics\": {\"train_binary_classification_cross_entropy_objective\": {\"sum\": 0.4961953571097931, \"count\": 1, \"min\": 0.4961953571097931, \"max\": 0.4961953571097931}}}\u001b[0m\n",
      "\u001b[34m#metrics {\"StartTime\": 1659473000.3033597, \"EndTime\": 1659473000.3033776, \"Dimensions\": {\"Algorithm\": \"Linear Learner\", \"Host\": \"algo-1\", \"Operation\": \"training\", \"epoch\": 1, \"model\": 15}, \"Metrics\": {\"train_binary_classification_cross_entropy_objective\": {\"sum\": 0.5126049175204123, \"count\": 1, \"min\": 0.5126049175204123, \"max\": 0.5126049175204123}}}\u001b[0m\n",
      "\u001b[34m#metrics {\"StartTime\": 1659473000.3034313, \"EndTime\": 1659473000.3034475, \"Dimensions\": {\"Algorithm\": \"Linear Learner\", \"Host\": \"algo-1\", \"Operation\": \"training\", \"epoch\": 1, \"model\": 16}, \"Metrics\": {\"train_binary_classification_cross_entropy_objective\": {\"sum\": 0.5077811326893098, \"count\": 1, \"min\": 0.5077811326893098, \"max\": 0.5077811326893098}}}\u001b[0m\n",
      "\u001b[34m#metrics {\"StartTime\": 1659473000.3035023, \"EndTime\": 1659473000.303519, \"Dimensions\": {\"Algorithm\": \"Linear Learner\", \"Host\": \"algo-1\", \"Operation\": \"training\", \"epoch\": 1, \"model\": 17}, \"Metrics\": {\"train_binary_classification_cross_entropy_objective\": {\"sum\": 0.5080267419144283, \"count\": 1, \"min\": 0.5080267419144283, \"max\": 0.5080267419144283}}}\u001b[0m\n",
      "\u001b[34m#metrics {\"StartTime\": 1659473000.303572, \"EndTime\": 1659473000.3035884, \"Dimensions\": {\"Algorithm\": \"Linear Learner\", \"Host\": \"algo-1\", \"Operation\": \"training\", \"epoch\": 1, \"model\": 18}, \"Metrics\": {\"train_binary_classification_cross_entropy_objective\": {\"sum\": 0.5077811511445118, \"count\": 1, \"min\": 0.5077811511445118, \"max\": 0.5077811511445118}}}\u001b[0m\n",
      "\u001b[34m#metrics {\"StartTime\": 1659473000.3036416, \"EndTime\": 1659473000.3036578, \"Dimensions\": {\"Algorithm\": \"Linear Learner\", \"Host\": \"algo-1\", \"Operation\": \"training\", \"epoch\": 1, \"model\": 19}, \"Metrics\": {\"train_binary_classification_cross_entropy_objective\": {\"sum\": 0.5080266991711537, \"count\": 1, \"min\": 0.5080266991711537, \"max\": 0.5080266991711537}}}\u001b[0m\n",
      "\u001b[34m#metrics {\"StartTime\": 1659473000.3037095, \"EndTime\": 1659473000.3037262, \"Dimensions\": {\"Algorithm\": \"Linear Learner\", \"Host\": \"algo-1\", \"Operation\": \"training\", \"epoch\": 1, \"model\": 20}, \"Metrics\": {\"train_binary_classification_cross_entropy_objective\": {\"sum\": 0.5086616254100741, \"count\": 1, \"min\": 0.5086616254100741, \"max\": 0.5086616254100741}}}\u001b[0m\n",
      "\u001b[34m#metrics {\"StartTime\": 1659473000.3037786, \"EndTime\": 1659473000.3037941, \"Dimensions\": {\"Algorithm\": \"Linear Learner\", \"Host\": \"algo-1\", \"Operation\": \"training\", \"epoch\": 1, \"model\": 21}, \"Metrics\": {\"train_binary_classification_cross_entropy_objective\": {\"sum\": 0.5115647947445557, \"count\": 1, \"min\": 0.5115647947445557, \"max\": 0.5115647947445557}}}\u001b[0m\n",
      "\u001b[34m#metrics {\"StartTime\": 1659473000.303846, \"EndTime\": 1659473000.3038626, \"Dimensions\": {\"Algorithm\": \"Linear Learner\", \"Host\": \"algo-1\", \"Operation\": \"training\", \"epoch\": 1, \"model\": 22}, \"Metrics\": {\"train_binary_classification_cross_entropy_objective\": {\"sum\": 0.5086620501130363, \"count\": 1, \"min\": 0.5086620501130363, \"max\": 0.5086620501130363}}}\u001b[0m\n",
      "\u001b[34m#metrics {\"StartTime\": 1659473000.303941, \"EndTime\": 1659473000.3039603, \"Dimensions\": {\"Algorithm\": \"Linear Learner\", \"Host\": \"algo-1\", \"Operation\": \"training\", \"epoch\": 1, \"model\": 23}, \"Metrics\": {\"train_binary_classification_cross_entropy_objective\": {\"sum\": 0.5115638341874522, \"count\": 1, \"min\": 0.5115638341874522, \"max\": 0.5115638341874522}}}\u001b[0m\n",
      "\u001b[34m#metrics {\"StartTime\": 1659473000.304015, \"EndTime\": 1659473000.3040307, \"Dimensions\": {\"Algorithm\": \"Linear Learner\", \"Host\": \"algo-1\", \"Operation\": \"training\", \"epoch\": 1, \"model\": 24}, \"Metrics\": {\"train_binary_classification_cross_entropy_objective\": {\"sum\": 0.5137804525299539, \"count\": 1, \"min\": 0.5137804525299539, \"max\": 0.5137804525299539}}}\u001b[0m\n",
      "\u001b[34m#metrics {\"StartTime\": 1659473000.3040838, \"EndTime\": 1659473000.3041005, \"Dimensions\": {\"Algorithm\": \"Linear Learner\", \"Host\": \"algo-1\", \"Operation\": \"training\", \"epoch\": 1, \"model\": 25}, \"Metrics\": {\"train_binary_classification_cross_entropy_objective\": {\"sum\": 0.5138787672643632, \"count\": 1, \"min\": 0.5138787672643632, \"max\": 0.5138787672643632}}}\u001b[0m\n",
      "\u001b[34m#metrics {\"StartTime\": 1659473000.3041549, \"EndTime\": 1659473000.304171, \"Dimensions\": {\"Algorithm\": \"Linear Learner\", \"Host\": \"algo-1\", \"Operation\": \"training\", \"epoch\": 1, \"model\": 26}, \"Metrics\": {\"train_binary_classification_cross_entropy_objective\": {\"sum\": 0.5137812254086183, \"count\": 1, \"min\": 0.5137812254086183, \"max\": 0.5137812254086183}}}\u001b[0m\n",
      "\u001b[34m#metrics {\"StartTime\": 1659473000.3042262, \"EndTime\": 1659473000.3042426, \"Dimensions\": {\"Algorithm\": \"Linear Learner\", \"Host\": \"algo-1\", \"Operation\": \"training\", \"epoch\": 1, \"model\": 27}, \"Metrics\": {\"train_binary_classification_cross_entropy_objective\": {\"sum\": 0.5138788003250728, \"count\": 1, \"min\": 0.5138788003250728, \"max\": 0.5138788003250728}}}\u001b[0m\n",
      "\u001b[34m#metrics {\"StartTime\": 1659473000.3042939, \"EndTime\": 1659473000.3043091, \"Dimensions\": {\"Algorithm\": \"Linear Learner\", \"Host\": \"algo-1\", \"Operation\": \"training\", \"epoch\": 1, \"model\": 28}, \"Metrics\": {\"train_binary_classification_cross_entropy_objective\": {\"sum\": 0.5141591497998719, \"count\": 1, \"min\": 0.5141591497998719, \"max\": 0.5141591497998719}}}\u001b[0m\n",
      "\u001b[34m#metrics {\"StartTime\": 1659473000.3043635, \"EndTime\": 1659473000.304379, \"Dimensions\": {\"Algorithm\": \"Linear Learner\", \"Host\": \"algo-1\", \"Operation\": \"training\", \"epoch\": 1, \"model\": 29}, \"Metrics\": {\"train_binary_classification_cross_entropy_objective\": {\"sum\": 0.515251249470842, \"count\": 1, \"min\": 0.515251249470842, \"max\": 0.515251249470842}}}\u001b[0m\n",
      "\u001b[34m#metrics {\"StartTime\": 1659473000.3044305, \"EndTime\": 1659473000.304446, \"Dimensions\": {\"Algorithm\": \"Linear Learner\", \"Host\": \"algo-1\", \"Operation\": \"training\", \"epoch\": 1, \"model\": 30}, \"Metrics\": {\"train_binary_classification_cross_entropy_objective\": {\"sum\": 0.5141594229648602, \"count\": 1, \"min\": 0.5141594229648602, \"max\": 0.5141594229648602}}}\u001b[0m\n",
      "\u001b[34m#metrics {\"StartTime\": 1659473000.3044953, \"EndTime\": 1659473000.3045125, \"Dimensions\": {\"Algorithm\": \"Linear Learner\", \"Host\": \"algo-1\", \"Operation\": \"training\", \"epoch\": 1, \"model\": 31}, \"Metrics\": {\"train_binary_classification_cross_entropy_objective\": {\"sum\": 0.5152464207173852, \"count\": 1, \"min\": 0.5152464207173852, \"max\": 0.5152464207173852}}}\u001b[0m\n",
      "\u001b[34m[08/02/2022 20:43:20 INFO 140651768051520] #quality_metric: host=algo-1, epoch=1, train binary_classification_cross_entropy_objective <loss>=0.4921628717311661\u001b[0m\n",
      "\u001b[34m[2022-08-02 20:43:25.593] [tensorio] [info] epoch_stats={\"data_pipeline\": \"/opt/ml/input/data/validation\", \"epoch\": 5, \"duration\": 5264, \"num_examples\": 164, \"num_bytes\": 68694780}\u001b[0m\n",
      "\u001b[34m#metrics {\"StartTime\": 1659473005.6036174, \"EndTime\": 1659473005.6037004, \"Dimensions\": {\"Algorithm\": \"Linear Learner\", \"Host\": \"algo-1\", \"Operation\": \"training\", \"epoch\": 1, \"model\": 0}, \"Metrics\": {\"validation_binary_classification_cross_entropy_objective\": {\"sum\": 0.4924868905415057, \"count\": 1, \"min\": 0.4924868905415057, \"max\": 0.4924868905415057}}}\u001b[0m\n",
      "\u001b[34m#metrics {\"StartTime\": 1659473005.6038005, \"EndTime\": 1659473005.6038241, \"Dimensions\": {\"Algorithm\": \"Linear Learner\", \"Host\": \"algo-1\", \"Operation\": \"training\", \"epoch\": 1, \"model\": 1}, \"Metrics\": {\"validation_binary_classification_cross_entropy_objective\": {\"sum\": 0.4944871484714733, \"count\": 1, \"min\": 0.4944871484714733, \"max\": 0.4944871484714733}}}\u001b[0m\n",
      "\u001b[34m#metrics {\"StartTime\": 1659473005.6038868, \"EndTime\": 1659473005.6039057, \"Dimensions\": {\"Algorithm\": \"Linear Learner\", \"Host\": \"algo-1\", \"Operation\": \"training\", \"epoch\": 1, \"model\": 2}, \"Metrics\": {\"validation_binary_classification_cross_entropy_objective\": {\"sum\": 0.49248992216684806, \"count\": 1, \"min\": 0.49248992216684806, \"max\": 0.49248992216684806}}}\u001b[0m\n",
      "\u001b[34m#metrics {\"StartTime\": 1659473005.6039658, \"EndTime\": 1659473005.6039844, \"Dimensions\": {\"Algorithm\": \"Linear Learner\", \"Host\": \"algo-1\", \"Operation\": \"training\", \"epoch\": 1, \"model\": 3}, \"Metrics\": {\"validation_binary_classification_cross_entropy_objective\": {\"sum\": 0.4944871258947459, \"count\": 1, \"min\": 0.4944871258947459, \"max\": 0.4944871258947459}}}\u001b[0m\n",
      "\u001b[34m#metrics {\"StartTime\": 1659473005.6040404, \"EndTime\": 1659473005.6040595, \"Dimensions\": {\"Algorithm\": \"Linear Learner\", \"Host\": \"algo-1\", \"Operation\": \"training\", \"epoch\": 1, \"model\": 4}, \"Metrics\": {\"validation_binary_classification_cross_entropy_objective\": {\"sum\": 0.4945236539201355, \"count\": 1, \"min\": 0.4945236539201355, \"max\": 0.4945236539201355}}}\u001b[0m\n",
      "\u001b[34m#metrics {\"StartTime\": 1659473005.6041152, \"EndTime\": 1659473005.6041324, \"Dimensions\": {\"Algorithm\": \"Linear Learner\", \"Host\": \"algo-1\", \"Operation\": \"training\", \"epoch\": 1, \"model\": 5}, \"Metrics\": {\"validation_binary_classification_cross_entropy_objective\": {\"sum\": 0.5054051758388673, \"count\": 1, \"min\": 0.5054051758388673, \"max\": 0.5054051758388673}}}\u001b[0m\n",
      "\u001b[34m#metrics {\"StartTime\": 1659473005.604188, \"EndTime\": 1659473005.6042063, \"Dimensions\": {\"Algorithm\": \"Linear Learner\", \"Host\": \"algo-1\", \"Operation\": \"training\", \"epoch\": 1, \"model\": 6}, \"Metrics\": {\"validation_binary_classification_cross_entropy_objective\": {\"sum\": 0.494524235130927, \"count\": 1, \"min\": 0.494524235130927, \"max\": 0.494524235130927}}}\u001b[0m\n",
      "\u001b[34m#metrics {\"StartTime\": 1659473005.6042619, \"EndTime\": 1659473005.6042802, \"Dimensions\": {\"Algorithm\": \"Linear Learner\", \"Host\": \"algo-1\", \"Operation\": \"training\", \"epoch\": 1, \"model\": 7}, \"Metrics\": {\"validation_binary_classification_cross_entropy_objective\": {\"sum\": 0.5054045175686674, \"count\": 1, \"min\": 0.5054045175686674, \"max\": 0.5054045175686674}}}\u001b[0m\n",
      "\u001b[34m#metrics {\"StartTime\": 1659473005.6043384, \"EndTime\": 1659473005.6043568, \"Dimensions\": {\"Algorithm\": \"Linear Learner\", \"Host\": \"algo-1\", \"Operation\": \"training\", \"epoch\": 1, \"model\": 8}, \"Metrics\": {\"validation_binary_classification_cross_entropy_objective\": {\"sum\": 0.4926240359506045, \"count\": 1, \"min\": 0.4926240359506045, \"max\": 0.4926240359506045}}}\u001b[0m\n",
      "\u001b[34m#metrics {\"StartTime\": 1659473005.6044126, \"EndTime\": 1659473005.6044292, \"Dimensions\": {\"Algorithm\": \"Linear Learner\", \"Host\": \"algo-1\", \"Operation\": \"training\", \"epoch\": 1, \"model\": 9}, \"Metrics\": {\"validation_binary_classification_cross_entropy_objective\": {\"sum\": 0.49460428101113596, \"count\": 1, \"min\": 0.49460428101113596, \"max\": 0.49460428101113596}}}\u001b[0m\n",
      "\u001b[34m#metrics {\"StartTime\": 1659473005.6044846, \"EndTime\": 1659473005.6045032, \"Dimensions\": {\"Algorithm\": \"Linear Learner\", \"Host\": \"algo-1\", \"Operation\": \"training\", \"epoch\": 1, \"model\": 10}, \"Metrics\": {\"validation_binary_classification_cross_entropy_objective\": {\"sum\": 0.49262367528272005, \"count\": 1, \"min\": 0.49262367528272005, \"max\": 0.49262367528272005}}}\u001b[0m\n",
      "\u001b[34m#metrics {\"StartTime\": 1659473005.6045704, \"EndTime\": 1659473005.604588, \"Dimensions\": {\"Algorithm\": \"Linear Learner\", \"Host\": \"algo-1\", \"Operation\": \"training\", \"epoch\": 1, \"model\": 11}, \"Metrics\": {\"validation_binary_classification_cross_entropy_objective\": {\"sum\": 0.4946042991098348, \"count\": 1, \"min\": 0.4946042991098348, \"max\": 0.4946042991098348}}}\u001b[0m\n",
      "\u001b[34m#metrics {\"StartTime\": 1659473005.6046512, \"EndTime\": 1659473005.604669, \"Dimensions\": {\"Algorithm\": \"Linear Learner\", \"Host\": \"algo-1\", \"Operation\": \"training\", \"epoch\": 1, \"model\": 12}, \"Metrics\": {\"validation_binary_classification_cross_entropy_objective\": {\"sum\": 0.49455995729775837, \"count\": 1, \"min\": 0.49455995729775837, \"max\": 0.49455995729775837}}}\u001b[0m\n",
      "\u001b[34m#metrics {\"StartTime\": 1659473005.604728, \"EndTime\": 1659473005.6047466, \"Dimensions\": {\"Algorithm\": \"Linear Learner\", \"Host\": \"algo-1\", \"Operation\": \"training\", \"epoch\": 1, \"model\": 13}, \"Metrics\": {\"validation_binary_classification_cross_entropy_objective\": {\"sum\": 0.5043042637098248, \"count\": 1, \"min\": 0.5043042637098248, \"max\": 0.5043042637098248}}}\u001b[0m\n",
      "\u001b[34m#metrics {\"StartTime\": 1659473005.6048124, \"EndTime\": 1659473005.6048315, \"Dimensions\": {\"Algorithm\": \"Linear Learner\", \"Host\": \"algo-1\", \"Operation\": \"training\", \"epoch\": 1, \"model\": 14}, \"Metrics\": {\"validation_binary_classification_cross_entropy_objective\": {\"sum\": 0.4945594787084549, \"count\": 1, \"min\": 0.4945594787084549, \"max\": 0.4945594787084549}}}\u001b[0m\n",
      "\u001b[34m#metrics {\"StartTime\": 1659473005.60489, \"EndTime\": 1659473005.6049082, \"Dimensions\": {\"Algorithm\": \"Linear Learner\", \"Host\": \"algo-1\", \"Operation\": \"training\", \"epoch\": 1, \"model\": 15}, \"Metrics\": {\"validation_binary_classification_cross_entropy_objective\": {\"sum\": 0.5043035677495511, \"count\": 1, \"min\": 0.5043035677495511, \"max\": 0.5043035677495511}}}\u001b[0m\n",
      "\u001b[34m#metrics {\"StartTime\": 1659473005.6049662, \"EndTime\": 1659473005.6049843, \"Dimensions\": {\"Algorithm\": \"Linear Learner\", \"Host\": \"algo-1\", \"Operation\": \"training\", \"epoch\": 1, \"model\": 16}, \"Metrics\": {\"validation_binary_classification_cross_entropy_objective\": {\"sum\": 0.5080062960156245, \"count\": 1, \"min\": 0.5080062960156245, \"max\": 0.5080062960156245}}}\u001b[0m\n",
      "\u001b[34m#metrics {\"StartTime\": 1659473005.6050496, \"EndTime\": 1659473005.6050675, \"Dimensions\": {\"Algorithm\": \"Linear Learner\", \"Host\": \"algo-1\", \"Operation\": \"training\", \"epoch\": 1, \"model\": 17}, \"Metrics\": {\"validation_binary_classification_cross_entropy_objective\": {\"sum\": 0.5091487222682856, \"count\": 1, \"min\": 0.5091487222682856, \"max\": 0.5091487222682856}}}\u001b[0m\n",
      "\u001b[34m#metrics {\"StartTime\": 1659473005.6051247, \"EndTime\": 1659473005.6051424, \"Dimensions\": {\"Algorithm\": \"Linear Learner\", \"Host\": \"algo-1\", \"Operation\": \"training\", \"epoch\": 1, \"model\": 18}, \"Metrics\": {\"validation_binary_classification_cross_entropy_objective\": {\"sum\": 0.5080058804918901, \"count\": 1, \"min\": 0.5080058804918901, \"max\": 0.5080058804918901}}}\u001b[0m\n",
      "\u001b[34m#metrics {\"StartTime\": 1659473005.6052012, \"EndTime\": 1659473005.6052194, \"Dimensions\": {\"Algorithm\": \"Linear Learner\", \"Host\": \"algo-1\", \"Operation\": \"training\", \"epoch\": 1, \"model\": 19}, \"Metrics\": {\"validation_binary_classification_cross_entropy_objective\": {\"sum\": 0.5091467424199038, \"count\": 1, \"min\": 0.5091467424199038, \"max\": 0.5091467424199038}}}\u001b[0m\n",
      "\u001b[34m#metrics {\"StartTime\": 1659473005.6052878, \"EndTime\": 1659473005.605307, \"Dimensions\": {\"Algorithm\": \"Linear Learner\", \"Host\": \"algo-1\", \"Operation\": \"training\", \"epoch\": 1, \"model\": 20}, \"Metrics\": {\"validation_binary_classification_cross_entropy_objective\": {\"sum\": 0.5089163866595207, \"count\": 1, \"min\": 0.5089163866595207, \"max\": 0.5089163866595207}}}\u001b[0m\n",
      "\u001b[34m#metrics {\"StartTime\": 1659473005.6053717, \"EndTime\": 1659473005.6053886, \"Dimensions\": {\"Algorithm\": \"Linear Learner\", \"Host\": \"algo-1\", \"Operation\": \"training\", \"epoch\": 1, \"model\": 21}, \"Metrics\": {\"validation_binary_classification_cross_entropy_objective\": {\"sum\": 0.5113748892762655, \"count\": 1, \"min\": 0.5113748892762655, \"max\": 0.5113748892762655}}}\u001b[0m\n",
      "\u001b[34m#metrics {\"StartTime\": 1659473005.605452, \"EndTime\": 1659473005.605469, \"Dimensions\": {\"Algorithm\": \"Linear Learner\", \"Host\": \"algo-1\", \"Operation\": \"training\", \"epoch\": 1, \"model\": 22}, \"Metrics\": {\"validation_binary_classification_cross_entropy_objective\": {\"sum\": 0.5089157104772064, \"count\": 1, \"min\": 0.5089157104772064, \"max\": 0.5089157104772064}}}\u001b[0m\n",
      "\u001b[34m#metrics {\"StartTime\": 1659473005.6055338, \"EndTime\": 1659473005.6055543, \"Dimensions\": {\"Algorithm\": \"Linear Learner\", \"Host\": \"algo-1\", \"Operation\": \"training\", \"epoch\": 1, \"model\": 23}, \"Metrics\": {\"validation_binary_classification_cross_entropy_objective\": {\"sum\": 0.5113765653650427, \"count\": 1, \"min\": 0.5113765653650427, \"max\": 0.5113765653650427}}}\u001b[0m\n",
      "\u001b[34m#metrics {\"StartTime\": 1659473005.6056142, \"EndTime\": 1659473005.6056316, \"Dimensions\": {\"Algorithm\": \"Linear Learner\", \"Host\": \"algo-1\", \"Operation\": \"training\", \"epoch\": 1, \"model\": 24}, \"Metrics\": {\"validation_binary_classification_cross_entropy_objective\": {\"sum\": 0.513778681019194, \"count\": 1, \"min\": 0.513778681019194, \"max\": 0.513778681019194}}}\u001b[0m\n",
      "\u001b[34m#metrics {\"StartTime\": 1659473005.6056883, \"EndTime\": 1659473005.6057053, \"Dimensions\": {\"Algorithm\": \"Linear Learner\", \"Host\": \"algo-1\", \"Operation\": \"training\", \"epoch\": 1, \"model\": 25}, \"Metrics\": {\"validation_binary_classification_cross_entropy_objective\": {\"sum\": 0.5145342360166214, \"count\": 1, \"min\": 0.5145342360166214, \"max\": 0.5145342360166214}}}\u001b[0m\n",
      "\u001b[34m#metrics {\"StartTime\": 1659473005.605762, \"EndTime\": 1659473005.6057808, \"Dimensions\": {\"Algorithm\": \"Linear Learner\", \"Host\": \"algo-1\", \"Operation\": \"training\", \"epoch\": 1, \"model\": 26}, \"Metrics\": {\"validation_binary_classification_cross_entropy_objective\": {\"sum\": 0.5137719464373928, \"count\": 1, \"min\": 0.5137719464373928, \"max\": 0.5137719464373928}}}\u001b[0m\n",
      "\u001b[34m#metrics {\"StartTime\": 1659473005.6058502, \"EndTime\": 1659473005.6058683, \"Dimensions\": {\"Algorithm\": \"Linear Learner\", \"Host\": \"algo-1\", \"Operation\": \"training\", \"epoch\": 1, \"model\": 27}, \"Metrics\": {\"validation_binary_classification_cross_entropy_objective\": {\"sum\": 0.5145669319690616, \"count\": 1, \"min\": 0.5145669319690616, \"max\": 0.5145669319690616}}}\u001b[0m\n",
      "\u001b[34m#metrics {\"StartTime\": 1659473005.6059248, \"EndTime\": 1659473005.605941, \"Dimensions\": {\"Algorithm\": \"Linear Learner\", \"Host\": \"algo-1\", \"Operation\": \"training\", \"epoch\": 1, \"model\": 28}, \"Metrics\": {\"validation_binary_classification_cross_entropy_objective\": {\"sum\": 0.5139501740269375, \"count\": 1, \"min\": 0.5139501740269375, \"max\": 0.5139501740269375}}}\u001b[0m\n",
      "\u001b[34m#metrics {\"StartTime\": 1659473005.605993, \"EndTime\": 1659473005.6060092, \"Dimensions\": {\"Algorithm\": \"Linear Learner\", \"Host\": \"algo-1\", \"Operation\": \"training\", \"epoch\": 1, \"model\": 29}, \"Metrics\": {\"validation_binary_classification_cross_entropy_objective\": {\"sum\": 0.5139318605693439, \"count\": 1, \"min\": 0.5139318605693439, \"max\": 0.5139318605693439}}}\u001b[0m\n",
      "\u001b[34m#metrics {\"StartTime\": 1659473005.6060612, \"EndTime\": 1659473005.6060774, \"Dimensions\": {\"Algorithm\": \"Linear Learner\", \"Host\": \"algo-1\", \"Operation\": \"training\", \"epoch\": 1, \"model\": 30}, \"Metrics\": {\"validation_binary_classification_cross_entropy_objective\": {\"sum\": 0.5139360339053873, \"count\": 1, \"min\": 0.5139360339053873, \"max\": 0.5139360339053873}}}\u001b[0m\n",
      "\u001b[34m#metrics {\"StartTime\": 1659473005.6061304, \"EndTime\": 1659473005.6061468, \"Dimensions\": {\"Algorithm\": \"Linear Learner\", \"Host\": \"algo-1\", \"Operation\": \"training\", \"epoch\": 1, \"model\": 31}, \"Metrics\": {\"validation_binary_classification_cross_entropy_objective\": {\"sum\": 0.5139111131166376, \"count\": 1, \"min\": 0.5139111131166376, \"max\": 0.5139111131166376}}}\u001b[0m\n",
      "\u001b[34m[08/02/2022 20:43:25 INFO 140651768051520] #quality_metric: host=algo-1, epoch=1, validation binary_classification_cross_entropy_objective <loss>=0.4924868905415057\u001b[0m\n",
      "\u001b[34m[08/02/2022 20:43:25 INFO 140651768051520] #early_stopping_criteria_metric: host=algo-1, epoch=1, criteria=binary_classification_cross_entropy_objective, value=0.4924868905415057\u001b[0m\n",
      "\u001b[34m[08/02/2022 20:43:25 INFO 140651768051520] Saving model for epoch: 1\u001b[0m\n",
      "\u001b[34m[08/02/2022 20:43:25 INFO 140651768051520] Saved checkpoint to \"/tmp/tmpk0bjgh9y/mx-mod-0000.params\"\u001b[0m\n",
      "\u001b[34m[08/02/2022 20:43:25 INFO 140651768051520] #progress_metric: host=algo-1, completed 13.333333333333334 % of epochs\u001b[0m\n",
      "\u001b[34m#metrics {\"StartTime\": 1659472940.705924, \"EndTime\": 1659473005.6150143, \"Dimensions\": {\"Algorithm\": \"Linear Learner\", \"Host\": \"algo-1\", \"Operation\": \"training\", \"epoch\": 1, \"Meta\": \"training_data_iter\"}, \"Metrics\": {\"Total Records Seen\": {\"sum\": 2628944.0, \"count\": 1, \"min\": 2628944, \"max\": 2628944}, \"Total Batches Seen\": {\"sum\": 2630.0, \"count\": 1, \"min\": 2630, \"max\": 2630}, \"Max Records Seen Between Resets\": {\"sum\": 1308472.0, \"count\": 1, \"min\": 1308472, \"max\": 1308472}, \"Max Batches Seen Between Resets\": {\"sum\": 1309.0, \"count\": 1, \"min\": 1309, \"max\": 1309}, \"Reset Count\": {\"sum\": 4.0, \"count\": 1, \"min\": 4, \"max\": 4}, \"Number of Records Since Last Reset\": {\"sum\": 1308472.0, \"count\": 1, \"min\": 1308472, \"max\": 1308472}, \"Number of Batches Since Last Reset\": {\"sum\": 1309.0, \"count\": 1, \"min\": 1309, \"max\": 1309}}}\u001b[0m\n",
      "\u001b[34m[08/02/2022 20:43:25 INFO 140651768051520] #throughput_metric: host=algo-1, train throughput=20158.492794302063 records/second\u001b[0m\n",
      "\u001b[34m[2022-08-02 20:44:24.952] [tensorio] [info] epoch_stats={\"data_pipeline\": \"/opt/ml/input/data/train\", \"epoch\": 7, \"duration\": 59336, \"num_examples\": 1309, \"num_bytes\": 549558240}\u001b[0m\n",
      "\u001b[34m#metrics {\"StartTime\": 1659473064.9520724, \"EndTime\": 1659473064.9521716, \"Dimensions\": {\"Algorithm\": \"Linear Learner\", \"Host\": \"algo-1\", \"Operation\": \"training\", \"epoch\": 2, \"model\": 0}, \"Metrics\": {\"train_binary_classification_cross_entropy_objective\": {\"sum\": 0.4919824004800312, \"count\": 1, \"min\": 0.4919824004800312, \"max\": 0.4919824004800312}}}\u001b[0m\n",
      "\u001b[34m#metrics {\"StartTime\": 1659473064.9522758, \"EndTime\": 1659473064.952299, \"Dimensions\": {\"Algorithm\": \"Linear Learner\", \"Host\": \"algo-1\", \"Operation\": \"training\", \"epoch\": 2, \"model\": 1}, \"Metrics\": {\"train_binary_classification_cross_entropy_objective\": {\"sum\": 0.49306256355495626, \"count\": 1, \"min\": 0.49306256355495626, \"max\": 0.49306256355495626}}}\u001b[0m\n",
      "\u001b[34m#metrics {\"StartTime\": 1659473064.9523537, \"EndTime\": 1659473064.9523656, \"Dimensions\": {\"Algorithm\": \"Linear Learner\", \"Host\": \"algo-1\", \"Operation\": \"training\", \"epoch\": 2, \"model\": 2}, \"Metrics\": {\"train_binary_classification_cross_entropy_objective\": {\"sum\": 0.4919888178040857, \"count\": 1, \"min\": 0.4919888178040857, \"max\": 0.4919888178040857}}}\u001b[0m\n",
      "\u001b[34m#metrics {\"StartTime\": 1659473064.9523988, \"EndTime\": 1659473064.9524145, \"Dimensions\": {\"Algorithm\": \"Linear Learner\", \"Host\": \"algo-1\", \"Operation\": \"training\", \"epoch\": 2, \"model\": 3}, \"Metrics\": {\"train_binary_classification_cross_entropy_objective\": {\"sum\": 0.49306141368620987, \"count\": 1, \"min\": 0.49306141368620987, \"max\": 0.49306141368620987}}}\u001b[0m\n",
      "\u001b[34m#metrics {\"StartTime\": 1659473064.9524746, \"EndTime\": 1659473064.9524918, \"Dimensions\": {\"Algorithm\": \"Linear Learner\", \"Host\": \"algo-1\", \"Operation\": \"training\", \"epoch\": 2, \"model\": 4}, \"Metrics\": {\"train_binary_classification_cross_entropy_objective\": {\"sum\": 0.49314919297337895, \"count\": 1, \"min\": 0.49314919297337895, \"max\": 0.49314919297337895}}}\u001b[0m\n",
      "\u001b[34m#metrics {\"StartTime\": 1659473064.9525445, \"EndTime\": 1659473064.9525619, \"Dimensions\": {\"Algorithm\": \"Linear Learner\", \"Host\": \"algo-1\", \"Operation\": \"training\", \"epoch\": 2, \"model\": 5}, \"Metrics\": {\"train_binary_classification_cross_entropy_objective\": {\"sum\": 0.5112205507004297, \"count\": 1, \"min\": 0.5112205507004297, \"max\": 0.5112205507004297}}}\u001b[0m\n",
      "\u001b[34m#metrics {\"StartTime\": 1659473064.952617, \"EndTime\": 1659473064.9526353, \"Dimensions\": {\"Algorithm\": \"Linear Learner\", \"Host\": \"algo-1\", \"Operation\": \"training\", \"epoch\": 2, \"model\": 6}, \"Metrics\": {\"train_binary_classification_cross_entropy_objective\": {\"sum\": 0.49314912652531895, \"count\": 1, \"min\": 0.49314912652531895, \"max\": 0.49314912652531895}}}\u001b[0m\n",
      "\u001b[34m#metrics {\"StartTime\": 1659473064.9526901, \"EndTime\": 1659473064.9527073, \"Dimensions\": {\"Algorithm\": \"Linear Learner\", \"Host\": \"algo-1\", \"Operation\": \"training\", \"epoch\": 2, \"model\": 7}, \"Metrics\": {\"train_binary_classification_cross_entropy_objective\": {\"sum\": 0.5112206695043348, \"count\": 1, \"min\": 0.5112206695043348, \"max\": 0.5112206695043348}}}\u001b[0m\n",
      "\u001b[34m#metrics {\"StartTime\": 1659473064.952763, \"EndTime\": 1659473064.952791, \"Dimensions\": {\"Algorithm\": \"Linear Learner\", \"Host\": \"algo-1\", \"Operation\": \"training\", \"epoch\": 2, \"model\": 8}, \"Metrics\": {\"train_binary_classification_cross_entropy_objective\": {\"sum\": 0.49218802738481343, \"count\": 1, \"min\": 0.49218802738481343, \"max\": 0.49218802738481343}}}\u001b[0m\n",
      "\u001b[34m#metrics {\"StartTime\": 1659473064.9528418, \"EndTime\": 1659473064.9528582, \"Dimensions\": {\"Algorithm\": \"Linear Learner\", \"Host\": \"algo-1\", \"Operation\": \"training\", \"epoch\": 2, \"model\": 9}, \"Metrics\": {\"train_binary_classification_cross_entropy_objective\": {\"sum\": 0.4932255441508162, \"count\": 1, \"min\": 0.4932255441508162, \"max\": 0.4932255441508162}}}\u001b[0m\n",
      "\u001b[34m#metrics {\"StartTime\": 1659473064.9529142, \"EndTime\": 1659473064.9529326, \"Dimensions\": {\"Algorithm\": \"Linear Learner\", \"Host\": \"algo-1\", \"Operation\": \"training\", \"epoch\": 2, \"model\": 10}, \"Metrics\": {\"train_binary_classification_cross_entropy_objective\": {\"sum\": 0.4921877079301653, \"count\": 1, \"min\": 0.4921877079301653, \"max\": 0.4921877079301653}}}\u001b[0m\n",
      "\u001b[34m#metrics {\"StartTime\": 1659473064.9529874, \"EndTime\": 1659473064.9530053, \"Dimensions\": {\"Algorithm\": \"Linear Learner\", \"Host\": \"algo-1\", \"Operation\": \"training\", \"epoch\": 2, \"model\": 11}, \"Metrics\": {\"train_binary_classification_cross_entropy_objective\": {\"sum\": 0.49322554956371994, \"count\": 1, \"min\": 0.49322554956371994, \"max\": 0.49322554956371994}}}\u001b[0m\n",
      "\u001b[34m#metrics {\"StartTime\": 1659473064.953061, \"EndTime\": 1659473064.9530776, \"Dimensions\": {\"Algorithm\": \"Linear Learner\", \"Host\": \"algo-1\", \"Operation\": \"training\", \"epoch\": 2, \"model\": 12}, \"Metrics\": {\"train_binary_classification_cross_entropy_objective\": {\"sum\": 0.49330814356905967, \"count\": 1, \"min\": 0.49330814356905967, \"max\": 0.49330814356905967}}}\u001b[0m\n",
      "\u001b[34m#metrics {\"StartTime\": 1659473064.953132, \"EndTime\": 1659473064.9531476, \"Dimensions\": {\"Algorithm\": \"Linear Learner\", \"Host\": \"algo-1\", \"Operation\": \"training\", \"epoch\": 2, \"model\": 13}, \"Metrics\": {\"train_binary_classification_cross_entropy_objective\": {\"sum\": 0.5101096460418234, \"count\": 1, \"min\": 0.5101096460418234, \"max\": 0.5101096460418234}}}\u001b[0m\n",
      "\u001b[34m#metrics {\"StartTime\": 1659473064.9532008, \"EndTime\": 1659473064.9532173, \"Dimensions\": {\"Algorithm\": \"Linear Learner\", \"Host\": \"algo-1\", \"Operation\": \"training\", \"epoch\": 2, \"model\": 14}, \"Metrics\": {\"train_binary_classification_cross_entropy_objective\": {\"sum\": 0.4933081902086917, \"count\": 1, \"min\": 0.4933081902086917, \"max\": 0.4933081902086917}}}\u001b[0m\n",
      "\u001b[34m#metrics {\"StartTime\": 1659473064.9532757, \"EndTime\": 1659473064.9532974, \"Dimensions\": {\"Algorithm\": \"Linear Learner\", \"Host\": \"algo-1\", \"Operation\": \"training\", \"epoch\": 2, \"model\": 15}, \"Metrics\": {\"train_binary_classification_cross_entropy_objective\": {\"sum\": 0.5101097331849078, \"count\": 1, \"min\": 0.5101097331849078, \"max\": 0.5101097331849078}}}\u001b[0m\n",
      "\u001b[34m#metrics {\"StartTime\": 1659473064.953352, \"EndTime\": 1659473064.953367, \"Dimensions\": {\"Algorithm\": \"Linear Learner\", \"Host\": \"algo-1\", \"Operation\": \"training\", \"epoch\": 2, \"model\": 16}, \"Metrics\": {\"train_binary_classification_cross_entropy_objective\": {\"sum\": 0.5077509737393907, \"count\": 1, \"min\": 0.5077509737393907, \"max\": 0.5077509737393907}}}\u001b[0m\n",
      "\u001b[34m#metrics {\"StartTime\": 1659473064.9534197, \"EndTime\": 1659473064.953438, \"Dimensions\": {\"Algorithm\": \"Linear Learner\", \"Host\": \"algo-1\", \"Operation\": \"training\", \"epoch\": 2, \"model\": 17}, \"Metrics\": {\"train_binary_classification_cross_entropy_objective\": {\"sum\": 0.5080073618757616, \"count\": 1, \"min\": 0.5080073618757616, \"max\": 0.5080073618757616}}}\u001b[0m\n",
      "\u001b[34m#metrics {\"StartTime\": 1659473064.9534872, \"EndTime\": 1659473064.953502, \"Dimensions\": {\"Algorithm\": \"Linear Learner\", \"Host\": \"algo-1\", \"Operation\": \"training\", \"epoch\": 2, \"model\": 18}, \"Metrics\": {\"train_binary_classification_cross_entropy_objective\": {\"sum\": 0.507750987504965, \"count\": 1, \"min\": 0.507750987504965, \"max\": 0.507750987504965}}}\u001b[0m\n",
      "\u001b[34m#metrics {\"StartTime\": 1659473064.9535525, \"EndTime\": 1659473064.9535682, \"Dimensions\": {\"Algorithm\": \"Linear Learner\", \"Host\": \"algo-1\", \"Operation\": \"training\", \"epoch\": 2, \"model\": 19}, \"Metrics\": {\"train_binary_classification_cross_entropy_objective\": {\"sum\": 0.5080073474335743, \"count\": 1, \"min\": 0.5080073474335743, \"max\": 0.5080073474335743}}}\u001b[0m\n",
      "\u001b[34m#metrics {\"StartTime\": 1659473064.9536176, \"EndTime\": 1659473064.9536338, \"Dimensions\": {\"Algorithm\": \"Linear Learner\", \"Host\": \"algo-1\", \"Operation\": \"training\", \"epoch\": 2, \"model\": 20}, \"Metrics\": {\"train_binary_classification_cross_entropy_objective\": {\"sum\": 0.5079927017258578, \"count\": 1, \"min\": 0.5079927017258578, \"max\": 0.5079927017258578}}}\u001b[0m\n",
      "\u001b[34m#metrics {\"StartTime\": 1659473064.9536848, \"EndTime\": 1659473064.953699, \"Dimensions\": {\"Algorithm\": \"Linear Learner\", \"Host\": \"algo-1\", \"Operation\": \"training\", \"epoch\": 2, \"model\": 21}, \"Metrics\": {\"train_binary_classification_cross_entropy_objective\": {\"sum\": 0.5111410223351341, \"count\": 1, \"min\": 0.5111410223351341, \"max\": 0.5111410223351341}}}\u001b[0m\n",
      "\u001b[34m#metrics {\"StartTime\": 1659473064.9537516, \"EndTime\": 1659473064.953769, \"Dimensions\": {\"Algorithm\": \"Linear Learner\", \"Host\": \"algo-1\", \"Operation\": \"training\", \"epoch\": 2, \"model\": 22}, \"Metrics\": {\"train_binary_classification_cross_entropy_objective\": {\"sum\": 0.5079927019591726, \"count\": 1, \"min\": 0.5079927019591726, \"max\": 0.5079927019591726}}}\u001b[0m\n",
      "\u001b[34m#metrics {\"StartTime\": 1659473064.9538233, \"EndTime\": 1659473064.953841, \"Dimensions\": {\"Algorithm\": \"Linear Learner\", \"Host\": \"algo-1\", \"Operation\": \"training\", \"epoch\": 2, \"model\": 23}, \"Metrics\": {\"train_binary_classification_cross_entropy_objective\": {\"sum\": 0.511140954907152, \"count\": 1, \"min\": 0.511140954907152, \"max\": 0.511140954907152}}}\u001b[0m\n",
      "\u001b[34m#metrics {\"StartTime\": 1659473064.9538949, \"EndTime\": 1659473064.9539127, \"Dimensions\": {\"Algorithm\": \"Linear Learner\", \"Host\": \"algo-1\", \"Operation\": \"training\", \"epoch\": 2, \"model\": 24}, \"Metrics\": {\"train_binary_classification_cross_entropy_objective\": {\"sum\": 0.5137726303707204, \"count\": 1, \"min\": 0.5137726303707204, \"max\": 0.5137726303707204}}}\u001b[0m\n",
      "\u001b[34m#metrics {\"StartTime\": 1659473064.9539676, \"EndTime\": 1659473064.9539845, \"Dimensions\": {\"Algorithm\": \"Linear Learner\", \"Host\": \"algo-1\", \"Operation\": \"training\", \"epoch\": 2, \"model\": 25}, \"Metrics\": {\"train_binary_classification_cross_entropy_objective\": {\"sum\": 0.5138796543739622, \"count\": 1, \"min\": 0.5138796543739622, \"max\": 0.5138796543739622}}}\u001b[0m\n",
      "\u001b[34m#metrics {\"StartTime\": 1659473064.9540398, \"EndTime\": 1659473064.9540572, \"Dimensions\": {\"Algorithm\": \"Linear Learner\", \"Host\": \"algo-1\", \"Operation\": \"training\", \"epoch\": 2, \"model\": 26}, \"Metrics\": {\"train_binary_classification_cross_entropy_objective\": {\"sum\": 0.5137727815820536, \"count\": 1, \"min\": 0.5137727815820536, \"max\": 0.5137727815820536}}}\u001b[0m\n",
      "\u001b[34m#metrics {\"StartTime\": 1659473064.954112, \"EndTime\": 1659473064.9541276, \"Dimensions\": {\"Algorithm\": \"Linear Learner\", \"Host\": \"algo-1\", \"Operation\": \"training\", \"epoch\": 2, \"model\": 27}, \"Metrics\": {\"train_binary_classification_cross_entropy_objective\": {\"sum\": 0.5138791862511124, \"count\": 1, \"min\": 0.5138791862511124, \"max\": 0.5138791862511124}}}\u001b[0m\n",
      "\u001b[34m#metrics {\"StartTime\": 1659473064.9541812, \"EndTime\": 1659473064.9541984, \"Dimensions\": {\"Algorithm\": \"Linear Learner\", \"Host\": \"algo-1\", \"Operation\": \"training\", \"epoch\": 2, \"model\": 28}, \"Metrics\": {\"train_binary_classification_cross_entropy_objective\": {\"sum\": 0.5138749388248549, \"count\": 1, \"min\": 0.5138749388248549, \"max\": 0.5138749388248549}}}\u001b[0m\n",
      "\u001b[34m#metrics {\"StartTime\": 1659473064.9542525, \"EndTime\": 1659473064.9542692, \"Dimensions\": {\"Algorithm\": \"Linear Learner\", \"Host\": \"algo-1\", \"Operation\": \"training\", \"epoch\": 2, \"model\": 29}, \"Metrics\": {\"train_binary_classification_cross_entropy_objective\": {\"sum\": 0.5150606114798729, \"count\": 1, \"min\": 0.5150606114798729, \"max\": 0.5150606114798729}}}\u001b[0m\n",
      "\u001b[34m#metrics {\"StartTime\": 1659473064.954322, \"EndTime\": 1659473064.9543374, \"Dimensions\": {\"Algorithm\": \"Linear Learner\", \"Host\": \"algo-1\", \"Operation\": \"training\", \"epoch\": 2, \"model\": 30}, \"Metrics\": {\"train_binary_classification_cross_entropy_objective\": {\"sum\": 0.5138752165861451, \"count\": 1, \"min\": 0.5138752165861451, \"max\": 0.5138752165861451}}}\u001b[0m\n",
      "\u001b[34m#metrics {\"StartTime\": 1659473064.954387, \"EndTime\": 1659473064.954401, \"Dimensions\": {\"Algorithm\": \"Linear Learner\", \"Host\": \"algo-1\", \"Operation\": \"training\", \"epoch\": 2, \"model\": 31}, \"Metrics\": {\"train_binary_classification_cross_entropy_objective\": {\"sum\": 0.5150607566250209, \"count\": 1, \"min\": 0.5150607566250209, \"max\": 0.5150607566250209}}}\u001b[0m\n",
      "\u001b[34m[08/02/2022 20:44:24 INFO 140651768051520] #quality_metric: host=algo-1, epoch=2, train binary_classification_cross_entropy_objective <loss>=0.4919824004800312\u001b[0m\n",
      "\u001b[34m[2022-08-02 20:44:30.261] [tensorio] [info] epoch_stats={\"data_pipeline\": \"/opt/ml/input/data/validation\", \"epoch\": 8, \"duration\": 5279, \"num_examples\": 164, \"num_bytes\": 68694780}\u001b[0m\n",
      "\u001b[34m#metrics {\"StartTime\": 1659473070.2707975, \"EndTime\": 1659473070.2708669, \"Dimensions\": {\"Algorithm\": \"Linear Learner\", \"Host\": \"algo-1\", \"Operation\": \"training\", \"epoch\": 2, \"model\": 0}, \"Metrics\": {\"validation_binary_classification_cross_entropy_objective\": {\"sum\": 0.49240952140287486, \"count\": 1, \"min\": 0.49240952140287486, \"max\": 0.49240952140287486}}}\u001b[0m\n",
      "\u001b[34m#metrics {\"StartTime\": 1659473070.270962, \"EndTime\": 1659473070.270985, \"Dimensions\": {\"Algorithm\": \"Linear Learner\", \"Host\": \"algo-1\", \"Operation\": \"training\", \"epoch\": 2, \"model\": 1}, \"Metrics\": {\"validation_binary_classification_cross_entropy_objective\": {\"sum\": 0.4943024462123688, \"count\": 1, \"min\": 0.4943024462123688, \"max\": 0.4943024462123688}}}\u001b[0m\n",
      "\u001b[34m#metrics {\"StartTime\": 1659473070.2710557, \"EndTime\": 1659473070.2710755, \"Dimensions\": {\"Algorithm\": \"Linear Learner\", \"Host\": \"algo-1\", \"Operation\": \"training\", \"epoch\": 2, \"model\": 2}, \"Metrics\": {\"validation_binary_classification_cross_entropy_objective\": {\"sum\": 0.4924125940768125, \"count\": 1, \"min\": 0.4924125940768125, \"max\": 0.4924125940768125}}}\u001b[0m\n",
      "\u001b[34m#metrics {\"StartTime\": 1659473070.2711375, \"EndTime\": 1659473070.2711556, \"Dimensions\": {\"Algorithm\": \"Linear Learner\", \"Host\": \"algo-1\", \"Operation\": \"training\", \"epoch\": 2, \"model\": 3}, \"Metrics\": {\"validation_binary_classification_cross_entropy_objective\": {\"sum\": 0.4943027137745759, \"count\": 1, \"min\": 0.4943027137745759, \"max\": 0.4943027137745759}}}\u001b[0m\n",
      "\u001b[34m#metrics {\"StartTime\": 1659473070.2712128, \"EndTime\": 1659473070.2712307, \"Dimensions\": {\"Algorithm\": \"Linear Learner\", \"Host\": \"algo-1\", \"Operation\": \"training\", \"epoch\": 2, \"model\": 4}, \"Metrics\": {\"validation_binary_classification_cross_entropy_objective\": {\"sum\": 0.49321276106070666, \"count\": 1, \"min\": 0.49321276106070666, \"max\": 0.49321276106070666}}}\u001b[0m\n",
      "\u001b[34m#metrics {\"StartTime\": 1659473070.271287, \"EndTime\": 1659473070.2712996, \"Dimensions\": {\"Algorithm\": \"Linear Learner\", \"Host\": \"algo-1\", \"Operation\": \"training\", \"epoch\": 2, \"model\": 5}, \"Metrics\": {\"validation_binary_classification_cross_entropy_objective\": {\"sum\": 0.505183111894721, \"count\": 1, \"min\": 0.505183111894721, \"max\": 0.505183111894721}}}\u001b[0m\n",
      "\u001b[34m#metrics {\"StartTime\": 1659473070.2713306, \"EndTime\": 1659473070.27134, \"Dimensions\": {\"Algorithm\": \"Linear Learner\", \"Host\": \"algo-1\", \"Operation\": \"training\", \"epoch\": 2, \"model\": 6}, \"Metrics\": {\"validation_binary_classification_cross_entropy_objective\": {\"sum\": 0.4932126772842555, \"count\": 1, \"min\": 0.4932126772842555, \"max\": 0.4932126772842555}}}\u001b[0m\n",
      "\u001b[34m#metrics {\"StartTime\": 1659473070.2713833, \"EndTime\": 1659473070.2713976, \"Dimensions\": {\"Algorithm\": \"Linear Learner\", \"Host\": \"algo-1\", \"Operation\": \"training\", \"epoch\": 2, \"model\": 7}, \"Metrics\": {\"validation_binary_classification_cross_entropy_objective\": {\"sum\": 0.5051829878160127, \"count\": 1, \"min\": 0.5051829878160127, \"max\": 0.5051829878160127}}}\u001b[0m\n",
      "\u001b[34m#metrics {\"StartTime\": 1659473070.2714481, \"EndTime\": 1659473070.2714639, \"Dimensions\": {\"Algorithm\": \"Linear Learner\", \"Host\": \"algo-1\", \"Operation\": \"training\", \"epoch\": 2, \"model\": 8}, \"Metrics\": {\"validation_binary_classification_cross_entropy_objective\": {\"sum\": 0.49253972717378075, \"count\": 1, \"min\": 0.49253972717378075, \"max\": 0.49253972717378075}}}\u001b[0m\n",
      "\u001b[34m#metrics {\"StartTime\": 1659473070.2714953, \"EndTime\": 1659473070.2715044, \"Dimensions\": {\"Algorithm\": \"Linear Learner\", \"Host\": \"algo-1\", \"Operation\": \"training\", \"epoch\": 2, \"model\": 9}, \"Metrics\": {\"validation_binary_classification_cross_entropy_objective\": {\"sum\": 0.4944329189857282, \"count\": 1, \"min\": 0.4944329189857282, \"max\": 0.4944329189857282}}}\u001b[0m\n",
      "\u001b[34m#metrics {\"StartTime\": 1659473070.2715304, \"EndTime\": 1659473070.2715387, \"Dimensions\": {\"Algorithm\": \"Linear Learner\", \"Host\": \"algo-1\", \"Operation\": \"training\", \"epoch\": 2, \"model\": 10}, \"Metrics\": {\"validation_binary_classification_cross_entropy_objective\": {\"sum\": 0.49253963910588555, \"count\": 1, \"min\": 0.49253963910588555, \"max\": 0.49253963910588555}}}\u001b[0m\n",
      "\u001b[34m#metrics {\"StartTime\": 1659473070.2715642, \"EndTime\": 1659473070.271575, \"Dimensions\": {\"Algorithm\": \"Linear Learner\", \"Host\": \"algo-1\", \"Operation\": \"training\", \"epoch\": 2, \"model\": 11}, \"Metrics\": {\"validation_binary_classification_cross_entropy_objective\": {\"sum\": 0.49443295369044965, \"count\": 1, \"min\": 0.49443295369044965, \"max\": 0.49443295369044965}}}\u001b[0m\n",
      "\u001b[34m#metrics {\"StartTime\": 1659473070.2716184, \"EndTime\": 1659473070.2716284, \"Dimensions\": {\"Algorithm\": \"Linear Learner\", \"Host\": \"algo-1\", \"Operation\": \"training\", \"epoch\": 2, \"model\": 12}, \"Metrics\": {\"validation_binary_classification_cross_entropy_objective\": {\"sum\": 0.4933633528700963, \"count\": 1, \"min\": 0.4933633528700963, \"max\": 0.4933633528700963}}}\u001b[0m\n",
      "\u001b[34m#metrics {\"StartTime\": 1659473070.271655, \"EndTime\": 1659473070.271663, \"Dimensions\": {\"Algorithm\": \"Linear Learner\", \"Host\": \"algo-1\", \"Operation\": \"training\", \"epoch\": 2, \"model\": 13}, \"Metrics\": {\"validation_binary_classification_cross_entropy_objective\": {\"sum\": 0.5037674044327205, \"count\": 1, \"min\": 0.5037674044327205, \"max\": 0.5037674044327205}}}\u001b[0m\n",
      "\u001b[34m#metrics {\"StartTime\": 1659473070.2716978, \"EndTime\": 1659473070.2717118, \"Dimensions\": {\"Algorithm\": \"Linear Learner\", \"Host\": \"algo-1\", \"Operation\": \"training\", \"epoch\": 2, \"model\": 14}, \"Metrics\": {\"validation_binary_classification_cross_entropy_objective\": {\"sum\": 0.4933634077259463, \"count\": 1, \"min\": 0.4933634077259463, \"max\": 0.4933634077259463}}}\u001b[0m\n",
      "\u001b[34m#metrics {\"StartTime\": 1659473070.2717488, \"EndTime\": 1659473070.2717583, \"Dimensions\": {\"Algorithm\": \"Linear Learner\", \"Host\": \"algo-1\", \"Operation\": \"training\", \"epoch\": 2, \"model\": 15}, \"Metrics\": {\"validation_binary_classification_cross_entropy_objective\": {\"sum\": 0.5037671411619574, \"count\": 1, \"min\": 0.5037671411619574, \"max\": 0.5037671411619574}}}\u001b[0m\n",
      "\u001b[34m#metrics {\"StartTime\": 1659473070.2717848, \"EndTime\": 1659473070.2717927, \"Dimensions\": {\"Algorithm\": \"Linear Learner\", \"Host\": \"algo-1\", \"Operation\": \"training\", \"epoch\": 2, \"model\": 16}, \"Metrics\": {\"validation_binary_classification_cross_entropy_objective\": {\"sum\": 0.5078233267535769, \"count\": 1, \"min\": 0.5078233267535769, \"max\": 0.5078233267535769}}}\u001b[0m\n",
      "\u001b[34m#metrics {\"StartTime\": 1659473070.2718177, \"EndTime\": 1659473070.2718256, \"Dimensions\": {\"Algorithm\": \"Linear Learner\", \"Host\": \"algo-1\", \"Operation\": \"training\", \"epoch\": 2, \"model\": 17}, \"Metrics\": {\"validation_binary_classification_cross_entropy_objective\": {\"sum\": 0.5090272404433736, \"count\": 1, \"min\": 0.5090272404433736, \"max\": 0.5090272404433736}}}\u001b[0m\n",
      "\u001b[34m#metrics {\"StartTime\": 1659473070.2718513, \"EndTime\": 1659473070.2718592, \"Dimensions\": {\"Algorithm\": \"Linear Learner\", \"Host\": \"algo-1\", \"Operation\": \"training\", \"epoch\": 2, \"model\": 18}, \"Metrics\": {\"validation_binary_classification_cross_entropy_objective\": {\"sum\": 0.507824304269897, \"count\": 1, \"min\": 0.507824304269897, \"max\": 0.507824304269897}}}\u001b[0m\n",
      "\u001b[34m#metrics {\"StartTime\": 1659473070.2718842, \"EndTime\": 1659473070.2718923, \"Dimensions\": {\"Algorithm\": \"Linear Learner\", \"Host\": \"algo-1\", \"Operation\": \"training\", \"epoch\": 2, \"model\": 19}, \"Metrics\": {\"validation_binary_classification_cross_entropy_objective\": {\"sum\": 0.5090266644569487, \"count\": 1, \"min\": 0.5090266644569487, \"max\": 0.5090266644569487}}}\u001b[0m\n",
      "\u001b[34m#metrics {\"StartTime\": 1659473070.2719176, \"EndTime\": 1659473070.2719252, \"Dimensions\": {\"Algorithm\": \"Linear Learner\", \"Host\": \"algo-1\", \"Operation\": \"training\", \"epoch\": 2, \"model\": 20}, \"Metrics\": {\"validation_binary_classification_cross_entropy_objective\": {\"sum\": 0.5083206092141731, \"count\": 1, \"min\": 0.5083206092141731, \"max\": 0.5083206092141731}}}\u001b[0m\n",
      "\u001b[34m#metrics {\"StartTime\": 1659473070.271951, \"EndTime\": 1659473070.2719588, \"Dimensions\": {\"Algorithm\": \"Linear Learner\", \"Host\": \"algo-1\", \"Operation\": \"training\", \"epoch\": 2, \"model\": 21}, \"Metrics\": {\"validation_binary_classification_cross_entropy_objective\": {\"sum\": 0.5115523975824712, \"count\": 1, \"min\": 0.5115523975824712, \"max\": 0.5115523975824712}}}\u001b[0m\n",
      "\u001b[34m#metrics {\"StartTime\": 1659473070.2719839, \"EndTime\": 1659473070.2719917, \"Dimensions\": {\"Algorithm\": \"Linear Learner\", \"Host\": \"algo-1\", \"Operation\": \"training\", \"epoch\": 2, \"model\": 22}, \"Metrics\": {\"validation_binary_classification_cross_entropy_objective\": {\"sum\": 0.5083205866374457, \"count\": 1, \"min\": 0.5083205866374457, \"max\": 0.5083205866374457}}}\u001b[0m\n",
      "\u001b[34m#metrics {\"StartTime\": 1659473070.2720172, \"EndTime\": 1659473070.272025, \"Dimensions\": {\"Algorithm\": \"Linear Learner\", \"Host\": \"algo-1\", \"Operation\": \"training\", \"epoch\": 2, \"model\": 23}, \"Metrics\": {\"validation_binary_classification_cross_entropy_objective\": {\"sum\": 0.5115524765077247, \"count\": 1, \"min\": 0.5115524765077247, \"max\": 0.5115524765077247}}}\u001b[0m\n",
      "\u001b[34m#metrics {\"StartTime\": 1659473070.27205, \"EndTime\": 1659473070.2720578, \"Dimensions\": {\"Algorithm\": \"Linear Learner\", \"Host\": \"algo-1\", \"Operation\": \"training\", \"epoch\": 2, \"model\": 24}, \"Metrics\": {\"validation_binary_classification_cross_entropy_objective\": {\"sum\": 0.5137737378354056, \"count\": 1, \"min\": 0.5137737378354056, \"max\": 0.5137737378354056}}}\u001b[0m\n",
      "\u001b[34m#metrics {\"StartTime\": 1659473070.272083, \"EndTime\": 1659473070.272091, \"Dimensions\": {\"Algorithm\": \"Linear Learner\", \"Host\": \"algo-1\", \"Operation\": \"training\", \"epoch\": 2, \"model\": 25}, \"Metrics\": {\"validation_binary_classification_cross_entropy_objective\": {\"sum\": 0.5145089450441765, \"count\": 1, \"min\": 0.5145089450441765, \"max\": 0.5145089450441765}}}\u001b[0m\n",
      "\u001b[34m#metrics {\"StartTime\": 1659473070.272132, \"EndTime\": 1659473070.2721477, \"Dimensions\": {\"Algorithm\": \"Linear Learner\", \"Host\": \"algo-1\", \"Operation\": \"training\", \"epoch\": 2, \"model\": 26}, \"Metrics\": {\"validation_binary_classification_cross_entropy_objective\": {\"sum\": 0.5137722177312903, \"count\": 1, \"min\": 0.5137722177312903, \"max\": 0.5137722177312903}}}\u001b[0m\n",
      "\u001b[34m#metrics {\"StartTime\": 1659473070.2721808, \"EndTime\": 1659473070.2721896, \"Dimensions\": {\"Algorithm\": \"Linear Learner\", \"Host\": \"algo-1\", \"Operation\": \"training\", \"epoch\": 2, \"model\": 27}, \"Metrics\": {\"validation_binary_classification_cross_entropy_objective\": {\"sum\": 0.5145140615649876, \"count\": 1, \"min\": 0.5145140615649876, \"max\": 0.5145140615649876}}}\u001b[0m\n",
      "\u001b[34m#metrics {\"StartTime\": 1659473070.2722156, \"EndTime\": 1659473070.2722232, \"Dimensions\": {\"Algorithm\": \"Linear Learner\", \"Host\": \"algo-1\", \"Operation\": \"training\", \"epoch\": 2, \"model\": 28}, \"Metrics\": {\"validation_binary_classification_cross_entropy_objective\": {\"sum\": 0.5139704615487927, \"count\": 1, \"min\": 0.5139704615487927, \"max\": 0.5139704615487927}}}\u001b[0m\n",
      "\u001b[34m#metrics {\"StartTime\": 1659473070.2722483, \"EndTime\": 1659473070.272256, \"Dimensions\": {\"Algorithm\": \"Linear Learner\", \"Host\": \"algo-1\", \"Operation\": \"training\", \"epoch\": 2, \"model\": 29}, \"Metrics\": {\"validation_binary_classification_cross_entropy_objective\": {\"sum\": 0.513985681434982, \"count\": 1, \"min\": 0.513985681434982, \"max\": 0.513985681434982}}}\u001b[0m\n",
      "\u001b[34m#metrics {\"StartTime\": 1659473070.272281, \"EndTime\": 1659473070.2722888, \"Dimensions\": {\"Algorithm\": \"Linear Learner\", \"Host\": \"algo-1\", \"Operation\": \"training\", \"epoch\": 2, \"model\": 30}, \"Metrics\": {\"validation_binary_classification_cross_entropy_objective\": {\"sum\": 0.5139803255262269, \"count\": 1, \"min\": 0.5139803255262269, \"max\": 0.5139803255262269}}}\u001b[0m\n",
      "\u001b[34m#metrics {\"StartTime\": 1659473070.2723136, \"EndTime\": 1659473070.2723215, \"Dimensions\": {\"Algorithm\": \"Linear Learner\", \"Host\": \"algo-1\", \"Operation\": \"training\", \"epoch\": 2, \"model\": 31}, \"Metrics\": {\"validation_binary_classification_cross_entropy_objective\": {\"sum\": 0.5139856293778998, \"count\": 1, \"min\": 0.5139856293778998, \"max\": 0.5139856293778998}}}\u001b[0m\n",
      "\u001b[34m[08/02/2022 20:44:30 INFO 140651768051520] #quality_metric: host=algo-1, epoch=2, validation binary_classification_cross_entropy_objective <loss>=0.49240952140287486\u001b[0m\n",
      "\u001b[34m[08/02/2022 20:44:30 INFO 140651768051520] #early_stopping_criteria_metric: host=algo-1, epoch=2, criteria=binary_classification_cross_entropy_objective, value=0.49240952140287486\u001b[0m\n",
      "\u001b[34m[08/02/2022 20:44:30 INFO 140651768051520] Saving model for epoch: 2\u001b[0m\n",
      "\u001b[34m[08/02/2022 20:44:30 INFO 140651768051520] Saved checkpoint to \"/tmp/tmpmdtmtqy2/mx-mod-0000.params\"\u001b[0m\n",
      "\u001b[34m[08/02/2022 20:44:30 INFO 140651768051520] #progress_metric: host=algo-1, completed 20.0 % of epochs\u001b[0m\n",
      "\u001b[34m#metrics {\"StartTime\": 1659473005.615336, \"EndTime\": 1659473070.2822654, \"Dimensions\": {\"Algorithm\": \"Linear Learner\", \"Host\": \"algo-1\", \"Operation\": \"training\", \"epoch\": 2, \"Meta\": \"training_data_iter\"}, \"Metrics\": {\"Total Records Seen\": {\"sum\": 3937416.0, \"count\": 1, \"min\": 3937416, \"max\": 3937416}, \"Total Batches Seen\": {\"sum\": 3939.0, \"count\": 1, \"min\": 3939, \"max\": 3939}, \"Max Records Seen Between Resets\": {\"sum\": 1308472.0, \"count\": 1, \"min\": 1308472, \"max\": 1308472}, \"Max Batches Seen Between Resets\": {\"sum\": 1309.0, \"count\": 1, \"min\": 1309, \"max\": 1309}, \"Reset Count\": {\"sum\": 5.0, \"count\": 1, \"min\": 5, \"max\": 5}, \"Number of Records Since Last Reset\": {\"sum\": 1308472.0, \"count\": 1, \"min\": 1308472, \"max\": 1308472}, \"Number of Batches Since Last Reset\": {\"sum\": 1309.0, \"count\": 1, \"min\": 1309, \"max\": 1309}}}\u001b[0m\n",
      "\u001b[34m[08/02/2022 20:44:30 INFO 140651768051520] #throughput_metric: host=algo-1, train throughput=20233.969831736642 records/second\u001b[0m\n",
      "\u001b[34m[2022-08-02 20:45:29.711] [tensorio] [info] epoch_stats={\"data_pipeline\": \"/opt/ml/input/data/train\", \"epoch\": 9, \"duration\": 59414, \"num_examples\": 1309, \"num_bytes\": 549558240}\u001b[0m\n",
      "\u001b[34m#metrics {\"StartTime\": 1659473129.7119405, \"EndTime\": 1659473129.7120616, \"Dimensions\": {\"Algorithm\": \"Linear Learner\", \"Host\": \"algo-1\", \"Operation\": \"training\", \"epoch\": 3, \"model\": 0}, \"Metrics\": {\"train_binary_classification_cross_entropy_objective\": {\"sum\": 0.49191123311454005, \"count\": 1, \"min\": 0.49191123311454005, \"max\": 0.49191123311454005}}}\u001b[0m\n",
      "\u001b[34m#metrics {\"StartTime\": 1659473129.712186, \"EndTime\": 1659473129.7122114, \"Dimensions\": {\"Algorithm\": \"Linear Learner\", \"Host\": \"algo-1\", \"Operation\": \"training\", \"epoch\": 3, \"model\": 1}, \"Metrics\": {\"train_binary_classification_cross_entropy_objective\": {\"sum\": 0.4929217395140855, \"count\": 1, \"min\": 0.4929217395140855, \"max\": 0.4929217395140855}}}\u001b[0m\n",
      "\u001b[34m#metrics {\"StartTime\": 1659473129.7122867, \"EndTime\": 1659473129.71231, \"Dimensions\": {\"Algorithm\": \"Linear Learner\", \"Host\": \"algo-1\", \"Operation\": \"training\", \"epoch\": 3, \"model\": 2}, \"Metrics\": {\"train_binary_classification_cross_entropy_objective\": {\"sum\": 0.49193401154684363, \"count\": 1, \"min\": 0.49193401154684363, \"max\": 0.49193401154684363}}}\u001b[0m\n",
      "\u001b[34m#metrics {\"StartTime\": 1659473129.7123747, \"EndTime\": 1659473129.712393, \"Dimensions\": {\"Algorithm\": \"Linear Learner\", \"Host\": \"algo-1\", \"Operation\": \"training\", \"epoch\": 3, \"model\": 3}, \"Metrics\": {\"train_binary_classification_cross_entropy_objective\": {\"sum\": 0.4929212436267724, \"count\": 1, \"min\": 0.4929212436267724, \"max\": 0.4929212436267724}}}\u001b[0m\n",
      "\u001b[34m#metrics {\"StartTime\": 1659473129.7124527, \"EndTime\": 1659473129.7124715, \"Dimensions\": {\"Algorithm\": \"Linear Learner\", \"Host\": \"algo-1\", \"Operation\": \"training\", \"epoch\": 3, \"model\": 4}, \"Metrics\": {\"train_binary_classification_cross_entropy_objective\": {\"sum\": 0.49223809072512004, \"count\": 1, \"min\": 0.49223809072512004, \"max\": 0.49223809072512004}}}\u001b[0m\n",
      "\u001b[34m#metrics {\"StartTime\": 1659473129.712527, \"EndTime\": 1659473129.7125454, \"Dimensions\": {\"Algorithm\": \"Linear Learner\", \"Host\": \"algo-1\", \"Operation\": \"training\", \"epoch\": 3, \"model\": 5}, \"Metrics\": {\"train_binary_classification_cross_entropy_objective\": {\"sum\": 0.5089342816787393, \"count\": 1, \"min\": 0.5089342816787393, \"max\": 0.5089342816787393}}}\u001b[0m\n",
      "\u001b[34m#metrics {\"StartTime\": 1659473129.7126, \"EndTime\": 1659473129.7126174, \"Dimensions\": {\"Algorithm\": \"Linear Learner\", \"Host\": \"algo-1\", \"Operation\": \"training\", \"epoch\": 3, \"model\": 6}, \"Metrics\": {\"train_binary_classification_cross_entropy_objective\": {\"sum\": 0.492238085638857, \"count\": 1, \"min\": 0.492238085638857, \"max\": 0.492238085638857}}}\u001b[0m\n",
      "\u001b[34m#metrics {\"StartTime\": 1659473129.712678, \"EndTime\": 1659473129.7126966, \"Dimensions\": {\"Algorithm\": \"Linear Learner\", \"Host\": \"algo-1\", \"Operation\": \"training\", \"epoch\": 3, \"model\": 7}, \"Metrics\": {\"train_binary_classification_cross_entropy_objective\": {\"sum\": 0.508934315276073, \"count\": 1, \"min\": 0.508934315276073, \"max\": 0.508934315276073}}}\u001b[0m\n",
      "\u001b[34m#metrics {\"StartTime\": 1659473129.712753, \"EndTime\": 1659473129.7127714, \"Dimensions\": {\"Algorithm\": \"Linear Learner\", \"Host\": \"algo-1\", \"Operation\": \"training\", \"epoch\": 3, \"model\": 8}, \"Metrics\": {\"train_binary_classification_cross_entropy_objective\": {\"sum\": 0.49212016732685426, \"count\": 1, \"min\": 0.49212016732685426, \"max\": 0.49212016732685426}}}\u001b[0m\n",
      "\u001b[34m#metrics {\"StartTime\": 1659473129.7128289, \"EndTime\": 1659473129.7128468, \"Dimensions\": {\"Algorithm\": \"Linear Learner\", \"Host\": \"algo-1\", \"Operation\": \"training\", \"epoch\": 3, \"model\": 9}, \"Metrics\": {\"train_binary_classification_cross_entropy_objective\": {\"sum\": 0.49309590347243376, \"count\": 1, \"min\": 0.49309590347243376, \"max\": 0.49309590347243376}}}\u001b[0m\n",
      "\u001b[34m#metrics {\"StartTime\": 1659473129.712906, \"EndTime\": 1659473129.7129223, \"Dimensions\": {\"Algorithm\": \"Linear Learner\", \"Host\": \"algo-1\", \"Operation\": \"training\", \"epoch\": 3, \"model\": 10}, \"Metrics\": {\"train_binary_classification_cross_entropy_objective\": {\"sum\": 0.4921357209558516, \"count\": 1, \"min\": 0.4921357209558516, \"max\": 0.4921357209558516}}}\u001b[0m\n",
      "\u001b[34m#metrics {\"StartTime\": 1659473129.7129798, \"EndTime\": 1659473129.7129974, \"Dimensions\": {\"Algorithm\": \"Linear Learner\", \"Host\": \"algo-1\", \"Operation\": \"training\", \"epoch\": 3, \"model\": 11}, \"Metrics\": {\"train_binary_classification_cross_entropy_objective\": {\"sum\": 0.4930959051056375, \"count\": 1, \"min\": 0.4930959051056375, \"max\": 0.4930959051056375}}}\u001b[0m\n",
      "\u001b[34m#metrics {\"StartTime\": 1659473129.7130518, \"EndTime\": 1659473129.7130692, \"Dimensions\": {\"Algorithm\": \"Linear Learner\", \"Host\": \"algo-1\", \"Operation\": \"training\", \"epoch\": 3, \"model\": 12}, \"Metrics\": {\"train_binary_classification_cross_entropy_objective\": {\"sum\": 0.49244677715709817, \"count\": 1, \"min\": 0.49244677715709817, \"max\": 0.49244677715709817}}}\u001b[0m\n",
      "\u001b[34m#metrics {\"StartTime\": 1659473129.7131226, \"EndTime\": 1659473129.7131393, \"Dimensions\": {\"Algorithm\": \"Linear Learner\", \"Host\": \"algo-1\", \"Operation\": \"training\", \"epoch\": 3, \"model\": 13}, \"Metrics\": {\"train_binary_classification_cross_entropy_objective\": {\"sum\": 0.50798538163678, \"count\": 1, \"min\": 0.50798538163678, \"max\": 0.50798538163678}}}\u001b[0m\n",
      "\u001b[34m#metrics {\"StartTime\": 1659473129.7131908, \"EndTime\": 1659473129.7132068, \"Dimensions\": {\"Algorithm\": \"Linear Learner\", \"Host\": \"algo-1\", \"Operation\": \"training\", \"epoch\": 3, \"model\": 14}, \"Metrics\": {\"train_binary_classification_cross_entropy_objective\": {\"sum\": 0.4924467792569315, \"count\": 1, \"min\": 0.4924467792569315, \"max\": 0.4924467792569315}}}\u001b[0m\n",
      "\u001b[34m#metrics {\"StartTime\": 1659473129.7132652, \"EndTime\": 1659473129.7132835, \"Dimensions\": {\"Algorithm\": \"Linear Learner\", \"Host\": \"algo-1\", \"Operation\": \"training\", \"epoch\": 3, \"model\": 15}, \"Metrics\": {\"train_binary_classification_cross_entropy_objective\": {\"sum\": 0.5079853963822765, \"count\": 1, \"min\": 0.5079853963822765, \"max\": 0.5079853963822765}}}\u001b[0m\n",
      "\u001b[34m#metrics {\"StartTime\": 1659473129.7133412, \"EndTime\": 1659473129.71336, \"Dimensions\": {\"Algorithm\": \"Linear Learner\", \"Host\": \"algo-1\", \"Operation\": \"training\", \"epoch\": 3, \"model\": 16}, \"Metrics\": {\"train_binary_classification_cross_entropy_objective\": {\"sum\": 0.5077356061089658, \"count\": 1, \"min\": 0.5077356061089658, \"max\": 0.5077356061089658}}}\u001b[0m\n",
      "\u001b[34m#metrics {\"StartTime\": 1659473129.7134168, \"EndTime\": 1659473129.7134352, \"Dimensions\": {\"Algorithm\": \"Linear Learner\", \"Host\": \"algo-1\", \"Operation\": \"training\", \"epoch\": 3, \"model\": 17}, \"Metrics\": {\"train_binary_classification_cross_entropy_objective\": {\"sum\": 0.5079760055308677, \"count\": 1, \"min\": 0.5079760055308677, \"max\": 0.5079760055308677}}}\u001b[0m\n",
      "\u001b[34m#metrics {\"StartTime\": 1659473129.7134917, \"EndTime\": 1659473129.7135093, \"Dimensions\": {\"Algorithm\": \"Linear Learner\", \"Host\": \"algo-1\", \"Operation\": \"training\", \"epoch\": 3, \"model\": 18}, \"Metrics\": {\"train_binary_classification_cross_entropy_objective\": {\"sum\": 0.5077413026535548, \"count\": 1, \"min\": 0.5077413026535548, \"max\": 0.5077413026535548}}}\u001b[0m\n",
      "\u001b[34m#metrics {\"StartTime\": 1659473129.7135649, \"EndTime\": 1659473129.7135825, \"Dimensions\": {\"Algorithm\": \"Linear Learner\", \"Host\": \"algo-1\", \"Operation\": \"training\", \"epoch\": 3, \"model\": 19}, \"Metrics\": {\"train_binary_classification_cross_entropy_objective\": {\"sum\": 0.5079760026144325, \"count\": 1, \"min\": 0.5079760026144325, \"max\": 0.5079760026144325}}}\u001b[0m\n",
      "\u001b[34m#metrics {\"StartTime\": 1659473129.7136478, \"EndTime\": 1659473129.7136652, \"Dimensions\": {\"Algorithm\": \"Linear Learner\", \"Host\": \"algo-1\", \"Operation\": \"training\", \"epoch\": 3, \"model\": 20}, \"Metrics\": {\"train_binary_classification_cross_entropy_objective\": {\"sum\": 0.5078009485600556, \"count\": 1, \"min\": 0.5078009485600556, \"max\": 0.5078009485600556}}}\u001b[0m\n",
      "\u001b[34m#metrics {\"StartTime\": 1659473129.7137208, \"EndTime\": 1659473129.7137368, \"Dimensions\": {\"Algorithm\": \"Linear Learner\", \"Host\": \"algo-1\", \"Operation\": \"training\", \"epoch\": 3, \"model\": 21}, \"Metrics\": {\"train_binary_classification_cross_entropy_objective\": {\"sum\": 0.5106940966964861, \"count\": 1, \"min\": 0.5106940966964861, \"max\": 0.5106940966964861}}}\u001b[0m\n",
      "\u001b[34m#metrics {\"StartTime\": 1659473129.7137885, \"EndTime\": 1659473129.713806, \"Dimensions\": {\"Algorithm\": \"Linear Learner\", \"Host\": \"algo-1\", \"Operation\": \"training\", \"epoch\": 3, \"model\": 22}, \"Metrics\": {\"train_binary_classification_cross_entropy_objective\": {\"sum\": 0.5078009496333038, \"count\": 1, \"min\": 0.5078009496333038, \"max\": 0.5078009496333038}}}\u001b[0m\n",
      "\u001b[34m#metrics {\"StartTime\": 1659473129.7138617, \"EndTime\": 1659473129.7138782, \"Dimensions\": {\"Algorithm\": \"Linear Learner\", \"Host\": \"algo-1\", \"Operation\": \"training\", \"epoch\": 3, \"model\": 23}, \"Metrics\": {\"train_binary_classification_cross_entropy_objective\": {\"sum\": 0.5106940952965973, \"count\": 1, \"min\": 0.5106940952965973, \"max\": 0.5106940952965973}}}\u001b[0m\n",
      "\u001b[34m#metrics {\"StartTime\": 1659473129.7139363, \"EndTime\": 1659473129.7139542, \"Dimensions\": {\"Algorithm\": \"Linear Learner\", \"Host\": \"algo-1\", \"Operation\": \"training\", \"epoch\": 3, \"model\": 24}, \"Metrics\": {\"train_binary_classification_cross_entropy_objective\": {\"sum\": 0.5137678640289773, \"count\": 1, \"min\": 0.5137678640289773, \"max\": 0.5137678640289773}}}\u001b[0m\n",
      "\u001b[34m#metrics {\"StartTime\": 1659473129.71401, \"EndTime\": 1659473129.7140267, \"Dimensions\": {\"Algorithm\": \"Linear Learner\", \"Host\": \"algo-1\", \"Operation\": \"training\", \"epoch\": 3, \"model\": 25}, \"Metrics\": {\"train_binary_classification_cross_entropy_objective\": {\"sum\": 0.5138673676890335, \"count\": 1, \"min\": 0.5138673676890335, \"max\": 0.5138673676890335}}}\u001b[0m\n",
      "\u001b[34m#metrics {\"StartTime\": 1659473129.7140827, \"EndTime\": 1659473129.7141004, \"Dimensions\": {\"Algorithm\": \"Linear Learner\", \"Host\": \"algo-1\", \"Operation\": \"training\", \"epoch\": 3, \"model\": 26}, \"Metrics\": {\"train_binary_classification_cross_entropy_objective\": {\"sum\": 0.5137696627462311, \"count\": 1, \"min\": 0.5137696627462311, \"max\": 0.5137696627462311}}}\u001b[0m\n",
      "\u001b[34m#metrics {\"StartTime\": 1659473129.7141545, \"EndTime\": 1659473129.7141707, \"Dimensions\": {\"Algorithm\": \"Linear Learner\", \"Host\": \"algo-1\", \"Operation\": \"training\", \"epoch\": 3, \"model\": 27}, \"Metrics\": {\"train_binary_classification_cross_entropy_objective\": {\"sum\": 0.5138665123802442, \"count\": 1, \"min\": 0.5138665123802442, \"max\": 0.5138665123802442}}}\u001b[0m\n",
      "\u001b[34m#metrics {\"StartTime\": 1659473129.7142272, \"EndTime\": 1659473129.7142453, \"Dimensions\": {\"Algorithm\": \"Linear Learner\", \"Host\": \"algo-1\", \"Operation\": \"training\", \"epoch\": 3, \"model\": 28}, \"Metrics\": {\"train_binary_classification_cross_entropy_objective\": {\"sum\": 0.5137885312421606, \"count\": 1, \"min\": 0.5137885312421606, \"max\": 0.5137885312421606}}}\u001b[0m\n",
      "\u001b[34m#metrics {\"StartTime\": 1659473129.7143106, \"EndTime\": 1659473129.7143276, \"Dimensions\": {\"Algorithm\": \"Linear Learner\", \"Host\": \"algo-1\", \"Operation\": \"training\", \"epoch\": 3, \"model\": 29}, \"Metrics\": {\"train_binary_classification_cross_entropy_objective\": {\"sum\": 0.514856173710721, \"count\": 1, \"min\": 0.514856173710721, \"max\": 0.514856173710721}}}\u001b[0m\n",
      "\u001b[34m#metrics {\"StartTime\": 1659473129.7143836, \"EndTime\": 1659473129.714403, \"Dimensions\": {\"Algorithm\": \"Linear Learner\", \"Host\": \"algo-1\", \"Operation\": \"training\", \"epoch\": 3, \"model\": 30}, \"Metrics\": {\"train_binary_classification_cross_entropy_objective\": {\"sum\": 0.5137884014257962, \"count\": 1, \"min\": 0.5137884014257962, \"max\": 0.5137884014257962}}}\u001b[0m\n",
      "\u001b[34m#metrics {\"StartTime\": 1659473129.714462, \"EndTime\": 1659473129.7144809, \"Dimensions\": {\"Algorithm\": \"Linear Learner\", \"Host\": \"algo-1\", \"Operation\": \"training\", \"epoch\": 3, \"model\": 31}, \"Metrics\": {\"train_binary_classification_cross_entropy_objective\": {\"sum\": 0.5148561571920319, \"count\": 1, \"min\": 0.5148561571920319, \"max\": 0.5148561571920319}}}\u001b[0m\n",
      "\u001b[34m[08/02/2022 20:45:29 INFO 140651768051520] #quality_metric: host=algo-1, epoch=3, train binary_classification_cross_entropy_objective <loss>=0.49191123311454005\u001b[0m\n",
      "\u001b[34m[2022-08-02 20:45:35.057] [tensorio] [info] epoch_stats={\"data_pipeline\": \"/opt/ml/input/data/validation\", \"epoch\": 11, \"duration\": 5316, \"num_examples\": 164, \"num_bytes\": 68694780}\u001b[0m\n",
      "\u001b[34m#metrics {\"StartTime\": 1659473135.065067, \"EndTime\": 1659473135.065135, \"Dimensions\": {\"Algorithm\": \"Linear Learner\", \"Host\": \"algo-1\", \"Operation\": \"training\", \"epoch\": 3, \"model\": 0}, \"Metrics\": {\"validation_binary_classification_cross_entropy_objective\": {\"sum\": 0.49240158241797255, \"count\": 1, \"min\": 0.49240158241797255, \"max\": 0.49240158241797255}}}\u001b[0m\n",
      "\u001b[34m#metrics {\"StartTime\": 1659473135.0652301, \"EndTime\": 1659473135.0652528, \"Dimensions\": {\"Algorithm\": \"Linear Learner\", \"Host\": \"algo-1\", \"Operation\": \"training\", \"epoch\": 3, \"model\": 1}, \"Metrics\": {\"validation_binary_classification_cross_entropy_objective\": {\"sum\": 0.4940674377803007, \"count\": 1, \"min\": 0.4940674377803007, \"max\": 0.4940674377803007}}}\u001b[0m\n",
      "\u001b[34m#metrics {\"StartTime\": 1659473135.065324, \"EndTime\": 1659473135.065343, \"Dimensions\": {\"Algorithm\": \"Linear Learner\", \"Host\": \"algo-1\", \"Operation\": \"training\", \"epoch\": 3, \"model\": 2}, \"Metrics\": {\"validation_binary_classification_cross_entropy_objective\": {\"sum\": 0.49241136168603294, \"count\": 1, \"min\": 0.49241136168603294, \"max\": 0.49241136168603294}}}\u001b[0m\n",
      "\u001b[34m#metrics {\"StartTime\": 1659473135.0654016, \"EndTime\": 1659473135.0654182, \"Dimensions\": {\"Algorithm\": \"Linear Learner\", \"Host\": \"algo-1\", \"Operation\": \"training\", \"epoch\": 3, \"model\": 3}, \"Metrics\": {\"validation_binary_classification_cross_entropy_objective\": {\"sum\": 0.4940676745560614, \"count\": 1, \"min\": 0.4940676745560614, \"max\": 0.4940676745560614}}}\u001b[0m\n",
      "\u001b[34m#metrics {\"StartTime\": 1659473135.065478, \"EndTime\": 1659473135.0654957, \"Dimensions\": {\"Algorithm\": \"Linear Learner\", \"Host\": \"algo-1\", \"Operation\": \"training\", \"epoch\": 3, \"model\": 4}, \"Metrics\": {\"validation_binary_classification_cross_entropy_objective\": {\"sum\": 0.49252977270285253, \"count\": 1, \"min\": 0.49252977270285253, \"max\": 0.49252977270285253}}}\u001b[0m\n",
      "\u001b[34m#metrics {\"StartTime\": 1659473135.065549, \"EndTime\": 1659473135.0655663, \"Dimensions\": {\"Algorithm\": \"Linear Learner\", \"Host\": \"algo-1\", \"Operation\": \"training\", \"epoch\": 3, \"model\": 5}, \"Metrics\": {\"validation_binary_classification_cross_entropy_objective\": {\"sum\": 0.5052169900467038, \"count\": 1, \"min\": 0.5052169900467038, \"max\": 0.5052169900467038}}}\u001b[0m\n",
      "\u001b[34m#metrics {\"StartTime\": 1659473135.0656195, \"EndTime\": 1659473135.0656364, \"Dimensions\": {\"Algorithm\": \"Linear Learner\", \"Host\": \"algo-1\", \"Operation\": \"training\", \"epoch\": 3, \"model\": 6}, \"Metrics\": {\"validation_binary_classification_cross_entropy_objective\": {\"sum\": 0.49252977662112757, \"count\": 1, \"min\": 0.49252977662112757, \"max\": 0.49252977662112757}}}\u001b[0m\n",
      "\u001b[34m#metrics {\"StartTime\": 1659473135.0656826, \"EndTime\": 1659473135.0656998, \"Dimensions\": {\"Algorithm\": \"Linear Learner\", \"Host\": \"algo-1\", \"Operation\": \"training\", \"epoch\": 3, \"model\": 7}, \"Metrics\": {\"validation_binary_classification_cross_entropy_objective\": {\"sum\": 0.5052169995625145, \"count\": 1, \"min\": 0.5052169995625145, \"max\": 0.5052169995625145}}}\u001b[0m\n",
      "\u001b[34m#metrics {\"StartTime\": 1659473135.0657442, \"EndTime\": 1659473135.0657594, \"Dimensions\": {\"Algorithm\": \"Linear Learner\", \"Host\": \"algo-1\", \"Operation\": \"training\", \"epoch\": 3, \"model\": 8}, \"Metrics\": {\"validation_binary_classification_cross_entropy_objective\": {\"sum\": 0.4925299454801216, \"count\": 1, \"min\": 0.4925299454801216, \"max\": 0.4925299454801216}}}\u001b[0m\n",
      "\u001b[34m#metrics {\"StartTime\": 1659473135.0658154, \"EndTime\": 1659473135.0658321, \"Dimensions\": {\"Algorithm\": \"Linear Learner\", \"Host\": \"algo-1\", \"Operation\": \"training\", \"epoch\": 3, \"model\": 9}, \"Metrics\": {\"validation_binary_classification_cross_entropy_objective\": {\"sum\": 0.49420736852317054, \"count\": 1, \"min\": 0.49420736852317054, \"max\": 0.49420736852317054}}}\u001b[0m\n",
      "\u001b[34m#metrics {\"StartTime\": 1659473135.0658767, \"EndTime\": 1659473135.0658927, \"Dimensions\": {\"Algorithm\": \"Linear Learner\", \"Host\": \"algo-1\", \"Operation\": \"training\", \"epoch\": 3, \"model\": 10}, \"Metrics\": {\"validation_binary_classification_cross_entropy_objective\": {\"sum\": 0.4925390106892094, \"count\": 1, \"min\": 0.4925390106892094, \"max\": 0.4925390106892094}}}\u001b[0m\n",
      "\u001b[34m#metrics {\"StartTime\": 1659473135.0659487, \"EndTime\": 1659473135.0659645, \"Dimensions\": {\"Algorithm\": \"Linear Learner\", \"Host\": \"algo-1\", \"Operation\": \"training\", \"epoch\": 3, \"model\": 11}, \"Metrics\": {\"validation_binary_classification_cross_entropy_objective\": {\"sum\": 0.494207380091411, \"count\": 1, \"min\": 0.494207380091411, \"max\": 0.494207380091411}}}\u001b[0m\n",
      "\u001b[34m#metrics {\"StartTime\": 1659473135.0660055, \"EndTime\": 1659473135.0660224, \"Dimensions\": {\"Algorithm\": \"Linear Learner\", \"Host\": \"algo-1\", \"Operation\": \"training\", \"epoch\": 3, \"model\": 12}, \"Metrics\": {\"validation_binary_classification_cross_entropy_objective\": {\"sum\": 0.4926722331586958, \"count\": 1, \"min\": 0.4926722331586958, \"max\": 0.4926722331586958}}}\u001b[0m\n",
      "\u001b[34m#metrics {\"StartTime\": 1659473135.066065, \"EndTime\": 1659473135.066082, \"Dimensions\": {\"Algorithm\": \"Linear Learner\", \"Host\": \"algo-1\", \"Operation\": \"training\", \"epoch\": 3, \"model\": 13}, \"Metrics\": {\"validation_binary_classification_cross_entropy_objective\": {\"sum\": 0.5039445563624857, \"count\": 1, \"min\": 0.5039445563624857, \"max\": 0.5039445563624857}}}\u001b[0m\n",
      "\u001b[34m#metrics {\"StartTime\": 1659473135.0661345, \"EndTime\": 1659473135.0661523, \"Dimensions\": {\"Algorithm\": \"Linear Learner\", \"Host\": \"algo-1\", \"Operation\": \"training\", \"epoch\": 3, \"model\": 14}, \"Metrics\": {\"validation_binary_classification_cross_entropy_objective\": {\"sum\": 0.49267223222577317, \"count\": 1, \"min\": 0.49267223222577317, \"max\": 0.49267223222577317}}}\u001b[0m\n",
      "\u001b[34m#metrics {\"StartTime\": 1659473135.066199, \"EndTime\": 1659473135.0662162, \"Dimensions\": {\"Algorithm\": \"Linear Learner\", \"Host\": \"algo-1\", \"Operation\": \"training\", \"epoch\": 3, \"model\": 15}, \"Metrics\": {\"validation_binary_classification_cross_entropy_objective\": {\"sum\": 0.5039445143809679, \"count\": 1, \"min\": 0.5039445143809679, \"max\": 0.5039445143809679}}}\u001b[0m\n",
      "\u001b[34m#metrics {\"StartTime\": 1659473135.0662692, \"EndTime\": 1659473135.0662863, \"Dimensions\": {\"Algorithm\": \"Linear Learner\", \"Host\": \"algo-1\", \"Operation\": \"training\", \"epoch\": 3, \"model\": 16}, \"Metrics\": {\"validation_binary_classification_cross_entropy_objective\": {\"sum\": 0.5077712991517969, \"count\": 1, \"min\": 0.5077712991517969, \"max\": 0.5077712991517969}}}\u001b[0m\n",
      "\u001b[34m#metrics {\"StartTime\": 1659473135.0663276, \"EndTime\": 1659473135.0663443, \"Dimensions\": {\"Algorithm\": \"Linear Learner\", \"Host\": \"algo-1\", \"Operation\": \"training\", \"epoch\": 3, \"model\": 17}, \"Metrics\": {\"validation_binary_classification_cross_entropy_objective\": {\"sum\": 0.5088632410432742, \"count\": 1, \"min\": 0.5088632410432742, \"max\": 0.5088632410432742}}}\u001b[0m\n",
      "\u001b[34m#metrics {\"StartTime\": 1659473135.0663948, \"EndTime\": 1659473135.0664115, \"Dimensions\": {\"Algorithm\": \"Linear Learner\", \"Host\": \"algo-1\", \"Operation\": \"training\", \"epoch\": 3, \"model\": 18}, \"Metrics\": {\"validation_binary_classification_cross_entropy_objective\": {\"sum\": 0.50782620332718, \"count\": 1, \"min\": 0.50782620332718, \"max\": 0.50782620332718}}}\u001b[0m\n",
      "\u001b[34m#metrics {\"StartTime\": 1659473135.0664556, \"EndTime\": 1659473135.0664723, \"Dimensions\": {\"Algorithm\": \"Linear Learner\", \"Host\": \"algo-1\", \"Operation\": \"training\", \"epoch\": 3, \"model\": 19}, \"Metrics\": {\"validation_binary_classification_cross_entropy_objective\": {\"sum\": 0.5088631236816087, \"count\": 1, \"min\": 0.5088631236816087, \"max\": 0.5088631236816087}}}\u001b[0m\n",
      "\u001b[34m#metrics {\"StartTime\": 1659473135.0665152, \"EndTime\": 1659473135.0665312, \"Dimensions\": {\"Algorithm\": \"Linear Learner\", \"Host\": \"algo-1\", \"Operation\": \"training\", \"epoch\": 3, \"model\": 20}, \"Metrics\": {\"validation_binary_classification_cross_entropy_objective\": {\"sum\": 0.5080770557706694, \"count\": 1, \"min\": 0.5080770557706694, \"max\": 0.5080770557706694}}}\u001b[0m\n",
      "\u001b[34m#metrics {\"StartTime\": 1659473135.0666082, \"EndTime\": 1659473135.0666254, \"Dimensions\": {\"Algorithm\": \"Linear Learner\", \"Host\": \"algo-1\", \"Operation\": \"training\", \"epoch\": 3, \"model\": 21}, \"Metrics\": {\"validation_binary_classification_cross_entropy_objective\": {\"sum\": 0.5108510793475853, \"count\": 1, \"min\": 0.5108510793475853, \"max\": 0.5108510793475853}}}\u001b[0m\n",
      "\u001b[34m#metrics {\"StartTime\": 1659473135.0666673, \"EndTime\": 1659473135.066682, \"Dimensions\": {\"Algorithm\": \"Linear Learner\", \"Host\": \"algo-1\", \"Operation\": \"training\", \"epoch\": 3, \"model\": 22}, \"Metrics\": {\"validation_binary_classification_cross_entropy_objective\": {\"sum\": 0.5080770591291909, \"count\": 1, \"min\": 0.5080770591291909, \"max\": 0.5080770591291909}}}\u001b[0m\n",
      "\u001b[34m#metrics {\"StartTime\": 1659473135.0667362, \"EndTime\": 1659473135.066753, \"Dimensions\": {\"Algorithm\": \"Linear Learner\", \"Host\": \"algo-1\", \"Operation\": \"training\", \"epoch\": 3, \"model\": 23}, \"Metrics\": {\"validation_binary_classification_cross_entropy_objective\": {\"sum\": 0.5108510616220556, \"count\": 1, \"min\": 0.5108510616220556, \"max\": 0.5108510616220556}}}\u001b[0m\n",
      "\u001b[34m#metrics {\"StartTime\": 1659473135.0667946, \"EndTime\": 1659473135.066811, \"Dimensions\": {\"Algorithm\": \"Linear Learner\", \"Host\": \"algo-1\", \"Operation\": \"training\", \"epoch\": 3, \"model\": 24}, \"Metrics\": {\"validation_binary_classification_cross_entropy_objective\": {\"sum\": 0.5137670881495625, \"count\": 1, \"min\": 0.5137670881495625, \"max\": 0.5137670881495625}}}\u001b[0m\n",
      "\u001b[34m#metrics {\"StartTime\": 1659473135.0668542, \"EndTime\": 1659473135.0668702, \"Dimensions\": {\"Algorithm\": \"Linear Learner\", \"Host\": \"algo-1\", \"Operation\": \"training\", \"epoch\": 3, \"model\": 25}, \"Metrics\": {\"validation_binary_classification_cross_entropy_objective\": {\"sum\": 0.5143940423761576, \"count\": 1, \"min\": 0.5143940423761576, \"max\": 0.5143940423761576}}}\u001b[0m\n",
      "\u001b[34m#metrics {\"StartTime\": 1659473135.0669262, \"EndTime\": 1659473135.0669436, \"Dimensions\": {\"Algorithm\": \"Linear Learner\", \"Host\": \"algo-1\", \"Operation\": \"training\", \"epoch\": 3, \"model\": 26}, \"Metrics\": {\"validation_binary_classification_cross_entropy_objective\": {\"sum\": 0.5137726129173117, \"count\": 1, \"min\": 0.5137726129173117, \"max\": 0.5137726129173117}}}\u001b[0m\n",
      "\u001b[34m#metrics {\"StartTime\": 1659473135.0669909, \"EndTime\": 1659473135.0670078, \"Dimensions\": {\"Algorithm\": \"Linear Learner\", \"Host\": \"algo-1\", \"Operation\": \"training\", \"epoch\": 3, \"model\": 27}, \"Metrics\": {\"validation_binary_classification_cross_entropy_objective\": {\"sum\": 0.5143647454339871, \"count\": 1, \"min\": 0.5143647454339871, \"max\": 0.5143647454339871}}}\u001b[0m\n",
      "\u001b[34m#metrics {\"StartTime\": 1659473135.0670607, \"EndTime\": 1659473135.0670774, \"Dimensions\": {\"Algorithm\": \"Linear Learner\", \"Host\": \"algo-1\", \"Operation\": \"training\", \"epoch\": 3, \"model\": 28}, \"Metrics\": {\"validation_binary_classification_cross_entropy_objective\": {\"sum\": 0.5137781914214037, \"count\": 1, \"min\": 0.5137781914214037, \"max\": 0.5137781914214037}}}\u001b[0m\n",
      "\u001b[34m#metrics {\"StartTime\": 1659473135.0671225, \"EndTime\": 1659473135.067139, \"Dimensions\": {\"Algorithm\": \"Linear Learner\", \"Host\": \"algo-1\", \"Operation\": \"training\", \"epoch\": 3, \"model\": 29}, \"Metrics\": {\"validation_binary_classification_cross_entropy_objective\": {\"sum\": 0.5140186410313542, \"count\": 1, \"min\": 0.5140186410313542, \"max\": 0.5140186410313542}}}\u001b[0m\n",
      "\u001b[34m#metrics {\"StartTime\": 1659473135.0671897, \"EndTime\": 1659473135.0672066, \"Dimensions\": {\"Algorithm\": \"Linear Learner\", \"Host\": \"algo-1\", \"Operation\": \"training\", \"epoch\": 3, \"model\": 30}, \"Metrics\": {\"validation_binary_classification_cross_entropy_objective\": {\"sum\": 0.5137802863924367, \"count\": 1, \"min\": 0.5137802863924367, \"max\": 0.5137802863924367}}}\u001b[0m\n",
      "\u001b[34m#metrics {\"StartTime\": 1659473135.0672486, \"EndTime\": 1659473135.0672653, \"Dimensions\": {\"Algorithm\": \"Linear Learner\", \"Host\": \"algo-1\", \"Operation\": \"training\", \"epoch\": 3, \"model\": 31}, \"Metrics\": {\"validation_binary_classification_cross_entropy_objective\": {\"sum\": 0.5140186402850161, \"count\": 1, \"min\": 0.5140186402850161, \"max\": 0.5140186402850161}}}\u001b[0m\n",
      "\u001b[34m[08/02/2022 20:45:35 INFO 140651768051520] #quality_metric: host=algo-1, epoch=3, validation binary_classification_cross_entropy_objective <loss>=0.49240158241797255\u001b[0m\n",
      "\u001b[34m[08/02/2022 20:45:35 INFO 140651768051520] #early_stopping_criteria_metric: host=algo-1, epoch=3, criteria=binary_classification_cross_entropy_objective, value=0.49240158241797255\u001b[0m\n",
      "\u001b[34m[08/02/2022 20:45:35 INFO 140651768051520] Saving model for epoch: 3\u001b[0m\n",
      "\u001b[34m[08/02/2022 20:45:35 INFO 140651768051520] Saved checkpoint to \"/tmp/tmpw0o74tuj/mx-mod-0000.params\"\u001b[0m\n",
      "\u001b[34m[08/02/2022 20:45:35 INFO 140651768051520] #progress_metric: host=algo-1, completed 26.666666666666668 % of epochs\u001b[0m\n",
      "\u001b[34m#metrics {\"StartTime\": 1659473070.2972558, \"EndTime\": 1659473135.0762603, \"Dimensions\": {\"Algorithm\": \"Linear Learner\", \"Host\": \"algo-1\", \"Operation\": \"training\", \"epoch\": 3, \"Meta\": \"training_data_iter\"}, \"Metrics\": {\"Total Records Seen\": {\"sum\": 5245888.0, \"count\": 1, \"min\": 5245888, \"max\": 5245888}, \"Total Batches Seen\": {\"sum\": 5248.0, \"count\": 1, \"min\": 5248, \"max\": 5248}, \"Max Records Seen Between Resets\": {\"sum\": 1308472.0, \"count\": 1, \"min\": 1308472, \"max\": 1308472}, \"Max Batches Seen Between Resets\": {\"sum\": 1309.0, \"count\": 1, \"min\": 1309, \"max\": 1309}, \"Reset Count\": {\"sum\": 6.0, \"count\": 1, \"min\": 6, \"max\": 6}, \"Number of Records Since Last Reset\": {\"sum\": 1308472.0, \"count\": 1, \"min\": 1308472, \"max\": 1308472}, \"Number of Batches Since Last Reset\": {\"sum\": 1309.0, \"count\": 1, \"min\": 1309, \"max\": 1309}}}\u001b[0m\n",
      "\u001b[34m[08/02/2022 20:45:35 INFO 140651768051520] #throughput_metric: host=algo-1, train throughput=20198.85965067028 records/second\u001b[0m\n",
      "\u001b[34m[2022-08-02 20:46:34.429] [tensorio] [info] epoch_stats={\"data_pipeline\": \"/opt/ml/input/data/train\", \"epoch\": 11, \"duration\": 59349, \"num_examples\": 1309, \"num_bytes\": 549558240}\u001b[0m\n",
      "\u001b[34m#metrics {\"StartTime\": 1659473194.4291787, \"EndTime\": 1659473194.4292917, \"Dimensions\": {\"Algorithm\": \"Linear Learner\", \"Host\": \"algo-1\", \"Operation\": \"training\", \"epoch\": 4, \"model\": 0}, \"Metrics\": {\"train_binary_classification_cross_entropy_objective\": {\"sum\": 0.49188491984609434, \"count\": 1, \"min\": 0.49188491984609434, \"max\": 0.49188491984609434}}}\u001b[0m\n",
      "\u001b[34m#metrics {\"StartTime\": 1659473194.4294193, \"EndTime\": 1659473194.4294438, \"Dimensions\": {\"Algorithm\": \"Linear Learner\", \"Host\": \"algo-1\", \"Operation\": \"training\", \"epoch\": 4, \"model\": 1}, \"Metrics\": {\"train_binary_classification_cross_entropy_objective\": {\"sum\": 0.49279475066858697, \"count\": 1, \"min\": 0.49279475066858697, \"max\": 0.49279475066858697}}}\u001b[0m\n",
      "\u001b[34m#metrics {\"StartTime\": 1659473194.4295075, \"EndTime\": 1659473194.4295268, \"Dimensions\": {\"Algorithm\": \"Linear Learner\", \"Host\": \"algo-1\", \"Operation\": \"training\", \"epoch\": 4, \"model\": 2}, \"Metrics\": {\"train_binary_classification_cross_entropy_objective\": {\"sum\": 0.4919328986351643, \"count\": 1, \"min\": 0.4919328986351643, \"max\": 0.4919328986351643}}}\u001b[0m\n",
      "\u001b[34m#metrics {\"StartTime\": 1659473194.4295888, \"EndTime\": 1659473194.4296076, \"Dimensions\": {\"Algorithm\": \"Linear Learner\", \"Host\": \"algo-1\", \"Operation\": \"training\", \"epoch\": 4, \"model\": 3}, \"Metrics\": {\"train_binary_classification_cross_entropy_objective\": {\"sum\": 0.49279449962184335, \"count\": 1, \"min\": 0.49279449962184335, \"max\": 0.49279449962184335}}}\u001b[0m\n",
      "\u001b[34m#metrics {\"StartTime\": 1659473194.4296675, \"EndTime\": 1659473194.4296896, \"Dimensions\": {\"Algorithm\": \"Linear Learner\", \"Host\": \"algo-1\", \"Operation\": \"training\", \"epoch\": 4, \"model\": 4}, \"Metrics\": {\"train_binary_classification_cross_entropy_objective\": {\"sum\": 0.49199035859180884, \"count\": 1, \"min\": 0.49199035859180884, \"max\": 0.49199035859180884}}}\u001b[0m\n",
      "\u001b[34m#metrics {\"StartTime\": 1659473194.4297547, \"EndTime\": 1659473194.4297702, \"Dimensions\": {\"Algorithm\": \"Linear Learner\", \"Host\": \"algo-1\", \"Operation\": \"training\", \"epoch\": 4, \"model\": 5}, \"Metrics\": {\"train_binary_classification_cross_entropy_objective\": {\"sum\": 0.5070104629563265, \"count\": 1, \"min\": 0.5070104629563265, \"max\": 0.5070104629563265}}}\u001b[0m\n",
      "\u001b[34m#metrics {\"StartTime\": 1659473194.4298234, \"EndTime\": 1659473194.4298406, \"Dimensions\": {\"Algorithm\": \"Linear Learner\", \"Host\": \"algo-1\", \"Operation\": \"training\", \"epoch\": 4, \"model\": 6}, \"Metrics\": {\"train_binary_classification_cross_entropy_objective\": {\"sum\": 0.49199035789186435, \"count\": 1, \"min\": 0.49199035789186435, \"max\": 0.49199035789186435}}}\u001b[0m\n",
      "\u001b[34m#metrics {\"StartTime\": 1659473194.4298952, \"EndTime\": 1659473194.4299114, \"Dimensions\": {\"Algorithm\": \"Linear Learner\", \"Host\": \"algo-1\", \"Operation\": \"training\", \"epoch\": 4, \"model\": 7}, \"Metrics\": {\"train_binary_classification_cross_entropy_objective\": {\"sum\": 0.5070104691391691, \"count\": 1, \"min\": 0.5070104691391691, \"max\": 0.5070104691391691}}}\u001b[0m\n",
      "\u001b[34m#metrics {\"StartTime\": 1659473194.429962, \"EndTime\": 1659473194.4299781, \"Dimensions\": {\"Algorithm\": \"Linear Learner\", \"Host\": \"algo-1\", \"Operation\": \"training\", \"epoch\": 4, \"model\": 8}, \"Metrics\": {\"train_binary_classification_cross_entropy_objective\": {\"sum\": 0.492094148781686, \"count\": 1, \"min\": 0.492094148781686, \"max\": 0.492094148781686}}}\u001b[0m\n",
      "\u001b[34m#metrics {\"StartTime\": 1659473194.4300344, \"EndTime\": 1659473194.4300525, \"Dimensions\": {\"Algorithm\": \"Linear Learner\", \"Host\": \"algo-1\", \"Operation\": \"training\", \"epoch\": 4, \"model\": 9}, \"Metrics\": {\"train_binary_classification_cross_entropy_objective\": {\"sum\": 0.492977287222486, \"count\": 1, \"min\": 0.492977287222486, \"max\": 0.492977287222486}}}\u001b[0m\n",
      "\u001b[34m#metrics {\"StartTime\": 1659473194.4301105, \"EndTime\": 1659473194.4301288, \"Dimensions\": {\"Algorithm\": \"Linear Learner\", \"Host\": \"algo-1\", \"Operation\": \"training\", \"epoch\": 4, \"model\": 10}, \"Metrics\": {\"train_binary_classification_cross_entropy_objective\": {\"sum\": 0.4921356984409717, \"count\": 1, \"min\": 0.4921356984409717, \"max\": 0.4921356984409717}}}\u001b[0m\n",
      "\u001b[34m#metrics {\"StartTime\": 1659473194.4301827, \"EndTime\": 1659473194.4301999, \"Dimensions\": {\"Algorithm\": \"Linear Learner\", \"Host\": \"algo-1\", \"Operation\": \"training\", \"epoch\": 4, \"model\": 11}, \"Metrics\": {\"train_binary_classification_cross_entropy_objective\": {\"sum\": 0.4929772882257397, \"count\": 1, \"min\": 0.4929772882257397, \"max\": 0.4929772882257397}}}\u001b[0m\n",
      "\u001b[34m#metrics {\"StartTime\": 1659473194.4302547, \"EndTime\": 1659473194.4302714, \"Dimensions\": {\"Algorithm\": \"Linear Learner\", \"Host\": \"algo-1\", \"Operation\": \"training\", \"epoch\": 4, \"model\": 12}, \"Metrics\": {\"train_binary_classification_cross_entropy_objective\": {\"sum\": 0.49221668229409316, \"count\": 1, \"min\": 0.49221668229409316, \"max\": 0.49221668229409316}}}\u001b[0m\n",
      "\u001b[34m#metrics {\"StartTime\": 1659473194.4303272, \"EndTime\": 1659473194.4303439, \"Dimensions\": {\"Algorithm\": \"Linear Learner\", \"Host\": \"algo-1\", \"Operation\": \"training\", \"epoch\": 4, \"model\": 13}, \"Metrics\": {\"train_binary_classification_cross_entropy_objective\": {\"sum\": 0.5062009811867997, \"count\": 1, \"min\": 0.5062009811867997, \"max\": 0.5062009811867997}}}\u001b[0m\n",
      "\u001b[34m#metrics {\"StartTime\": 1659473194.4303994, \"EndTime\": 1659473194.4304168, \"Dimensions\": {\"Algorithm\": \"Linear Learner\", \"Host\": \"algo-1\", \"Operation\": \"training\", \"epoch\": 4, \"model\": 14}, \"Metrics\": {\"train_binary_classification_cross_entropy_objective\": {\"sum\": 0.49221668252740797, \"count\": 1, \"min\": 0.49221668252740797, \"max\": 0.49221668252740797}}}\u001b[0m\n",
      "\u001b[34m#metrics {\"StartTime\": 1659473194.4304721, \"EndTime\": 1659473194.430488, \"Dimensions\": {\"Algorithm\": \"Linear Learner\", \"Host\": \"algo-1\", \"Operation\": \"training\", \"epoch\": 4, \"model\": 15}, \"Metrics\": {\"train_binary_classification_cross_entropy_objective\": {\"sum\": 0.5062009843832127, \"count\": 1, \"min\": 0.5062009843832127, \"max\": 0.5062009843832127}}}\u001b[0m\n",
      "\u001b[34m#metrics {\"StartTime\": 1659473194.430544, \"EndTime\": 1659473194.4305606, \"Dimensions\": {\"Algorithm\": \"Linear Learner\", \"Host\": \"algo-1\", \"Operation\": \"training\", \"epoch\": 4, \"model\": 16}, \"Metrics\": {\"train_binary_classification_cross_entropy_objective\": {\"sum\": 0.5077297025908024, \"count\": 1, \"min\": 0.5077297025908024, \"max\": 0.5077297025908024}}}\u001b[0m\n",
      "\u001b[34m#metrics {\"StartTime\": 1659473194.4306445, \"EndTime\": 1659473194.4306724, \"Dimensions\": {\"Algorithm\": \"Linear Learner\", \"Host\": \"algo-1\", \"Operation\": \"training\", \"epoch\": 4, \"model\": 17}, \"Metrics\": {\"train_binary_classification_cross_entropy_objective\": {\"sum\": 0.5079448649788486, \"count\": 1, \"min\": 0.5079448649788486, \"max\": 0.5079448649788486}}}\u001b[0m\n",
      "\u001b[34m#metrics {\"StartTime\": 1659473194.4307234, \"EndTime\": 1659473194.4307368, \"Dimensions\": {\"Algorithm\": \"Linear Learner\", \"Host\": \"algo-1\", \"Operation\": \"training\", \"epoch\": 4, \"model\": 18}, \"Metrics\": {\"train_binary_classification_cross_entropy_objective\": {\"sum\": 0.5077414900753476, \"count\": 1, \"min\": 0.5077414900753476, \"max\": 0.5077414900753476}}}\u001b[0m\n",
      "\u001b[34m#metrics {\"StartTime\": 1659473194.4307907, \"EndTime\": 1659473194.4308085, \"Dimensions\": {\"Algorithm\": \"Linear Learner\", \"Host\": \"algo-1\", \"Operation\": \"training\", \"epoch\": 4, \"model\": 19}, \"Metrics\": {\"train_binary_classification_cross_entropy_objective\": {\"sum\": 0.5079448639522635, \"count\": 1, \"min\": 0.5079448639522635, \"max\": 0.5079448639522635}}}\u001b[0m\n",
      "\u001b[34m#metrics {\"StartTime\": 1659473194.4308615, \"EndTime\": 1659473194.4308772, \"Dimensions\": {\"Algorithm\": \"Linear Learner\", \"Host\": \"algo-1\", \"Operation\": \"training\", \"epoch\": 4, \"model\": 20}, \"Metrics\": {\"train_binary_classification_cross_entropy_objective\": {\"sum\": 0.5077574898956019, \"count\": 1, \"min\": 0.5077574898956019, \"max\": 0.5077574898956019}}}\u001b[0m\n",
      "\u001b[34m#metrics {\"StartTime\": 1659473194.4309256, \"EndTime\": 1659473194.4309394, \"Dimensions\": {\"Algorithm\": \"Linear Learner\", \"Host\": \"algo-1\", \"Operation\": \"training\", \"epoch\": 4, \"model\": 21}, \"Metrics\": {\"train_binary_classification_cross_entropy_objective\": {\"sum\": 0.5103516429236176, \"count\": 1, \"min\": 0.5103516429236176, \"max\": 0.5103516429236176}}}\u001b[0m\n",
      "\u001b[34m#metrics {\"StartTime\": 1659473194.430992, \"EndTime\": 1659473194.431009, \"Dimensions\": {\"Algorithm\": \"Linear Learner\", \"Host\": \"algo-1\", \"Operation\": \"training\", \"epoch\": 4, \"model\": 22}, \"Metrics\": {\"train_binary_classification_cross_entropy_objective\": {\"sum\": 0.5077574906188779, \"count\": 1, \"min\": 0.5077574906188779, \"max\": 0.5077574906188779}}}\u001b[0m\n",
      "\u001b[34m#metrics {\"StartTime\": 1659473194.4310625, \"EndTime\": 1659473194.4310796, \"Dimensions\": {\"Algorithm\": \"Linear Learner\", \"Host\": \"algo-1\", \"Operation\": \"training\", \"epoch\": 4, \"model\": 23}, \"Metrics\": {\"train_binary_classification_cross_entropy_objective\": {\"sum\": 0.5103516441135232, \"count\": 1, \"min\": 0.5103516441135232, \"max\": 0.5103516441135232}}}\u001b[0m\n",
      "\u001b[34m#metrics {\"StartTime\": 1659473194.4311337, \"EndTime\": 1659473194.4311495, \"Dimensions\": {\"Algorithm\": \"Linear Learner\", \"Host\": \"algo-1\", \"Operation\": \"training\", \"epoch\": 4, \"model\": 24}, \"Metrics\": {\"train_binary_classification_cross_entropy_objective\": {\"sum\": 0.5137659736423318, \"count\": 1, \"min\": 0.5137659736423318, \"max\": 0.5137659736423318}}}\u001b[0m\n",
      "\u001b[34m#metrics {\"StartTime\": 1659473194.4312053, \"EndTime\": 1659473194.4312217, \"Dimensions\": {\"Algorithm\": \"Linear Learner\", \"Host\": \"algo-1\", \"Operation\": \"training\", \"epoch\": 4, \"model\": 25}, \"Metrics\": {\"train_binary_classification_cross_entropy_objective\": {\"sum\": 0.5138526790980534, \"count\": 1, \"min\": 0.5138526790980534, \"max\": 0.5138526790980534}}}\u001b[0m\n",
      "\u001b[34m#metrics {\"StartTime\": 1659473194.4312744, \"EndTime\": 1659473194.4312904, \"Dimensions\": {\"Algorithm\": \"Linear Learner\", \"Host\": \"algo-1\", \"Operation\": \"training\", \"epoch\": 4, \"model\": 26}, \"Metrics\": {\"train_binary_classification_cross_entropy_objective\": {\"sum\": 0.5137697144254632, \"count\": 1, \"min\": 0.5137697144254632, \"max\": 0.5137697144254632}}}\u001b[0m\n",
      "\u001b[34m#metrics {\"StartTime\": 1659473194.431345, \"EndTime\": 1659473194.4313614, \"Dimensions\": {\"Algorithm\": \"Linear Learner\", \"Host\": \"algo-1\", \"Operation\": \"training\", \"epoch\": 4, \"model\": 27}, \"Metrics\": {\"train_binary_classification_cross_entropy_objective\": {\"sum\": 0.5138526851409072, \"count\": 1, \"min\": 0.5138526851409072, \"max\": 0.5138526851409072}}}\u001b[0m\n",
      "\u001b[34m#metrics {\"StartTime\": 1659473194.4314158, \"EndTime\": 1659473194.4314356, \"Dimensions\": {\"Algorithm\": \"Linear Learner\", \"Host\": \"algo-1\", \"Operation\": \"training\", \"epoch\": 4, \"model\": 28}, \"Metrics\": {\"train_binary_classification_cross_entropy_objective\": {\"sum\": 0.513775499932992, \"count\": 1, \"min\": 0.513775499932992, \"max\": 0.513775499932992}}}\u001b[0m\n",
      "\u001b[34m#metrics {\"StartTime\": 1659473194.43149, \"EndTime\": 1659473194.4315078, \"Dimensions\": {\"Algorithm\": \"Linear Learner\", \"Host\": \"algo-1\", \"Operation\": \"training\", \"epoch\": 4, \"model\": 29}, \"Metrics\": {\"train_binary_classification_cross_entropy_objective\": {\"sum\": 0.5147218443144352, \"count\": 1, \"min\": 0.5147218443144352, \"max\": 0.5147218443144352}}}\u001b[0m\n",
      "\u001b[34m#metrics {\"StartTime\": 1659473194.431562, \"EndTime\": 1659473194.4315789, \"Dimensions\": {\"Algorithm\": \"Linear Learner\", \"Host\": \"algo-1\", \"Operation\": \"training\", \"epoch\": 4, \"model\": 30}, \"Metrics\": {\"train_binary_classification_cross_entropy_objective\": {\"sum\": 0.5137756226565859, \"count\": 1, \"min\": 0.5137756226565859, \"max\": 0.5137756226565859}}}\u001b[0m\n",
      "\u001b[34m#metrics {\"StartTime\": 1659473194.4316328, \"EndTime\": 1659473194.431648, \"Dimensions\": {\"Algorithm\": \"Linear Learner\", \"Host\": \"algo-1\", \"Operation\": \"training\", \"epoch\": 4, \"model\": 31}, \"Metrics\": {\"train_binary_classification_cross_entropy_objective\": {\"sum\": 0.5147218451777, \"count\": 1, \"min\": 0.5147218451777, \"max\": 0.5147218451777}}}\u001b[0m\n",
      "\u001b[34m[08/02/2022 20:46:34 INFO 140651768051520] #quality_metric: host=algo-1, epoch=4, train binary_classification_cross_entropy_objective <loss>=0.49188491984609434\u001b[0m\n",
      "\u001b[34m[2022-08-02 20:46:39.684] [tensorio] [info] epoch_stats={\"data_pipeline\": \"/opt/ml/input/data/validation\", \"epoch\": 14, \"duration\": 5221, \"num_examples\": 164, \"num_bytes\": 68694780}\u001b[0m\n",
      "\u001b[34m#metrics {\"StartTime\": 1659473199.6960952, \"EndTime\": 1659473199.696171, \"Dimensions\": {\"Algorithm\": \"Linear Learner\", \"Host\": \"algo-1\", \"Operation\": \"training\", \"epoch\": 4, \"model\": 0}, \"Metrics\": {\"validation_binary_classification_cross_entropy_objective\": {\"sum\": 0.4924010036327798, \"count\": 1, \"min\": 0.4924010036327798, \"max\": 0.4924010036327798}}}\u001b[0m\n",
      "\u001b[34m#metrics {\"StartTime\": 1659473199.6962714, \"EndTime\": 1659473199.696296, \"Dimensions\": {\"Algorithm\": \"Linear Learner\", \"Host\": \"algo-1\", \"Operation\": \"training\", \"epoch\": 4, \"model\": 1}, \"Metrics\": {\"validation_binary_classification_cross_entropy_objective\": {\"sum\": 0.49380762256262695, \"count\": 1, \"min\": 0.49380762256262695, \"max\": 0.49380762256262695}}}\u001b[0m\n",
      "\u001b[34m#metrics {\"StartTime\": 1659473199.6963656, \"EndTime\": 1659473199.696383, \"Dimensions\": {\"Algorithm\": \"Linear Learner\", \"Host\": \"algo-1\", \"Operation\": \"training\", \"epoch\": 4, \"model\": 2}, \"Metrics\": {\"validation_binary_classification_cross_entropy_objective\": {\"sum\": 0.49241086350535446, \"count\": 1, \"min\": 0.49241086350535446, \"max\": 0.49241086350535446}}}\u001b[0m\n",
      "\u001b[34m#metrics {\"StartTime\": 1659473199.6964386, \"EndTime\": 1659473199.696455, \"Dimensions\": {\"Algorithm\": \"Linear Learner\", \"Host\": \"algo-1\", \"Operation\": \"training\", \"epoch\": 4, \"model\": 3}, \"Metrics\": {\"validation_binary_classification_cross_entropy_objective\": {\"sum\": 0.49380780187035433, \"count\": 1, \"min\": 0.49380780187035433, \"max\": 0.49380780187035433}}}\u001b[0m\n",
      "\u001b[34m#metrics {\"StartTime\": 1659473199.6965137, \"EndTime\": 1659473199.696533, \"Dimensions\": {\"Algorithm\": \"Linear Learner\", \"Host\": \"algo-1\", \"Operation\": \"training\", \"epoch\": 4, \"model\": 4}, \"Metrics\": {\"validation_binary_classification_cross_entropy_objective\": {\"sum\": 0.49241988785243157, \"count\": 1, \"min\": 0.49241988785243157, \"max\": 0.49241988785243157}}}\u001b[0m\n",
      "\u001b[34m#metrics {\"StartTime\": 1659473199.6965928, \"EndTime\": 1659473199.696611, \"Dimensions\": {\"Algorithm\": \"Linear Learner\", \"Host\": \"algo-1\", \"Operation\": \"training\", \"epoch\": 4, \"model\": 5}, \"Metrics\": {\"validation_binary_classification_cross_entropy_objective\": {\"sum\": 0.5047808955550825, \"count\": 1, \"min\": 0.5047808955550825, \"max\": 0.5047808955550825}}}\u001b[0m\n",
      "\u001b[34m#metrics {\"StartTime\": 1659473199.696679, \"EndTime\": 1659473199.6966984, \"Dimensions\": {\"Algorithm\": \"Linear Learner\", \"Host\": \"algo-1\", \"Operation\": \"training\", \"epoch\": 4, \"model\": 6}, \"Metrics\": {\"validation_binary_classification_cross_entropy_objective\": {\"sum\": 0.49241988598658637, \"count\": 1, \"min\": 0.49241988598658637, \"max\": 0.49241988598658637}}}\u001b[0m\n",
      "\u001b[34m#metrics {\"StartTime\": 1659473199.6967578, \"EndTime\": 1659473199.696776, \"Dimensions\": {\"Algorithm\": \"Linear Learner\", \"Host\": \"algo-1\", \"Operation\": \"training\", \"epoch\": 4, \"model\": 7}, \"Metrics\": {\"validation_binary_classification_cross_entropy_objective\": {\"sum\": 0.5047809026452945, \"count\": 1, \"min\": 0.5047809026452945, \"max\": 0.5047809026452945}}}\u001b[0m\n",
      "\u001b[34m#metrics {\"StartTime\": 1659473199.6968343, \"EndTime\": 1659473199.696852, \"Dimensions\": {\"Algorithm\": \"Linear Learner\", \"Host\": \"algo-1\", \"Operation\": \"training\", \"epoch\": 4, \"model\": 8}, \"Metrics\": {\"validation_binary_classification_cross_entropy_objective\": {\"sum\": 0.49252894669316577, \"count\": 1, \"min\": 0.49252894669316577, \"max\": 0.49252894669316577}}}\u001b[0m\n",
      "\u001b[34m#metrics {\"StartTime\": 1659473199.6969075, \"EndTime\": 1659473199.6969228, \"Dimensions\": {\"Algorithm\": \"Linear Learner\", \"Host\": \"algo-1\", \"Operation\": \"training\", \"epoch\": 4, \"model\": 9}, \"Metrics\": {\"validation_binary_classification_cross_entropy_objective\": {\"sum\": 0.4939539589387827, \"count\": 1, \"min\": 0.4939539589387827, \"max\": 0.4939539589387827}}}\u001b[0m\n",
      "\u001b[34m#metrics {\"StartTime\": 1659473199.6969876, \"EndTime\": 1659473199.6970043, \"Dimensions\": {\"Algorithm\": \"Linear Learner\", \"Host\": \"algo-1\", \"Operation\": \"training\", \"epoch\": 4, \"model\": 10}, \"Metrics\": {\"validation_binary_classification_cross_entropy_objective\": {\"sum\": 0.492538972066213, \"count\": 1, \"min\": 0.492538972066213, \"max\": 0.492538972066213}}}\u001b[0m\n",
      "\u001b[34m#metrics {\"StartTime\": 1659473199.6970596, \"EndTime\": 1659473199.6970756, \"Dimensions\": {\"Algorithm\": \"Linear Learner\", \"Host\": \"algo-1\", \"Operation\": \"training\", \"epoch\": 4, \"model\": 11}, \"Metrics\": {\"validation_binary_classification_cross_entropy_objective\": {\"sum\": 0.4939539621107196, \"count\": 1, \"min\": 0.4939539621107196, \"max\": 0.4939539621107196}}}\u001b[0m\n",
      "\u001b[34m#metrics {\"StartTime\": 1659473199.6971407, \"EndTime\": 1659473199.6971588, \"Dimensions\": {\"Algorithm\": \"Linear Learner\", \"Host\": \"algo-1\", \"Operation\": \"training\", \"epoch\": 4, \"model\": 12}, \"Metrics\": {\"validation_binary_classification_cross_entropy_objective\": {\"sum\": 0.49255072502536595, \"count\": 1, \"min\": 0.49255072502536595, \"max\": 0.49255072502536595}}}\u001b[0m\n",
      "\u001b[34m#metrics {\"StartTime\": 1659473199.697215, \"EndTime\": 1659473199.6972337, \"Dimensions\": {\"Algorithm\": \"Linear Learner\", \"Host\": \"algo-1\", \"Operation\": \"training\", \"epoch\": 4, \"model\": 13}, \"Metrics\": {\"validation_binary_classification_cross_entropy_objective\": {\"sum\": 0.5037967051065814, \"count\": 1, \"min\": 0.5037967051065814, \"max\": 0.5037967051065814}}}\u001b[0m\n",
      "\u001b[34m#metrics {\"StartTime\": 1659473199.6972883, \"EndTime\": 1659473199.6973064, \"Dimensions\": {\"Algorithm\": \"Linear Learner\", \"Host\": \"algo-1\", \"Operation\": \"training\", \"epoch\": 4, \"model\": 14}, \"Metrics\": {\"validation_binary_classification_cross_entropy_objective\": {\"sum\": 0.49255072838388736, \"count\": 1, \"min\": 0.49255072838388736, \"max\": 0.49255072838388736}}}\u001b[0m\n",
      "\u001b[34m#metrics {\"StartTime\": 1659473199.697363, \"EndTime\": 1659473199.6973808, \"Dimensions\": {\"Algorithm\": \"Linear Learner\", \"Host\": \"algo-1\", \"Operation\": \"training\", \"epoch\": 4, \"model\": 15}, \"Metrics\": {\"validation_binary_classification_cross_entropy_objective\": {\"sum\": 0.5037967054797504, \"count\": 1, \"min\": 0.5037967054797504, \"max\": 0.5037967054797504}}}\u001b[0m\n",
      "\u001b[34m#metrics {\"StartTime\": 1659473199.6974344, \"EndTime\": 1659473199.6974523, \"Dimensions\": {\"Algorithm\": \"Linear Learner\", \"Host\": \"algo-1\", \"Operation\": \"training\", \"epoch\": 4, \"model\": 16}, \"Metrics\": {\"validation_binary_classification_cross_entropy_objective\": {\"sum\": 0.5077558033070969, \"count\": 1, \"min\": 0.5077558033070969, \"max\": 0.5077558033070969}}}\u001b[0m\n",
      "\u001b[34m#metrics {\"StartTime\": 1659473199.6975074, \"EndTime\": 1659473199.697524, \"Dimensions\": {\"Algorithm\": \"Linear Learner\", \"Host\": \"algo-1\", \"Operation\": \"training\", \"epoch\": 4, \"model\": 17}, \"Metrics\": {\"validation_binary_classification_cross_entropy_objective\": {\"sum\": 0.5086859320093399, \"count\": 1, \"min\": 0.5086859320093399, \"max\": 0.5086859320093399}}}\u001b[0m\n",
      "\u001b[34m#metrics {\"StartTime\": 1659473199.6975799, \"EndTime\": 1659473199.6976018, \"Dimensions\": {\"Algorithm\": \"Linear Learner\", \"Host\": \"algo-1\", \"Operation\": \"training\", \"epoch\": 4, \"model\": 18}, \"Metrics\": {\"validation_binary_classification_cross_entropy_objective\": {\"sum\": 0.5078263512887073, \"count\": 1, \"min\": 0.5078263512887073, \"max\": 0.5078263512887073}}}\u001b[0m\n",
      "\u001b[34m#metrics {\"StartTime\": 1659473199.6976593, \"EndTime\": 1659473199.6976757, \"Dimensions\": {\"Algorithm\": \"Linear Learner\", \"Host\": \"algo-1\", \"Operation\": \"training\", \"epoch\": 4, \"model\": 19}, \"Metrics\": {\"validation_binary_classification_cross_entropy_objective\": {\"sum\": 0.5086859124179649, \"count\": 1, \"min\": 0.5086859124179649, \"max\": 0.5086859124179649}}}\u001b[0m\n",
      "\u001b[34m#metrics {\"StartTime\": 1659473199.697751, \"EndTime\": 1659473199.6977742, \"Dimensions\": {\"Algorithm\": \"Linear Learner\", \"Host\": \"algo-1\", \"Operation\": \"training\", \"epoch\": 4, \"model\": 20}, \"Metrics\": {\"validation_binary_classification_cross_entropy_objective\": {\"sum\": 0.5078602699295318, \"count\": 1, \"min\": 0.5078602699295318, \"max\": 0.5078602699295318}}}\u001b[0m\n",
      "\u001b[34m#metrics {\"StartTime\": 1659473199.6978416, \"EndTime\": 1659473199.6978586, \"Dimensions\": {\"Algorithm\": \"Linear Learner\", \"Host\": \"algo-1\", \"Operation\": \"training\", \"epoch\": 4, \"model\": 21}, \"Metrics\": {\"validation_binary_classification_cross_entropy_objective\": {\"sum\": 0.5099057654638746, \"count\": 1, \"min\": 0.5099057654638746, \"max\": 0.5099057654638746}}}\u001b[0m\n",
      "\u001b[34m#metrics {\"StartTime\": 1659473199.6979141, \"EndTime\": 1659473199.6979308, \"Dimensions\": {\"Algorithm\": \"Linear Learner\", \"Host\": \"algo-1\", \"Operation\": \"training\", \"epoch\": 4, \"model\": 22}, \"Metrics\": {\"validation_binary_classification_cross_entropy_objective\": {\"sum\": 0.5078602639588271, \"count\": 1, \"min\": 0.5078602639588271, \"max\": 0.5078602639588271}}}\u001b[0m\n",
      "\u001b[34m#metrics {\"StartTime\": 1659473199.6979828, \"EndTime\": 1659473199.6979985, \"Dimensions\": {\"Algorithm\": \"Linear Learner\", \"Host\": \"algo-1\", \"Operation\": \"training\", \"epoch\": 4, \"model\": 23}, \"Metrics\": {\"validation_binary_classification_cross_entropy_objective\": {\"sum\": 0.5099057667699662, \"count\": 1, \"min\": 0.5099057667699662, \"max\": 0.5099057667699662}}}\u001b[0m\n",
      "\u001b[34m#metrics {\"StartTime\": 1659473199.6980512, \"EndTime\": 1659473199.6980696, \"Dimensions\": {\"Algorithm\": \"Linear Learner\", \"Host\": \"algo-1\", \"Operation\": \"training\", \"epoch\": 4, \"model\": 24}, \"Metrics\": {\"validation_binary_classification_cross_entropy_objective\": {\"sum\": 0.513765687272958, \"count\": 1, \"min\": 0.513765687272958, \"max\": 0.513765687272958}}}\u001b[0m\n",
      "\u001b[34m#metrics {\"StartTime\": 1659473199.698141, \"EndTime\": 1659473199.6981575, \"Dimensions\": {\"Algorithm\": \"Linear Learner\", \"Host\": \"algo-1\", \"Operation\": \"training\", \"epoch\": 4, \"model\": 25}, \"Metrics\": {\"validation_binary_classification_cross_entropy_objective\": {\"sum\": 0.5142497231652884, \"count\": 1, \"min\": 0.5142497231652884, \"max\": 0.5142497231652884}}}\u001b[0m\n",
      "\u001b[34m#metrics {\"StartTime\": 1659473199.6982088, \"EndTime\": 1659473199.6982257, \"Dimensions\": {\"Algorithm\": \"Linear Learner\", \"Host\": \"algo-1\", \"Operation\": \"training\", \"epoch\": 4, \"model\": 26}, \"Metrics\": {\"validation_binary_classification_cross_entropy_objective\": {\"sum\": 0.5137747556539828, \"count\": 1, \"min\": 0.5137747556539828, \"max\": 0.5137747556539828}}}\u001b[0m\n",
      "\u001b[34m#metrics {\"StartTime\": 1659473199.6982791, \"EndTime\": 1659473199.6982949, \"Dimensions\": {\"Algorithm\": \"Linear Learner\", \"Host\": \"algo-1\", \"Operation\": \"training\", \"epoch\": 4, \"model\": 27}, \"Metrics\": {\"validation_binary_classification_cross_entropy_objective\": {\"sum\": 0.5142371682658523, \"count\": 1, \"min\": 0.5142371682658523, \"max\": 0.5142371682658523}}}\u001b[0m\n",
      "\u001b[34m#metrics {\"StartTime\": 1659473199.6983473, \"EndTime\": 1659473199.6983635, \"Dimensions\": {\"Algorithm\": \"Linear Learner\", \"Host\": \"algo-1\", \"Operation\": \"training\", \"epoch\": 4, \"model\": 28}, \"Metrics\": {\"validation_binary_classification_cross_entropy_objective\": {\"sum\": 0.5137772553268478, \"count\": 1, \"min\": 0.5137772553268478, \"max\": 0.5137772553268478}}}\u001b[0m\n",
      "\u001b[34m#metrics {\"StartTime\": 1659473199.6984127, \"EndTime\": 1659473199.6984303, \"Dimensions\": {\"Algorithm\": \"Linear Learner\", \"Host\": \"algo-1\", \"Operation\": \"training\", \"epoch\": 4, \"model\": 29}, \"Metrics\": {\"validation_binary_classification_cross_entropy_objective\": {\"sum\": 0.5139582273881529, \"count\": 1, \"min\": 0.5139582273881529, \"max\": 0.5139582273881529}}}\u001b[0m\n",
      "\u001b[34m#metrics {\"StartTime\": 1659473199.6984935, \"EndTime\": 1659473199.6985087, \"Dimensions\": {\"Algorithm\": \"Linear Learner\", \"Host\": \"algo-1\", \"Operation\": \"training\", \"epoch\": 4, \"model\": 30}, \"Metrics\": {\"validation_binary_classification_cross_entropy_objective\": {\"sum\": 0.513777390414043, \"count\": 1, \"min\": 0.513777390414043, \"max\": 0.513777390414043}}}\u001b[0m\n",
      "\u001b[34m#metrics {\"StartTime\": 1659473199.6985629, \"EndTime\": 1659473199.6986032, \"Dimensions\": {\"Algorithm\": \"Linear Learner\", \"Host\": \"algo-1\", \"Operation\": \"training\", \"epoch\": 4, \"model\": 31}, \"Metrics\": {\"validation_binary_classification_cross_entropy_objective\": {\"sum\": 0.5139582253357232, \"count\": 1, \"min\": 0.5139582253357232, \"max\": 0.5139582253357232}}}\u001b[0m\n",
      "\u001b[34m[08/02/2022 20:46:39 INFO 140651768051520] #quality_metric: host=algo-1, epoch=4, validation binary_classification_cross_entropy_objective <loss>=0.4924010036327798\u001b[0m\n",
      "\u001b[34m[08/02/2022 20:46:39 INFO 140651768051520] #early_stopping_criteria_metric: host=algo-1, epoch=4, criteria=binary_classification_cross_entropy_objective, value=0.4924010036327798\u001b[0m\n",
      "\u001b[34m[08/02/2022 20:46:39 INFO 140651768051520] Saving model for epoch: 4\u001b[0m\n",
      "\u001b[34m[08/02/2022 20:46:39 INFO 140651768051520] Saved checkpoint to \"/tmp/tmpk6tcm_9z/mx-mod-0000.params\"\u001b[0m\n",
      "\u001b[34m[08/02/2022 20:46:39 INFO 140651768051520] Early stop condition met. Stopping training.\u001b[0m\n",
      "\u001b[34m[08/02/2022 20:46:39 INFO 140651768051520] #progress_metric: host=algo-1, completed 100 % epochs\u001b[0m\n",
      "\u001b[34m#metrics {\"StartTime\": 1659473135.0797174, \"EndTime\": 1659473199.7089963, \"Dimensions\": {\"Algorithm\": \"Linear Learner\", \"Host\": \"algo-1\", \"Operation\": \"training\", \"epoch\": 4, \"Meta\": \"training_data_iter\"}, \"Metrics\": {\"Total Records Seen\": {\"sum\": 6554360.0, \"count\": 1, \"min\": 6554360, \"max\": 6554360}, \"Total Batches Seen\": {\"sum\": 6557.0, \"count\": 1, \"min\": 6557, \"max\": 6557}, \"Max Records Seen Between Resets\": {\"sum\": 1308472.0, \"count\": 1, \"min\": 1308472, \"max\": 1308472}, \"Max Batches Seen Between Resets\": {\"sum\": 1309.0, \"count\": 1, \"min\": 1309, \"max\": 1309}, \"Reset Count\": {\"sum\": 7.0, \"count\": 1, \"min\": 7, \"max\": 7}, \"Number of Records Since Last Reset\": {\"sum\": 1308472.0, \"count\": 1, \"min\": 1308472, \"max\": 1308472}, \"Number of Batches Since Last Reset\": {\"sum\": 1309.0, \"count\": 1, \"min\": 1309, \"max\": 1309}}}\u001b[0m\n",
      "\u001b[34m[08/02/2022 20:46:39 INFO 140651768051520] #throughput_metric: host=algo-1, train throughput=20245.75705244307 records/second\u001b[0m\n",
      "\u001b[34m[08/02/2022 20:46:39 WARNING 140651768051520] wait_for_all_workers will not sync workers since the kv store is not running distributed\u001b[0m\n",
      "\u001b[34m[08/02/2022 20:46:39 WARNING 140651768051520] wait_for_all_workers will not sync workers since the kv store is not running distributed\u001b[0m\n",
      "\u001b[34m[2022-08-02 20:46:44.974] [tensorio] [info] epoch_stats={\"data_pipeline\": \"/opt/ml/input/data/validation\", \"epoch\": 17, \"duration\": 5230, \"num_examples\": 164, \"num_bytes\": 68694780}\u001b[0m\n",
      "\u001b[34m[08/02/2022 20:46:44 INFO 140651768051520] #early_stopping_criteria_metric: host=algo-1, epoch=4, criteria=binary_classification_cross_entropy_objective, value=0.4924010036327798\u001b[0m\n",
      "\u001b[34m[2022-08-02 20:46:45.866] [tensorio] [info] epoch_stats={\"data_pipeline\": \"/opt/ml/input/data/validation\", \"epoch\": 19, \"duration\": 878, \"num_examples\": 164, \"num_bytes\": 68694780}\u001b[0m\n",
      "\u001b[34m[08/02/2022 20:46:46 INFO 140651768051520] #validation_score (algo-1) : ('binary_classification_cross_entropy_objective', 0.4927728677081813)\u001b[0m\n",
      "\u001b[34m[08/02/2022 20:46:46 INFO 140651768051520] #validation_score (algo-1) : ('binary_classification_accuracy', 0.7902163745192866)\u001b[0m\n",
      "\u001b[34m[08/02/2022 20:46:46 INFO 140651768051520] #validation_score (algo-1) : ('binary_f_1.000', 0.004583695967507978)\u001b[0m\n",
      "\u001b[34m[08/02/2022 20:46:46 INFO 140651768051520] #validation_score (algo-1) : ('precision', 0.5766423357664233)\u001b[0m\n",
      "\u001b[34m[08/02/2022 20:46:46 INFO 140651768051520] #validation_score (algo-1) : ('recall', 0.002300993213526345)\u001b[0m\n",
      "\u001b[34m[08/02/2022 20:46:46 INFO 140651768051520] #validation_score (algo-1) : ('roc_auc_score', 0.6424702227374217)\u001b[0m\n",
      "\u001b[34m[08/02/2022 20:46:46 INFO 140651768051520] #validation_score (algo-1) : ('binary_balanced_accuracy', 0.5)\u001b[0m\n",
      "\u001b[34m[08/02/2022 20:46:46 INFO 140651768051520] #validation_score (algo-1) : ('binary_log_loss', 0.7537746727049074)\u001b[0m\n",
      "\u001b[34m[08/02/2022 20:46:46 INFO 140651768051520] #quality_metric: host=algo-1, validation binary_classification_cross_entropy_objective <loss>=0.4927728677081813\u001b[0m\n",
      "\u001b[34m[08/02/2022 20:46:46 INFO 140651768051520] #quality_metric: host=algo-1, validation binary_classification_accuracy <score>=0.7902163745192866\u001b[0m\n",
      "\u001b[34m[08/02/2022 20:46:46 INFO 140651768051520] #quality_metric: host=algo-1, validation binary_f_1.000 <score>=0.004583695967507978\u001b[0m\n",
      "\u001b[34m[08/02/2022 20:46:46 INFO 140651768051520] #quality_metric: host=algo-1, validation precision <score>=0.5766423357664233\u001b[0m\n",
      "\u001b[34m[08/02/2022 20:46:46 INFO 140651768051520] #quality_metric: host=algo-1, validation recall <score>=0.002300993213526345\u001b[0m\n",
      "\u001b[34m[08/02/2022 20:46:46 INFO 140651768051520] #quality_metric: host=algo-1, validation roc_auc_score <score>=0.6424702227374217\u001b[0m\n",
      "\u001b[34m[08/02/2022 20:46:46 INFO 140651768051520] #quality_metric: host=algo-1, validation binary_balanced_accuracy <score>=0.5\u001b[0m\n",
      "\u001b[34m[08/02/2022 20:46:46 INFO 140651768051520] #quality_metric: host=algo-1, validation binary_log_loss <score>=0.7537746727049074\u001b[0m\n",
      "\u001b[34m[08/02/2022 20:46:46 INFO 140651768051520] Best model found for hyperparameters: {\"optimizer\": \"adam\", \"learning_rate\": 0.005, \"l1\": 0.0, \"wd\": 0.0001, \"lr_scheduler_step\": 10, \"lr_scheduler_factor\": 0.99, \"lr_scheduler_minimum_lr\": 1e-05}\u001b[0m\n",
      "\u001b[34m[08/02/2022 20:46:46 INFO 140651768051520] Saved checkpoint to \"/tmp/tmpdshz7_h3/mx-mod-0000.params\"\u001b[0m\n",
      "\u001b[34m[2022-08-02 20:46:46.230] [tensorio] [info] epoch_stats={\"data_pipeline\": \"/opt/ml/input/data/test\", \"epoch\": 0, \"duration\": 331374, \"num_examples\": 1, \"num_bytes\": 420000}\u001b[0m\n",
      "\u001b[34m[2022-08-02 20:46:47.142] [tensorio] [info] epoch_stats={\"data_pipeline\": \"/opt/ml/input/data/test\", \"epoch\": 1, \"duration\": 911, \"num_examples\": 164, \"num_bytes\": 68694780}\u001b[0m\n",
      "\u001b[34m#metrics {\"StartTime\": 1659473206.2262738, \"EndTime\": 1659473207.4382234, \"Dimensions\": {\"Algorithm\": \"Linear Learner\", \"Host\": \"algo-1\", \"Operation\": \"training\", \"Meta\": \"test_data_iter\"}, \"Metrics\": {\"Total Records Seen\": {\"sum\": 163559.0, \"count\": 1, \"min\": 163559, \"max\": 163559}, \"Total Batches Seen\": {\"sum\": 164.0, \"count\": 1, \"min\": 164, \"max\": 164}, \"Max Records Seen Between Resets\": {\"sum\": 163559.0, \"count\": 1, \"min\": 163559, \"max\": 163559}, \"Max Batches Seen Between Resets\": {\"sum\": 164.0, \"count\": 1, \"min\": 164, \"max\": 164}, \"Reset Count\": {\"sum\": 1.0, \"count\": 1, \"min\": 1, \"max\": 1}, \"Number of Records Since Last Reset\": {\"sum\": 163559.0, \"count\": 1, \"min\": 163559, \"max\": 163559}, \"Number of Batches Since Last Reset\": {\"sum\": 164.0, \"count\": 1, \"min\": 164, \"max\": 164}}}\u001b[0m\n",
      "\u001b[34m[08/02/2022 20:46:47 INFO 140651768051520] #test_score (algo-1) : ('binary_classification_cross_entropy_objective', 0.4925850938946463)\u001b[0m\n",
      "\u001b[34m[08/02/2022 20:46:47 INFO 140651768051520] #test_score (algo-1) : ('binary_classification_accuracy', 0.7902102605176113)\u001b[0m\n",
      "\u001b[34m[08/02/2022 20:46:47 INFO 140651768051520] #test_score (algo-1) : ('binary_f_1.000', 0.005449117416886467)\u001b[0m\n",
      "\u001b[34m[08/02/2022 20:46:47 INFO 140651768051520] #test_score (algo-1) : ('precision', 0.5595238095238095)\u001b[0m\n",
      "\u001b[34m[08/02/2022 20:46:47 INFO 140651768051520] #test_score (algo-1) : ('recall', 0.002737890659132613)\u001b[0m\n",
      "\u001b[34m[08/02/2022 20:46:47 INFO 140651768051520] #test_score (algo-1) : ('roc_auc_score', 0.6432831488499484)\u001b[0m\n",
      "\u001b[34m[08/02/2022 20:46:47 INFO 140651768051520] #test_score (algo-1) : ('binary_balanced_accuracy', 0.5)\u001b[0m\n",
      "\u001b[34m[08/02/2022 20:46:47 INFO 140651768051520] #test_score (algo-1) : ('binary_log_loss', 0.7538106213720376)\u001b[0m\n",
      "\u001b[34m[08/02/2022 20:46:47 INFO 140651768051520] #quality_metric: host=algo-1, test binary_classification_cross_entropy_objective <loss>=0.4925850938946463\u001b[0m\n",
      "\u001b[34m[08/02/2022 20:46:47 INFO 140651768051520] #quality_metric: host=algo-1, test binary_classification_accuracy <score>=0.7902102605176113\u001b[0m\n",
      "\u001b[34m[08/02/2022 20:46:47 INFO 140651768051520] #quality_metric: host=algo-1, test binary_f_1.000 <score>=0.005449117416886467\u001b[0m\n",
      "\u001b[34m[08/02/2022 20:46:47 INFO 140651768051520] #quality_metric: host=algo-1, test precision <score>=0.5595238095238095\u001b[0m\n",
      "\u001b[34m[08/02/2022 20:46:47 INFO 140651768051520] #quality_metric: host=algo-1, test recall <score>=0.002737890659132613\u001b[0m\n",
      "\u001b[34m[08/02/2022 20:46:47 INFO 140651768051520] #quality_metric: host=algo-1, test roc_auc_score <score>=0.6432831488499484\u001b[0m\n",
      "\u001b[34m[08/02/2022 20:46:47 INFO 140651768051520] #quality_metric: host=algo-1, test binary_balanced_accuracy <score>=0.5\u001b[0m\n",
      "\u001b[34m[08/02/2022 20:46:47 INFO 140651768051520] #quality_metric: host=algo-1, test binary_log_loss <score>=0.7538106213720376\u001b[0m\n",
      "\u001b[34m#metrics {\"StartTime\": 1659472874.83694, \"EndTime\": 1659473207.449888, \"Dimensions\": {\"Algorithm\": \"Linear Learner\", \"Host\": \"algo-1\", \"Operation\": \"training\"}, \"Metrics\": {\"initialize.time\": {\"sum\": 430.0708770751953, \"count\": 1, \"min\": 430.0708770751953, \"max\": 430.0708770751953}, \"epochs\": {\"sum\": 15.0, \"count\": 1, \"min\": 15, \"max\": 15}, \"check_early_stopping.time\": {\"sum\": 2.642393112182617, \"count\": 6, \"min\": 0.21457672119140625, \"max\": 1.0247230529785156}, \"update.time\": {\"sum\": 324361.13119125366, \"count\": 5, \"min\": 64624.7181892395, \"max\": 65396.36421203613}, \"finalize.time\": {\"sum\": 6512.551784515381, \"count\": 1, \"min\": 6512.551784515381, \"max\": 6512.551784515381}, \"setuptime\": {\"sum\": 46.64182662963867, \"count\": 1, \"min\": 46.64182662963867, \"max\": 46.64182662963867}, \"totaltime\": {\"sum\": 332980.85474967957, \"count\": 1, \"min\": 332980.85474967957, \"max\": 332980.85474967957}}}\u001b[0m\n"
     ]
    }
   ],
   "source": [
    "### Fit the classifier\n",
    "classifier_estimator.fit([train_records,val_records,test_records])"
   ]
  },
  {
   "cell_type": "markdown",
   "metadata": {},
   "source": [
    "## Model evaluation\n",
    "In this section, you will evaluate your trained model. "
   ]
  },
  {
   "cell_type": "markdown",
   "metadata": {},
   "source": [
    "First, examine the metrics for the training job:"
   ]
  },
  {
   "cell_type": "code",
   "execution_count": 94,
   "metadata": {},
   "outputs": [
    {
     "name": "stderr",
     "output_type": "stream",
     "text": [
      "Warning: No metrics called test:precision found\n"
     ]
    },
    {
     "data": {
      "text/html": [
       "<div>\n",
       "<style scoped>\n",
       "    .dataframe tbody tr th:only-of-type {\n",
       "        vertical-align: middle;\n",
       "    }\n",
       "\n",
       "    .dataframe tbody tr th {\n",
       "        vertical-align: top;\n",
       "    }\n",
       "\n",
       "    .dataframe thead th {\n",
       "        text-align: right;\n",
       "    }\n",
       "</style>\n",
       "<table border=\"1\" class=\"dataframe\">\n",
       "  <thead>\n",
       "    <tr style=\"text-align: right;\">\n",
       "      <th></th>\n",
       "      <th>timestamp</th>\n",
       "      <th>metric_name</th>\n",
       "      <th>value</th>\n",
       "    </tr>\n",
       "  </thead>\n",
       "  <tbody>\n",
       "    <tr>\n",
       "      <th>0</th>\n",
       "      <td>0.0</td>\n",
       "      <td>test:objective_loss</td>\n",
       "      <td>0.513796</td>\n",
       "    </tr>\n",
       "    <tr>\n",
       "      <th>1</th>\n",
       "      <td>0.0</td>\n",
       "      <td>test:binary_f_beta</td>\n",
       "      <td>0.000000</td>\n",
       "    </tr>\n",
       "    <tr>\n",
       "      <th>2</th>\n",
       "      <td>0.0</td>\n",
       "      <td>test:recall</td>\n",
       "      <td>0.000000</td>\n",
       "    </tr>\n",
       "  </tbody>\n",
       "</table>\n",
       "</div>"
      ],
      "text/plain": [
       "   timestamp          metric_name     value\n",
       "0        0.0  test:objective_loss  0.513796\n",
       "1        0.0   test:binary_f_beta  0.000000\n",
       "2        0.0          test:recall  0.000000"
      ]
     },
     "execution_count": 94,
     "metadata": {},
     "output_type": "execute_result"
    }
   ],
   "source": [
    "sagemaker.analytics.TrainingJobAnalytics(classifier_estimator._current_job_name, \n",
    "                                         metric_names = ['test:objective_loss', \n",
    "                                                         'test:binary_f_beta',\n",
    "                                                         'test:precision',\n",
    "                                                         'test:recall']\n",
    "                                        ).dataframe()"
   ]
  },
  {
   "cell_type": "markdown",
   "metadata": {},
   "source": [
    "Next, set up some functions that will help load the test data into Amazon S3 and perform a prediction by using the batch prediction function. Using batch prediction will help reduce costs because the instances will only run when predictions are performed on the supplied test data.\n",
    "\n",
    "**Note:** Replace `<LabBucketName>` with the name of the lab bucket that was created during the lab setup."
   ]
  },
  {
   "cell_type": "code",
   "execution_count": 105,
   "metadata": {},
   "outputs": [],
   "source": [
    "import io\n",
    "bucket='sagemaker-us-east-1-807694885535'\n",
    "prefix='flight-linear'\n",
    "train_file='flight_train.csv'\n",
    "test_file='flight_test.csv'\n",
    "validate_file='flight_validate.csv'\n",
    "whole_file='flight.csv'\n",
    "s3_resource = boto3.Session().resource('s3')\n",
    "\n",
    "def upload_s3_csv(filename, folder, dataframe):\n",
    "    csv_buffer = io.StringIO()\n",
    "    dataframe.to_csv(csv_buffer, header=False, index=False )\n",
    "    s3_resource.Bucket(bucket).Object(os.path.join(prefix, folder, filename)).put(Body=csv_buffer.getvalue())"
   ]
  },
  {
   "cell_type": "code",
   "execution_count": 106,
   "metadata": {},
   "outputs": [],
   "source": [
    "def batch_linear_predict(test_data, estimator):\n",
    "    batch_X = test_data.iloc[:,1:];\n",
    "    batch_X_file='batch-in.csv'\n",
    "    upload_s3_csv(batch_X_file, 'batch-in', batch_X)\n",
    "\n",
    "    batch_output = \"s3://{}/{}/batch-out/\".format(bucket,prefix)\n",
    "    batch_input = \"s3://{}/{}/batch-in/{}\".format(bucket,prefix,batch_X_file)\n",
    "\n",
    "    classifier_transformer = estimator.transformer(instance_count=1,\n",
    "                                           instance_type='ml.m4.xlarge',\n",
    "                                           strategy='MultiRecord',\n",
    "                                           assemble_with='Line',\n",
    "                                           output_path=batch_output)\n",
    "\n",
    "    classifier_transformer.transform(data=batch_input,\n",
    "                             data_type='S3Prefix',\n",
    "                             content_type='text/csv',\n",
    "                             split_type='Line')\n",
    "    \n",
    "    classifier_transformer.wait()\n",
    "\n",
    "    s3 = boto3.client('s3')\n",
    "    obj = s3.get_object(Bucket=bucket, Key=\"{}/batch-out/{}\".format(prefix,'batch-in.csv.out'))\n",
    "    target_predicted_df = pd.read_json(io.BytesIO(obj['Body'].read()),orient=\"records\",lines=True)\n",
    "    return test_data.iloc[:,0], target_predicted_df.iloc[:,0]"
   ]
  },
  {
   "cell_type": "markdown",
   "metadata": {},
   "source": [
    "\n",
    "To run the predictions on the test dataset, run the `batch_linear_predict` function (which was defined previously) on your test dataset.\n"
   ]
  },
  {
   "cell_type": "code",
   "execution_count": 107,
   "metadata": {},
   "outputs": [
    {
     "name": "stderr",
     "output_type": "stream",
     "text": [
      "Defaulting to the only supported framework/algorithm version: 1. Ignoring framework/algorithm version: 1.\n"
     ]
    },
    {
     "name": "stdout",
     "output_type": "stream",
     "text": [
      "......................................\u001b[34mDocker entrypoint called with argument(s): serve\u001b[0m\n",
      "\u001b[34mRunning default environment configuration script\u001b[0m\n",
      "\u001b[35mDocker entrypoint called with argument(s): serve\u001b[0m\n",
      "\u001b[35mRunning default environment configuration script\u001b[0m\n",
      "\u001b[34m[08/02/2022 17:03:17 INFO 139886842705728] loaded entry point class algorithm.serve.server_config:config_api\u001b[0m\n",
      "\u001b[34m[08/02/2022 17:03:17 INFO 139886842705728] loading entry points\u001b[0m\n",
      "\u001b[34m[08/02/2022 17:03:17 INFO 139886842705728] loaded request iterator application/json\u001b[0m\n",
      "\u001b[35m[08/02/2022 17:03:17 INFO 139886842705728] loaded entry point class algorithm.serve.server_config:config_api\u001b[0m\n",
      "\u001b[35m[08/02/2022 17:03:17 INFO 139886842705728] loading entry points\u001b[0m\n",
      "\u001b[35m[08/02/2022 17:03:17 INFO 139886842705728] loaded request iterator application/json\u001b[0m\n",
      "\u001b[34m[08/02/2022 17:03:17 INFO 139886842705728] loaded request iterator application/jsonlines\u001b[0m\n",
      "\u001b[34m[08/02/2022 17:03:17 INFO 139886842705728] loaded request iterator application/x-recordio-protobuf\u001b[0m\n",
      "\u001b[34m[08/02/2022 17:03:17 INFO 139886842705728] loaded request iterator text/csv\u001b[0m\n",
      "\u001b[34m[08/02/2022 17:03:17 INFO 139886842705728] loaded response encoder application/json\u001b[0m\n",
      "\u001b[34m[08/02/2022 17:03:17 INFO 139886842705728] loaded response encoder application/jsonlines\u001b[0m\n",
      "\u001b[34m[08/02/2022 17:03:17 INFO 139886842705728] loaded response encoder application/x-recordio-protobuf\u001b[0m\n",
      "\u001b[34m[08/02/2022 17:03:17 INFO 139886842705728] loaded response encoder text/csv\u001b[0m\n",
      "\u001b[34m[08/02/2022 17:03:17 INFO 139886842705728] loaded entry point class algorithm:model\u001b[0m\n",
      "\u001b[34m[08/02/2022 17:03:17 INFO 139886842705728] Number of server workers: 4\u001b[0m\n",
      "\u001b[34m[08/02/2022 17:03:17 INFO 139886842705728] loading model...\u001b[0m\n",
      "\u001b[34m[08/02/2022 17:03:17 INFO 139886842705728] ...model loaded.\u001b[0m\n",
      "\u001b[34m[2022-08-02 17:03:17 +0000] [1] [INFO] Starting gunicorn 20.1.0\u001b[0m\n",
      "\u001b[34m[2022-08-02 17:03:17 +0000] [1] [INFO] Listening at: http://0.0.0.0:8080 (1)\u001b[0m\n",
      "\u001b[34m[2022-08-02 17:03:17 +0000] [1] [INFO] Using worker: sync\u001b[0m\n",
      "\u001b[34m[2022-08-02 17:03:17 +0000] [60] [INFO] Booting worker with pid: 60\u001b[0m\n",
      "\u001b[34m[2022-08-02 17:03:17 +0000] [69] [INFO] Booting worker with pid: 69\u001b[0m\n",
      "\u001b[34m[2022-08-02 17:03:17 +0000] [78] [INFO] Booting worker with pid: 78\u001b[0m\n",
      "\u001b[35m[08/02/2022 17:03:17 INFO 139886842705728] loaded request iterator application/jsonlines\u001b[0m\n",
      "\u001b[35m[08/02/2022 17:03:17 INFO 139886842705728] loaded request iterator application/x-recordio-protobuf\u001b[0m\n",
      "\u001b[35m[08/02/2022 17:03:17 INFO 139886842705728] loaded request iterator text/csv\u001b[0m\n",
      "\u001b[35m[08/02/2022 17:03:17 INFO 139886842705728] loaded response encoder application/json\u001b[0m\n",
      "\u001b[35m[08/02/2022 17:03:17 INFO 139886842705728] loaded response encoder application/jsonlines\u001b[0m\n",
      "\u001b[35m[08/02/2022 17:03:17 INFO 139886842705728] loaded response encoder application/x-recordio-protobuf\u001b[0m\n",
      "\u001b[35m[08/02/2022 17:03:17 INFO 139886842705728] loaded response encoder text/csv\u001b[0m\n",
      "\u001b[35m[08/02/2022 17:03:17 INFO 139886842705728] loaded entry point class algorithm:model\u001b[0m\n",
      "\u001b[35m[08/02/2022 17:03:17 INFO 139886842705728] Number of server workers: 4\u001b[0m\n",
      "\u001b[35m[08/02/2022 17:03:17 INFO 139886842705728] loading model...\u001b[0m\n",
      "\u001b[35m[08/02/2022 17:03:17 INFO 139886842705728] ...model loaded.\u001b[0m\n",
      "\u001b[35m[2022-08-02 17:03:17 +0000] [1] [INFO] Starting gunicorn 20.1.0\u001b[0m\n",
      "\u001b[35m[2022-08-02 17:03:17 +0000] [1] [INFO] Listening at: http://0.0.0.0:8080 (1)\u001b[0m\n",
      "\u001b[35m[2022-08-02 17:03:17 +0000] [1] [INFO] Using worker: sync\u001b[0m\n",
      "\u001b[35m[2022-08-02 17:03:17 +0000] [60] [INFO] Booting worker with pid: 60\u001b[0m\n",
      "\u001b[35m[2022-08-02 17:03:17 +0000] [69] [INFO] Booting worker with pid: 69\u001b[0m\n",
      "\u001b[35m[2022-08-02 17:03:17 +0000] [78] [INFO] Booting worker with pid: 78\u001b[0m\n",
      "\u001b[34m[2022-08-02 17:03:17 +0000] [87] [INFO] Booting worker with pid: 87\u001b[0m\n",
      "\u001b[35m[2022-08-02 17:03:17 +0000] [87] [INFO] Booting worker with pid: 87\u001b[0m\n",
      "\u001b[34m#metrics {\"StartTime\": 1659459797.782069, \"EndTime\": 1659459799.1913996, \"Dimensions\": {\"Algorithm\": \"LinearLearnerModel\", \"Host\": \"UNKNOWN\", \"Operation\": \"scoring\"}, \"Metrics\": {\"execution_parameters.count\": {\"sum\": 1.0, \"count\": 1, \"min\": 1, \"max\": 1}}}\u001b[0m\n",
      "\u001b[35m#metrics {\"StartTime\": 1659459797.782069, \"EndTime\": 1659459799.1913996, \"Dimensions\": {\"Algorithm\": \"LinearLearnerModel\", \"Host\": \"UNKNOWN\", \"Operation\": \"scoring\"}, \"Metrics\": {\"execution_parameters.count\": {\"sum\": 1.0, \"count\": 1, \"min\": 1, \"max\": 1}}}\u001b[0m\n",
      "\u001b[34m#metrics {\"StartTime\": 1659459797.782069, \"EndTime\": 1659459801.5156028, \"Dimensions\": {\"Algorithm\": \"LinearLearnerModel\", \"Host\": \"UNKNOWN\", \"Operation\": \"scoring\"}, \"Metrics\": {\"json.encoder.time\": {\"sum\": 361.3007068634033, \"count\": 1, \"min\": 361.3007068634033, \"max\": 361.3007068634033}, \"invocations.count\": {\"sum\": 1.0, \"count\": 1, \"min\": 1, \"max\": 1}}}\u001b[0m\n",
      "\u001b[35m#metrics {\"StartTime\": 1659459797.782069, \"EndTime\": 1659459801.5156028, \"Dimensions\": {\"Algorithm\": \"LinearLearnerModel\", \"Host\": \"UNKNOWN\", \"Operation\": \"scoring\"}, \"Metrics\": {\"json.encoder.time\": {\"sum\": 361.3007068634033, \"count\": 1, \"min\": 361.3007068634033, \"max\": 361.3007068634033}, \"invocations.count\": {\"sum\": 1.0, \"count\": 1, \"min\": 1, \"max\": 1}}}\u001b[0m\n",
      "\u001b[32m2022-08-02T17:03:19.199:[sagemaker logs]: MaxConcurrentTransforms=4, MaxPayloadInMB=6, BatchStrategy=MULTI_RECORD\u001b[0m\n",
      "\n",
      "\u001b[34mDocker entrypoint called with argument(s): serve\u001b[0m\n",
      "\u001b[34mRunning default environment configuration script\u001b[0m\n",
      "\u001b[35mDocker entrypoint called with argument(s): serve\u001b[0m\n",
      "\u001b[35mRunning default environment configuration script\u001b[0m\n",
      "\u001b[34m[08/02/2022 17:03:17 INFO 139886842705728] loaded entry point class algorithm.serve.server_config:config_api\u001b[0m\n",
      "\u001b[34m[08/02/2022 17:03:17 INFO 139886842705728] loading entry points\u001b[0m\n",
      "\u001b[34m[08/02/2022 17:03:17 INFO 139886842705728] loaded request iterator application/json\u001b[0m\n",
      "\u001b[35m[08/02/2022 17:03:17 INFO 139886842705728] loaded entry point class algorithm.serve.server_config:config_api\u001b[0m\n",
      "\u001b[35m[08/02/2022 17:03:17 INFO 139886842705728] loading entry points\u001b[0m\n",
      "\u001b[35m[08/02/2022 17:03:17 INFO 139886842705728] loaded request iterator application/json\u001b[0m\n",
      "\u001b[34m[08/02/2022 17:03:17 INFO 139886842705728] loaded request iterator application/jsonlines\u001b[0m\n",
      "\u001b[34m[08/02/2022 17:03:17 INFO 139886842705728] loaded request iterator application/x-recordio-protobuf\u001b[0m\n",
      "\u001b[34m[08/02/2022 17:03:17 INFO 139886842705728] loaded request iterator text/csv\u001b[0m\n",
      "\u001b[34m[08/02/2022 17:03:17 INFO 139886842705728] loaded response encoder application/json\u001b[0m\n",
      "\u001b[34m[08/02/2022 17:03:17 INFO 139886842705728] loaded response encoder application/jsonlines\u001b[0m\n",
      "\u001b[34m[08/02/2022 17:03:17 INFO 139886842705728] loaded response encoder application/x-recordio-protobuf\u001b[0m\n",
      "\u001b[34m[08/02/2022 17:03:17 INFO 139886842705728] loaded response encoder text/csv\u001b[0m\n",
      "\u001b[34m[08/02/2022 17:03:17 INFO 139886842705728] loaded entry point class algorithm:model\u001b[0m\n",
      "\u001b[34m[08/02/2022 17:03:17 INFO 139886842705728] Number of server workers: 4\u001b[0m\n",
      "\u001b[34m[08/02/2022 17:03:17 INFO 139886842705728] loading model...\u001b[0m\n",
      "\u001b[34m[08/02/2022 17:03:17 INFO 139886842705728] ...model loaded.\u001b[0m\n",
      "\u001b[34m[2022-08-02 17:03:17 +0000] [1] [INFO] Starting gunicorn 20.1.0\u001b[0m\n",
      "\u001b[34m[2022-08-02 17:03:17 +0000] [1] [INFO] Listening at: http://0.0.0.0:8080 (1)\u001b[0m\n",
      "\u001b[34m[2022-08-02 17:03:17 +0000] [1] [INFO] Using worker: sync\u001b[0m\n",
      "\u001b[34m[2022-08-02 17:03:17 +0000] [60] [INFO] Booting worker with pid: 60\u001b[0m\n",
      "\u001b[34m[2022-08-02 17:03:17 +0000] [69] [INFO] Booting worker with pid: 69\u001b[0m\n",
      "\u001b[34m[2022-08-02 17:03:17 +0000] [78] [INFO] Booting worker with pid: 78\u001b[0m\n",
      "\u001b[35m[08/02/2022 17:03:17 INFO 139886842705728] loaded request iterator application/jsonlines\u001b[0m\n",
      "\u001b[35m[08/02/2022 17:03:17 INFO 139886842705728] loaded request iterator application/x-recordio-protobuf\u001b[0m\n",
      "\u001b[35m[08/02/2022 17:03:17 INFO 139886842705728] loaded request iterator text/csv\u001b[0m\n",
      "\u001b[35m[08/02/2022 17:03:17 INFO 139886842705728] loaded response encoder application/json\u001b[0m\n",
      "\u001b[35m[08/02/2022 17:03:17 INFO 139886842705728] loaded response encoder application/jsonlines\u001b[0m\n",
      "\u001b[35m[08/02/2022 17:03:17 INFO 139886842705728] loaded response encoder application/x-recordio-protobuf\u001b[0m\n",
      "\u001b[35m[08/02/2022 17:03:17 INFO 139886842705728] loaded response encoder text/csv\u001b[0m\n",
      "\u001b[35m[08/02/2022 17:03:17 INFO 139886842705728] loaded entry point class algorithm:model\u001b[0m\n",
      "\u001b[35m[08/02/2022 17:03:17 INFO 139886842705728] Number of server workers: 4\u001b[0m\n",
      "\u001b[35m[08/02/2022 17:03:17 INFO 139886842705728] loading model...\u001b[0m\n",
      "\u001b[35m[08/02/2022 17:03:17 INFO 139886842705728] ...model loaded.\u001b[0m\n",
      "\u001b[35m[2022-08-02 17:03:17 +0000] [1] [INFO] Starting gunicorn 20.1.0\u001b[0m\n",
      "\u001b[35m[2022-08-02 17:03:17 +0000] [1] [INFO] Listening at: http://0.0.0.0:8080 (1)\u001b[0m\n",
      "\u001b[35m[2022-08-02 17:03:17 +0000] [1] [INFO] Using worker: sync\u001b[0m\n",
      "\u001b[35m[2022-08-02 17:03:17 +0000] [60] [INFO] Booting worker with pid: 60\u001b[0m\n",
      "\u001b[35m[2022-08-02 17:03:17 +0000] [69] [INFO] Booting worker with pid: 69\u001b[0m\n",
      "\u001b[35m[2022-08-02 17:03:17 +0000] [78] [INFO] Booting worker with pid: 78\u001b[0m\n",
      "\u001b[34m[2022-08-02 17:03:17 +0000] [87] [INFO] Booting worker with pid: 87\u001b[0m\n",
      "\u001b[35m[2022-08-02 17:03:17 +0000] [87] [INFO] Booting worker with pid: 87\u001b[0m\n",
      "\u001b[34m#metrics {\"StartTime\": 1659459797.782069, \"EndTime\": 1659459799.1913996, \"Dimensions\": {\"Algorithm\": \"LinearLearnerModel\", \"Host\": \"UNKNOWN\", \"Operation\": \"scoring\"}, \"Metrics\": {\"execution_parameters.count\": {\"sum\": 1.0, \"count\": 1, \"min\": 1, \"max\": 1}}}\u001b[0m\n",
      "\u001b[35m#metrics {\"StartTime\": 1659459797.782069, \"EndTime\": 1659459799.1913996, \"Dimensions\": {\"Algorithm\": \"LinearLearnerModel\", \"Host\": \"UNKNOWN\", \"Operation\": \"scoring\"}, \"Metrics\": {\"execution_parameters.count\": {\"sum\": 1.0, \"count\": 1, \"min\": 1, \"max\": 1}}}\u001b[0m\n",
      "\u001b[34m#metrics {\"StartTime\": 1659459797.782069, \"EndTime\": 1659459801.5156028, \"Dimensions\": {\"Algorithm\": \"LinearLearnerModel\", \"Host\": \"UNKNOWN\", \"Operation\": \"scoring\"}, \"Metrics\": {\"json.encoder.time\": {\"sum\": 361.3007068634033, \"count\": 1, \"min\": 361.3007068634033, \"max\": 361.3007068634033}, \"invocations.count\": {\"sum\": 1.0, \"count\": 1, \"min\": 1, \"max\": 1}}}\u001b[0m\n",
      "\u001b[35m#metrics {\"StartTime\": 1659459797.782069, \"EndTime\": 1659459801.5156028, \"Dimensions\": {\"Algorithm\": \"LinearLearnerModel\", \"Host\": \"UNKNOWN\", \"Operation\": \"scoring\"}, \"Metrics\": {\"json.encoder.time\": {\"sum\": 361.3007068634033, \"count\": 1, \"min\": 361.3007068634033, \"max\": 361.3007068634033}, \"invocations.count\": {\"sum\": 1.0, \"count\": 1, \"min\": 1, \"max\": 1}}}\u001b[0m\n",
      "\u001b[32m2022-08-02T17:03:19.199:[sagemaker logs]: MaxConcurrentTransforms=4, MaxPayloadInMB=6, BatchStrategy=MULTI_RECORD\u001b[0m\n"
     ]
    }
   ],
   "source": [
    "test_labels, target_predicted = batch_linear_predict(test, classifier_estimator)"
   ]
  },
  {
   "cell_type": "markdown",
   "metadata": {},
   "source": [
    "To view a plot of the confusion matrix, and various scoring metrics, create a couple of functions:"
   ]
  },
  {
   "cell_type": "code",
   "execution_count": 108,
   "metadata": {},
   "outputs": [],
   "source": [
    "from sklearn.metrics import confusion_matrix\n",
    "\n",
    "def plot_confusion_matrix(test_labels, target_predicted):\n",
    "    matrix = confusion_matrix(test_labels, target_predicted)\n",
    "    df_confusion = pd.DataFrame(matrix)\n",
    "    colormap = sns.color_palette(\"BrBG\", 10)\n",
    "    sns.heatmap(df_confusion, annot=True, fmt='.2f', cbar=None, cmap=colormap)\n",
    "    plt.title(\"Confusion Matrix\")\n",
    "    plt.tight_layout()\n",
    "    plt.ylabel(\"True Class\")\n",
    "    plt.xlabel(\"Predicted Class\")\n",
    "    plt.show()\n",
    "    "
   ]
  },
  {
   "cell_type": "code",
   "execution_count": 109,
   "metadata": {},
   "outputs": [],
   "source": [
    "from sklearn import metrics\n",
    "\n",
    "def plot_roc(test_labels, target_predicted):\n",
    "    TN, FP, FN, TP = confusion_matrix(test_labels, target_predicted).ravel()\n",
    "    # Sensitivity, hit rate, recall, or true positive rate\n",
    "    Sensitivity  = float(TP)/(TP+FN)*100\n",
    "    # Specificity or true negative rate\n",
    "    Specificity  = float(TN)/(TN+FP)*100\n",
    "    # Precision or positive predictive value\n",
    "    Precision = float(TP)/(TP+FP)*100\n",
    "    # Negative predictive value\n",
    "    NPV = float(TN)/(TN+FN)*100\n",
    "    # Fall out or false positive rate\n",
    "    FPR = float(FP)/(FP+TN)*100\n",
    "    # False negative rate\n",
    "    FNR = float(FN)/(TP+FN)*100\n",
    "    # False discovery rate\n",
    "    FDR = float(FP)/(TP+FP)*100\n",
    "    # Overall accuracy\n",
    "    ACC = float(TP+TN)/(TP+FP+FN+TN)*100\n",
    "\n",
    "    print(\"Sensitivity or TPR: \", Sensitivity, \"%\") \n",
    "    print( \"Specificity or TNR: \",Specificity, \"%\") \n",
    "    print(\"Precision: \",Precision, \"%\") \n",
    "    print(\"Negative Predictive Value: \",NPV, \"%\") \n",
    "    print( \"False Positive Rate: \",FPR,\"%\")\n",
    "    print(\"False Negative Rate: \",FNR, \"%\") \n",
    "    print(\"False Discovery Rate: \",FDR, \"%\" )\n",
    "    print(\"Accuracy: \",ACC, \"%\") \n",
    "\n",
    "    test_labels = test.iloc[:,0];\n",
    "    print(\"Validation AUC\", metrics.roc_auc_score(test_labels, target_predicted) )\n",
    "\n",
    "    fpr, tpr, thresholds = metrics.roc_curve(test_labels, target_predicted)\n",
    "    roc_auc = metrics.auc(fpr, tpr)\n",
    "\n",
    "    plt.figure()\n",
    "    plt.plot(fpr, tpr, label='ROC curve (area = %0.2f)' % (roc_auc))\n",
    "    plt.plot([0, 1], [0, 1], 'k--')\n",
    "    plt.xlim([0.0, 1.0])\n",
    "    plt.ylim([0.0, 1.05])\n",
    "    plt.xlabel('False Positive Rate')\n",
    "    plt.ylabel('True Positive Rate')\n",
    "    plt.title('Receiver operating characteristic')\n",
    "    plt.legend(loc=\"lower right\")\n",
    "\n",
    "    # create the axis of thresholds (scores)\n",
    "    ax2 = plt.gca().twinx()\n",
    "    ax2.plot(fpr, thresholds, markeredgecolor='r',linestyle='dashed', color='r')\n",
    "    ax2.set_ylabel('Threshold',color='r')\n",
    "    ax2.set_ylim([thresholds[-1],thresholds[0]])\n",
    "    ax2.set_xlim([fpr[0],fpr[-1]])\n",
    "\n",
    "    print(plt.figure())"
   ]
  },
  {
   "cell_type": "markdown",
   "metadata": {},
   "source": [
    "To plot the confusion matrix, call the `plot_confusion_matrix` function on the `test_labels` and the `target_predicted` data from your batch job:"
   ]
  },
  {
   "cell_type": "code",
   "execution_count": 110,
   "metadata": {},
   "outputs": [
    {
     "data": {
      "image/png": "[encoded data removed]",
      "text/plain": [
       "<Figure size 432x288 with 1 Axes>"
      ]
     },
     "metadata": {
      "needs_background": "light"
     },
     "output_type": "display_data"
    }
   ],
   "source": [
    "plot_confusion_matrix(test_labels, target_predicted)"
   ]
  },
  {
   "cell_type": "markdown",
   "metadata": {},
   "source": [
    "To print statistics and plot a receiver operating characteristic (ROC) curve, call the `plot_roc` function on the `test_labels` and `target_predicted` data from your batch job:"
   ]
  },
  {
   "cell_type": "code",
   "execution_count": 111,
   "metadata": {},
   "outputs": [
    {
     "name": "stdout",
     "output_type": "stream",
     "text": [
      "Sensitivity or TPR:  0.0 %\n",
      "Specificity or TNR:  100.0 %\n",
      "Precision:  nan %\n",
      "Negative Predictive Value:  79.00879804841067 %\n",
      "False Positive Rate:  0.0 %\n",
      "False Negative Rate:  100.0 %\n",
      "False Discovery Rate:  nan %\n",
      "Accuracy:  79.00879804841067 %\n",
      "Validation AUC 0.5\n",
      "Figure(432x288)\n"
     ]
    },
    {
     "data": {
      "image/png": "[encoded data removed]",
      "text/plain": [
       "<Figure size 432x288 with 2 Axes>"
      ]
     },
     "metadata": {
      "needs_background": "light"
     },
     "output_type": "display_data"
    },
    {
     "data": {
      "text/plain": [
       "<Figure size 432x288 with 0 Axes>"
      ]
     },
     "metadata": {},
     "output_type": "display_data"
    }
   ],
   "source": [
    "plot_roc(test_labels, target_predicted)"
   ]
  },
  {
   "cell_type": "markdown",
   "metadata": {},
   "source": [
    "### Key questions to consider:\n",
    "\n",
    "1. How does your model's performance on the test set compare to its performance on the training set? What can you deduce from this comparison? \n",
    "2. Are there obvious differences between the outcomes of metrics like accuracy, precision, and recall? If so, why might you be seeing those differences? \n",
    "3. Given your business situation and goals, which metric (or metrics) is the most important for you to consider? Why?\n",
    "4. From a business standpoint, is the outcome for the metric (or metrics) that you consider to be the most important sufficient for what you need? If not, what are some things you might change in your next iteration? (This will happen in the feature engineering section, which is next.)\n",
    "\n",
    "Use the following cells to answer these (and other) questions. Insert and delete cells where needed.\n",
    "\n",
    "#### <span style=\"color: blue;\">Project presentation: In your project presentation, write down your answers to these questions -- and other similar questions that you might answer -- in this section. Record the key details and decisions that you made.</span>"
   ]
  },
  {
   "cell_type": "markdown",
   "metadata": {},
   "source": [
    "\n",
    "**Question**: What can you summarize from the confusion matrix?\n"
   ]
  },
  {
   "cell_type": "code",
   "execution_count": 114,
   "metadata": {},
   "outputs": [],
   "source": [
    "# Overall, the accuracy of the model is 79%. The model performed in a similar manner with the test set as it did with the training set. \n",
    "# With this being said, the TNR is at 100%, meaning that we have successfully predicted all of the \n",
    "# non-delayed flights very accurately. Although we have done well with the negative cases, we have managed to poorly classify the positive (delayed) flights, as the TPR is at 0%. \n",
    "# This means that we classfied all of the examples in the datasets as negative, or non-delayed. We can see this visualized by the confusion matrix. The metrics that we are most interested \n",
    "# in as we move forward are the accuracy, True positive rate, and True negative rate, which are otherwise known as Sensitivity and Specificity, respectively. In this first iteration of training\n",
    "# our model was unlikely to predict a true positive case, so we would like to assess why this is and establish a way to train our model to accurately recognize a positive (delayed flight).\n",
    "# The way we can do this is to create a set of features that are most important in predicting this target. We will select or even add more features from the dataset that will be used to train our new model. "
   ]
  },
  {
   "cell_type": "markdown",
   "metadata": {},
   "source": [
    "## <span style=\"color:red\"> End of Step 3 </span>\n",
    "\n",
    "Save the project file to your local computer. Follow these steps:\n",
    "\n",
    "1. In the file explorer on the left, right-click the notebook that you're working on. \n",
    "\n",
    "2. Select **Download**, and save the file locally.  \n",
    "\n",
    "This action downloads the current notebook to the default download folder on your computer."
   ]
  },
  {
   "cell_type": "markdown",
   "metadata": {},
   "source": [
    "# Iteration II"
   ]
  },
  {
   "cell_type": "markdown",
   "metadata": {},
   "source": [
    "# Step 4: Feature engineering\n",
    "\n",
    "You have now gone through one iteration of training and evaluating your model. Given that the first outcome that you reached for your model probably wasn't sufficient for solving your business problem, what could you change about your data to possibly improve model performance?\n",
    "\n",
    "### Key questions to consider:\n",
    "\n",
    "1. How might the balance of your two main classes (*delay* and *no delay*) impact model performance?\n",
    "2. Do you have any features that are correlated?\n",
    "3. At this stage, could you perform any feature-reduction techniques that might have a positive impact on model performance? \n",
    "4. Can you think of adding some more data or datasets?\n",
    "5. After performing some feature engineering, how does the performance of your model compare to the first iteration?\n",
    "\n",
    "Use the following cells to perform specific feature-engineering techniques that you think could improve your model performance (use the previous questions as a guide). Insert and delete cells where needed.\n",
    "\n",
    "#### <span style=\"color: blue;\">Project presentation: In your project presentation, record your key decisions and the methods that you use in this section. Also include any new performance metrics that you obtain after you evaluate your model again.</span>\n",
    "\n",
    "Before you start, think about why the precision and recall are around 80 percent, and the accuracy is at 99 percent."
   ]
  },
  {
   "cell_type": "markdown",
   "metadata": {},
   "source": [
    "Add more features:\n",
    "\n",
    "1. Holidays\n",
    "2. Weather"
   ]
  },
  {
   "cell_type": "markdown",
   "metadata": {},
   "source": [
    "Because the list of holidays from 2014 to 2018 is known, you can create an indicator variable **is_holiday** to mark them.\n",
    "\n",
    "The hypothesis is that airplane delays could be higher during holidays compared to the rest of the days. Add a boolean variable `is_holiday` that includes the holidays for the years 2014-2018."
   ]
  },
  {
   "cell_type": "code",
   "execution_count": 115,
   "metadata": {},
   "outputs": [],
   "source": [
    "# Source: http://www.calendarpedia.com/holidays/federal-holidays-2014.html\n",
    "\n",
    "holidays_14 = ['2014-01-01',  '2014-01-20', '2014-02-17', '2014-05-26', '2014-07-04', '2014-09-01', '2014-10-13', '2014-11-11', '2014-11-27', '2014-12-25' ] \n",
    "holidays_15 = ['2015-01-01',  '2015-01-19', '2015-02-16', '2015-05-25', '2015-06-03', '2015-07-04', '2015-09-07', '2015-10-12', '2015-11-11', '2015-11-26', '2015-12-25'] \n",
    "holidays_16 = ['2016-01-01',  '2016-01-18', '2016-02-15', '2016-05-30', '2016-07-04', '2016-09-05', '2016-10-10', '2016-11-11', '2016-11-24', '2016-12-25', '2016-12-26']\n",
    "holidays_17 = ['2017-01-02', '2017-01-16', '2017-02-20', '2017-05-29' , '2017-07-04', '2017-09-04' ,'2017-10-09', '2017-11-10', '2017-11-23', '2017-12-25']\n",
    "holidays_18 = ['2018-01-01', '2018-01-15', '2018-02-19', '2018-05-28' , '2018-07-04', '2018-09-03' ,'2018-10-08', '2018-11-12','2018-11-22', '2018-12-25']\n",
    "holidays = holidays_14+ holidays_15+ holidays_16 + holidays_17+ holidays_18\n",
    "\n",
    "### Add indicator variable for holidays\n",
    "data_orig['is_holiday'] = True "
   ]
  },
  {
   "cell_type": "markdown",
   "metadata": {},
   "source": [
    "Weather data was fetched from https://www.ncei.noaa.gov/access/services/data/v1?dataset=daily-summaries&stations=USW00023174,USW00012960,USW00003017,USW00094846,USW00013874,USW00023234,USW00003927,USW00023183,USW00013881&dataTypes=AWND,PRCP,SNOW,SNWD,TAVG,TMIN,TMAX&startDate=2014-01-01&endDate=2018-12-31.\n",
    "<br>\n",
    "\n",
    "This dataset has information on wind speed, precipitation, snow, and temperature for cities by their airport codes.\n",
    "\n",
    "**Question**: Could bad weather because of rain, heavy winds, or snow lead to airplane delays? You will now check."
   ]
  },
  {
   "cell_type": "code",
   "execution_count": 116,
   "metadata": {},
   "outputs": [
    {
     "name": "stdout",
     "output_type": "stream",
     "text": [
      "download: s3://aws-tc-largeobjects/CUR-TF-200-ACMLFO-1/flight_delay_project/data2/daily-summaries.csv to ../project/data/daily-summaries.csv\n"
     ]
    }
   ],
   "source": [
    "!aws s3 cp s3://aws-tc-largeobjects/CUR-TF-200-ACMLFO-1/flight_delay_project/data2/daily-summaries.csv /home/ec2-user/SageMaker/project/data/\n",
    "#!wget 'https://www.ncei.noaa.gov/access/services/data/v1?dataset=daily-summaries&stations=USW00023174,USW00012960,USW00003017,USW00094846,USW00013874,USW00023234,USW00003927,USW00023183,USW00013881&dataTypes=AWND,PRCP,SNOW,SNWD,TAVG,TMIN,TMAX&startDate=2014-01-01&endDate=2018-12-31' -O /home/ec2-user/SageMaker/project/data/daily-summaries.csv"
   ]
  },
  {
   "cell_type": "markdown",
   "metadata": {},
   "source": [
    "Import the weather data that was prepared for the airport codes in the dataset. Use the following stations and airports  for the analysis. Create a new column called *airport* that maps the weather station to the airport name."
   ]
  },
  {
   "cell_type": "code",
   "execution_count": 117,
   "metadata": {},
   "outputs": [],
   "source": [
    "weather = pd.read_csv('/home/ec2-user/SageMaker/project/data/daily-summaries.csv')\n",
    "station = ['USW00023174','USW00012960','USW00003017','USW00094846','USW00013874','USW00023234','USW00003927','USW00023183','USW00013881'] \n",
    "airports = ['LAX', 'IAH', 'DEN', 'ORD', 'ATL', 'SFO', 'DFW', 'PHX', 'CLT']\n",
    "\n",
    "### Map weather stations to airport code\n",
    "station_map = {s:a for s,a in zip(station, airports)}\n",
    "weather['airport'] = weather['STATION'].map(station_map)"
   ]
  },
  {
   "cell_type": "markdown",
   "metadata": {},
   "source": [
    "From the **DATE** column, create another column called *MONTH*."
   ]
  },
  {
   "cell_type": "code",
   "execution_count": 118,
   "metadata": {},
   "outputs": [
    {
     "data": {
      "text/html": [
       "<div>\n",
       "<style scoped>\n",
       "    .dataframe tbody tr th:only-of-type {\n",
       "        vertical-align: middle;\n",
       "    }\n",
       "\n",
       "    .dataframe tbody tr th {\n",
       "        vertical-align: top;\n",
       "    }\n",
       "\n",
       "    .dataframe thead th {\n",
       "        text-align: right;\n",
       "    }\n",
       "</style>\n",
       "<table border=\"1\" class=\"dataframe\">\n",
       "  <thead>\n",
       "    <tr style=\"text-align: right;\">\n",
       "      <th></th>\n",
       "      <th>STATION</th>\n",
       "      <th>DATE</th>\n",
       "      <th>AWND</th>\n",
       "      <th>PRCP</th>\n",
       "      <th>SNOW</th>\n",
       "      <th>SNWD</th>\n",
       "      <th>TAVG</th>\n",
       "      <th>TMAX</th>\n",
       "      <th>TMIN</th>\n",
       "      <th>airport</th>\n",
       "      <th>MONTH</th>\n",
       "    </tr>\n",
       "  </thead>\n",
       "  <tbody>\n",
       "    <tr>\n",
       "      <th>0</th>\n",
       "      <td>USW00023174</td>\n",
       "      <td>2014-01-01</td>\n",
       "      <td>16</td>\n",
       "      <td>0</td>\n",
       "      <td>NaN</td>\n",
       "      <td>NaN</td>\n",
       "      <td>131.0</td>\n",
       "      <td>178.0</td>\n",
       "      <td>78.0</td>\n",
       "      <td>LAX</td>\n",
       "      <td>01</td>\n",
       "    </tr>\n",
       "    <tr>\n",
       "      <th>1</th>\n",
       "      <td>USW00023174</td>\n",
       "      <td>2014-01-02</td>\n",
       "      <td>22</td>\n",
       "      <td>0</td>\n",
       "      <td>NaN</td>\n",
       "      <td>NaN</td>\n",
       "      <td>159.0</td>\n",
       "      <td>256.0</td>\n",
       "      <td>100.0</td>\n",
       "      <td>LAX</td>\n",
       "      <td>01</td>\n",
       "    </tr>\n",
       "    <tr>\n",
       "      <th>2</th>\n",
       "      <td>USW00023174</td>\n",
       "      <td>2014-01-03</td>\n",
       "      <td>17</td>\n",
       "      <td>0</td>\n",
       "      <td>NaN</td>\n",
       "      <td>NaN</td>\n",
       "      <td>140.0</td>\n",
       "      <td>178.0</td>\n",
       "      <td>83.0</td>\n",
       "      <td>LAX</td>\n",
       "      <td>01</td>\n",
       "    </tr>\n",
       "    <tr>\n",
       "      <th>3</th>\n",
       "      <td>USW00023174</td>\n",
       "      <td>2014-01-04</td>\n",
       "      <td>18</td>\n",
       "      <td>0</td>\n",
       "      <td>NaN</td>\n",
       "      <td>NaN</td>\n",
       "      <td>136.0</td>\n",
       "      <td>183.0</td>\n",
       "      <td>100.0</td>\n",
       "      <td>LAX</td>\n",
       "      <td>01</td>\n",
       "    </tr>\n",
       "    <tr>\n",
       "      <th>4</th>\n",
       "      <td>USW00023174</td>\n",
       "      <td>2014-01-05</td>\n",
       "      <td>18</td>\n",
       "      <td>0</td>\n",
       "      <td>NaN</td>\n",
       "      <td>NaN</td>\n",
       "      <td>151.0</td>\n",
       "      <td>244.0</td>\n",
       "      <td>83.0</td>\n",
       "      <td>LAX</td>\n",
       "      <td>01</td>\n",
       "    </tr>\n",
       "  </tbody>\n",
       "</table>\n",
       "</div>"
      ],
      "text/plain": [
       "       STATION        DATE  AWND  PRCP  SNOW  SNWD   TAVG   TMAX   TMIN  \\\n",
       "0  USW00023174  2014-01-01    16     0   NaN   NaN  131.0  178.0   78.0   \n",
       "1  USW00023174  2014-01-02    22     0   NaN   NaN  159.0  256.0  100.0   \n",
       "2  USW00023174  2014-01-03    17     0   NaN   NaN  140.0  178.0   83.0   \n",
       "3  USW00023174  2014-01-04    18     0   NaN   NaN  136.0  183.0  100.0   \n",
       "4  USW00023174  2014-01-05    18     0   NaN   NaN  151.0  244.0   83.0   \n",
       "\n",
       "  airport MONTH  \n",
       "0     LAX    01  \n",
       "1     LAX    01  \n",
       "2     LAX    01  \n",
       "3     LAX    01  \n",
       "4     LAX    01  "
      ]
     },
     "execution_count": 118,
     "metadata": {},
     "output_type": "execute_result"
    }
   ],
   "source": [
    "weather['MONTH'] = weather['DATE'].apply(lambda x: x.split('-')[1])\n",
    "weather.head()"
   ]
  },
  {
   "cell_type": "markdown",
   "metadata": {},
   "source": [
    "### Sample output\n",
    "```\n",
    "  STATION     DATE      AWND PRCP SNOW SNWD TAVG TMAX  TMIN airport MONTH\n",
    "0 USW00023174 2014-01-01 16   0   NaN  NaN 131.0 178.0 78.0  LAX    01\n",
    "1 USW00023174 2014-01-02 22   0   NaN  NaN 159.0 256.0 100.0 LAX    01\n",
    "2 USW00023174 2014-01-03 17   0   NaN  NaN 140.0 178.0 83.0  LAX    01\n",
    "3 USW00023174 2014-01-04 18   0   NaN  NaN 136.0 183.0 100.0 LAX    01\n",
    "4 USW00023174 2014-01-05 18   0   NaN  NaN 151.0 244.0 83.0  LAX    01\n",
    "```"
   ]
  },
  {
   "cell_type": "markdown",
   "metadata": {},
   "source": [
    "Analyze and handle the **SNOW** and **SNWD** columns for missing values by using `fillna()`. To check the missing values for all the columns, use the `isna()` function."
   ]
  },
  {
   "cell_type": "code",
   "execution_count": 119,
   "metadata": {},
   "outputs": [
    {
     "data": {
      "text/plain": [
       "STATION     0\n",
       "DATE        0\n",
       "AWND        0\n",
       "PRCP        0\n",
       "SNOW        0\n",
       "SNWD        0\n",
       "TAVG       62\n",
       "TMAX       20\n",
       "TMIN       20\n",
       "airport     0\n",
       "MONTH       0\n",
       "dtype: int64"
      ]
     },
     "execution_count": 119,
     "metadata": {},
     "output_type": "execute_result"
    }
   ],
   "source": [
    "weather.SNOW.fillna(0, inplace=True)\n",
    "weather.SNWD.fillna(0, inplace=True)\n",
    "weather.isna().sum()"
   ]
  },
  {
   "cell_type": "markdown",
   "metadata": {},
   "source": [
    "**Question**: Print the index of the rows that have missing values for *TAVG*, *TMAX*, *TMIN*.\n",
    "\n",
    "**Hint**: To find the rows that are missing, use the `isna()` function. Then, to get the index, use the list on the *idx* variable."
   ]
  },
  {
   "cell_type": "code",
   "execution_count": 120,
   "metadata": {},
   "outputs": [
    {
     "data": {
      "text/plain": [
       "array([ 3956,  3957,  3958,  3959,  3960,  3961,  3962,  3963,  3964,\n",
       "        3965,  3966,  3967,  3968,  3969,  3970,  3971,  3972,  3973,\n",
       "        3974,  3975,  3976,  3977,  3978,  3979,  3980,  3981,  3982,\n",
       "        3983,  3984,  3985,  4017,  4018,  4019,  4020,  4021,  4022,\n",
       "        4023,  4024,  4025,  4026,  4027,  4028,  4029,  4030,  4031,\n",
       "        4032,  4033,  4034,  4035,  4036,  4037,  4038,  4039,  4040,\n",
       "        4041,  4042,  4043,  4044,  4045,  4046,  4047, 13420])"
      ]
     },
     "execution_count": 120,
     "metadata": {},
     "output_type": "execute_result"
    }
   ],
   "source": [
    "idx = np.array([i for i in range(len(weather))])\n",
    "TAVG_idx = idx[weather.TAVG.isna()] \n",
    "TMAX_idx = idx[weather.TMAX.isna()] \n",
    "TMIN_idx = idx[weather.TMIN.isna()] \n",
    "TAVG_idx"
   ]
  },
  {
   "cell_type": "markdown",
   "metadata": {},
   "source": [
    "### Sample output\n",
    "\n",
    "```\n",
    "array([ 3956,  3957,  3958,  3959,  3960,  3961,  3962,  3963,  3964,\n",
    "        3965,  3966,  3967,  3968,  3969,  3970,  3971,  3972,  3973,\n",
    "        3974,  3975,  3976,  3977,  3978,  3979,  3980,  3981,  3982,\n",
    "        3983,  3984,  3985,  4017,  4018,  4019,  4020,  4021,  4022,\n",
    "        4023,  4024,  4025,  4026,  4027,  4028,  4029,  4030,  4031,\n",
    "        4032,  4033,  4034,  4035,  4036,  4037,  4038,  4039,  4040,\n",
    "        4041,  4042,  4043,  4044,  4045,  4046,  4047, 13420])\n",
    "```"
   ]
  },
  {
   "cell_type": "markdown",
   "metadata": {},
   "source": [
    "You can replace the missing *TAVG*, *TMAX*, and *TMIN* values with the average value for a particular station or airport. Because consecutive rows of *TAVG_idx* are missing, replacing them with a previous value would not be possible. Instead, replace them with the mean. Use the `groupby` function to aggregate the variables with a mean value.\n",
    "\n",
    "**Hint:** Group by `MONTH` and `STATION`."
   ]
  },
  {
   "cell_type": "code",
   "execution_count": 121,
   "metadata": {},
   "outputs": [
    {
     "data": {
      "text/html": [
       "<div>\n",
       "<style scoped>\n",
       "    .dataframe tbody tr th:only-of-type {\n",
       "        vertical-align: middle;\n",
       "    }\n",
       "\n",
       "    .dataframe tbody tr th {\n",
       "        vertical-align: top;\n",
       "    }\n",
       "\n",
       "    .dataframe thead th {\n",
       "        text-align: right;\n",
       "    }\n",
       "</style>\n",
       "<table border=\"1\" class=\"dataframe\">\n",
       "  <thead>\n",
       "    <tr style=\"text-align: right;\">\n",
       "      <th></th>\n",
       "      <th>MONTH</th>\n",
       "      <th>STATION</th>\n",
       "      <th>TAVG</th>\n",
       "      <th>TMAX</th>\n",
       "      <th>TMIN</th>\n",
       "    </tr>\n",
       "  </thead>\n",
       "  <tbody>\n",
       "    <tr>\n",
       "      <th>0</th>\n",
       "      <td>01</td>\n",
       "      <td>USW00003017</td>\n",
       "      <td>-2.741935</td>\n",
       "      <td>74.000000</td>\n",
       "      <td>-69.858065</td>\n",
       "    </tr>\n",
       "    <tr>\n",
       "      <th>1</th>\n",
       "      <td>01</td>\n",
       "      <td>USW00003927</td>\n",
       "      <td>79.529032</td>\n",
       "      <td>143.767742</td>\n",
       "      <td>20.696774</td>\n",
       "    </tr>\n",
       "  </tbody>\n",
       "</table>\n",
       "</div>"
      ],
      "text/plain": [
       "  MONTH      STATION       TAVG        TMAX       TMIN\n",
       "0    01  USW00003017  -2.741935   74.000000 -69.858065\n",
       "1    01  USW00003927  79.529032  143.767742  20.696774"
      ]
     },
     "execution_count": 121,
     "metadata": {},
     "output_type": "execute_result"
    }
   ],
   "source": [
    "weather_impute = weather.groupby([\"MONTH\", \"STATION\"]).agg({'TAVG':'mean','TMAX':'mean', 'TMIN':'mean' }).reset_index()# Enter your code here\n",
    "weather_impute.head(2)"
   ]
  },
  {
   "cell_type": "markdown",
   "metadata": {},
   "source": [
    "Merge the mean data with the weather data."
   ]
  },
  {
   "cell_type": "code",
   "execution_count": 122,
   "metadata": {},
   "outputs": [],
   "source": [
    "\n",
    "weather = pd.merge(weather, weather_impute,  how='left', left_on=['MONTH','STATION'], right_on = ['MONTH','STATION'])\\\n",
    ".rename(columns = {'TAVG_y':'TAVG_AVG',\n",
    "                   'TMAX_y':'TMAX_AVG', \n",
    "                   'TMIN_y':'TMIN_AVG',\n",
    "                   'TAVG_x':'TAVG',\n",
    "                   'TMAX_x':'TMAX', \n",
    "                   'TMIN_x':'TMIN'})"
   ]
  },
  {
   "cell_type": "markdown",
   "metadata": {},
   "source": [
    "Check for missing values again."
   ]
  },
  {
   "cell_type": "code",
   "execution_count": 123,
   "metadata": {},
   "outputs": [
    {
     "data": {
      "text/plain": [
       "STATION     0\n",
       "DATE        0\n",
       "AWND        0\n",
       "PRCP        0\n",
       "SNOW        0\n",
       "SNWD        0\n",
       "TAVG        0\n",
       "TMAX        0\n",
       "TMIN        0\n",
       "airport     0\n",
       "MONTH       0\n",
       "TAVG_AVG    0\n",
       "TMAX_AVG    0\n",
       "TMIN_AVG    0\n",
       "dtype: int64"
      ]
     },
     "execution_count": 123,
     "metadata": {},
     "output_type": "execute_result"
    }
   ],
   "source": [
    "weather.TAVG[TAVG_idx] = weather.TAVG_AVG[TAVG_idx]\n",
    "weather.TMAX[TMAX_idx] = weather.TMAX_AVG[TMAX_idx]\n",
    "weather.TMIN[TMIN_idx] = weather.TMIN_AVG[TMIN_idx]\n",
    "weather.isna().sum()"
   ]
  },
  {
   "cell_type": "markdown",
   "metadata": {},
   "source": [
    "Drop `STATION,MONTH,TAVG_AVG,TMAX_AVG,TMIN_AVG,TMAX,TMIN,SNWD` from the dataset."
   ]
  },
  {
   "cell_type": "code",
   "execution_count": 124,
   "metadata": {},
   "outputs": [],
   "source": [
    "weather.drop(columns=['STATION','MONTH','TAVG_AVG', 'TMAX_AVG', 'TMIN_AVG', 'TMAX' ,'TMIN', 'SNWD'],inplace=True)"
   ]
  },
  {
   "cell_type": "markdown",
   "metadata": {},
   "source": [
    "Add the origin and destination weather conditions to the dataset."
   ]
  },
  {
   "cell_type": "code",
   "execution_count": 125,
   "metadata": {},
   "outputs": [],
   "source": [
    "### Add origin weather conditions\n",
    "data_orig = pd.merge(data_orig, weather,  how='left', left_on=['FlightDate','Origin'], right_on = ['DATE','airport'])\\\n",
    ".rename(columns = {'AWND':'AWND_O','PRCP':'PRCP_O', 'TAVG':'TAVG_O', 'SNOW': 'SNOW_O'})\\\n",
    ".drop(columns=['DATE','airport'])\n",
    "\n",
    "### Add destination weather conditions\n",
    "data_orig = pd.merge(data_orig, weather,  how='left', left_on=['FlightDate','Dest'], right_on = ['DATE','airport'])\\\n",
    ".rename(columns = {'AWND':'AWND_D','PRCP':'PRCP_D', 'TAVG':'TAVG_D', 'SNOW': 'SNOW_D'})\\\n",
    ".drop(columns=['DATE','airport'])"
   ]
  },
  {
   "cell_type": "markdown",
   "metadata": {},
   "source": [
    "**Note**: It's always a good practice to check for nulls or NAs after joins."
   ]
  },
  {
   "cell_type": "code",
   "execution_count": 126,
   "metadata": {},
   "outputs": [
    {
     "data": {
      "text/plain": [
       "0"
      ]
     },
     "execution_count": 126,
     "metadata": {},
     "output_type": "execute_result"
    }
   ],
   "source": [
    "sum(data.isna().any())"
   ]
  },
  {
   "cell_type": "code",
   "execution_count": 127,
   "metadata": {},
   "outputs": [
    {
     "data": {
      "text/plain": [
       "Index(['Year', 'Quarter', 'Month', 'DayofMonth', 'DayOfWeek', 'FlightDate',\n",
       "       'Reporting_Airline', 'Origin', 'OriginState', 'Dest', 'DestState',\n",
       "       'CRSDepTime', 'Cancelled', 'Diverted', 'Distance', 'DistanceGroup',\n",
       "       'ArrDelay', 'ArrDelayMinutes', 'is_delay', 'AirTime', 'DepHourofDay',\n",
       "       'is_holiday', 'AWND_O', 'PRCP_O', 'SNOW_O', 'TAVG_O', 'AWND_D',\n",
       "       'PRCP_D', 'SNOW_D', 'TAVG_D'],\n",
       "      dtype='object')"
      ]
     },
     "execution_count": 127,
     "metadata": {},
     "output_type": "execute_result"
    }
   ],
   "source": [
    "data_orig.columns"
   ]
  },
  {
   "cell_type": "markdown",
   "metadata": {},
   "source": [
    "Convert the categorical data into numerical data by using one-hot encoding."
   ]
  },
  {
   "cell_type": "code",
   "execution_count": 128,
   "metadata": {},
   "outputs": [],
   "source": [
    "data = data_orig.copy()\n",
    "data = data[['is_delay', 'Year', 'Quarter', 'Month', 'DayofMonth', 'DayOfWeek', \n",
    "       'Reporting_Airline', 'Origin', 'Dest','Distance','DepHourofDay','is_holiday', 'AWND_O', 'PRCP_O',\n",
    "       'TAVG_O', 'AWND_D', 'PRCP_D', 'TAVG_D', 'SNOW_O', 'SNOW_D']]\n",
    "\n",
    "\n",
    "categorical_columns  = ['Year', 'Quarter', 'Month', 'DayofMonth', 'DayOfWeek', \n",
    "       'Reporting_Airline', 'Origin', 'Dest', 'is_holiday']\n",
    "for c in categorical_columns:\n",
    "    data[c] = data[c].astype('category')"
   ]
  },
  {
   "cell_type": "code",
   "execution_count": 129,
   "metadata": {},
   "outputs": [],
   "source": [
    "data_dummies = pd.get_dummies(data[['Year', 'Quarter', 'Month', 'DayofMonth', 'DayOfWeek', 'Reporting_Airline', 'Origin', 'Dest', 'is_holiday']], drop_first=True)\n",
    "data = pd.concat([data, data_dummies], axis = 1)\n",
    "data.drop(categorical_columns,axis=1, inplace=True)"
   ]
  },
  {
   "cell_type": "markdown",
   "metadata": {},
   "source": [
    "Check the new columns."
   ]
  },
  {
   "cell_type": "code",
   "execution_count": 130,
   "metadata": {},
   "outputs": [
    {
     "data": {
      "text/plain": [
       "(1635590, 85)"
      ]
     },
     "execution_count": 130,
     "metadata": {},
     "output_type": "execute_result"
    }
   ],
   "source": [
    "data.shape"
   ]
  },
  {
   "cell_type": "code",
   "execution_count": 131,
   "metadata": {},
   "outputs": [
    {
     "data": {
      "text/plain": [
       "Index(['is_delay', 'Distance', 'DepHourofDay', 'AWND_O', 'PRCP_O', 'TAVG_O',\n",
       "       'AWND_D', 'PRCP_D', 'TAVG_D', 'SNOW_O', 'SNOW_D', 'Year_2015',\n",
       "       'Year_2016', 'Year_2017', 'Year_2018', 'Quarter_2', 'Quarter_3',\n",
       "       'Quarter_4', 'Month_2', 'Month_3', 'Month_4', 'Month_5', 'Month_6',\n",
       "       'Month_7', 'Month_8', 'Month_9', 'Month_10', 'Month_11', 'Month_12',\n",
       "       'DayofMonth_2', 'DayofMonth_3', 'DayofMonth_4', 'DayofMonth_5',\n",
       "       'DayofMonth_6', 'DayofMonth_7', 'DayofMonth_8', 'DayofMonth_9',\n",
       "       'DayofMonth_10', 'DayofMonth_11', 'DayofMonth_12', 'DayofMonth_13',\n",
       "       'DayofMonth_14', 'DayofMonth_15', 'DayofMonth_16', 'DayofMonth_17',\n",
       "       'DayofMonth_18', 'DayofMonth_19', 'DayofMonth_20', 'DayofMonth_21',\n",
       "       'DayofMonth_22', 'DayofMonth_23', 'DayofMonth_24', 'DayofMonth_25',\n",
       "       'DayofMonth_26', 'DayofMonth_27', 'DayofMonth_28', 'DayofMonth_29',\n",
       "       'DayofMonth_30', 'DayofMonth_31', 'DayOfWeek_2', 'DayOfWeek_3',\n",
       "       'DayOfWeek_4', 'DayOfWeek_5', 'DayOfWeek_6', 'DayOfWeek_7',\n",
       "       'Reporting_Airline_DL', 'Reporting_Airline_OO', 'Reporting_Airline_UA',\n",
       "       'Reporting_Airline_WN', 'Origin_CLT', 'Origin_DEN', 'Origin_DFW',\n",
       "       'Origin_IAH', 'Origin_LAX', 'Origin_ORD', 'Origin_PHX', 'Origin_SFO',\n",
       "       'Dest_CLT', 'Dest_DEN', 'Dest_DFW', 'Dest_IAH', 'Dest_LAX', 'Dest_ORD',\n",
       "       'Dest_PHX', 'Dest_SFO'],\n",
       "      dtype='object')"
      ]
     },
     "execution_count": 131,
     "metadata": {},
     "output_type": "execute_result"
    }
   ],
   "source": [
    "data.columns"
   ]
  },
  {
   "cell_type": "markdown",
   "metadata": {},
   "source": [
    "### Sample output\n",
    "\n",
    "```\n",
    "Index(['Distance', 'DepHourofDay', 'is_delay', 'AWND_O', 'PRCP_O', 'TAVG_O',\n",
    "       'AWND_D', 'PRCP_D', 'TAVG_D', 'SNOW_O', 'SNOW_D', 'Year_2015',\n",
    "       'Year_2016', 'Year_2017', 'Year_2018', 'Quarter_2', 'Quarter_3',\n",
    "       'Quarter_4', 'Month_2', 'Month_3', 'Month_4', 'Month_5', 'Month_6',\n",
    "       'Month_7', 'Month_8', 'Month_9', 'Month_10', 'Month_11', 'Month_12',\n",
    "       'DayofMonth_2', 'DayofMonth_3', 'DayofMonth_4', 'DayofMonth_5',\n",
    "       'DayofMonth_6', 'DayofMonth_7', 'DayofMonth_8', 'DayofMonth_9',\n",
    "       'DayofMonth_10', 'DayofMonth_11', 'DayofMonth_12', 'DayofMonth_13',\n",
    "       'DayofMonth_14', 'DayofMonth_15', 'DayofMonth_16', 'DayofMonth_17',\n",
    "       'DayofMonth_18', 'DayofMonth_19', 'DayofMonth_20', 'DayofMonth_21',\n",
    "       'DayofMonth_22', 'DayofMonth_23', 'DayofMonth_24', 'DayofMonth_25',\n",
    "       'DayofMonth_26', 'DayofMonth_27', 'DayofMonth_28', 'DayofMonth_29',\n",
    "       'DayofMonth_30', 'DayofMonth_31', 'DayOfWeek_2', 'DayOfWeek_3',\n",
    "       'DayOfWeek_4', 'DayOfWeek_5', 'DayOfWeek_6', 'DayOfWeek_7',\n",
    "       'Reporting_Airline_DL', 'Reporting_Airline_OO', 'Reporting_Airline_UA',\n",
    "       'Reporting_Airline_WN', 'Origin_CLT', 'Origin_DEN', 'Origin_DFW',\n",
    "       'Origin_IAH', 'Origin_LAX', 'Origin_ORD', 'Origin_PHX', 'Origin_SFO',\n",
    "       'Dest_CLT', 'Dest_DEN', 'Dest_DFW', 'Dest_IAH', 'Dest_LAX', 'Dest_ORD',\n",
    "       'Dest_PHX', 'Dest_SFO', 'is_holiday_1'],\n",
    "      dtype='object')\n",
    "```"
   ]
  },
  {
   "cell_type": "markdown",
   "metadata": {},
   "source": [
    "Rename the **is_delay** column to *target* again. Use the same code that you used previously."
   ]
  },
  {
   "cell_type": "code",
   "execution_count": 132,
   "metadata": {},
   "outputs": [],
   "source": [
    "data.rename(columns = {'is_delay': 'target'}, inplace=True )# Enter your code here"
   ]
  },
  {
   "cell_type": "markdown",
   "metadata": {},
   "source": [
    "Create the training sets again.\n",
    "\n",
    "**Hint:** Use the `split_data` function that you defined (and used) earlier."
   ]
  },
  {
   "cell_type": "code",
   "execution_count": 133,
   "metadata": {},
   "outputs": [],
   "source": [
    "train, validate, test = split_data(data)"
   ]
  },
  {
   "cell_type": "markdown",
   "metadata": {},
   "source": [
    "### New baseline classifier\n",
    "\n",
    "Now, see if these new features add any predictive power to the model."
   ]
  },
  {
   "cell_type": "code",
   "execution_count": 134,
   "metadata": {},
   "outputs": [],
   "source": [
    "# Instantiate the LinearLearner estimator object\n",
    "classifier_estimator2 = sagemaker.LinearLearner(role=sagemaker.get_execution_role(),\n",
    "                                               instance_count=1,\n",
    "                                               instance_type='ml.m4.xlarge',\n",
    "                                               predictor_type='binary_classifier',\n",
    "                                               binary_classifier_model_selection_criteria='cross_entropy_loss')"
   ]
  },
  {
   "cell_type": "markdown",
   "metadata": {},
   "source": [
    "### Sample code\n",
    "\n",
    "```\n",
    "num_classes = len(pd.unique(train_labels)) \n",
    "classifier_estimator2 = sagemaker.LinearLearner(role=sagemaker.get_execution_role(),\n",
    "                                               instance_count=1,\n",
    "                                               instance_type='ml.m4.xlarge',\n",
    "                                               predictor_type='binary_classifier',\n",
    "                                               binary_classifier_model_selection_criteria = 'cross_entropy_loss')\n",
    "```"
   ]
  },
  {
   "cell_type": "code",
   "execution_count": 135,
   "metadata": {},
   "outputs": [],
   "source": [
    "train_records = classifier_estimator2.record_set(train.values[:, 1:].astype(np.float32), train.values[:, 0].astype(np.float32), channel='train')\n",
    "val_records = classifier_estimator2.record_set(validate.values[:, 1:].astype(np.float32), validate.values[:, 0].astype(np.float32), channel='validation')\n",
    "test_records = classifier_estimator2.record_set(test.values[:, 1:].astype(np.float32), test.values[:, 0].astype(np.float32), channel='test')"
   ]
  },
  {
   "cell_type": "markdown",
   "metadata": {},
   "source": [
    "Train your model by using the three datasets that you just created."
   ]
  },
  {
   "cell_type": "code",
   "execution_count": null,
   "metadata": {},
   "outputs": [
    {
     "name": "stderr",
     "output_type": "stream",
     "text": [
      "Defaulting to the only supported framework/algorithm version: 1. Ignoring framework/algorithm version: 1.\n",
      "Defaulting to the only supported framework/algorithm version: 1. Ignoring framework/algorithm version: 1.\n"
     ]
    },
    {
     "name": "stdout",
     "output_type": "stream",
     "text": [
      "2022-08-02 19:07:43 Starting - Starting the training job...ProfilerReport-1659467263: InProgress\n",
      "...\n",
      "2022-08-02 19:08:25 Starting - Preparing the instances for training......\n",
      "2022-08-02 19:09:43 Downloading - Downloading input data......\n",
      "2022-08-02 19:10:43 Training - Downloading the training image...\n",
      "2022-08-02 19:11:14 Training - Training image download completed. Training in progress..\u001b[34mDocker entrypoint called with argument(s): train\u001b[0m\n",
      "\u001b[34mRunning default environment configuration script\u001b[0m\n",
      "\u001b[34m[08/02/2022 19:11:23 INFO 140621894309696] Reading default configuration from /opt/amazon/lib/python3.7/site-packages/algorithm/resources/default-input.json: {'mini_batch_size': '1000', 'epochs': '15', 'feature_dim': 'auto', 'use_bias': 'true', 'binary_classifier_model_selection_criteria': 'accuracy', 'f_beta': '1.0', 'target_recall': '0.8', 'target_precision': '0.8', 'num_models': 'auto', 'num_calibration_samples': '10000000', 'init_method': 'uniform', 'init_scale': '0.07', 'init_sigma': '0.01', 'init_bias': '0.0', 'optimizer': 'auto', 'loss': 'auto', 'margin': '1.0', 'quantile': '0.5', 'loss_insensitivity': '0.01', 'huber_delta': '1.0', 'num_classes': '1', 'accuracy_top_k': '3', 'wd': 'auto', 'l1': 'auto', 'momentum': 'auto', 'learning_rate': 'auto', 'beta_1': 'auto', 'beta_2': 'auto', 'bias_lr_mult': 'auto', 'bias_wd_mult': 'auto', 'use_lr_scheduler': 'true', 'lr_scheduler_step': 'auto', 'lr_scheduler_factor': 'auto', 'lr_scheduler_minimum_lr': 'auto', 'positive_example_weight_mult': '1.0', 'balance_multiclass_weights': 'false', 'normalize_data': 'true', 'normalize_label': 'auto', 'unbias_data': 'auto', 'unbias_label': 'auto', 'num_point_for_scaler': '10000', '_kvstore': 'auto', '_num_gpus': 'auto', '_num_kv_servers': 'auto', '_log_level': 'info', '_tuning_objective_metric': '', 'early_stopping_patience': '3', 'early_stopping_tolerance': '0.001', '_enable_profiler': 'false'}\u001b[0m\n",
      "\u001b[34m[08/02/2022 19:11:23 INFO 140621894309696] Merging with provided configuration from /opt/ml/input/config/hyperparameters.json: {'binary_classifier_model_selection_criteria': 'cross_entropy_loss', 'feature_dim': '84', 'mini_batch_size': '1000', 'predictor_type': 'binary_classifier'}\u001b[0m\n",
      "\u001b[34m[08/02/2022 19:11:23 INFO 140621894309696] Final configuration: {'mini_batch_size': '1000', 'epochs': '15', 'feature_dim': '84', 'use_bias': 'true', 'binary_classifier_model_selection_criteria': 'cross_entropy_loss', 'f_beta': '1.0', 'target_recall': '0.8', 'target_precision': '0.8', 'num_models': 'auto', 'num_calibration_samples': '10000000', 'init_method': 'uniform', 'init_scale': '0.07', 'init_sigma': '0.01', 'init_bias': '0.0', 'optimizer': 'auto', 'loss': 'auto', 'margin': '1.0', 'quantile': '0.5', 'loss_insensitivity': '0.01', 'huber_delta': '1.0', 'num_classes': '1', 'accuracy_top_k': '3', 'wd': 'auto', 'l1': 'auto', 'momentum': 'auto', 'learning_rate': 'auto', 'beta_1': 'auto', 'beta_2': 'auto', 'bias_lr_mult': 'auto', 'bias_wd_mult': 'auto', 'use_lr_scheduler': 'true', 'lr_scheduler_step': 'auto', 'lr_scheduler_factor': 'auto', 'lr_scheduler_minimum_lr': 'auto', 'positive_example_weight_mult': '1.0', 'balance_multiclass_weights': 'false', 'normalize_data': 'true', 'normalize_label': 'auto', 'unbias_data': 'auto', 'unbias_label': 'auto', 'num_point_for_scaler': '10000', '_kvstore': 'auto', '_num_gpus': 'auto', '_num_kv_servers': 'auto', '_log_level': 'info', '_tuning_objective_metric': '', 'early_stopping_patience': '3', 'early_stopping_tolerance': '0.001', '_enable_profiler': 'false', 'predictor_type': 'binary_classifier'}\u001b[0m\n",
      "\u001b[34m[08/02/2022 19:11:23 WARNING 140621894309696] Loggers have already been setup.\u001b[0m\n",
      "\u001b[34mProcess 1 is a worker.\u001b[0m\n",
      "\u001b[34m[08/02/2022 19:11:23 INFO 140621894309696] Using default worker.\u001b[0m\n",
      "\u001b[34m[08/02/2022 19:11:23 INFO 140621894309696] Checkpoint loading and saving are disabled.\u001b[0m\n",
      "\u001b[34m[2022-08-02 19:11:23.660] [tensorio] [warning] TensorIO is already initialized; ignoring the initialization routine.\u001b[0m\n",
      "\u001b[34m[2022-08-02 19:11:23.672] [tensorio] [warning] TensorIO is already initialized; ignoring the initialization routine.\u001b[0m\n",
      "\u001b[34m[2022-08-02 19:11:23.739] [tensorio] [info] epoch_stats={\"data_pipeline\": \"/opt/ml/input/data/train\", \"epoch\": 0, \"duration\": 88, \"num_examples\": 1, \"num_bytes\": 384000}\u001b[0m\n",
      "\u001b[34m[08/02/2022 19:11:23 INFO 140621894309696] Create Store: local\u001b[0m\n",
      "\u001b[34m[2022-08-02 19:11:23.902] [tensorio] [info] epoch_stats={\"data_pipeline\": \"/opt/ml/input/data/train\", \"epoch\": 1, \"duration\": 161, \"num_examples\": 11, \"num_bytes\": 4224000}\u001b[0m\n",
      "\u001b[34m[08/02/2022 19:11:23 INFO 140621894309696] Scaler algorithm parameters\n",
      " <algorithm.scaler.ScalerAlgorithmStable object at 0x7fe49dfa7f10>\u001b[0m\n",
      "\u001b[34m[08/02/2022 19:11:23 INFO 140621894309696] Scaling model computed with parameters:\n",
      " {'stdev_label': None, 'stdev_weight': \u001b[0m\n",
      "\u001b[34m[5.3842529e+02 5.0179110e+00 1.5973799e+01 8.2110085e+01 8.9805954e+01\n",
      " 1.6232805e+01 7.3899010e+01 8.9578918e+01 6.3646107e+00 6.3057728e+00\n",
      " 3.9150861e-01 4.1056988e-01 4.0949127e-01 4.0678945e-01 4.3395337e-01\n",
      " 4.4167149e-01 4.3483421e-01 2.5953865e-01 2.6659146e-01 2.7101153e-01\n",
      " 2.7588221e-01 2.8448114e-01 2.8605148e-01 2.8735036e-01 2.7874640e-01\n",
      " 2.7752411e-01 2.7227589e-01 2.8395480e-01 1.7233042e-01 1.7720395e-01\n",
      " 1.7405386e-01 1.7503002e-01 1.7356345e-01 1.8831518e-01 1.7083751e-01\n",
      " 1.7356344e-01 1.7792189e-01 1.7982030e-01 1.8354957e-01 1.7863652e-01\n",
      " 1.7839864e-01 1.7934784e-01 1.7887402e-01 1.7934789e-01 1.7982031e-01\n",
      " 1.7839867e-01 1.7478655e-01 1.8099521e-01 1.7744365e-01 1.7792191e-01\n",
      " 1.8262547e-01 1.7429848e-01 1.7887399e-01 1.7575808e-01 1.8942934e-01\n",
      " 1.7502999e-01 1.6932963e-01 1.3716368e-01 3.5136610e-01 3.5108969e-01\n",
      " 3.5099754e-01 3.5437757e-01 3.2999593e-01 3.4632564e-01 3.6803326e-01\n",
      " 2.4732620e-01 4.5833692e-01 3.0760476e-01 2.4716641e-01 3.2174501e-01\n",
      " 3.3429217e-01 2.6817161e-01 3.5555002e-01 3.3620343e-01 3.0156931e-01\n",
      " 3.2163683e-01 2.4263565e-01 3.1015062e-01 3.2885411e-01 2.6295078e-01\n",
      " 3.5787156e-01 3.4679833e-01 2.9446656e-01 3.3113077e-01]\u001b[0m\n",
      "\u001b[34m<NDArray 84 @cpu(0)>, 'mean_label': None, 'mean_weight': \u001b[0m\n",
      "\u001b[34m[1.01705499e+03 1.29317274e+01 3.85979080e+01 2.10354576e+01\n",
      " 1.71617935e+02 3.87703629e+01 1.96854572e+01 1.71868195e+02\n",
      " 6.00454509e-01 5.68454564e-01 1.89000025e-01 2.14636385e-01\n",
      " 2.13090926e-01 2.09272727e-01 2.51636386e-01 2.65636384e-01\n",
      " 2.53181845e-01 7.26363659e-02 7.70000070e-02 7.98181817e-02\n",
      " 8.30000043e-02 8.88181925e-02 8.99090990e-02 9.08181891e-02\n",
      " 8.49090889e-02 8.40909183e-02 8.06363672e-02 8.84545594e-02\n",
      " 3.06363646e-02 3.24545465e-02 3.12727280e-02 3.16363648e-02\n",
      " 3.10909133e-02 3.68181765e-02 3.00909095e-02 3.10909078e-02\n",
      " 3.27272750e-02 3.34545523e-02 3.49090956e-02 3.29999998e-02\n",
      " 3.29090916e-02 3.32727246e-02 3.30909118e-02 3.32727320e-02\n",
      " 3.34545486e-02 3.29090953e-02 3.15454565e-02 3.39090899e-02\n",
      " 3.25454585e-02 3.27272788e-02 3.45454514e-02 3.13636363e-02\n",
      " 3.30909081e-02 3.19090933e-02 3.72727290e-02 3.16363685e-02\n",
      " 2.95454562e-02 1.91818196e-02 1.44272730e-01 1.44000039e-01\n",
      " 1.43909112e-01 1.47272736e-01 1.24363653e-01 1.39363661e-01\n",
      " 1.61545470e-01 6.54545575e-02 3.00181836e-01 1.05818190e-01\n",
      " 6.53636456e-02 1.17272735e-01 1.28181830e-01 7.80000091e-02\n",
      " 1.48454577e-01 1.29909098e-01 1.01181827e-01 1.17181815e-01\n",
      " 6.28181919e-02 1.07818186e-01 1.23363644e-01 7.47272745e-02\n",
      " 1.50818199e-01 1.39818192e-01 9.59090963e-02 1.25363663e-01]\u001b[0m\n",
      "\u001b[34m<NDArray 84 @cpu(0)>}\u001b[0m\n",
      "\u001b[34m[08/02/2022 19:11:23 INFO 140621894309696] nvidia-smi: took 0.042 seconds to run.\u001b[0m\n",
      "\u001b[34m[08/02/2022 19:11:23 INFO 140621894309696] nvidia-smi identified 0 GPUs.\u001b[0m\n",
      "\u001b[34m[08/02/2022 19:11:23 INFO 140621894309696] Number of GPUs being used: 0\u001b[0m\n",
      "\u001b[34m#metrics {\"StartTime\": 1659467484.0661168, \"EndTime\": 1659467484.0661545, \"Dimensions\": {\"Algorithm\": \"Linear Learner\", \"Host\": \"algo-1\", \"Operation\": \"training\", \"Meta\": \"init_train_data_iter\"}, \"Metrics\": {\"Total Records Seen\": {\"sum\": 12000.0, \"count\": 1, \"min\": 12000, \"max\": 12000}, \"Total Batches Seen\": {\"sum\": 12.0, \"count\": 1, \"min\": 12, \"max\": 12}, \"Max Records Seen Between Resets\": {\"sum\": 11000.0, \"count\": 1, \"min\": 11000, \"max\": 11000}, \"Max Batches Seen Between Resets\": {\"sum\": 11.0, \"count\": 1, \"min\": 11, \"max\": 11}, \"Reset Count\": {\"sum\": 2.0, \"count\": 1, \"min\": 2, \"max\": 2}, \"Number of Records Since Last Reset\": {\"sum\": 0.0, \"count\": 1, \"min\": 0, \"max\": 0}, \"Number of Batches Since Last Reset\": {\"sum\": 0.0, \"count\": 1, \"min\": 0, \"max\": 0}}}\u001b[0m\n",
      "\u001b[34m[2022-08-02 19:12:26.039] [tensorio] [info] epoch_stats={\"data_pipeline\": \"/opt/ml/input/data/train\", \"epoch\": 3, \"duration\": 61972, \"num_examples\": 1309, \"num_bytes\": 502453248}\u001b[0m\n",
      "\u001b[34m#metrics {\"StartTime\": 1659467546.0398924, \"EndTime\": 1659467546.0399897, \"Dimensions\": {\"Algorithm\": \"Linear Learner\", \"Host\": \"algo-1\", \"Operation\": \"training\", \"epoch\": 0, \"model\": 0}, \"Metrics\": {\"train_binary_classification_cross_entropy_objective\": {\"sum\": 0.4831541832506839, \"count\": 1, \"min\": 0.4831541832506839, \"max\": 0.4831541832506839}}}\u001b[0m\n",
      "\u001b[34m#metrics {\"StartTime\": 1659467546.0400848, \"EndTime\": 1659467546.040103, \"Dimensions\": {\"Algorithm\": \"Linear Learner\", \"Host\": \"algo-1\", \"Operation\": \"training\", \"epoch\": 0, \"model\": 1}, \"Metrics\": {\"train_binary_classification_cross_entropy_objective\": {\"sum\": 0.48373399744996237, \"count\": 1, \"min\": 0.48373399744996237, \"max\": 0.48373399744996237}}}\u001b[0m\n",
      "\u001b[34m#metrics {\"StartTime\": 1659467546.0401495, \"EndTime\": 1659467546.0401614, \"Dimensions\": {\"Algorithm\": \"Linear Learner\", \"Host\": \"algo-1\", \"Operation\": \"training\", \"epoch\": 0, \"model\": 2}, \"Metrics\": {\"train_binary_classification_cross_entropy_objective\": {\"sum\": 0.48326349898872023, \"count\": 1, \"min\": 0.48326349898872023, \"max\": 0.48326349898872023}}}\u001b[0m\n",
      "\u001b[34m#metrics {\"StartTime\": 1659467546.0402024, \"EndTime\": 1659467546.040214, \"Dimensions\": {\"Algorithm\": \"Linear Learner\", \"Host\": \"algo-1\", \"Operation\": \"training\", \"epoch\": 0, \"model\": 3}, \"Metrics\": {\"train_binary_classification_cross_entropy_objective\": {\"sum\": 0.48398103358184164, \"count\": 1, \"min\": 0.48398103358184164, \"max\": 0.48398103358184164}}}\u001b[0m\n",
      "\u001b[34m#metrics {\"StartTime\": 1659467546.0402532, \"EndTime\": 1659467546.0402641, \"Dimensions\": {\"Algorithm\": \"Linear Learner\", \"Host\": \"algo-1\", \"Operation\": \"training\", \"epoch\": 0, \"model\": 4}, \"Metrics\": {\"train_binary_classification_cross_entropy_objective\": {\"sum\": 0.4950170154629862, \"count\": 1, \"min\": 0.4950170154629862, \"max\": 0.4950170154629862}}}\u001b[0m\n",
      "\u001b[34m#metrics {\"StartTime\": 1659467546.0403025, \"EndTime\": 1659467546.0403135, \"Dimensions\": {\"Algorithm\": \"Linear Learner\", \"Host\": \"algo-1\", \"Operation\": \"training\", \"epoch\": 0, \"model\": 5}, \"Metrics\": {\"train_binary_classification_cross_entropy_objective\": {\"sum\": 0.5043452556271801, \"count\": 1, \"min\": 0.5043452556271801, \"max\": 0.5043452556271801}}}\u001b[0m\n",
      "\u001b[34m#metrics {\"StartTime\": 1659467546.0403523, \"EndTime\": 1659467546.040363, \"Dimensions\": {\"Algorithm\": \"Linear Learner\", \"Host\": \"algo-1\", \"Operation\": \"training\", \"epoch\": 0, \"model\": 6}, \"Metrics\": {\"train_binary_classification_cross_entropy_objective\": {\"sum\": 0.4949710583468096, \"count\": 1, \"min\": 0.4949710583468096, \"max\": 0.4949710583468096}}}\u001b[0m\n",
      "\u001b[34m#metrics {\"StartTime\": 1659467546.0404046, \"EndTime\": 1659467546.0404162, \"Dimensions\": {\"Algorithm\": \"Linear Learner\", \"Host\": \"algo-1\", \"Operation\": \"training\", \"epoch\": 0, \"model\": 7}, \"Metrics\": {\"train_binary_classification_cross_entropy_objective\": {\"sum\": 0.5042963192207733, \"count\": 1, \"min\": 0.5042963192207733, \"max\": 0.5042963192207733}}}\u001b[0m\n",
      "\u001b[34m#metrics {\"StartTime\": 1659467546.0404582, \"EndTime\": 1659467546.040474, \"Dimensions\": {\"Algorithm\": \"Linear Learner\", \"Host\": \"algo-1\", \"Operation\": \"training\", \"epoch\": 0, \"model\": 8}, \"Metrics\": {\"train_binary_classification_cross_entropy_objective\": {\"sum\": 0.4835968022011107, \"count\": 1, \"min\": 0.4835968022011107, \"max\": 0.4835968022011107}}}\u001b[0m\n",
      "\u001b[34m#metrics {\"StartTime\": 1659467546.040525, \"EndTime\": 1659467546.0405407, \"Dimensions\": {\"Algorithm\": \"Linear Learner\", \"Host\": \"algo-1\", \"Operation\": \"training\", \"epoch\": 0, \"model\": 9}, \"Metrics\": {\"train_binary_classification_cross_entropy_objective\": {\"sum\": 0.48395057449574136, \"count\": 1, \"min\": 0.48395057449574136, \"max\": 0.48395057449574136}}}\u001b[0m\n",
      "\u001b[34m#metrics {\"StartTime\": 1659467546.0405896, \"EndTime\": 1659467546.0406055, \"Dimensions\": {\"Algorithm\": \"Linear Learner\", \"Host\": \"algo-1\", \"Operation\": \"training\", \"epoch\": 0, \"model\": 10}, \"Metrics\": {\"train_binary_classification_cross_entropy_objective\": {\"sum\": 0.48342221032005567, \"count\": 1, \"min\": 0.48342221032005567, \"max\": 0.48342221032005567}}}\u001b[0m\n",
      "\u001b[34m#metrics {\"StartTime\": 1659467546.0406559, \"EndTime\": 1659467546.040672, \"Dimensions\": {\"Algorithm\": \"Linear Learner\", \"Host\": \"algo-1\", \"Operation\": \"training\", \"epoch\": 0, \"model\": 11}, \"Metrics\": {\"train_binary_classification_cross_entropy_objective\": {\"sum\": 0.48392759335952434, \"count\": 1, \"min\": 0.48392759335952434, \"max\": 0.48392759335952434}}}\u001b[0m\n",
      "\u001b[34m#metrics {\"StartTime\": 1659467546.0407238, \"EndTime\": 1659467546.0407403, \"Dimensions\": {\"Algorithm\": \"Linear Learner\", \"Host\": \"algo-1\", \"Operation\": \"training\", \"epoch\": 0, \"model\": 12}, \"Metrics\": {\"train_binary_classification_cross_entropy_objective\": {\"sum\": 0.4942965984052839, \"count\": 1, \"min\": 0.4942965984052839, \"max\": 0.4942965984052839}}}\u001b[0m\n",
      "\u001b[34m#metrics {\"StartTime\": 1659467546.0407946, \"EndTime\": 1659467546.0408123, \"Dimensions\": {\"Algorithm\": \"Linear Learner\", \"Host\": \"algo-1\", \"Operation\": \"training\", \"epoch\": 0, \"model\": 13}, \"Metrics\": {\"train_binary_classification_cross_entropy_objective\": {\"sum\": 0.5029167793110605, \"count\": 1, \"min\": 0.5029167793110605, \"max\": 0.5029167793110605}}}\u001b[0m\n",
      "\u001b[34m#metrics {\"StartTime\": 1659467546.040867, \"EndTime\": 1659467546.0408838, \"Dimensions\": {\"Algorithm\": \"Linear Learner\", \"Host\": \"algo-1\", \"Operation\": \"training\", \"epoch\": 0, \"model\": 14}, \"Metrics\": {\"train_binary_classification_cross_entropy_objective\": {\"sum\": 0.4942586962965286, \"count\": 1, \"min\": 0.4942586962965286, \"max\": 0.4942586962965286}}}\u001b[0m\n",
      "\u001b[34m#metrics {\"StartTime\": 1659467546.040932, \"EndTime\": 1659467546.0409439, \"Dimensions\": {\"Algorithm\": \"Linear Learner\", \"Host\": \"algo-1\", \"Operation\": \"training\", \"epoch\": 0, \"model\": 15}, \"Metrics\": {\"train_binary_classification_cross_entropy_objective\": {\"sum\": 0.5029294013160449, \"count\": 1, \"min\": 0.5029294013160449, \"max\": 0.5029294013160449}}}\u001b[0m\n",
      "\u001b[34m#metrics {\"StartTime\": 1659467546.0409832, \"EndTime\": 1659467546.0409944, \"Dimensions\": {\"Algorithm\": \"Linear Learner\", \"Host\": \"algo-1\", \"Operation\": \"training\", \"epoch\": 0, \"model\": 16}, \"Metrics\": {\"train_binary_classification_cross_entropy_objective\": {\"sum\": 0.5057136970076721, \"count\": 1, \"min\": 0.5057136970076721, \"max\": 0.5057136970076721}}}\u001b[0m\n",
      "\u001b[34m#metrics {\"StartTime\": 1659467546.0410326, \"EndTime\": 1659467546.0410433, \"Dimensions\": {\"Algorithm\": \"Linear Learner\", \"Host\": \"algo-1\", \"Operation\": \"training\", \"epoch\": 0, \"model\": 17}, \"Metrics\": {\"train_binary_classification_cross_entropy_objective\": {\"sum\": 0.5058096123791616, \"count\": 1, \"min\": 0.5058096123791616, \"max\": 0.5058096123791616}}}\u001b[0m\n",
      "\u001b[34m#metrics {\"StartTime\": 1659467546.0410817, \"EndTime\": 1659467546.0410922, \"Dimensions\": {\"Algorithm\": \"Linear Learner\", \"Host\": \"algo-1\", \"Operation\": \"training\", \"epoch\": 0, \"model\": 18}, \"Metrics\": {\"train_binary_classification_cross_entropy_objective\": {\"sum\": 0.5056920605814056, \"count\": 1, \"min\": 0.5056920605814056, \"max\": 0.5056920605814056}}}\u001b[0m\n",
      "\u001b[34m#metrics {\"StartTime\": 1659467546.0411303, \"EndTime\": 1659467546.0411413, \"Dimensions\": {\"Algorithm\": \"Linear Learner\", \"Host\": \"algo-1\", \"Operation\": \"training\", \"epoch\": 0, \"model\": 19}, \"Metrics\": {\"train_binary_classification_cross_entropy_objective\": {\"sum\": 0.505824289071086, \"count\": 1, \"min\": 0.505824289071086, \"max\": 0.505824289071086}}}\u001b[0m\n",
      "\u001b[34m#metrics {\"StartTime\": 1659467546.0411785, \"EndTime\": 1659467546.0411892, \"Dimensions\": {\"Algorithm\": \"Linear Learner\", \"Host\": \"algo-1\", \"Operation\": \"training\", \"epoch\": 0, \"model\": 20}, \"Metrics\": {\"train_binary_classification_cross_entropy_objective\": {\"sum\": 0.5070471941513388, \"count\": 1, \"min\": 0.5070471941513388, \"max\": 0.5070471941513388}}}\u001b[0m\n",
      "\u001b[34m#metrics {\"StartTime\": 1659467546.0412269, \"EndTime\": 1659467546.0412374, \"Dimensions\": {\"Algorithm\": \"Linear Learner\", \"Host\": \"algo-1\", \"Operation\": \"training\", \"epoch\": 0, \"model\": 21}, \"Metrics\": {\"train_binary_classification_cross_entropy_objective\": {\"sum\": 0.5087730633563587, \"count\": 1, \"min\": 0.5087730633563587, \"max\": 0.5087730633563587}}}\u001b[0m\n",
      "\u001b[34m#metrics {\"StartTime\": 1659467546.0413854, \"EndTime\": 1659467546.0414004, \"Dimensions\": {\"Algorithm\": \"Linear Learner\", \"Host\": \"algo-1\", \"Operation\": \"training\", \"epoch\": 0, \"model\": 22}, \"Metrics\": {\"train_binary_classification_cross_entropy_objective\": {\"sum\": 0.5070001956344744, \"count\": 1, \"min\": 0.5070001956344744, \"max\": 0.5070001956344744}}}\u001b[0m\n",
      "\u001b[34m#metrics {\"StartTime\": 1659467546.0414484, \"EndTime\": 1659467546.041462, \"Dimensions\": {\"Algorithm\": \"Linear Learner\", \"Host\": \"algo-1\", \"Operation\": \"training\", \"epoch\": 0, \"model\": 23}, \"Metrics\": {\"train_binary_classification_cross_entropy_objective\": {\"sum\": 0.508757699948932, \"count\": 1, \"min\": 0.508757699948932, \"max\": 0.508757699948932}}}\u001b[0m\n",
      "\u001b[34m#metrics {\"StartTime\": 1659467546.0415134, \"EndTime\": 1659467546.0415294, \"Dimensions\": {\"Algorithm\": \"Linear Learner\", \"Host\": \"algo-1\", \"Operation\": \"training\", \"epoch\": 0, \"model\": 24}, \"Metrics\": {\"train_binary_classification_cross_entropy_objective\": {\"sum\": 0.5150143487212855, \"count\": 1, \"min\": 0.5150143487212855, \"max\": 0.5150143487212855}}}\u001b[0m\n",
      "\u001b[34m#metrics {\"StartTime\": 1659467546.0415623, \"EndTime\": 1659467546.0415714, \"Dimensions\": {\"Algorithm\": \"Linear Learner\", \"Host\": \"algo-1\", \"Operation\": \"training\", \"epoch\": 0, \"model\": 25}, \"Metrics\": {\"train_binary_classification_cross_entropy_objective\": {\"sum\": 0.5150450599973719, \"count\": 1, \"min\": 0.5150450599973719, \"max\": 0.5150450599973719}}}\u001b[0m\n",
      "\u001b[34m#metrics {\"StartTime\": 1659467546.0415974, \"EndTime\": 1659467546.0416052, \"Dimensions\": {\"Algorithm\": \"Linear Learner\", \"Host\": \"algo-1\", \"Operation\": \"training\", \"epoch\": 0, \"model\": 26}, \"Metrics\": {\"train_binary_classification_cross_entropy_objective\": {\"sum\": 0.5149900298745624, \"count\": 1, \"min\": 0.5149900298745624, \"max\": 0.5149900298745624}}}\u001b[0m\n",
      "\u001b[34m#metrics {\"StartTime\": 1659467546.0416307, \"EndTime\": 1659467546.0416384, \"Dimensions\": {\"Algorithm\": \"Linear Learner\", \"Host\": \"algo-1\", \"Operation\": \"training\", \"epoch\": 0, \"model\": 27}, \"Metrics\": {\"train_binary_classification_cross_entropy_objective\": {\"sum\": 0.5150605249434071, \"count\": 1, \"min\": 0.5150605249434071, \"max\": 0.5150605249434071}}}\u001b[0m\n",
      "\u001b[34m#metrics {\"StartTime\": 1659467546.0416636, \"EndTime\": 1659467546.0416715, \"Dimensions\": {\"Algorithm\": \"Linear Learner\", \"Host\": \"algo-1\", \"Operation\": \"training\", \"epoch\": 0, \"model\": 28}, \"Metrics\": {\"train_binary_classification_cross_entropy_objective\": {\"sum\": 0.5150110929063336, \"count\": 1, \"min\": 0.5150110929063336, \"max\": 0.5150110929063336}}}\u001b[0m\n",
      "\u001b[34m#metrics {\"StartTime\": 1659467546.0416965, \"EndTime\": 1659467546.0417042, \"Dimensions\": {\"Algorithm\": \"Linear Learner\", \"Host\": \"algo-1\", \"Operation\": \"training\", \"epoch\": 0, \"model\": 29}, \"Metrics\": {\"train_binary_classification_cross_entropy_objective\": {\"sum\": 0.5157283551510685, \"count\": 1, \"min\": 0.5157283551510685, \"max\": 0.5157283551510685}}}\u001b[0m\n",
      "\u001b[34m#metrics {\"StartTime\": 1659467546.041731, \"EndTime\": 1659467546.041739, \"Dimensions\": {\"Algorithm\": \"Linear Learner\", \"Host\": \"algo-1\", \"Operation\": \"training\", \"epoch\": 0, \"model\": 30}, \"Metrics\": {\"train_binary_classification_cross_entropy_objective\": {\"sum\": 0.5150125749920487, \"count\": 1, \"min\": 0.5150125749920487, \"max\": 0.5150125749920487}}}\u001b[0m\n",
      "\u001b[34m#metrics {\"StartTime\": 1659467546.041765, \"EndTime\": 1659467546.0417726, \"Dimensions\": {\"Algorithm\": \"Linear Learner\", \"Host\": \"algo-1\", \"Operation\": \"training\", \"epoch\": 0, \"model\": 31}, \"Metrics\": {\"train_binary_classification_cross_entropy_objective\": {\"sum\": 0.5157628725850983, \"count\": 1, \"min\": 0.5157628725850983, \"max\": 0.5157628725850983}}}\u001b[0m\n",
      "\u001b[34m[08/02/2022 19:12:26 INFO 140621894309696] #quality_metric: host=algo-1, epoch=0, train binary_classification_cross_entropy_objective <loss>=0.4831541832506839\u001b[0m\n",
      "\u001b[34m[2022-08-02 19:12:26.072] [tensorio] [info] epoch_stats={\"data_pipeline\": \"/opt/ml/input/data/validation\", \"epoch\": 0, \"duration\": 62411, \"num_examples\": 1, \"num_bytes\": 384000}\u001b[0m\n",
      "\u001b[34m[2022-08-02 19:12:32.055] [tensorio] [info] epoch_stats={\"data_pipeline\": \"/opt/ml/input/data/validation\", \"epoch\": 2, \"duration\": 5982, \"num_examples\": 164, \"num_bytes\": 62806656}\u001b[0m\n",
      "\u001b[34m#metrics {\"StartTime\": 1659467552.0653718, \"EndTime\": 1659467552.065435, \"Dimensions\": {\"Algorithm\": \"Linear Learner\", \"Host\": \"algo-1\", \"Operation\": \"training\", \"epoch\": 0, \"model\": 0}, \"Metrics\": {\"validation_binary_classification_cross_entropy_objective\": {\"sum\": 0.4812285692001338, \"count\": 1, \"min\": 0.4812285692001338, \"max\": 0.4812285692001338}}}\u001b[0m\n",
      "\u001b[34m#metrics {\"StartTime\": 1659467552.0655222, \"EndTime\": 1659467552.0655384, \"Dimensions\": {\"Algorithm\": \"Linear Learner\", \"Host\": \"algo-1\", \"Operation\": \"training\", \"epoch\": 0, \"model\": 1}, \"Metrics\": {\"validation_binary_classification_cross_entropy_objective\": {\"sum\": 0.48248294206220355, \"count\": 1, \"min\": 0.48248294206220355, \"max\": 0.48248294206220355}}}\u001b[0m\n",
      "\u001b[34m#metrics {\"StartTime\": 1659467552.0655777, \"EndTime\": 1659467552.065588, \"Dimensions\": {\"Algorithm\": \"Linear Learner\", \"Host\": \"algo-1\", \"Operation\": \"training\", \"epoch\": 0, \"model\": 2}, \"Metrics\": {\"validation_binary_classification_cross_entropy_objective\": {\"sum\": 0.48122871100437187, \"count\": 1, \"min\": 0.48122871100437187, \"max\": 0.48122871100437187}}}\u001b[0m\n",
      "\u001b[34m#metrics {\"StartTime\": 1659467552.0656185, \"EndTime\": 1659467552.0656333, \"Dimensions\": {\"Algorithm\": \"Linear Learner\", \"Host\": \"algo-1\", \"Operation\": \"training\", \"epoch\": 0, \"model\": 3}, \"Metrics\": {\"validation_binary_classification_cross_entropy_objective\": {\"sum\": 0.48248426140137124, \"count\": 1, \"min\": 0.48248426140137124, \"max\": 0.48248426140137124}}}\u001b[0m\n",
      "\u001b[34m#metrics {\"StartTime\": 1659467552.0656867, \"EndTime\": 1659467552.0657065, \"Dimensions\": {\"Algorithm\": \"Linear Learner\", \"Host\": \"algo-1\", \"Operation\": \"training\", \"epoch\": 0, \"model\": 4}, \"Metrics\": {\"validation_binary_classification_cross_entropy_objective\": {\"sum\": 0.487831666007063, \"count\": 1, \"min\": 0.487831666007063, \"max\": 0.487831666007063}}}\u001b[0m\n",
      "\u001b[34m#metrics {\"StartTime\": 1659467552.0658095, \"EndTime\": 1659467552.0658278, \"Dimensions\": {\"Algorithm\": \"Linear Learner\", \"Host\": \"algo-1\", \"Operation\": \"training\", \"epoch\": 0, \"model\": 5}, \"Metrics\": {\"validation_binary_classification_cross_entropy_objective\": {\"sum\": 0.4972992285741976, \"count\": 1, \"min\": 0.4972992285741976, \"max\": 0.4972992285741976}}}\u001b[0m\n",
      "\u001b[34m#metrics {\"StartTime\": 1659467552.0658855, \"EndTime\": 1659467552.0659049, \"Dimensions\": {\"Algorithm\": \"Linear Learner\", \"Host\": \"algo-1\", \"Operation\": \"training\", \"epoch\": 0, \"model\": 6}, \"Metrics\": {\"validation_binary_classification_cross_entropy_objective\": {\"sum\": 0.4878370631509979, \"count\": 1, \"min\": 0.4878370631509979, \"max\": 0.4878370631509979}}}\u001b[0m\n",
      "\u001b[34m#metrics {\"StartTime\": 1659467552.0659728, \"EndTime\": 1659467552.0659914, \"Dimensions\": {\"Algorithm\": \"Linear Learner\", \"Host\": \"algo-1\", \"Operation\": \"training\", \"epoch\": 0, \"model\": 7}, \"Metrics\": {\"validation_binary_classification_cross_entropy_objective\": {\"sum\": 0.4973133269008145, \"count\": 1, \"min\": 0.4973133269008145, \"max\": 0.4973133269008145}}}\u001b[0m\n",
      "\u001b[34m#metrics {\"StartTime\": 1659467552.0660324, \"EndTime\": 1659467552.0660431, \"Dimensions\": {\"Algorithm\": \"Linear Learner\", \"Host\": \"algo-1\", \"Operation\": \"training\", \"epoch\": 0, \"model\": 8}, \"Metrics\": {\"validation_binary_classification_cross_entropy_objective\": {\"sum\": 0.481460384797831, \"count\": 1, \"min\": 0.481460384797831, \"max\": 0.481460384797831}}}\u001b[0m\n",
      "\u001b[34m#metrics {\"StartTime\": 1659467552.06607, \"EndTime\": 1659467552.0660787, \"Dimensions\": {\"Algorithm\": \"Linear Learner\", \"Host\": \"algo-1\", \"Operation\": \"training\", \"epoch\": 0, \"model\": 9}, \"Metrics\": {\"validation_binary_classification_cross_entropy_objective\": {\"sum\": 0.48265562379994803, \"count\": 1, \"min\": 0.48265562379994803, \"max\": 0.48265562379994803}}}\u001b[0m\n",
      "\u001b[34m#metrics {\"StartTime\": 1659467552.0661035, \"EndTime\": 1659467552.0661113, \"Dimensions\": {\"Algorithm\": \"Linear Learner\", \"Host\": \"algo-1\", \"Operation\": \"training\", \"epoch\": 0, \"model\": 10}, \"Metrics\": {\"validation_binary_classification_cross_entropy_objective\": {\"sum\": 0.4814611514736392, \"count\": 1, \"min\": 0.4814611514736392, \"max\": 0.4814611514736392}}}\u001b[0m\n",
      "\u001b[34m#metrics {\"StartTime\": 1659467552.0661368, \"EndTime\": 1659467552.0661447, \"Dimensions\": {\"Algorithm\": \"Linear Learner\", \"Host\": \"algo-1\", \"Operation\": \"training\", \"epoch\": 0, \"model\": 11}, \"Metrics\": {\"validation_binary_classification_cross_entropy_objective\": {\"sum\": 0.4826559350229337, \"count\": 1, \"min\": 0.4826559350229337, \"max\": 0.4826559350229337}}}\u001b[0m\n",
      "\u001b[34m#metrics {\"StartTime\": 1659467552.0661697, \"EndTime\": 1659467552.066178, \"Dimensions\": {\"Algorithm\": \"Linear Learner\", \"Host\": \"algo-1\", \"Operation\": \"training\", \"epoch\": 0, \"model\": 12}, \"Metrics\": {\"validation_binary_classification_cross_entropy_objective\": {\"sum\": 0.487986238783852, \"count\": 1, \"min\": 0.487986238783852, \"max\": 0.487986238783852}}}\u001b[0m\n",
      "\u001b[34m#metrics {\"StartTime\": 1659467552.066202, \"EndTime\": 1659467552.0662096, \"Dimensions\": {\"Algorithm\": \"Linear Learner\", \"Host\": \"algo-1\", \"Operation\": \"training\", \"epoch\": 0, \"model\": 13}, \"Metrics\": {\"validation_binary_classification_cross_entropy_objective\": {\"sum\": 0.49646730061291194, \"count\": 1, \"min\": 0.49646730061291194, \"max\": 0.49646730061291194}}}\u001b[0m\n",
      "\u001b[34m#metrics {\"StartTime\": 1659467552.0662346, \"EndTime\": 1659467552.0662425, \"Dimensions\": {\"Algorithm\": \"Linear Learner\", \"Host\": \"algo-1\", \"Operation\": \"training\", \"epoch\": 0, \"model\": 14}, \"Metrics\": {\"validation_binary_classification_cross_entropy_objective\": {\"sum\": 0.4879855375992116, \"count\": 1, \"min\": 0.4879855375992116, \"max\": 0.4879855375992116}}}\u001b[0m\n",
      "\u001b[34m#metrics {\"StartTime\": 1659467552.0662675, \"EndTime\": 1659467552.0662751, \"Dimensions\": {\"Algorithm\": \"Linear Learner\", \"Host\": \"algo-1\", \"Operation\": \"training\", \"epoch\": 0, \"model\": 15}, \"Metrics\": {\"validation_binary_classification_cross_entropy_objective\": {\"sum\": 0.49648127840592643, \"count\": 1, \"min\": 0.49648127840592643, \"max\": 0.49648127840592643}}}\u001b[0m\n",
      "\u001b[34m#metrics {\"StartTime\": 1659467552.0663004, \"EndTime\": 1659467552.066309, \"Dimensions\": {\"Algorithm\": \"Linear Learner\", \"Host\": \"algo-1\", \"Operation\": \"training\", \"epoch\": 0, \"model\": 16}, \"Metrics\": {\"validation_binary_classification_cross_entropy_objective\": {\"sum\": 0.5043580619987355, \"count\": 1, \"min\": 0.5043580619987355, \"max\": 0.5043580619987355}}}\u001b[0m\n",
      "\u001b[34m#metrics {\"StartTime\": 1659467552.0663338, \"EndTime\": 1659467552.0663414, \"Dimensions\": {\"Algorithm\": \"Linear Learner\", \"Host\": \"algo-1\", \"Operation\": \"training\", \"epoch\": 0, \"model\": 17}, \"Metrics\": {\"validation_binary_classification_cross_entropy_objective\": {\"sum\": 0.505558816252791, \"count\": 1, \"min\": 0.505558816252791, \"max\": 0.505558816252791}}}\u001b[0m\n",
      "\u001b[34m#metrics {\"StartTime\": 1659467552.0663877, \"EndTime\": 1659467552.0663996, \"Dimensions\": {\"Algorithm\": \"Linear Learner\", \"Host\": \"algo-1\", \"Operation\": \"training\", \"epoch\": 0, \"model\": 18}, \"Metrics\": {\"validation_binary_classification_cross_entropy_objective\": {\"sum\": 0.5043531287039267, \"count\": 1, \"min\": 0.5043531287039267, \"max\": 0.5043531287039267}}}\u001b[0m\n",
      "\u001b[34m#metrics {\"StartTime\": 1659467552.0664282, \"EndTime\": 1659467552.0664368, \"Dimensions\": {\"Algorithm\": \"Linear Learner\", \"Host\": \"algo-1\", \"Operation\": \"training\", \"epoch\": 0, \"model\": 19}, \"Metrics\": {\"validation_binary_classification_cross_entropy_objective\": {\"sum\": 0.5055487001996651, \"count\": 1, \"min\": 0.5055487001996651, \"max\": 0.5055487001996651}}}\u001b[0m\n",
      "\u001b[34m#metrics {\"StartTime\": 1659467552.0664613, \"EndTime\": 1659467552.0664701, \"Dimensions\": {\"Algorithm\": \"Linear Learner\", \"Host\": \"algo-1\", \"Operation\": \"training\", \"epoch\": 0, \"model\": 20}, \"Metrics\": {\"validation_binary_classification_cross_entropy_objective\": {\"sum\": 0.5071561952814763, \"count\": 1, \"min\": 0.5071561952814763, \"max\": 0.5071561952814763}}}\u001b[0m\n",
      "\u001b[34m#metrics {\"StartTime\": 1659467552.0665185, \"EndTime\": 1659467552.0665314, \"Dimensions\": {\"Algorithm\": \"Linear Learner\", \"Host\": \"algo-1\", \"Operation\": \"training\", \"epoch\": 0, \"model\": 21}, \"Metrics\": {\"validation_binary_classification_cross_entropy_objective\": {\"sum\": 0.5099657971685557, \"count\": 1, \"min\": 0.5099657971685557, \"max\": 0.5099657971685557}}}\u001b[0m\n",
      "\u001b[34m#metrics {\"StartTime\": 1659467552.06656, \"EndTime\": 1659467552.0665674, \"Dimensions\": {\"Algorithm\": \"Linear Learner\", \"Host\": \"algo-1\", \"Operation\": \"training\", \"epoch\": 0, \"model\": 22}, \"Metrics\": {\"validation_binary_classification_cross_entropy_objective\": {\"sum\": 0.5071305613666767, \"count\": 1, \"min\": 0.5071305613666767, \"max\": 0.5071305613666767}}}\u001b[0m\n",
      "\u001b[34m#metrics {\"StartTime\": 1659467552.0665922, \"EndTime\": 1659467552.0665998, \"Dimensions\": {\"Algorithm\": \"Linear Learner\", \"Host\": \"algo-1\", \"Operation\": \"training\", \"epoch\": 0, \"model\": 23}, \"Metrics\": {\"validation_binary_classification_cross_entropy_objective\": {\"sum\": 0.5099618943800718, \"count\": 1, \"min\": 0.5099618943800718, \"max\": 0.5099618943800718}}}\u001b[0m\n",
      "\u001b[34m#metrics {\"StartTime\": 1659467552.066644, \"EndTime\": 1659467552.0666587, \"Dimensions\": {\"Algorithm\": \"Linear Learner\", \"Host\": \"algo-1\", \"Operation\": \"training\", \"epoch\": 0, \"model\": 24}, \"Metrics\": {\"validation_binary_classification_cross_entropy_objective\": {\"sum\": 0.5137154947299694, \"count\": 1, \"min\": 0.5137154947299694, \"max\": 0.5137154947299694}}}\u001b[0m\n",
      "\u001b[34m#metrics {\"StartTime\": 1659467552.0666883, \"EndTime\": 1659467552.0666966, \"Dimensions\": {\"Algorithm\": \"Linear Learner\", \"Host\": \"algo-1\", \"Operation\": \"training\", \"epoch\": 0, \"model\": 25}, \"Metrics\": {\"validation_binary_classification_cross_entropy_objective\": {\"sum\": 0.5144246172357314, \"count\": 1, \"min\": 0.5144246172357314, \"max\": 0.5144246172357314}}}\u001b[0m\n",
      "\u001b[34m#metrics {\"StartTime\": 1659467552.0667217, \"EndTime\": 1659467552.0667295, \"Dimensions\": {\"Algorithm\": \"Linear Learner\", \"Host\": \"algo-1\", \"Operation\": \"training\", \"epoch\": 0, \"model\": 26}, \"Metrics\": {\"validation_binary_classification_cross_entropy_objective\": {\"sum\": 0.5137599811450517, \"count\": 1, \"min\": 0.5137599811450517, \"max\": 0.5137599811450517}}}\u001b[0m\n",
      "\u001b[34m#metrics {\"StartTime\": 1659467552.0667696, \"EndTime\": 1659467552.0667846, \"Dimensions\": {\"Algorithm\": \"Linear Learner\", \"Host\": \"algo-1\", \"Operation\": \"training\", \"epoch\": 0, \"model\": 27}, \"Metrics\": {\"validation_binary_classification_cross_entropy_objective\": {\"sum\": 0.5144018556030908, \"count\": 1, \"min\": 0.5144018556030908, \"max\": 0.5144018556030908}}}\u001b[0m\n",
      "\u001b[34m#metrics {\"StartTime\": 1659467552.066815, \"EndTime\": 1659467552.0668232, \"Dimensions\": {\"Algorithm\": \"Linear Learner\", \"Host\": \"algo-1\", \"Operation\": \"training\", \"epoch\": 0, \"model\": 28}, \"Metrics\": {\"validation_binary_classification_cross_entropy_objective\": {\"sum\": 0.5152231564562401, \"count\": 1, \"min\": 0.5152231564562401, \"max\": 0.5152231564562401}}}\u001b[0m\n",
      "\u001b[34m#metrics {\"StartTime\": 1659467552.0668511, \"EndTime\": 1659467552.0668592, \"Dimensions\": {\"Algorithm\": \"Linear Learner\", \"Host\": \"algo-1\", \"Operation\": \"training\", \"epoch\": 0, \"model\": 29}, \"Metrics\": {\"validation_binary_classification_cross_entropy_objective\": {\"sum\": 0.5137671752845351, \"count\": 1, \"min\": 0.5137671752845351, \"max\": 0.5137671752845351}}}\u001b[0m\n",
      "\u001b[34m#metrics {\"StartTime\": 1659467552.0668855, \"EndTime\": 1659467552.0668929, \"Dimensions\": {\"Algorithm\": \"Linear Learner\", \"Host\": \"algo-1\", \"Operation\": \"training\", \"epoch\": 0, \"model\": 30}, \"Metrics\": {\"validation_binary_classification_cross_entropy_objective\": {\"sum\": 0.5152517611698273, \"count\": 1, \"min\": 0.5152517611698273, \"max\": 0.5152517611698273}}}\u001b[0m\n",
      "\u001b[34m#metrics {\"StartTime\": 1659467552.0669172, \"EndTime\": 1659467552.0669477, \"Dimensions\": {\"Algorithm\": \"Linear Learner\", \"Host\": \"algo-1\", \"Operation\": \"training\", \"epoch\": 0, \"model\": 31}, \"Metrics\": {\"validation_binary_classification_cross_entropy_objective\": {\"sum\": 0.5139953705827174, \"count\": 1, \"min\": 0.5139953705827174, \"max\": 0.5139953705827174}}}\u001b[0m\n",
      "\u001b[34m[08/02/2022 19:12:32 INFO 140621894309696] #quality_metric: host=algo-1, epoch=0, validation binary_classification_cross_entropy_objective <loss>=0.4812285692001338\u001b[0m\n",
      "\u001b[34m[08/02/2022 19:12:32 INFO 140621894309696] #early_stopping_criteria_metric: host=algo-1, epoch=0, criteria=binary_classification_cross_entropy_objective, value=0.4812285692001338\u001b[0m\n",
      "\u001b[34m[08/02/2022 19:12:32 INFO 140621894309696] Epoch 0: Loss improved. Updating best model\u001b[0m\n",
      "\u001b[34m[08/02/2022 19:12:32 INFO 140621894309696] Saving model for epoch: 0\u001b[0m\n",
      "\u001b[34m[08/02/2022 19:12:32 INFO 140621894309696] Saved checkpoint to \"/tmp/tmpuq5cfr87/mx-mod-0000.params\"\u001b[0m\n",
      "\u001b[34m[08/02/2022 19:12:32 INFO 140621894309696] #progress_metric: host=algo-1, completed 6.666666666666667 % of epochs\u001b[0m\n",
      "\u001b[34m#metrics {\"StartTime\": 1659467484.0664945, \"EndTime\": 1659467552.0789306, \"Dimensions\": {\"Algorithm\": \"Linear Learner\", \"Host\": \"algo-1\", \"Operation\": \"training\", \"epoch\": 0, \"Meta\": \"training_data_iter\"}, \"Metrics\": {\"Total Records Seen\": {\"sum\": 1320472.0, \"count\": 1, \"min\": 1320472, \"max\": 1320472}, \"Total Batches Seen\": {\"sum\": 1321.0, \"count\": 1, \"min\": 1321, \"max\": 1321}, \"Max Records Seen Between Resets\": {\"sum\": 1308472.0, \"count\": 1, \"min\": 1308472, \"max\": 1308472}, \"Max Batches Seen Between Resets\": {\"sum\": 1309.0, \"count\": 1, \"min\": 1309, \"max\": 1309}, \"Reset Count\": {\"sum\": 3.0, \"count\": 1, \"min\": 3, \"max\": 3}, \"Number of Records Since Last Reset\": {\"sum\": 1308472.0, \"count\": 1, \"min\": 1308472, \"max\": 1308472}, \"Number of Batches Since Last Reset\": {\"sum\": 1309.0, \"count\": 1, \"min\": 1309, \"max\": 1309}}}\u001b[0m\n",
      "\u001b[34m[08/02/2022 19:12:32 INFO 140621894309696] #throughput_metric: host=algo-1, train throughput=19238.681625001394 records/second\u001b[0m\n",
      "\u001b[34m[2022-08-02 19:13:33.928] [tensorio] [info] epoch_stats={\"data_pipeline\": \"/opt/ml/input/data/train\", \"epoch\": 5, \"duration\": 61845, \"num_examples\": 1309, \"num_bytes\": 502453248}\u001b[0m\n",
      "\u001b[34m#metrics {\"StartTime\": 1659467613.9286582, \"EndTime\": 1659467613.9287837, \"Dimensions\": {\"Algorithm\": \"Linear Learner\", \"Host\": \"algo-1\", \"Operation\": \"training\", \"epoch\": 1, \"model\": 0}, \"Metrics\": {\"train_binary_classification_cross_entropy_objective\": {\"sum\": 0.48082490100918923, \"count\": 1, \"min\": 0.48082490100918923, \"max\": 0.48082490100918923}}}\u001b[0m\n",
      "\u001b[34m#metrics {\"StartTime\": 1659467613.9289126, \"EndTime\": 1659467613.928934, \"Dimensions\": {\"Algorithm\": \"Linear Learner\", \"Host\": \"algo-1\", \"Operation\": \"training\", \"epoch\": 1, \"model\": 1}, \"Metrics\": {\"train_binary_classification_cross_entropy_objective\": {\"sum\": 0.4818103522904422, \"count\": 1, \"min\": 0.4818103522904422, \"max\": 0.4818103522904422}}}\u001b[0m\n",
      "\u001b[34m#metrics {\"StartTime\": 1659467613.9290419, \"EndTime\": 1659467613.9290605, \"Dimensions\": {\"Algorithm\": \"Linear Learner\", \"Host\": \"algo-1\", \"Operation\": \"training\", \"epoch\": 1, \"model\": 2}, \"Metrics\": {\"train_binary_classification_cross_entropy_objective\": {\"sum\": 0.4808251918361092, \"count\": 1, \"min\": 0.4808251918361092, \"max\": 0.4808251918361092}}}\u001b[0m\n",
      "\u001b[34m#metrics {\"StartTime\": 1659467613.9291449, \"EndTime\": 1659467613.929162, \"Dimensions\": {\"Algorithm\": \"Linear Learner\", \"Host\": \"algo-1\", \"Operation\": \"training\", \"epoch\": 1, \"model\": 3}, \"Metrics\": {\"train_binary_classification_cross_entropy_objective\": {\"sum\": 0.481809663008477, \"count\": 1, \"min\": 0.481809663008477, \"max\": 0.481809663008477}}}\u001b[0m\n",
      "\u001b[34m#metrics {\"StartTime\": 1659467613.9292126, \"EndTime\": 1659467613.9292245, \"Dimensions\": {\"Algorithm\": \"Linear Learner\", \"Host\": \"algo-1\", \"Operation\": \"training\", \"epoch\": 1, \"model\": 4}, \"Metrics\": {\"train_binary_classification_cross_entropy_objective\": {\"sum\": 0.48462277035027834, \"count\": 1, \"min\": 0.48462277035027834, \"max\": 0.48462277035027834}}}\u001b[0m\n",
      "\u001b[34m#metrics {\"StartTime\": 1659467613.9293053, \"EndTime\": 1659467613.9293203, \"Dimensions\": {\"Algorithm\": \"Linear Learner\", \"Host\": \"algo-1\", \"Operation\": \"training\", \"epoch\": 1, \"model\": 5}, \"Metrics\": {\"train_binary_classification_cross_entropy_objective\": {\"sum\": 0.5009841118675489, \"count\": 1, \"min\": 0.5009841118675489, \"max\": 0.5009841118675489}}}\u001b[0m\n",
      "\u001b[34m#metrics {\"StartTime\": 1659467613.9294405, \"EndTime\": 1659467613.929457, \"Dimensions\": {\"Algorithm\": \"Linear Learner\", \"Host\": \"algo-1\", \"Operation\": \"training\", \"epoch\": 1, \"model\": 6}, \"Metrics\": {\"train_binary_classification_cross_entropy_objective\": {\"sum\": 0.4846223570097477, \"count\": 1, \"min\": 0.4846223570097477, \"max\": 0.4846223570097477}}}\u001b[0m\n",
      "\u001b[34m#metrics {\"StartTime\": 1659467613.9294991, \"EndTime\": 1659467613.9295468, \"Dimensions\": {\"Algorithm\": \"Linear Learner\", \"Host\": \"algo-1\", \"Operation\": \"training\", \"epoch\": 1, \"model\": 7}, \"Metrics\": {\"train_binary_classification_cross_entropy_objective\": {\"sum\": 0.5009843228308068, \"count\": 1, \"min\": 0.5009843228308068, \"max\": 0.5009843228308068}}}\u001b[0m\n",
      "\u001b[34m#metrics {\"StartTime\": 1659467613.9295943, \"EndTime\": 1659467613.9296064, \"Dimensions\": {\"Algorithm\": \"Linear Learner\", \"Host\": \"algo-1\", \"Operation\": \"training\", \"epoch\": 1, \"model\": 8}, \"Metrics\": {\"train_binary_classification_cross_entropy_objective\": {\"sum\": 0.48107895588072797, \"count\": 1, \"min\": 0.48107895588072797, \"max\": 0.48107895588072797}}}\u001b[0m\n",
      "\u001b[34m#metrics {\"StartTime\": 1659467613.9296458, \"EndTime\": 1659467613.9296575, \"Dimensions\": {\"Algorithm\": \"Linear Learner\", \"Host\": \"algo-1\", \"Operation\": \"training\", \"epoch\": 1, \"model\": 9}, \"Metrics\": {\"train_binary_classification_cross_entropy_objective\": {\"sum\": 0.48201338200467075, \"count\": 1, \"min\": 0.48201338200467075, \"max\": 0.48201338200467075}}}\u001b[0m\n",
      "\u001b[34m#metrics {\"StartTime\": 1659467613.9296958, \"EndTime\": 1659467613.9297066, \"Dimensions\": {\"Algorithm\": \"Linear Learner\", \"Host\": \"algo-1\", \"Operation\": \"training\", \"epoch\": 1, \"model\": 10}, \"Metrics\": {\"train_binary_classification_cross_entropy_objective\": {\"sum\": 0.48107904076065855, \"count\": 1, \"min\": 0.48107904076065855, \"max\": 0.48107904076065855}}}\u001b[0m\n",
      "\u001b[34m#metrics {\"StartTime\": 1659467613.929803, \"EndTime\": 1659467613.9298234, \"Dimensions\": {\"Algorithm\": \"Linear Learner\", \"Host\": \"algo-1\", \"Operation\": \"training\", \"epoch\": 1, \"model\": 11}, \"Metrics\": {\"train_binary_classification_cross_entropy_objective\": {\"sum\": 0.48201345409894936, \"count\": 1, \"min\": 0.48201345409894936, \"max\": 0.48201345409894936}}}\u001b[0m\n",
      "\u001b[34m#metrics {\"StartTime\": 1659467613.9298677, \"EndTime\": 1659467613.9298782, \"Dimensions\": {\"Algorithm\": \"Linear Learner\", \"Host\": \"algo-1\", \"Operation\": \"training\", \"epoch\": 1, \"model\": 12}, \"Metrics\": {\"train_binary_classification_cross_entropy_objective\": {\"sum\": 0.4846296413549954, \"count\": 1, \"min\": 0.4846296413549954, \"max\": 0.4846296413549954}}}\u001b[0m\n",
      "\u001b[34m#metrics {\"StartTime\": 1659467613.9299061, \"EndTime\": 1659467613.9299147, \"Dimensions\": {\"Algorithm\": \"Linear Learner\", \"Host\": \"algo-1\", \"Operation\": \"training\", \"epoch\": 1, \"model\": 13}, \"Metrics\": {\"train_binary_classification_cross_entropy_objective\": {\"sum\": 0.49982939805897003, \"count\": 1, \"min\": 0.49982939805897003, \"max\": 0.49982939805897003}}}\u001b[0m\n",
      "\u001b[34m#metrics {\"StartTime\": 1659467613.9299405, \"EndTime\": 1659467613.9299483, \"Dimensions\": {\"Algorithm\": \"Linear Learner\", \"Host\": \"algo-1\", \"Operation\": \"training\", \"epoch\": 1, \"model\": 14}, \"Metrics\": {\"train_binary_classification_cross_entropy_objective\": {\"sum\": 0.48463019284122943, \"count\": 1, \"min\": 0.48463019284122943, \"max\": 0.48463019284122943}}}\u001b[0m\n",
      "\u001b[34m#metrics {\"StartTime\": 1659467613.929974, \"EndTime\": 1659467613.929982, \"Dimensions\": {\"Algorithm\": \"Linear Learner\", \"Host\": \"algo-1\", \"Operation\": \"training\", \"epoch\": 1, \"model\": 15}, \"Metrics\": {\"train_binary_classification_cross_entropy_objective\": {\"sum\": 0.4998286751563396, \"count\": 1, \"min\": 0.4998286751563396, \"max\": 0.4998286751563396}}}\u001b[0m\n",
      "\u001b[34m#metrics {\"StartTime\": 1659467613.9300075, \"EndTime\": 1659467613.9300153, \"Dimensions\": {\"Algorithm\": \"Linear Learner\", \"Host\": \"algo-1\", \"Operation\": \"training\", \"epoch\": 1, \"model\": 16}, \"Metrics\": {\"train_binary_classification_cross_entropy_objective\": {\"sum\": 0.5042753041118657, \"count\": 1, \"min\": 0.5042753041118657, \"max\": 0.5042753041118657}}}\u001b[0m\n",
      "\u001b[34m#metrics {\"StartTime\": 1659467613.9300406, \"EndTime\": 1659467613.9300482, \"Dimensions\": {\"Algorithm\": \"Linear Learner\", \"Host\": \"algo-1\", \"Operation\": \"training\", \"epoch\": 1, \"model\": 17}, \"Metrics\": {\"train_binary_classification_cross_entropy_objective\": {\"sum\": 0.5045186247752712, \"count\": 1, \"min\": 0.5045186247752712, \"max\": 0.5045186247752712}}}\u001b[0m\n",
      "\u001b[34m#metrics {\"StartTime\": 1659467613.9300737, \"EndTime\": 1659467613.9300816, \"Dimensions\": {\"Algorithm\": \"Linear Learner\", \"Host\": \"algo-1\", \"Operation\": \"training\", \"epoch\": 1, \"model\": 18}, \"Metrics\": {\"train_binary_classification_cross_entropy_objective\": {\"sum\": 0.5042753005188175, \"count\": 1, \"min\": 0.5042753005188175, \"max\": 0.5042753005188175}}}\u001b[0m\n",
      "\u001b[34m#metrics {\"StartTime\": 1659467613.930107, \"EndTime\": 1659467613.930115, \"Dimensions\": {\"Algorithm\": \"Linear Learner\", \"Host\": \"algo-1\", \"Operation\": \"training\", \"epoch\": 1, \"model\": 19}, \"Metrics\": {\"train_binary_classification_cross_entropy_objective\": {\"sum\": 0.5045184374234727, \"count\": 1, \"min\": 0.5045184374234727, \"max\": 0.5045184374234727}}}\u001b[0m\n",
      "\u001b[34m#metrics {\"StartTime\": 1659467613.9301782, \"EndTime\": 1659467613.9301922, \"Dimensions\": {\"Algorithm\": \"Linear Learner\", \"Host\": \"algo-1\", \"Operation\": \"training\", \"epoch\": 1, \"model\": 20}, \"Metrics\": {\"train_binary_classification_cross_entropy_objective\": {\"sum\": 0.5051404541202277, \"count\": 1, \"min\": 0.5051404541202277, \"max\": 0.5051404541202277}}}\u001b[0m\n",
      "\u001b[34m#metrics {\"StartTime\": 1659467613.9302227, \"EndTime\": 1659467613.930231, \"Dimensions\": {\"Algorithm\": \"Linear Learner\", \"Host\": \"algo-1\", \"Operation\": \"training\", \"epoch\": 1, \"model\": 21}, \"Metrics\": {\"train_binary_classification_cross_entropy_objective\": {\"sum\": 0.5080499221148477, \"count\": 1, \"min\": 0.5080499221148477, \"max\": 0.5080499221148477}}}\u001b[0m\n",
      "\u001b[34m#metrics {\"StartTime\": 1659467613.9302566, \"EndTime\": 1659467613.9302642, \"Dimensions\": {\"Algorithm\": \"Linear Learner\", \"Host\": \"algo-1\", \"Operation\": \"training\", \"epoch\": 1, \"model\": 22}, \"Metrics\": {\"train_binary_classification_cross_entropy_objective\": {\"sum\": 0.5051415054134637, \"count\": 1, \"min\": 0.5051415054134637, \"max\": 0.5051415054134637}}}\u001b[0m\n",
      "\u001b[34m#metrics {\"StartTime\": 1659467613.930292, \"EndTime\": 1659467613.9303002, \"Dimensions\": {\"Algorithm\": \"Linear Learner\", \"Host\": \"algo-1\", \"Operation\": \"training\", \"epoch\": 1, \"model\": 23}, \"Metrics\": {\"train_binary_classification_cross_entropy_objective\": {\"sum\": 0.5080498531936506, \"count\": 1, \"min\": 0.5080498531936506, \"max\": 0.5080498531936506}}}\u001b[0m\n",
      "\u001b[34m#metrics {\"StartTime\": 1659467613.9303272, \"EndTime\": 1659467613.9303355, \"Dimensions\": {\"Algorithm\": \"Linear Learner\", \"Host\": \"algo-1\", \"Operation\": \"training\", \"epoch\": 1, \"model\": 24}, \"Metrics\": {\"train_binary_classification_cross_entropy_objective\": {\"sum\": 0.5137347897170881, \"count\": 1, \"min\": 0.5137347897170881, \"max\": 0.5137347897170881}}}\u001b[0m\n",
      "\u001b[34m#metrics {\"StartTime\": 1659467613.930361, \"EndTime\": 1659467613.9303687, \"Dimensions\": {\"Algorithm\": \"Linear Learner\", \"Host\": \"algo-1\", \"Operation\": \"training\", \"epoch\": 1, \"model\": 25}, \"Metrics\": {\"train_binary_classification_cross_entropy_objective\": {\"sum\": 0.5138318207067087, \"count\": 1, \"min\": 0.5138318207067087, \"max\": 0.5138318207067087}}}\u001b[0m\n",
      "\u001b[34m#metrics {\"StartTime\": 1659467613.9303942, \"EndTime\": 1659467613.9304016, \"Dimensions\": {\"Algorithm\": \"Linear Learner\", \"Host\": \"algo-1\", \"Operation\": \"training\", \"epoch\": 1, \"model\": 26}, \"Metrics\": {\"train_binary_classification_cross_entropy_objective\": {\"sum\": 0.5137353716742372, \"count\": 1, \"min\": 0.5137353716742372, \"max\": 0.5137353716742372}}}\u001b[0m\n",
      "\u001b[34m#metrics {\"StartTime\": 1659467613.9304268, \"EndTime\": 1659467613.9304342, \"Dimensions\": {\"Algorithm\": \"Linear Learner\", \"Host\": \"algo-1\", \"Operation\": \"training\", \"epoch\": 1, \"model\": 27}, \"Metrics\": {\"train_binary_classification_cross_entropy_objective\": {\"sum\": 0.513832113143501, \"count\": 1, \"min\": 0.513832113143501, \"max\": 0.513832113143501}}}\u001b[0m\n",
      "\u001b[34m#metrics {\"StartTime\": 1659467613.9304595, \"EndTime\": 1659467613.9304671, \"Dimensions\": {\"Algorithm\": \"Linear Learner\", \"Host\": \"algo-1\", \"Operation\": \"training\", \"epoch\": 1, \"model\": 28}, \"Metrics\": {\"train_binary_classification_cross_entropy_objective\": {\"sum\": 0.5141120942841976, \"count\": 1, \"min\": 0.5141120942841976, \"max\": 0.5141120942841976}}}\u001b[0m\n",
      "\u001b[34m#metrics {\"StartTime\": 1659467613.9304924, \"EndTime\": 1659467613.9305, \"Dimensions\": {\"Algorithm\": \"Linear Learner\", \"Host\": \"algo-1\", \"Operation\": \"training\", \"epoch\": 1, \"model\": 29}, \"Metrics\": {\"train_binary_classification_cross_entropy_objective\": {\"sum\": 0.515216198119184, \"count\": 1, \"min\": 0.515216198119184, \"max\": 0.515216198119184}}}\u001b[0m\n",
      "\u001b[34m#metrics {\"StartTime\": 1659467613.9305258, \"EndTime\": 1659467613.9305332, \"Dimensions\": {\"Algorithm\": \"Linear Learner\", \"Host\": \"algo-1\", \"Operation\": \"training\", \"epoch\": 1, \"model\": 30}, \"Metrics\": {\"train_binary_classification_cross_entropy_objective\": {\"sum\": 0.5141131077571017, \"count\": 1, \"min\": 0.5141131077571017, \"max\": 0.5141131077571017}}}\u001b[0m\n",
      "\u001b[34m#metrics {\"StartTime\": 1659467613.9305582, \"EndTime\": 1659467613.9305656, \"Dimensions\": {\"Algorithm\": \"Linear Learner\", \"Host\": \"algo-1\", \"Operation\": \"training\", \"epoch\": 1, \"model\": 31}, \"Metrics\": {\"train_binary_classification_cross_entropy_objective\": {\"sum\": 0.5152123103943804, \"count\": 1, \"min\": 0.5152123103943804, \"max\": 0.5152123103943804}}}\u001b[0m\n",
      "\u001b[34m[08/02/2022 19:13:33 INFO 140621894309696] #quality_metric: host=algo-1, epoch=1, train binary_classification_cross_entropy_objective <loss>=0.48082490100918923\u001b[0m\n",
      "\u001b[34m[2022-08-02 19:13:39.454] [tensorio] [info] epoch_stats={\"data_pipeline\": \"/opt/ml/input/data/validation\", \"epoch\": 5, \"duration\": 5499, \"num_examples\": 164, \"num_bytes\": 62806656}\u001b[0m\n",
      "\u001b[34m#metrics {\"StartTime\": 1659467619.4645612, \"EndTime\": 1659467619.464621, \"Dimensions\": {\"Algorithm\": \"Linear Learner\", \"Host\": \"algo-1\", \"Operation\": \"training\", \"epoch\": 1, \"model\": 0}, \"Metrics\": {\"validation_binary_classification_cross_entropy_objective\": {\"sum\": 0.48099120327260775, \"count\": 1, \"min\": 0.48099120327260775, \"max\": 0.48099120327260775}}}\u001b[0m\n",
      "\u001b[34m#metrics {\"StartTime\": 1659467619.4647186, \"EndTime\": 1659467619.4647422, \"Dimensions\": {\"Algorithm\": \"Linear Learner\", \"Host\": \"algo-1\", \"Operation\": \"training\", \"epoch\": 1, \"model\": 1}, \"Metrics\": {\"validation_binary_classification_cross_entropy_objective\": {\"sum\": 0.4825058593063369, \"count\": 1, \"min\": 0.4825058593063369, \"max\": 0.4825058593063369}}}\u001b[0m\n",
      "\u001b[34m#metrics {\"StartTime\": 1659467619.4648075, \"EndTime\": 1659467619.464827, \"Dimensions\": {\"Algorithm\": \"Linear Learner\", \"Host\": \"algo-1\", \"Operation\": \"training\", \"epoch\": 1, \"model\": 2}, \"Metrics\": {\"validation_binary_classification_cross_entropy_objective\": {\"sum\": 0.4809910756487935, \"count\": 1, \"min\": 0.4809910756487935, \"max\": 0.4809910756487935}}}\u001b[0m\n",
      "\u001b[34m#metrics {\"StartTime\": 1659467619.4648888, \"EndTime\": 1659467619.4649045, \"Dimensions\": {\"Algorithm\": \"Linear Learner\", \"Host\": \"algo-1\", \"Operation\": \"training\", \"epoch\": 1, \"model\": 3}, \"Metrics\": {\"validation_binary_classification_cross_entropy_objective\": {\"sum\": 0.4825063274469071, \"count\": 1, \"min\": 0.4825063274469071, \"max\": 0.4825063274469071}}}\u001b[0m\n",
      "\u001b[34m#metrics {\"StartTime\": 1659467619.4649608, \"EndTime\": 1659467619.4649782, \"Dimensions\": {\"Algorithm\": \"Linear Learner\", \"Host\": \"algo-1\", \"Operation\": \"training\", \"epoch\": 1, \"model\": 4}, \"Metrics\": {\"validation_binary_classification_cross_entropy_objective\": {\"sum\": 0.4825978021889511, \"count\": 1, \"min\": 0.4825978021889511, \"max\": 0.4825978021889511}}}\u001b[0m\n",
      "\u001b[34m#metrics {\"StartTime\": 1659467619.4650311, \"EndTime\": 1659467619.4650488, \"Dimensions\": {\"Algorithm\": \"Linear Learner\", \"Host\": \"algo-1\", \"Operation\": \"training\", \"epoch\": 1, \"model\": 5}, \"Metrics\": {\"validation_binary_classification_cross_entropy_objective\": {\"sum\": 0.49550319860057906, \"count\": 1, \"min\": 0.49550319860057906, \"max\": 0.49550319860057906}}}\u001b[0m\n",
      "\u001b[34m#metrics {\"StartTime\": 1659467619.4651039, \"EndTime\": 1659467619.4651165, \"Dimensions\": {\"Algorithm\": \"Linear Learner\", \"Host\": \"algo-1\", \"Operation\": \"training\", \"epoch\": 1, \"model\": 6}, \"Metrics\": {\"validation_binary_classification_cross_entropy_objective\": {\"sum\": 0.48259873436523193, \"count\": 1, \"min\": 0.48259873436523193, \"max\": 0.48259873436523193}}}\u001b[0m\n",
      "\u001b[34m#metrics {\"StartTime\": 1659467619.465155, \"EndTime\": 1659467619.4651701, \"Dimensions\": {\"Algorithm\": \"Linear Learner\", \"Host\": \"algo-1\", \"Operation\": \"training\", \"epoch\": 1, \"model\": 7}, \"Metrics\": {\"validation_binary_classification_cross_entropy_objective\": {\"sum\": 0.49550366767407183, \"count\": 1, \"min\": 0.49550366767407183, \"max\": 0.49550366767407183}}}\u001b[0m\n",
      "\u001b[34m#metrics {\"StartTime\": 1659467619.4652228, \"EndTime\": 1659467619.4652393, \"Dimensions\": {\"Algorithm\": \"Linear Learner\", \"Host\": \"algo-1\", \"Operation\": \"training\", \"epoch\": 1, \"model\": 8}, \"Metrics\": {\"validation_binary_classification_cross_entropy_objective\": {\"sum\": 0.48120865652658695, \"count\": 1, \"min\": 0.48120865652658695, \"max\": 0.48120865652658695}}}\u001b[0m\n",
      "\u001b[34m#metrics {\"StartTime\": 1659467619.4653134, \"EndTime\": 1659467619.465326, \"Dimensions\": {\"Algorithm\": \"Linear Learner\", \"Host\": \"algo-1\", \"Operation\": \"training\", \"epoch\": 1, \"model\": 9}, \"Metrics\": {\"validation_binary_classification_cross_entropy_objective\": {\"sum\": 0.48269364935272546, \"count\": 1, \"min\": 0.48269364935272546, \"max\": 0.48269364935272546}}}\u001b[0m\n",
      "\u001b[34m#metrics {\"StartTime\": 1659467619.465356, \"EndTime\": 1659467619.4653645, \"Dimensions\": {\"Algorithm\": \"Linear Learner\", \"Host\": \"algo-1\", \"Operation\": \"training\", \"epoch\": 1, \"model\": 10}, \"Metrics\": {\"validation_binary_classification_cross_entropy_objective\": {\"sum\": 0.4812086979483512, \"count\": 1, \"min\": 0.4812086979483512, \"max\": 0.4812086979483512}}}\u001b[0m\n",
      "\u001b[34m#metrics {\"StartTime\": 1659467619.4653912, \"EndTime\": 1659467619.465399, \"Dimensions\": {\"Algorithm\": \"Linear Learner\", \"Host\": \"algo-1\", \"Operation\": \"training\", \"epoch\": 1, \"model\": 11}, \"Metrics\": {\"validation_binary_classification_cross_entropy_objective\": {\"sum\": 0.4826937542132278, \"count\": 1, \"min\": 0.4826937542132278, \"max\": 0.4826937542132278}}}\u001b[0m\n",
      "\u001b[34m#metrics {\"StartTime\": 1659467619.4654243, \"EndTime\": 1659467619.4654326, \"Dimensions\": {\"Algorithm\": \"Linear Learner\", \"Host\": \"algo-1\", \"Operation\": \"training\", \"epoch\": 1, \"model\": 12}, \"Metrics\": {\"validation_binary_classification_cross_entropy_objective\": {\"sum\": 0.48269321237177076, \"count\": 1, \"min\": 0.48269321237177076, \"max\": 0.48269321237177076}}}\u001b[0m\n",
      "\u001b[34m#metrics {\"StartTime\": 1659467619.4654584, \"EndTime\": 1659467619.4654663, \"Dimensions\": {\"Algorithm\": \"Linear Learner\", \"Host\": \"algo-1\", \"Operation\": \"training\", \"epoch\": 1, \"model\": 13}, \"Metrics\": {\"validation_binary_classification_cross_entropy_objective\": {\"sum\": 0.4946468491507293, \"count\": 1, \"min\": 0.4946468491507293, \"max\": 0.4946468491507293}}}\u001b[0m\n",
      "\u001b[34m#metrics {\"StartTime\": 1659467619.465492, \"EndTime\": 1659467619.4654996, \"Dimensions\": {\"Algorithm\": \"Linear Learner\", \"Host\": \"algo-1\", \"Operation\": \"training\", \"epoch\": 1, \"model\": 14}, \"Metrics\": {\"validation_binary_classification_cross_entropy_objective\": {\"sum\": 0.48269305078957314, \"count\": 1, \"min\": 0.48269305078957314, \"max\": 0.48269305078957314}}}\u001b[0m\n",
      "\u001b[34m#metrics {\"StartTime\": 1659467619.4655364, \"EndTime\": 1659467619.4655516, \"Dimensions\": {\"Algorithm\": \"Linear Learner\", \"Host\": \"algo-1\", \"Operation\": \"training\", \"epoch\": 1, \"model\": 15}, \"Metrics\": {\"validation_binary_classification_cross_entropy_objective\": {\"sum\": 0.4946480210881232, \"count\": 1, \"min\": 0.4946480210881232, \"max\": 0.4946480210881232}}}\u001b[0m\n",
      "\u001b[34m#metrics {\"StartTime\": 1659467619.4656036, \"EndTime\": 1659467619.4656196, \"Dimensions\": {\"Algorithm\": \"Linear Learner\", \"Host\": \"algo-1\", \"Operation\": \"training\", \"epoch\": 1, \"model\": 16}, \"Metrics\": {\"validation_binary_classification_cross_entropy_objective\": {\"sum\": 0.5043151917787981, \"count\": 1, \"min\": 0.5043151917787981, \"max\": 0.5043151917787981}}}\u001b[0m\n",
      "\u001b[34m#metrics {\"StartTime\": 1659467619.4656508, \"EndTime\": 1659467619.4656596, \"Dimensions\": {\"Algorithm\": \"Linear Learner\", \"Host\": \"algo-1\", \"Operation\": \"training\", \"epoch\": 1, \"model\": 17}, \"Metrics\": {\"validation_binary_classification_cross_entropy_objective\": {\"sum\": 0.5055531090053775, \"count\": 1, \"min\": 0.5055531090053775, \"max\": 0.5055531090053775}}}\u001b[0m\n",
      "\u001b[34m#metrics {\"StartTime\": 1659467619.465686, \"EndTime\": 1659467619.465694, \"Dimensions\": {\"Algorithm\": \"Linear Learner\", \"Host\": \"algo-1\", \"Operation\": \"training\", \"epoch\": 1, \"model\": 18}, \"Metrics\": {\"validation_binary_classification_cross_entropy_objective\": {\"sum\": 0.5043154154936421, \"count\": 1, \"min\": 0.5043154154936421, \"max\": 0.5043154154936421}}}\u001b[0m\n",
      "\u001b[34m#metrics {\"StartTime\": 1659467619.4657192, \"EndTime\": 1659467619.4657273, \"Dimensions\": {\"Algorithm\": \"Linear Learner\", \"Host\": \"algo-1\", \"Operation\": \"training\", \"epoch\": 1, \"model\": 19}, \"Metrics\": {\"validation_binary_classification_cross_entropy_objective\": {\"sum\": 0.5055517950771611, \"count\": 1, \"min\": 0.5055517950771611, \"max\": 0.5055517950771611}}}\u001b[0m\n",
      "\u001b[34m#metrics {\"StartTime\": 1659467619.4657526, \"EndTime\": 1659467619.4657605, \"Dimensions\": {\"Algorithm\": \"Linear Learner\", \"Host\": \"algo-1\", \"Operation\": \"training\", \"epoch\": 1, \"model\": 20}, \"Metrics\": {\"validation_binary_classification_cross_entropy_objective\": {\"sum\": 0.5057367234767084, \"count\": 1, \"min\": 0.5057367234767084, \"max\": 0.5057367234767084}}}\u001b[0m\n",
      "\u001b[34m#metrics {\"StartTime\": 1659467619.4657857, \"EndTime\": 1659467619.465794, \"Dimensions\": {\"Algorithm\": \"Linear Learner\", \"Host\": \"algo-1\", \"Operation\": \"training\", \"epoch\": 1, \"model\": 21}, \"Metrics\": {\"validation_binary_classification_cross_entropy_objective\": {\"sum\": 0.5107054182208212, \"count\": 1, \"min\": 0.5107054182208212, \"max\": 0.5107054182208212}}}\u001b[0m\n",
      "\u001b[34m#metrics {\"StartTime\": 1659467619.4658198, \"EndTime\": 1659467619.465828, \"Dimensions\": {\"Algorithm\": \"Linear Learner\", \"Host\": \"algo-1\", \"Operation\": \"training\", \"epoch\": 1, \"model\": 22}, \"Metrics\": {\"validation_binary_classification_cross_entropy_objective\": {\"sum\": 0.5057370195863476, \"count\": 1, \"min\": 0.5057370195863476, \"max\": 0.5057370195863476}}}\u001b[0m\n",
      "\u001b[34m#metrics {\"StartTime\": 1659467619.4658532, \"EndTime\": 1659467619.4658608, \"Dimensions\": {\"Algorithm\": \"Linear Learner\", \"Host\": \"algo-1\", \"Operation\": \"training\", \"epoch\": 1, \"model\": 23}, \"Metrics\": {\"validation_binary_classification_cross_entropy_objective\": {\"sum\": 0.5107037087334143, \"count\": 1, \"min\": 0.5107037087334143, \"max\": 0.5107037087334143}}}\u001b[0m\n",
      "\u001b[34m#metrics {\"StartTime\": 1659467619.4658864, \"EndTime\": 1659467619.4658945, \"Dimensions\": {\"Algorithm\": \"Linear Learner\", \"Host\": \"algo-1\", \"Operation\": \"training\", \"epoch\": 1, \"model\": 24}, \"Metrics\": {\"validation_binary_classification_cross_entropy_objective\": {\"sum\": 0.513723522529105, \"count\": 1, \"min\": 0.513723522529105, \"max\": 0.513723522529105}}}\u001b[0m\n",
      "\u001b[34m#metrics {\"StartTime\": 1659467619.4659195, \"EndTime\": 1659467619.4659274, \"Dimensions\": {\"Algorithm\": \"Linear Learner\", \"Host\": \"algo-1\", \"Operation\": \"training\", \"epoch\": 1, \"model\": 25}, \"Metrics\": {\"validation_binary_classification_cross_entropy_objective\": {\"sum\": 0.5145510538126723, \"count\": 1, \"min\": 0.5145510538126723, \"max\": 0.5145510538126723}}}\u001b[0m\n",
      "\u001b[34m#metrics {\"StartTime\": 1659467619.4659529, \"EndTime\": 1659467619.4659607, \"Dimensions\": {\"Algorithm\": \"Linear Learner\", \"Host\": \"algo-1\", \"Operation\": \"training\", \"epoch\": 1, \"model\": 26}, \"Metrics\": {\"validation_binary_classification_cross_entropy_objective\": {\"sum\": 0.513719191529139, \"count\": 1, \"min\": 0.513719191529139, \"max\": 0.513719191529139}}}\u001b[0m\n",
      "\u001b[34m#metrics {\"StartTime\": 1659467619.465988, \"EndTime\": 1659467619.4659963, \"Dimensions\": {\"Algorithm\": \"Linear Learner\", \"Host\": \"algo-1\", \"Operation\": \"training\", \"epoch\": 1, \"model\": 27}, \"Metrics\": {\"validation_binary_classification_cross_entropy_objective\": {\"sum\": 0.514547285178461, \"count\": 1, \"min\": 0.514547285178461, \"max\": 0.514547285178461}}}\u001b[0m\n",
      "\u001b[34m#metrics {\"StartTime\": 1659467619.4660223, \"EndTime\": 1659467619.4660316, \"Dimensions\": {\"Algorithm\": \"Linear Learner\", \"Host\": \"algo-1\", \"Operation\": \"training\", \"epoch\": 1, \"model\": 28}, \"Metrics\": {\"validation_binary_classification_cross_entropy_objective\": {\"sum\": 0.5139055051321909, \"count\": 1, \"min\": 0.5139055051321909, \"max\": 0.5139055051321909}}}\u001b[0m\n",
      "\u001b[34m#metrics {\"StartTime\": 1659467619.4660814, \"EndTime\": 1659467619.466099, \"Dimensions\": {\"Algorithm\": \"Linear Learner\", \"Host\": \"algo-1\", \"Operation\": \"training\", \"epoch\": 1, \"model\": 29}, \"Metrics\": {\"validation_binary_classification_cross_entropy_objective\": {\"sum\": 0.5138097389460999, \"count\": 1, \"min\": 0.5138097389460999, \"max\": 0.5138097389460999}}}\u001b[0m\n",
      "\u001b[34m#metrics {\"StartTime\": 1659467619.466149, \"EndTime\": 1659467619.4661655, \"Dimensions\": {\"Algorithm\": \"Linear Learner\", \"Host\": \"algo-1\", \"Operation\": \"training\", \"epoch\": 1, \"model\": 30}, \"Metrics\": {\"validation_binary_classification_cross_entropy_objective\": {\"sum\": 0.5138257361434153, \"count\": 1, \"min\": 0.5138257361434153, \"max\": 0.5138257361434153}}}\u001b[0m\n",
      "\u001b[34m#metrics {\"StartTime\": 1659467619.466215, \"EndTime\": 1659467619.466226, \"Dimensions\": {\"Algorithm\": \"Linear Learner\", \"Host\": \"algo-1\", \"Operation\": \"training\", \"epoch\": 1, \"model\": 31}, \"Metrics\": {\"validation_binary_classification_cross_entropy_objective\": {\"sum\": 0.5137969573464674, \"count\": 1, \"min\": 0.5137969573464674, \"max\": 0.5137969573464674}}}\u001b[0m\n",
      "\u001b[34m[08/02/2022 19:13:39 INFO 140621894309696] #quality_metric: host=algo-1, epoch=1, validation binary_classification_cross_entropy_objective <loss>=0.48099120327260775\u001b[0m\n",
      "\u001b[34m[08/02/2022 19:13:39 INFO 140621894309696] #early_stopping_criteria_metric: host=algo-1, epoch=1, criteria=binary_classification_cross_entropy_objective, value=0.4809910756487935\u001b[0m\n",
      "\u001b[34m[08/02/2022 19:13:39 INFO 140621894309696] Saving model for epoch: 1\u001b[0m\n",
      "\u001b[34m[08/02/2022 19:13:39 INFO 140621894309696] Saved checkpoint to \"/tmp/tmpppxzmfsa/mx-mod-0000.params\"\u001b[0m\n",
      "\u001b[34m[08/02/2022 19:13:39 INFO 140621894309696] #progress_metric: host=algo-1, completed 13.333333333333334 % of epochs\u001b[0m\n",
      "\u001b[34m#metrics {\"StartTime\": 1659467552.0821688, \"EndTime\": 1659467619.4737048, \"Dimensions\": {\"Algorithm\": \"Linear Learner\", \"Host\": \"algo-1\", \"Operation\": \"training\", \"epoch\": 1, \"Meta\": \"training_data_iter\"}, \"Metrics\": {\"Total Records Seen\": {\"sum\": 2628944.0, \"count\": 1, \"min\": 2628944, \"max\": 2628944}, \"Total Batches Seen\": {\"sum\": 2630.0, \"count\": 1, \"min\": 2630, \"max\": 2630}, \"Max Records Seen Between Resets\": {\"sum\": 1308472.0, \"count\": 1, \"min\": 1308472, \"max\": 1308472}, \"Max Batches Seen Between Resets\": {\"sum\": 1309.0, \"count\": 1, \"min\": 1309, \"max\": 1309}, \"Reset Count\": {\"sum\": 4.0, \"count\": 1, \"min\": 4, \"max\": 4}, \"Number of Records Since Last Reset\": {\"sum\": 1308472.0, \"count\": 1, \"min\": 1308472, \"max\": 1308472}, \"Number of Batches Since Last Reset\": {\"sum\": 1309.0, \"count\": 1, \"min\": 1309, \"max\": 1309}}}\u001b[0m\n",
      "\u001b[34m[08/02/2022 19:13:39 INFO 140621894309696] #throughput_metric: host=algo-1, train throughput=19415.919588798064 records/second\u001b[0m\n",
      "\u001b[34m[2022-08-02 19:14:41.830] [tensorio] [info] epoch_stats={\"data_pipeline\": \"/opt/ml/input/data/train\", \"epoch\": 7, \"duration\": 62355, \"num_examples\": 1309, \"num_bytes\": 502453248}\u001b[0m\n",
      "\u001b[34m#metrics {\"StartTime\": 1659467681.8315556, \"EndTime\": 1659467681.8316674, \"Dimensions\": {\"Algorithm\": \"Linear Learner\", \"Host\": \"algo-1\", \"Operation\": \"training\", \"epoch\": 2, \"model\": 0}, \"Metrics\": {\"train_binary_classification_cross_entropy_objective\": {\"sum\": 0.48065677264852263, \"count\": 1, \"min\": 0.48065677264852263, \"max\": 0.48065677264852263}}}\u001b[0m\n",
      "\u001b[34m#metrics {\"StartTime\": 1659467681.832228, \"EndTime\": 1659467681.8322978, \"Dimensions\": {\"Algorithm\": \"Linear Learner\", \"Host\": \"algo-1\", \"Operation\": \"training\", \"epoch\": 2, \"model\": 1}, \"Metrics\": {\"train_binary_classification_cross_entropy_objective\": {\"sum\": 0.4816818285134225, \"count\": 1, \"min\": 0.4816818285134225, \"max\": 0.4816818285134225}}}\u001b[0m\n",
      "\u001b[34m#metrics {\"StartTime\": 1659467681.8323574, \"EndTime\": 1659467681.8323717, \"Dimensions\": {\"Algorithm\": \"Linear Learner\", \"Host\": \"algo-1\", \"Operation\": \"training\", \"epoch\": 2, \"model\": 2}, \"Metrics\": {\"train_binary_classification_cross_entropy_objective\": {\"sum\": 0.48065693412570776, \"count\": 1, \"min\": 0.48065693412570776, \"max\": 0.48065693412570776}}}\u001b[0m\n",
      "\u001b[34m#metrics {\"StartTime\": 1659467681.8324268, \"EndTime\": 1659467681.8324459, \"Dimensions\": {\"Algorithm\": \"Linear Learner\", \"Host\": \"algo-1\", \"Operation\": \"training\", \"epoch\": 2, \"model\": 3}, \"Metrics\": {\"train_binary_classification_cross_entropy_objective\": {\"sum\": 0.48168167636883, \"count\": 1, \"min\": 0.48168167636883, \"max\": 0.48168167636883}}}\u001b[0m\n",
      "\u001b[34m#metrics {\"StartTime\": 1659467681.8325117, \"EndTime\": 1659467681.8325312, \"Dimensions\": {\"Algorithm\": \"Linear Learner\", \"Host\": \"algo-1\", \"Operation\": \"training\", \"epoch\": 2, \"model\": 4}, \"Metrics\": {\"train_binary_classification_cross_entropy_objective\": {\"sum\": 0.481779950739776, \"count\": 1, \"min\": 0.481779950739776, \"max\": 0.481779950739776}}}\u001b[0m\n",
      "\u001b[34m#metrics {\"StartTime\": 1659467681.832682, \"EndTime\": 1659467681.8327107, \"Dimensions\": {\"Algorithm\": \"Linear Learner\", \"Host\": \"algo-1\", \"Operation\": \"training\", \"epoch\": 2, \"model\": 5}, \"Metrics\": {\"train_binary_classification_cross_entropy_objective\": {\"sum\": 0.49853103754352723, \"count\": 1, \"min\": 0.49853103754352723, \"max\": 0.49853103754352723}}}\u001b[0m\n",
      "\u001b[34m#metrics {\"StartTime\": 1659467681.8327703, \"EndTime\": 1659467681.832788, \"Dimensions\": {\"Algorithm\": \"Linear Learner\", \"Host\": \"algo-1\", \"Operation\": \"training\", \"epoch\": 2, \"model\": 6}, \"Metrics\": {\"train_binary_classification_cross_entropy_objective\": {\"sum\": 0.481779902746918, \"count\": 1, \"min\": 0.481779902746918, \"max\": 0.481779902746918}}}\u001b[0m\n",
      "\u001b[34m#metrics {\"StartTime\": 1659467681.8328397, \"EndTime\": 1659467681.8328567, \"Dimensions\": {\"Algorithm\": \"Linear Learner\", \"Host\": \"algo-1\", \"Operation\": \"training\", \"epoch\": 2, \"model\": 7}, \"Metrics\": {\"train_binary_classification_cross_entropy_objective\": {\"sum\": 0.498531155460836, \"count\": 1, \"min\": 0.498531155460836, \"max\": 0.498531155460836}}}\u001b[0m\n",
      "\u001b[34m#metrics {\"StartTime\": 1659467681.8329158, \"EndTime\": 1659467681.8329327, \"Dimensions\": {\"Algorithm\": \"Linear Learner\", \"Host\": \"algo-1\", \"Operation\": \"training\", \"epoch\": 2, \"model\": 8}, \"Metrics\": {\"train_binary_classification_cross_entropy_objective\": {\"sum\": 0.4809278109255916, \"count\": 1, \"min\": 0.4809278109255916, \"max\": 0.4809278109255916}}}\u001b[0m\n",
      "\u001b[34m#metrics {\"StartTime\": 1659467681.8329866, \"EndTime\": 1659467681.8330045, \"Dimensions\": {\"Algorithm\": \"Linear Learner\", \"Host\": \"algo-1\", \"Operation\": \"training\", \"epoch\": 2, \"model\": 9}, \"Metrics\": {\"train_binary_classification_cross_entropy_objective\": {\"sum\": 0.4818934593084026, \"count\": 1, \"min\": 0.4818934593084026, \"max\": 0.4818934593084026}}}\u001b[0m\n",
      "\u001b[34m#metrics {\"StartTime\": 1659467681.8330972, \"EndTime\": 1659467681.8331177, \"Dimensions\": {\"Algorithm\": \"Linear Learner\", \"Host\": \"algo-1\", \"Operation\": \"training\", \"epoch\": 2, \"model\": 10}, \"Metrics\": {\"train_binary_classification_cross_entropy_objective\": {\"sum\": 0.4809278252977844, \"count\": 1, \"min\": 0.4809278252977844, \"max\": 0.4809278252977844}}}\u001b[0m\n",
      "\u001b[34m#metrics {\"StartTime\": 1659467681.8331766, \"EndTime\": 1659467681.8331945, \"Dimensions\": {\"Algorithm\": \"Linear Learner\", \"Host\": \"algo-1\", \"Operation\": \"training\", \"epoch\": 2, \"model\": 11}, \"Metrics\": {\"train_binary_classification_cross_entropy_objective\": {\"sum\": 0.48189346836101754, \"count\": 1, \"min\": 0.48189346836101754, \"max\": 0.48189346836101754}}}\u001b[0m\n",
      "\u001b[34m#metrics {\"StartTime\": 1659467681.8332872, \"EndTime\": 1659467681.833306, \"Dimensions\": {\"Algorithm\": \"Linear Learner\", \"Host\": \"algo-1\", \"Operation\": \"training\", \"epoch\": 2, \"model\": 12}, \"Metrics\": {\"train_binary_classification_cross_entropy_objective\": {\"sum\": 0.4819820661165663, \"count\": 1, \"min\": 0.4819820661165663, \"max\": 0.4819820661165663}}}\u001b[0m\n",
      "\u001b[34m#metrics {\"StartTime\": 1659467681.8333623, \"EndTime\": 1659467681.8333795, \"Dimensions\": {\"Algorithm\": \"Linear Learner\", \"Host\": \"algo-1\", \"Operation\": \"training\", \"epoch\": 2, \"model\": 13}, \"Metrics\": {\"train_binary_classification_cross_entropy_objective\": {\"sum\": 0.4975586700906083, \"count\": 1, \"min\": 0.4975586700906083, \"max\": 0.4975586700906083}}}\u001b[0m\n",
      "\u001b[34m#metrics {\"StartTime\": 1659467681.833433, \"EndTime\": 1659467681.833449, \"Dimensions\": {\"Algorithm\": \"Linear Learner\", \"Host\": \"algo-1\", \"Operation\": \"training\", \"epoch\": 2, \"model\": 14}, \"Metrics\": {\"train_binary_classification_cross_entropy_objective\": {\"sum\": 0.481982107413289, \"count\": 1, \"min\": 0.481982107413289, \"max\": 0.481982107413289}}}\u001b[0m\n",
      "\u001b[34m#metrics {\"StartTime\": 1659467681.8335047, \"EndTime\": 1659467681.8335223, \"Dimensions\": {\"Algorithm\": \"Linear Learner\", \"Host\": \"algo-1\", \"Operation\": \"training\", \"epoch\": 2, \"model\": 15}, \"Metrics\": {\"train_binary_classification_cross_entropy_objective\": {\"sum\": 0.4975586091954409, \"count\": 1, \"min\": 0.4975586091954409, \"max\": 0.4975586091954409}}}\u001b[0m\n",
      "\u001b[34m#metrics {\"StartTime\": 1659467681.833591, \"EndTime\": 1659467681.833612, \"Dimensions\": {\"Algorithm\": \"Linear Learner\", \"Host\": \"algo-1\", \"Operation\": \"training\", \"epoch\": 2, \"model\": 16}, \"Metrics\": {\"train_binary_classification_cross_entropy_objective\": {\"sum\": 0.5042390645578367, \"count\": 1, \"min\": 0.5042390645578367, \"max\": 0.5042390645578367}}}\u001b[0m\n",
      "\u001b[34m#metrics {\"StartTime\": 1659467681.8336725, \"EndTime\": 1659467681.833691, \"Dimensions\": {\"Algorithm\": \"Linear Learner\", \"Host\": \"algo-1\", \"Operation\": \"training\", \"epoch\": 2, \"model\": 17}, \"Metrics\": {\"train_binary_classification_cross_entropy_objective\": {\"sum\": 0.5044994981164962, \"count\": 1, \"min\": 0.5044994981164962, \"max\": 0.5044994981164962}}}\u001b[0m\n",
      "\u001b[34m#metrics {\"StartTime\": 1659467681.8337486, \"EndTime\": 1659467681.8337665, \"Dimensions\": {\"Algorithm\": \"Linear Learner\", \"Host\": \"algo-1\", \"Operation\": \"training\", \"epoch\": 2, \"model\": 18}, \"Metrics\": {\"train_binary_classification_cross_entropy_objective\": {\"sum\": 0.5042390579083644, \"count\": 1, \"min\": 0.5042390579083644, \"max\": 0.5042390579083644}}}\u001b[0m\n",
      "\u001b[34m#metrics {\"StartTime\": 1659467681.8338203, \"EndTime\": 1659467681.8338387, \"Dimensions\": {\"Algorithm\": \"Linear Learner\", \"Host\": \"algo-1\", \"Operation\": \"training\", \"epoch\": 2, \"model\": 19}, \"Metrics\": {\"train_binary_classification_cross_entropy_objective\": {\"sum\": 0.5044994621160198, \"count\": 1, \"min\": 0.5044994621160198, \"max\": 0.5044994621160198}}}\u001b[0m\n",
      "\u001b[34m#metrics {\"StartTime\": 1659467681.833906, \"EndTime\": 1659467681.8339238, \"Dimensions\": {\"Algorithm\": \"Linear Learner\", \"Host\": \"algo-1\", \"Operation\": \"training\", \"epoch\": 2, \"model\": 20}, \"Metrics\": {\"train_binary_classification_cross_entropy_objective\": {\"sum\": 0.5044893860189922, \"count\": 1, \"min\": 0.5044893860189922, \"max\": 0.5044893860189922}}}\u001b[0m\n",
      "\u001b[34m#metrics {\"StartTime\": 1659467681.8340027, \"EndTime\": 1659467681.8340216, \"Dimensions\": {\"Algorithm\": \"Linear Learner\", \"Host\": \"algo-1\", \"Operation\": \"training\", \"epoch\": 2, \"model\": 21}, \"Metrics\": {\"train_binary_classification_cross_entropy_objective\": {\"sum\": 0.5076237809767417, \"count\": 1, \"min\": 0.5076237809767417, \"max\": 0.5076237809767417}}}\u001b[0m\n",
      "\u001b[34m#metrics {\"StartTime\": 1659467681.834094, \"EndTime\": 1659467681.8341184, \"Dimensions\": {\"Algorithm\": \"Linear Learner\", \"Host\": \"algo-1\", \"Operation\": \"training\", \"epoch\": 2, \"model\": 22}, \"Metrics\": {\"train_binary_classification_cross_entropy_objective\": {\"sum\": 0.5044894710622432, \"count\": 1, \"min\": 0.5044894710622432, \"max\": 0.5044894710622432}}}\u001b[0m\n",
      "\u001b[34m#metrics {\"StartTime\": 1659467681.8341792, \"EndTime\": 1659467681.8341982, \"Dimensions\": {\"Algorithm\": \"Linear Learner\", \"Host\": \"algo-1\", \"Operation\": \"training\", \"epoch\": 2, \"model\": 23}, \"Metrics\": {\"train_binary_classification_cross_entropy_objective\": {\"sum\": 0.5076237837065251, \"count\": 1, \"min\": 0.5076237837065251, \"max\": 0.5076237837065251}}}\u001b[0m\n",
      "\u001b[34m#metrics {\"StartTime\": 1659467681.8342526, \"EndTime\": 1659467681.8342671, \"Dimensions\": {\"Algorithm\": \"Linear Learner\", \"Host\": \"algo-1\", \"Operation\": \"training\", \"epoch\": 2, \"model\": 24}, \"Metrics\": {\"train_binary_classification_cross_entropy_objective\": {\"sum\": 0.5137268959068741, \"count\": 1, \"min\": 0.5137268959068741, \"max\": 0.5137268959068741}}}\u001b[0m\n",
      "\u001b[34m#metrics {\"StartTime\": 1659467681.834323, \"EndTime\": 1659467681.8343394, \"Dimensions\": {\"Algorithm\": \"Linear Learner\", \"Host\": \"algo-1\", \"Operation\": \"training\", \"epoch\": 2, \"model\": 25}, \"Metrics\": {\"train_binary_classification_cross_entropy_objective\": {\"sum\": 0.5138339309692382, \"count\": 1, \"min\": 0.5138339309692382, \"max\": 0.5138339309692382}}}\u001b[0m\n",
      "\u001b[34m#metrics {\"StartTime\": 1659467681.8343897, \"EndTime\": 1659467681.8344054, \"Dimensions\": {\"Algorithm\": \"Linear Learner\", \"Host\": \"algo-1\", \"Operation\": \"training\", \"epoch\": 2, \"model\": 26}, \"Metrics\": {\"train_binary_classification_cross_entropy_objective\": {\"sum\": 0.5137266689615512, \"count\": 1, \"min\": 0.5137266689615512, \"max\": 0.5137266689615512}}}\u001b[0m\n",
      "\u001b[34m#metrics {\"StartTime\": 1659467681.834457, \"EndTime\": 1659467681.83447, \"Dimensions\": {\"Algorithm\": \"Linear Learner\", \"Host\": \"algo-1\", \"Operation\": \"training\", \"epoch\": 2, \"model\": 27}, \"Metrics\": {\"train_binary_classification_cross_entropy_objective\": {\"sum\": 0.5138339034614213, \"count\": 1, \"min\": 0.5138339034614213, \"max\": 0.5138339034614213}}}\u001b[0m\n",
      "\u001b[34m#metrics {\"StartTime\": 1659467681.8345003, \"EndTime\": 1659467681.8345096, \"Dimensions\": {\"Algorithm\": \"Linear Learner\", \"Host\": \"algo-1\", \"Operation\": \"training\", \"epoch\": 2, \"model\": 28}, \"Metrics\": {\"train_binary_classification_cross_entropy_objective\": {\"sum\": 0.5138284239229441, \"count\": 1, \"min\": 0.5138284239229441, \"max\": 0.5138284239229441}}}\u001b[0m\n",
      "\u001b[34m#metrics {\"StartTime\": 1659467681.8345554, \"EndTime\": 1659467681.8345668, \"Dimensions\": {\"Algorithm\": \"Linear Learner\", \"Host\": \"algo-1\", \"Operation\": \"training\", \"epoch\": 2, \"model\": 29}, \"Metrics\": {\"train_binary_classification_cross_entropy_objective\": {\"sum\": 0.5150280738853897, \"count\": 1, \"min\": 0.5150280738853897, \"max\": 0.5150280738853897}}}\u001b[0m\n",
      "\u001b[34m#metrics {\"StartTime\": 1659467681.8346074, \"EndTime\": 1659467681.8346224, \"Dimensions\": {\"Algorithm\": \"Linear Learner\", \"Host\": \"algo-1\", \"Operation\": \"training\", \"epoch\": 2, \"model\": 30}, \"Metrics\": {\"train_binary_classification_cross_entropy_objective\": {\"sum\": 0.5138282294550438, \"count\": 1, \"min\": 0.5138282294550438, \"max\": 0.5138282294550438}}}\u001b[0m\n",
      "\u001b[34m#metrics {\"StartTime\": 1659467681.8346806, \"EndTime\": 1659467681.8346982, \"Dimensions\": {\"Algorithm\": \"Linear Learner\", \"Host\": \"algo-1\", \"Operation\": \"training\", \"epoch\": 2, \"model\": 31}, \"Metrics\": {\"train_binary_classification_cross_entropy_objective\": {\"sum\": 0.5150279785296239, \"count\": 1, \"min\": 0.5150279785296239, \"max\": 0.5150279785296239}}}\u001b[0m\n",
      "\u001b[34m[08/02/2022 19:14:41 INFO 140621894309696] #quality_metric: host=algo-1, epoch=2, train binary_classification_cross_entropy_objective <loss>=0.48065677264852263\u001b[0m\n",
      "\u001b[34m[2022-08-02 19:14:47.366] [tensorio] [info] epoch_stats={\"data_pipeline\": \"/opt/ml/input/data/validation\", \"epoch\": 8, \"duration\": 5495, \"num_examples\": 164, \"num_bytes\": 62806656}\u001b[0m\n",
      "\u001b[34m#metrics {\"StartTime\": 1659467687.376358, \"EndTime\": 1659467687.3764188, \"Dimensions\": {\"Algorithm\": \"Linear Learner\", \"Host\": \"algo-1\", \"Operation\": \"training\", \"epoch\": 2, \"model\": 0}, \"Metrics\": {\"validation_binary_classification_cross_entropy_objective\": {\"sum\": 0.48092655192170236, \"count\": 1, \"min\": 0.48092655192170236, \"max\": 0.48092655192170236}}}\u001b[0m\n",
      "\u001b[34m#metrics {\"StartTime\": 1659467687.3765557, \"EndTime\": 1659467687.3765821, \"Dimensions\": {\"Algorithm\": \"Linear Learner\", \"Host\": \"algo-1\", \"Operation\": \"training\", \"epoch\": 2, \"model\": 1}, \"Metrics\": {\"validation_binary_classification_cross_entropy_objective\": {\"sum\": 0.48236745538462517, \"count\": 1, \"min\": 0.48236745538462517, \"max\": 0.48236745538462517}}}\u001b[0m\n",
      "\u001b[34m#metrics {\"StartTime\": 1659467687.376646, \"EndTime\": 1659467687.376665, \"Dimensions\": {\"Algorithm\": \"Linear Learner\", \"Host\": \"algo-1\", \"Operation\": \"training\", \"epoch\": 2, \"model\": 2}, \"Metrics\": {\"validation_binary_classification_cross_entropy_objective\": {\"sum\": 0.48092644165024884, \"count\": 1, \"min\": 0.48092644165024884, \"max\": 0.48092644165024884}}}\u001b[0m\n",
      "\u001b[34m#metrics {\"StartTime\": 1659467687.376723, \"EndTime\": 1659467687.37674, \"Dimensions\": {\"Algorithm\": \"Linear Learner\", \"Host\": \"algo-1\", \"Operation\": \"training\", \"epoch\": 2, \"model\": 3}, \"Metrics\": {\"validation_binary_classification_cross_entropy_objective\": {\"sum\": 0.4823676095034418, \"count\": 1, \"min\": 0.4823676095034418, \"max\": 0.4823676095034418}}}\u001b[0m\n",
      "\u001b[34m#metrics {\"StartTime\": 1659467687.3767965, \"EndTime\": 1659467687.3768144, \"Dimensions\": {\"Algorithm\": \"Linear Learner\", \"Host\": \"algo-1\", \"Operation\": \"training\", \"epoch\": 2, \"model\": 4}, \"Metrics\": {\"validation_binary_classification_cross_entropy_objective\": {\"sum\": 0.4815480978092911, \"count\": 1, \"min\": 0.4815480978092911, \"max\": 0.4815480978092911}}}\u001b[0m\n",
      "\u001b[34m#metrics {\"StartTime\": 1659467687.3768709, \"EndTime\": 1659467687.3768883, \"Dimensions\": {\"Algorithm\": \"Linear Learner\", \"Host\": \"algo-1\", \"Operation\": \"training\", \"epoch\": 2, \"model\": 5}, \"Metrics\": {\"validation_binary_classification_cross_entropy_objective\": {\"sum\": 0.4941205253687603, \"count\": 1, \"min\": 0.4941205253687603, \"max\": 0.4941205253687603}}}\u001b[0m\n",
      "\u001b[34m#metrics {\"StartTime\": 1659467687.3769429, \"EndTime\": 1659467687.3769612, \"Dimensions\": {\"Algorithm\": \"Linear Learner\", \"Host\": \"algo-1\", \"Operation\": \"training\", \"epoch\": 2, \"model\": 6}, \"Metrics\": {\"validation_binary_classification_cross_entropy_objective\": {\"sum\": 0.4815480373559054, \"count\": 1, \"min\": 0.4815480373559054, \"max\": 0.4815480373559054}}}\u001b[0m\n",
      "\u001b[34m#metrics {\"StartTime\": 1659467687.3770149, \"EndTime\": 1659467687.3770325, \"Dimensions\": {\"Algorithm\": \"Linear Learner\", \"Host\": \"algo-1\", \"Operation\": \"training\", \"epoch\": 2, \"model\": 7}, \"Metrics\": {\"validation_binary_classification_cross_entropy_objective\": {\"sum\": 0.49412070430331856, \"count\": 1, \"min\": 0.49412070430331856, \"max\": 0.49412070430331856}}}\u001b[0m\n",
      "\u001b[34m#metrics {\"StartTime\": 1659467687.3770857, \"EndTime\": 1659467687.377102, \"Dimensions\": {\"Algorithm\": \"Linear Learner\", \"Host\": \"algo-1\", \"Operation\": \"training\", \"epoch\": 2, \"model\": 8}, \"Metrics\": {\"validation_binary_classification_cross_entropy_objective\": {\"sum\": 0.4811375288268611, \"count\": 1, \"min\": 0.4811375288268611, \"max\": 0.4811375288268611}}}\u001b[0m\n",
      "\u001b[34m#metrics {\"StartTime\": 1659467687.3771544, \"EndTime\": 1659467687.3771713, \"Dimensions\": {\"Algorithm\": \"Linear Learner\", \"Host\": \"algo-1\", \"Operation\": \"training\", \"epoch\": 2, \"model\": 9}, \"Metrics\": {\"validation_binary_classification_cross_entropy_objective\": {\"sum\": 0.48257013151748995, \"count\": 1, \"min\": 0.48257013151748995, \"max\": 0.48257013151748995}}}\u001b[0m\n",
      "\u001b[34m#metrics {\"StartTime\": 1659467687.3772268, \"EndTime\": 1659467687.377244, \"Dimensions\": {\"Algorithm\": \"Linear Learner\", \"Host\": \"algo-1\", \"Operation\": \"training\", \"epoch\": 2, \"model\": 10}, \"Metrics\": {\"validation_binary_classification_cross_entropy_objective\": {\"sum\": 0.4811375818168659, \"count\": 1, \"min\": 0.4811375818168659, \"max\": 0.4811375818168659}}}\u001b[0m\n",
      "\u001b[34m#metrics {\"StartTime\": 1659467687.3773208, \"EndTime\": 1659467687.3773384, \"Dimensions\": {\"Algorithm\": \"Linear Learner\", \"Host\": \"algo-1\", \"Operation\": \"training\", \"epoch\": 2, \"model\": 11}, \"Metrics\": {\"validation_binary_classification_cross_entropy_objective\": {\"sum\": 0.4825701533478792, \"count\": 1, \"min\": 0.4825701533478792, \"max\": 0.4825701533478792}}}\u001b[0m\n",
      "\u001b[34m#metrics {\"StartTime\": 1659467687.3773916, \"EndTime\": 1659467687.377409, \"Dimensions\": {\"Algorithm\": \"Linear Learner\", \"Host\": \"algo-1\", \"Operation\": \"training\", \"epoch\": 2, \"model\": 12}, \"Metrics\": {\"validation_binary_classification_cross_entropy_objective\": {\"sum\": 0.4817790428036003, \"count\": 1, \"min\": 0.4817790428036003, \"max\": 0.4817790428036003}}}\u001b[0m\n",
      "\u001b[34m#metrics {\"StartTime\": 1659467687.377464, \"EndTime\": 1659467687.3774812, \"Dimensions\": {\"Algorithm\": \"Linear Learner\", \"Host\": \"algo-1\", \"Operation\": \"training\", \"epoch\": 2, \"model\": 13}, \"Metrics\": {\"validation_binary_classification_cross_entropy_objective\": {\"sum\": 0.49313219908770495, \"count\": 1, \"min\": 0.49313219908770495, \"max\": 0.49313219908770495}}}\u001b[0m\n",
      "\u001b[34m#metrics {\"StartTime\": 1659467687.3775325, \"EndTime\": 1659467687.3775492, \"Dimensions\": {\"Algorithm\": \"Linear Learner\", \"Host\": \"algo-1\", \"Operation\": \"training\", \"epoch\": 2, \"model\": 14}, \"Metrics\": {\"validation_binary_classification_cross_entropy_objective\": {\"sum\": 0.48177907135103243, \"count\": 1, \"min\": 0.48177907135103243, \"max\": 0.48177907135103243}}}\u001b[0m\n",
      "\u001b[34m#metrics {\"StartTime\": 1659467687.3775983, \"EndTime\": 1659467687.3776155, \"Dimensions\": {\"Algorithm\": \"Linear Learner\", \"Host\": \"algo-1\", \"Operation\": \"training\", \"epoch\": 2, \"model\": 15}, \"Metrics\": {\"validation_binary_classification_cross_entropy_objective\": {\"sum\": 0.4931323093591585, \"count\": 1, \"min\": 0.4931323093591585, \"max\": 0.4931323093591585}}}\u001b[0m\n",
      "\u001b[34m#metrics {\"StartTime\": 1659467687.3776693, \"EndTime\": 1659467687.3776884, \"Dimensions\": {\"Algorithm\": \"Linear Learner\", \"Host\": \"algo-1\", \"Operation\": \"training\", \"epoch\": 2, \"model\": 16}, \"Metrics\": {\"validation_binary_classification_cross_entropy_objective\": {\"sum\": 0.5042140756546567, \"count\": 1, \"min\": 0.5042140756546567, \"max\": 0.5042140756546567}}}\u001b[0m\n",
      "\u001b[34m#metrics {\"StartTime\": 1659467687.377743, \"EndTime\": 1659467687.3777611, \"Dimensions\": {\"Algorithm\": \"Linear Learner\", \"Host\": \"algo-1\", \"Operation\": \"training\", \"epoch\": 2, \"model\": 17}, \"Metrics\": {\"validation_binary_classification_cross_entropy_objective\": {\"sum\": 0.5053848192807383, \"count\": 1, \"min\": 0.5053848192807383, \"max\": 0.5053848192807383}}}\u001b[0m\n",
      "\u001b[34m#metrics {\"StartTime\": 1659467687.3778157, \"EndTime\": 1659467687.3778331, \"Dimensions\": {\"Algorithm\": \"Linear Learner\", \"Host\": \"algo-1\", \"Operation\": \"training\", \"epoch\": 2, \"model\": 18}, \"Metrics\": {\"validation_binary_classification_cross_entropy_objective\": {\"sum\": 0.5042147755332055, \"count\": 1, \"min\": 0.5042147755332055, \"max\": 0.5042147755332055}}}\u001b[0m\n",
      "\u001b[34m#metrics {\"StartTime\": 1659467687.3778863, \"EndTime\": 1659467687.3779044, \"Dimensions\": {\"Algorithm\": \"Linear Learner\", \"Host\": \"algo-1\", \"Operation\": \"training\", \"epoch\": 2, \"model\": 19}, \"Metrics\": {\"validation_binary_classification_cross_entropy_objective\": {\"sum\": 0.5053847244958003, \"count\": 1, \"min\": 0.5053847244958003, \"max\": 0.5053847244958003}}}\u001b[0m\n",
      "\u001b[34m#metrics {\"StartTime\": 1659467687.3780158, \"EndTime\": 1659467687.378037, \"Dimensions\": {\"Algorithm\": \"Linear Learner\", \"Host\": \"algo-1\", \"Operation\": \"training\", \"epoch\": 2, \"model\": 20}, \"Metrics\": {\"validation_binary_classification_cross_entropy_objective\": {\"sum\": 0.5045232454642228, \"count\": 1, \"min\": 0.5045232454642228, \"max\": 0.5045232454642228}}}\u001b[0m\n",
      "\u001b[34m#metrics {\"StartTime\": 1659467687.378091, \"EndTime\": 1659467687.3781095, \"Dimensions\": {\"Algorithm\": \"Linear Learner\", \"Host\": \"algo-1\", \"Operation\": \"training\", \"epoch\": 2, \"model\": 21}, \"Metrics\": {\"validation_binary_classification_cross_entropy_objective\": {\"sum\": 0.5108229942718969, \"count\": 1, \"min\": 0.5108229942718969, \"max\": 0.5108229942718969}}}\u001b[0m\n",
      "\u001b[34m#metrics {\"StartTime\": 1659467687.3781648, \"EndTime\": 1659467687.378183, \"Dimensions\": {\"Algorithm\": \"Linear Learner\", \"Host\": \"algo-1\", \"Operation\": \"training\", \"epoch\": 2, \"model\": 22}, \"Metrics\": {\"validation_binary_classification_cross_entropy_objective\": {\"sum\": 0.504523212065593, \"count\": 1, \"min\": 0.504523212065593, \"max\": 0.504523212065593}}}\u001b[0m\n",
      "\u001b[34m#metrics {\"StartTime\": 1659467687.3782377, \"EndTime\": 1659467687.3782554, \"Dimensions\": {\"Algorithm\": \"Linear Learner\", \"Host\": \"algo-1\", \"Operation\": \"training\", \"epoch\": 2, \"model\": 23}, \"Metrics\": {\"validation_binary_classification_cross_entropy_objective\": {\"sum\": 0.5108232332866719, \"count\": 1, \"min\": 0.5108232332866719, \"max\": 0.5108232332866719}}}\u001b[0m\n",
      "\u001b[34m#metrics {\"StartTime\": 1659467687.378305, \"EndTime\": 1659467687.378322, \"Dimensions\": {\"Algorithm\": \"Linear Learner\", \"Host\": \"algo-1\", \"Operation\": \"training\", \"epoch\": 2, \"model\": 24}, \"Metrics\": {\"validation_binary_classification_cross_entropy_objective\": {\"sum\": 0.5137170937593382, \"count\": 1, \"min\": 0.5137170937593382, \"max\": 0.5137170937593382}}}\u001b[0m\n",
      "\u001b[34m#metrics {\"StartTime\": 1659467687.378453, \"EndTime\": 1659467687.3784752, \"Dimensions\": {\"Algorithm\": \"Linear Learner\", \"Host\": \"algo-1\", \"Operation\": \"training\", \"epoch\": 2, \"model\": 25}, \"Metrics\": {\"validation_binary_classification_cross_entropy_objective\": {\"sum\": 0.5144478919758122, \"count\": 1, \"min\": 0.5144478919758122, \"max\": 0.5144478919758122}}}\u001b[0m\n",
      "\u001b[34m#metrics {\"StartTime\": 1659467687.3785813, \"EndTime\": 1659467687.378601, \"Dimensions\": {\"Algorithm\": \"Linear Learner\", \"Host\": \"algo-1\", \"Operation\": \"training\", \"epoch\": 2, \"model\": 26}, \"Metrics\": {\"validation_binary_classification_cross_entropy_objective\": {\"sum\": 0.5137210566280388, \"count\": 1, \"min\": 0.5137210566280388, \"max\": 0.5137210566280388}}}\u001b[0m\n",
      "\u001b[34m#metrics {\"StartTime\": 1659467687.3787007, \"EndTime\": 1659467687.3787212, \"Dimensions\": {\"Algorithm\": \"Linear Learner\", \"Host\": \"algo-1\", \"Operation\": \"training\", \"epoch\": 2, \"model\": 27}, \"Metrics\": {\"validation_binary_classification_cross_entropy_objective\": {\"sum\": 0.5144873187783633, \"count\": 1, \"min\": 0.5144873187783633, \"max\": 0.5144873187783633}}}\u001b[0m\n",
      "\u001b[34m#metrics {\"StartTime\": 1659467687.3788195, \"EndTime\": 1659467687.3788414, \"Dimensions\": {\"Algorithm\": \"Linear Learner\", \"Host\": \"algo-1\", \"Operation\": \"training\", \"epoch\": 2, \"model\": 28}, \"Metrics\": {\"validation_binary_classification_cross_entropy_objective\": {\"sum\": 0.5139540706581321, \"count\": 1, \"min\": 0.5139540706581321, \"max\": 0.5139540706581321}}}\u001b[0m\n",
      "\u001b[34m#metrics {\"StartTime\": 1659467687.3789384, \"EndTime\": 1659467687.3789604, \"Dimensions\": {\"Algorithm\": \"Linear Learner\", \"Host\": \"algo-1\", \"Operation\": \"training\", \"epoch\": 2, \"model\": 29}, \"Metrics\": {\"validation_binary_classification_cross_entropy_objective\": {\"sum\": 0.5139404208807105, \"count\": 1, \"min\": 0.5139404208807105, \"max\": 0.5139404208807105}}}\u001b[0m\n",
      "\u001b[34m#metrics {\"StartTime\": 1659467687.3790767, \"EndTime\": 1659467687.3791015, \"Dimensions\": {\"Algorithm\": \"Linear Learner\", \"Host\": \"algo-1\", \"Operation\": \"training\", \"epoch\": 2, \"model\": 30}, \"Metrics\": {\"validation_binary_classification_cross_entropy_objective\": {\"sum\": 0.5139545548449713, \"count\": 1, \"min\": 0.5139545548449713, \"max\": 0.5139545548449713}}}\u001b[0m\n",
      "\u001b[34m#metrics {\"StartTime\": 1659467687.3791585, \"EndTime\": 1659467687.3791764, \"Dimensions\": {\"Algorithm\": \"Linear Learner\", \"Host\": \"algo-1\", \"Operation\": \"training\", \"epoch\": 2, \"model\": 31}, \"Metrics\": {\"validation_binary_classification_cross_entropy_objective\": {\"sum\": 0.5139404216270486, \"count\": 1, \"min\": 0.5139404216270486, \"max\": 0.5139404216270486}}}\u001b[0m\n",
      "\u001b[34m[08/02/2022 19:14:47 INFO 140621894309696] #quality_metric: host=algo-1, epoch=2, validation binary_classification_cross_entropy_objective <loss>=0.48092655192170236\u001b[0m\n",
      "\u001b[34m[08/02/2022 19:14:47 INFO 140621894309696] #early_stopping_criteria_metric: host=algo-1, epoch=2, criteria=binary_classification_cross_entropy_objective, value=0.48092644165024884\u001b[0m\n",
      "\u001b[34m[08/02/2022 19:14:47 INFO 140621894309696] Saving model for epoch: 2\u001b[0m\n",
      "\u001b[34m[08/02/2022 19:14:47 INFO 140621894309696] Saved checkpoint to \"/tmp/tmpxdlym1fl/mx-mod-0000.params\"\u001b[0m\n",
      "\u001b[34m[08/02/2022 19:14:47 INFO 140621894309696] #progress_metric: host=algo-1, completed 20.0 % of epochs\u001b[0m\n",
      "\u001b[34m#metrics {\"StartTime\": 1659467619.474907, \"EndTime\": 1659467687.3869379, \"Dimensions\": {\"Algorithm\": \"Linear Learner\", \"Host\": \"algo-1\", \"Operation\": \"training\", \"epoch\": 2, \"Meta\": \"training_data_iter\"}, \"Metrics\": {\"Total Records Seen\": {\"sum\": 3937416.0, \"count\": 1, \"min\": 3937416, \"max\": 3937416}, \"Total Batches Seen\": {\"sum\": 3939.0, \"count\": 1, \"min\": 3939, \"max\": 3939}, \"Max Records Seen Between Resets\": {\"sum\": 1308472.0, \"count\": 1, \"min\": 1308472, \"max\": 1308472}, \"Max Batches Seen Between Resets\": {\"sum\": 1309.0, \"count\": 1, \"min\": 1309, \"max\": 1309}, \"Reset Count\": {\"sum\": 5.0, \"count\": 1, \"min\": 5, \"max\": 5}, \"Number of Records Since Last Reset\": {\"sum\": 1308472.0, \"count\": 1, \"min\": 1308472, \"max\": 1308472}, \"Number of Batches Since Last Reset\": {\"sum\": 1309.0, \"count\": 1, \"min\": 1309, \"max\": 1309}}}\u001b[0m\n",
      "\u001b[34m[08/02/2022 19:14:47 INFO 140621894309696] #throughput_metric: host=algo-1, train throughput=19267.11924028478 records/second\u001b[0m\n",
      "\u001b[34m[2022-08-02 19:15:49.425] [tensorio] [info] epoch_stats={\"data_pipeline\": \"/opt/ml/input/data/train\", \"epoch\": 9, \"duration\": 62033, \"num_examples\": 1309, \"num_bytes\": 502453248}\u001b[0m\n",
      "\u001b[34m#metrics {\"StartTime\": 1659467749.425065, \"EndTime\": 1659467749.425168, \"Dimensions\": {\"Algorithm\": \"Linear Learner\", \"Host\": \"algo-1\", \"Operation\": \"training\", \"epoch\": 3, \"model\": 0}, \"Metrics\": {\"train_binary_classification_cross_entropy_objective\": {\"sum\": 0.4805910986570772, \"count\": 1, \"min\": 0.4805910986570772, \"max\": 0.4805910986570772}}}\u001b[0m\n",
      "\u001b[34m#metrics {\"StartTime\": 1659467749.4253044, \"EndTime\": 1659467749.4253287, \"Dimensions\": {\"Algorithm\": \"Linear Learner\", \"Host\": \"algo-1\", \"Operation\": \"training\", \"epoch\": 3, \"model\": 1}, \"Metrics\": {\"train_binary_classification_cross_entropy_objective\": {\"sum\": 0.4815528754604701, \"count\": 1, \"min\": 0.4815528754604701, \"max\": 0.4815528754604701}}}\u001b[0m\n",
      "\u001b[34m#metrics {\"StartTime\": 1659467749.4253922, \"EndTime\": 1659467749.4254117, \"Dimensions\": {\"Algorithm\": \"Linear Learner\", \"Host\": \"algo-1\", \"Operation\": \"training\", \"epoch\": 3, \"model\": 2}, \"Metrics\": {\"train_binary_classification_cross_entropy_objective\": {\"sum\": 0.480607300411306, \"count\": 1, \"min\": 0.480607300411306, \"max\": 0.480607300411306}}}\u001b[0m\n",
      "\u001b[34m#metrics {\"StartTime\": 1659467749.4254668, \"EndTime\": 1659467749.425485, \"Dimensions\": {\"Algorithm\": \"Linear Learner\", \"Host\": \"algo-1\", \"Operation\": \"training\", \"epoch\": 3, \"model\": 3}, \"Metrics\": {\"train_binary_classification_cross_entropy_objective\": {\"sum\": 0.48155283913335306, \"count\": 1, \"min\": 0.48155283913335306, \"max\": 0.48155283913335306}}}\u001b[0m\n",
      "\u001b[34m#metrics {\"StartTime\": 1659467749.4255397, \"EndTime\": 1659467749.4255588, \"Dimensions\": {\"Algorithm\": \"Linear Learner\", \"Host\": \"algo-1\", \"Operation\": \"training\", \"epoch\": 3, \"model\": 4}, \"Metrics\": {\"train_binary_classification_cross_entropy_objective\": {\"sum\": 0.480918839877534, \"count\": 1, \"min\": 0.480918839877534, \"max\": 0.480918839877534}}}\u001b[0m\n",
      "\u001b[34m#metrics {\"StartTime\": 1659467749.4256144, \"EndTime\": 1659467749.4256327, \"Dimensions\": {\"Algorithm\": \"Linear Learner\", \"Host\": \"algo-1\", \"Operation\": \"training\", \"epoch\": 3, \"model\": 5}, \"Metrics\": {\"train_binary_classification_cross_entropy_objective\": {\"sum\": 0.49640708834680214, \"count\": 1, \"min\": 0.49640708834680214, \"max\": 0.49640708834680214}}}\u001b[0m\n",
      "\u001b[34m#metrics {\"StartTime\": 1659467749.425691, \"EndTime\": 1659467749.4257083, \"Dimensions\": {\"Algorithm\": \"Linear Learner\", \"Host\": \"algo-1\", \"Operation\": \"training\", \"epoch\": 3, \"model\": 6}, \"Metrics\": {\"train_binary_classification_cross_entropy_objective\": {\"sum\": 0.4809188382209988, \"count\": 1, \"min\": 0.4809188382209988, \"max\": 0.4809188382209988}}}\u001b[0m\n",
      "\u001b[34m#metrics {\"StartTime\": 1659467749.4257646, \"EndTime\": 1659467749.425782, \"Dimensions\": {\"Algorithm\": \"Linear Learner\", \"Host\": \"algo-1\", \"Operation\": \"training\", \"epoch\": 3, \"model\": 7}, \"Metrics\": {\"train_binary_classification_cross_entropy_objective\": {\"sum\": 0.49640712784700075, \"count\": 1, \"min\": 0.49640712784700075, \"max\": 0.49640712784700075}}}\u001b[0m\n",
      "\u001b[34m#metrics {\"StartTime\": 1659467749.4258404, \"EndTime\": 1659467749.425858, \"Dimensions\": {\"Algorithm\": \"Linear Learner\", \"Host\": \"algo-1\", \"Operation\": \"training\", \"epoch\": 3, \"model\": 8}, \"Metrics\": {\"train_binary_classification_cross_entropy_objective\": {\"sum\": 0.4808638050884282, \"count\": 1, \"min\": 0.4808638050884282, \"max\": 0.4808638050884282}}}\u001b[0m\n",
      "\u001b[34m#metrics {\"StartTime\": 1659467749.4259117, \"EndTime\": 1659467749.425929, \"Dimensions\": {\"Algorithm\": \"Linear Learner\", \"Host\": \"algo-1\", \"Operation\": \"training\", \"epoch\": 3, \"model\": 9}, \"Metrics\": {\"train_binary_classification_cross_entropy_objective\": {\"sum\": 0.4817722512108106, \"count\": 1, \"min\": 0.4817722512108106, \"max\": 0.4817722512108106}}}\u001b[0m\n",
      "\u001b[34m#metrics {\"StartTime\": 1659467749.4259822, \"EndTime\": 1659467749.4260006, \"Dimensions\": {\"Algorithm\": \"Linear Learner\", \"Host\": \"algo-1\", \"Operation\": \"training\", \"epoch\": 3, \"model\": 10}, \"Metrics\": {\"train_binary_classification_cross_entropy_objective\": {\"sum\": 0.4808786113634022, \"count\": 1, \"min\": 0.4808786113634022, \"max\": 0.4808786113634022}}}\u001b[0m\n",
      "\u001b[34m#metrics {\"StartTime\": 1659467749.426056, \"EndTime\": 1659467749.4260755, \"Dimensions\": {\"Algorithm\": \"Linear Learner\", \"Host\": \"algo-1\", \"Operation\": \"training\", \"epoch\": 3, \"model\": 11}, \"Metrics\": {\"train_binary_classification_cross_entropy_objective\": {\"sum\": 0.48177225389393097, \"count\": 1, \"min\": 0.48177225389393097, \"max\": 0.48177225389393097}}}\u001b[0m\n",
      "\u001b[34m#metrics {\"StartTime\": 1659467749.4261312, \"EndTime\": 1659467749.4261506, \"Dimensions\": {\"Algorithm\": \"Linear Learner\", \"Host\": \"algo-1\", \"Operation\": \"training\", \"epoch\": 3, \"model\": 12}, \"Metrics\": {\"train_binary_classification_cross_entropy_objective\": {\"sum\": 0.48116780099664624, \"count\": 1, \"min\": 0.48116780099664624, \"max\": 0.48116780099664624}}}\u001b[0m\n",
      "\u001b[34m#metrics {\"StartTime\": 1659467749.4262075, \"EndTime\": 1659467749.4262261, \"Dimensions\": {\"Algorithm\": \"Linear Learner\", \"Host\": \"algo-1\", \"Operation\": \"training\", \"epoch\": 3, \"model\": 13}, \"Metrics\": {\"train_binary_classification_cross_entropy_objective\": {\"sum\": 0.49559061714195696, \"count\": 1, \"min\": 0.49559061714195696, \"max\": 0.49559061714195696}}}\u001b[0m\n",
      "\u001b[34m#metrics {\"StartTime\": 1659467749.4262834, \"EndTime\": 1659467749.4262998, \"Dimensions\": {\"Algorithm\": \"Linear Learner\", \"Host\": \"algo-1\", \"Operation\": \"training\", \"epoch\": 3, \"model\": 14}, \"Metrics\": {\"train_binary_classification_cross_entropy_objective\": {\"sum\": 0.4811678041930592, \"count\": 1, \"min\": 0.4811678041930592, \"max\": 0.4811678041930592}}}\u001b[0m\n",
      "\u001b[34m#metrics {\"StartTime\": 1659467749.4263566, \"EndTime\": 1659467749.4263742, \"Dimensions\": {\"Algorithm\": \"Linear Learner\", \"Host\": \"algo-1\", \"Operation\": \"training\", \"epoch\": 3, \"model\": 15}, \"Metrics\": {\"train_binary_classification_cross_entropy_objective\": {\"sum\": 0.49559061231234025, \"count\": 1, \"min\": 0.49559061231234025, \"max\": 0.49559061231234025}}}\u001b[0m\n",
      "\u001b[34m#metrics {\"StartTime\": 1659467749.4264278, \"EndTime\": 1659467749.4264464, \"Dimensions\": {\"Algorithm\": \"Linear Learner\", \"Host\": \"algo-1\", \"Operation\": \"training\", \"epoch\": 3, \"model\": 16}, \"Metrics\": {\"train_binary_classification_cross_entropy_objective\": {\"sum\": 0.504223280717109, \"count\": 1, \"min\": 0.504223280717109, \"max\": 0.504223280717109}}}\u001b[0m\n",
      "\u001b[34m#metrics {\"StartTime\": 1659467749.4265, \"EndTime\": 1659467749.4265177, \"Dimensions\": {\"Algorithm\": \"Linear Learner\", \"Host\": \"algo-1\", \"Operation\": \"training\", \"epoch\": 3, \"model\": 17}, \"Metrics\": {\"train_binary_classification_cross_entropy_objective\": {\"sum\": 0.5044682100861809, \"count\": 1, \"min\": 0.5044682100861809, \"max\": 0.5044682100861809}}}\u001b[0m\n",
      "\u001b[34m#metrics {\"StartTime\": 1659467749.426574, \"EndTime\": 1659467749.4265916, \"Dimensions\": {\"Algorithm\": \"Linear Learner\", \"Host\": \"algo-1\", \"Operation\": \"training\", \"epoch\": 3, \"model\": 18}, \"Metrics\": {\"train_binary_classification_cross_entropy_objective\": {\"sum\": 0.504228952763642, \"count\": 1, \"min\": 0.504228952763642, \"max\": 0.504228952763642}}}\u001b[0m\n",
      "\u001b[34m#metrics {\"StartTime\": 1659467749.4266531, \"EndTime\": 1659467749.426671, \"Dimensions\": {\"Algorithm\": \"Linear Learner\", \"Host\": \"algo-1\", \"Operation\": \"training\", \"epoch\": 3, \"model\": 19}, \"Metrics\": {\"train_binary_classification_cross_entropy_objective\": {\"sum\": 0.5044682002169641, \"count\": 1, \"min\": 0.5044682002169641, \"max\": 0.5044682002169641}}}\u001b[0m\n",
      "\u001b[34m#metrics {\"StartTime\": 1659467749.426726, \"EndTime\": 1659467749.4267454, \"Dimensions\": {\"Algorithm\": \"Linear Learner\", \"Host\": \"algo-1\", \"Operation\": \"training\", \"epoch\": 3, \"model\": 20}, \"Metrics\": {\"train_binary_classification_cross_entropy_objective\": {\"sum\": 0.5042968868523927, \"count\": 1, \"min\": 0.5042968868523927, \"max\": 0.5042968868523927}}}\u001b[0m\n",
      "\u001b[34m#metrics {\"StartTime\": 1659467749.4268, \"EndTime\": 1659467749.4268174, \"Dimensions\": {\"Algorithm\": \"Linear Learner\", \"Host\": \"algo-1\", \"Operation\": \"training\", \"epoch\": 3, \"model\": 21}, \"Metrics\": {\"train_binary_classification_cross_entropy_objective\": {\"sum\": 0.5071700134277344, \"count\": 1, \"min\": 0.5071700134277344, \"max\": 0.5071700134277344}}}\u001b[0m\n",
      "\u001b[34m#metrics {\"StartTime\": 1659467749.4268744, \"EndTime\": 1659467749.4268913, \"Dimensions\": {\"Algorithm\": \"Linear Learner\", \"Host\": \"algo-1\", \"Operation\": \"training\", \"epoch\": 3, \"model\": 22}, \"Metrics\": {\"train_binary_classification_cross_entropy_objective\": {\"sum\": 0.5042968882522816, \"count\": 1, \"min\": 0.5042968882522816, \"max\": 0.5042968882522816}}}\u001b[0m\n",
      "\u001b[34m#metrics {\"StartTime\": 1659467749.4269462, \"EndTime\": 1659467749.426965, \"Dimensions\": {\"Algorithm\": \"Linear Learner\", \"Host\": \"algo-1\", \"Operation\": \"training\", \"epoch\": 3, \"model\": 23}, \"Metrics\": {\"train_binary_classification_cross_entropy_objective\": {\"sum\": 0.5071700149676122, \"count\": 1, \"min\": 0.5071700149676122, \"max\": 0.5071700149676122}}}\u001b[0m\n",
      "\u001b[34m#metrics {\"StartTime\": 1659467749.4270205, \"EndTime\": 1659467749.4270372, \"Dimensions\": {\"Algorithm\": \"Linear Learner\", \"Host\": \"algo-1\", \"Operation\": \"training\", \"epoch\": 3, \"model\": 24}, \"Metrics\": {\"train_binary_classification_cross_entropy_objective\": {\"sum\": 0.5137219901595276, \"count\": 1, \"min\": 0.5137219901595276, \"max\": 0.5137219901595276}}}\u001b[0m\n",
      "\u001b[34m#metrics {\"StartTime\": 1659467749.4270933, \"EndTime\": 1659467749.4271111, \"Dimensions\": {\"Algorithm\": \"Linear Learner\", \"Host\": \"algo-1\", \"Operation\": \"training\", \"epoch\": 3, \"model\": 25}, \"Metrics\": {\"train_binary_classification_cross_entropy_objective\": {\"sum\": 0.5138210228502933, \"count\": 1, \"min\": 0.5138210228502933, \"max\": 0.5138210228502933}}}\u001b[0m\n",
      "\u001b[34m#metrics {\"StartTime\": 1659467749.4271643, \"EndTime\": 1659467749.4271822, \"Dimensions\": {\"Algorithm\": \"Linear Learner\", \"Host\": \"algo-1\", \"Operation\": \"training\", \"epoch\": 3, \"model\": 26}, \"Metrics\": {\"train_binary_classification_cross_entropy_objective\": {\"sum\": 0.5137235730839067, \"count\": 1, \"min\": 0.5137235730839067, \"max\": 0.5137235730839067}}}\u001b[0m\n",
      "\u001b[34m#metrics {\"StartTime\": 1659467749.4272344, \"EndTime\": 1659467749.42725, \"Dimensions\": {\"Algorithm\": \"Linear Learner\", \"Host\": \"algo-1\", \"Operation\": \"training\", \"epoch\": 3, \"model\": 27}, \"Metrics\": {\"train_binary_classification_cross_entropy_objective\": {\"sum\": 0.5138209738541816, \"count\": 1, \"min\": 0.5138209738541816, \"max\": 0.5138209738541816}}}\u001b[0m\n",
      "\u001b[34m#metrics {\"StartTime\": 1659467749.4273064, \"EndTime\": 1659467749.4273238, \"Dimensions\": {\"Algorithm\": \"Linear Learner\", \"Host\": \"algo-1\", \"Operation\": \"training\", \"epoch\": 3, \"model\": 28}, \"Metrics\": {\"train_binary_classification_cross_entropy_objective\": {\"sum\": 0.5137418388343368, \"count\": 1, \"min\": 0.5137418388343368, \"max\": 0.5137418388343368}}}\u001b[0m\n",
      "\u001b[34m#metrics {\"StartTime\": 1659467749.4273787, \"EndTime\": 1659467749.4273963, \"Dimensions\": {\"Algorithm\": \"Linear Learner\", \"Host\": \"algo-1\", \"Operation\": \"training\", \"epoch\": 3, \"model\": 29}, \"Metrics\": {\"train_binary_classification_cross_entropy_objective\": {\"sum\": 0.5148191562617591, \"count\": 1, \"min\": 0.5148191562617591, \"max\": 0.5148191562617591}}}\u001b[0m\n",
      "\u001b[34m#metrics {\"StartTime\": 1659467749.427452, \"EndTime\": 1659467749.4274693, \"Dimensions\": {\"Algorithm\": \"Linear Learner\", \"Host\": \"algo-1\", \"Operation\": \"training\", \"epoch\": 3, \"model\": 30}, \"Metrics\": {\"train_binary_classification_cross_entropy_objective\": {\"sum\": 0.513742121098603, \"count\": 1, \"min\": 0.513742121098603, \"max\": 0.513742121098603}}}\u001b[0m\n",
      "\u001b[34m#metrics {\"StartTime\": 1659467749.427525, \"EndTime\": 1659467749.4275422, \"Dimensions\": {\"Algorithm\": \"Linear Learner\", \"Host\": \"algo-1\", \"Operation\": \"training\", \"epoch\": 3, \"model\": 31}, \"Metrics\": {\"train_binary_classification_cross_entropy_objective\": {\"sum\": 0.5148191678108426, \"count\": 1, \"min\": 0.5148191678108426, \"max\": 0.5148191678108426}}}\u001b[0m\n",
      "\u001b[34m[08/02/2022 19:15:49 INFO 140621894309696] #quality_metric: host=algo-1, epoch=3, train binary_classification_cross_entropy_objective <loss>=0.4805910986570772\u001b[0m\n",
      "\u001b[34m[2022-08-02 19:15:54.935] [tensorio] [info] epoch_stats={\"data_pipeline\": \"/opt/ml/input/data/validation\", \"epoch\": 11, \"duration\": 5480, \"num_examples\": 164, \"num_bytes\": 62806656}\u001b[0m\n",
      "\u001b[34m#metrics {\"StartTime\": 1659467754.9436827, \"EndTime\": 1659467754.9437406, \"Dimensions\": {\"Algorithm\": \"Linear Learner\", \"Host\": \"algo-1\", \"Operation\": \"training\", \"epoch\": 3, \"model\": 0}, \"Metrics\": {\"validation_binary_classification_cross_entropy_objective\": {\"sum\": 0.4809225188972209, \"count\": 1, \"min\": 0.4809225188972209, \"max\": 0.4809225188972209}}}\u001b[0m\n",
      "\u001b[34m#metrics {\"StartTime\": 1659467754.943827, \"EndTime\": 1659467754.943848, \"Dimensions\": {\"Algorithm\": \"Linear Learner\", \"Host\": \"algo-1\", \"Operation\": \"training\", \"epoch\": 3, \"model\": 1}, \"Metrics\": {\"validation_binary_classification_cross_entropy_objective\": {\"sum\": 0.4821859123746773, \"count\": 1, \"min\": 0.4821859123746773, \"max\": 0.4821859123746773}}}\u001b[0m\n",
      "\u001b[34m#metrics {\"StartTime\": 1659467754.9439094, \"EndTime\": 1659467754.943932, \"Dimensions\": {\"Algorithm\": \"Linear Learner\", \"Host\": \"algo-1\", \"Operation\": \"training\", \"epoch\": 3, \"model\": 2}, \"Metrics\": {\"validation_binary_classification_cross_entropy_objective\": {\"sum\": 0.48092582536156675, \"count\": 1, \"min\": 0.48092582536156675, \"max\": 0.48092582536156675}}}\u001b[0m\n",
      "\u001b[34m#metrics {\"StartTime\": 1659467754.9440022, \"EndTime\": 1659467754.9440193, \"Dimensions\": {\"Algorithm\": \"Linear Learner\", \"Host\": \"algo-1\", \"Operation\": \"training\", \"epoch\": 3, \"model\": 3}, \"Metrics\": {\"validation_binary_classification_cross_entropy_objective\": {\"sum\": 0.4821859593939773, \"count\": 1, \"min\": 0.4821859593939773, \"max\": 0.4821859593939773}}}\u001b[0m\n",
      "\u001b[34m#metrics {\"StartTime\": 1659467754.9440758, \"EndTime\": 1659467754.9440944, \"Dimensions\": {\"Algorithm\": \"Linear Learner\", \"Host\": \"algo-1\", \"Operation\": \"training\", \"epoch\": 3, \"model\": 4}, \"Metrics\": {\"validation_binary_classification_cross_entropy_objective\": {\"sum\": 0.48102890379514474, \"count\": 1, \"min\": 0.48102890379514474, \"max\": 0.48102890379514474}}}\u001b[0m\n",
      "\u001b[34m#metrics {\"StartTime\": 1659467754.9441502, \"EndTime\": 1659467754.9441674, \"Dimensions\": {\"Algorithm\": \"Linear Learner\", \"Host\": \"algo-1\", \"Operation\": \"training\", \"epoch\": 3, \"model\": 5}, \"Metrics\": {\"validation_binary_classification_cross_entropy_objective\": {\"sum\": 0.49354650666423794, \"count\": 1, \"min\": 0.49354650666423794, \"max\": 0.49354650666423794}}}\u001b[0m\n",
      "\u001b[34m#metrics {\"StartTime\": 1659467754.9442294, \"EndTime\": 1659467754.9442494, \"Dimensions\": {\"Algorithm\": \"Linear Learner\", \"Host\": \"algo-1\", \"Operation\": \"training\", \"epoch\": 3, \"model\": 6}, \"Metrics\": {\"validation_binary_classification_cross_entropy_objective\": {\"sum\": 0.48102890808658877, \"count\": 1, \"min\": 0.48102890808658877, \"max\": 0.48102890808658877}}}\u001b[0m\n",
      "\u001b[34m#metrics {\"StartTime\": 1659467754.9443085, \"EndTime\": 1659467754.9443264, \"Dimensions\": {\"Algorithm\": \"Linear Learner\", \"Host\": \"algo-1\", \"Operation\": \"training\", \"epoch\": 3, \"model\": 7}, \"Metrics\": {\"validation_binary_classification_cross_entropy_objective\": {\"sum\": 0.4935465234568451, \"count\": 1, \"min\": 0.4935465234568451, \"max\": 0.4935465234568451}}}\u001b[0m\n",
      "\u001b[34m#metrics {\"StartTime\": 1659467754.94438, \"EndTime\": 1659467754.9443982, \"Dimensions\": {\"Algorithm\": \"Linear Learner\", \"Host\": \"algo-1\", \"Operation\": \"training\", \"epoch\": 3, \"model\": 8}, \"Metrics\": {\"validation_binary_classification_cross_entropy_objective\": {\"sum\": 0.4811330573287487, \"count\": 1, \"min\": 0.4811330573287487, \"max\": 0.4811330573287487}}}\u001b[0m\n",
      "\u001b[34m#metrics {\"StartTime\": 1659467754.9444406, \"EndTime\": 1659467754.9444575, \"Dimensions\": {\"Algorithm\": \"Linear Learner\", \"Host\": \"algo-1\", \"Operation\": \"training\", \"epoch\": 3, \"model\": 9}, \"Metrics\": {\"validation_binary_classification_cross_entropy_objective\": {\"sum\": 0.48240063888242596, \"count\": 1, \"min\": 0.48240063888242596, \"max\": 0.48240063888242596}}}\u001b[0m\n",
      "\u001b[34m#metrics {\"StartTime\": 1659467754.9445102, \"EndTime\": 1659467754.9445283, \"Dimensions\": {\"Algorithm\": \"Linear Learner\", \"Host\": \"algo-1\", \"Operation\": \"training\", \"epoch\": 3, \"model\": 10}, \"Metrics\": {\"validation_binary_classification_cross_entropy_objective\": {\"sum\": 0.4811377176503992, \"count\": 1, \"min\": 0.4811377176503992, \"max\": 0.4811377176503992}}}\u001b[0m\n",
      "\u001b[34m#metrics {\"StartTime\": 1659467754.9445739, \"EndTime\": 1659467754.9445899, \"Dimensions\": {\"Algorithm\": \"Linear Learner\", \"Host\": \"algo-1\", \"Operation\": \"training\", \"epoch\": 3, \"model\": 11}, \"Metrics\": {\"validation_binary_classification_cross_entropy_objective\": {\"sum\": 0.4824006424275319, \"count\": 1, \"min\": 0.4824006424275319, \"max\": 0.4824006424275319}}}\u001b[0m\n",
      "\u001b[34m#metrics {\"StartTime\": 1659467754.9446425, \"EndTime\": 1659467754.9446616, \"Dimensions\": {\"Algorithm\": \"Linear Learner\", \"Host\": \"algo-1\", \"Operation\": \"training\", \"epoch\": 3, \"model\": 12}, \"Metrics\": {\"validation_binary_classification_cross_entropy_objective\": {\"sum\": 0.48125214396812893, \"count\": 1, \"min\": 0.48125214396812893, \"max\": 0.48125214396812893}}}\u001b[0m\n",
      "\u001b[34m#metrics {\"StartTime\": 1659467754.9447157, \"EndTime\": 1659467754.9447322, \"Dimensions\": {\"Algorithm\": \"Linear Learner\", \"Host\": \"algo-1\", \"Operation\": \"training\", \"epoch\": 3, \"model\": 13}, \"Metrics\": {\"validation_binary_classification_cross_entropy_objective\": {\"sum\": 0.49255325940295247, \"count\": 1, \"min\": 0.49255325940295247, \"max\": 0.49255325940295247}}}\u001b[0m\n",
      "\u001b[34m#metrics {\"StartTime\": 1659467754.9447873, \"EndTime\": 1659467754.9448047, \"Dimensions\": {\"Algorithm\": \"Linear Learner\", \"Host\": \"algo-1\", \"Operation\": \"training\", \"epoch\": 3, \"model\": 14}, \"Metrics\": {\"validation_binary_classification_cross_entropy_objective\": {\"sum\": 0.4812521473266504, \"count\": 1, \"min\": 0.4812521473266504, \"max\": 0.4812521473266504}}}\u001b[0m\n",
      "\u001b[34m#metrics {\"StartTime\": 1659467754.94487, \"EndTime\": 1659467754.944889, \"Dimensions\": {\"Algorithm\": \"Linear Learner\", \"Host\": \"algo-1\", \"Operation\": \"training\", \"epoch\": 3, \"model\": 15}, \"Metrics\": {\"validation_binary_classification_cross_entropy_objective\": {\"sum\": 0.4925532480212965, \"count\": 1, \"min\": 0.4925532480212965, \"max\": 0.4925532480212965}}}\u001b[0m\n",
      "\u001b[34m#metrics {\"StartTime\": 1659467754.9449372, \"EndTime\": 1659467754.9449544, \"Dimensions\": {\"Algorithm\": \"Linear Learner\", \"Host\": \"algo-1\", \"Operation\": \"training\", \"epoch\": 3, \"model\": 16}, \"Metrics\": {\"validation_binary_classification_cross_entropy_objective\": {\"sum\": 0.5041764131953627, \"count\": 1, \"min\": 0.5041764131953627, \"max\": 0.5041764131953627}}}\u001b[0m\n",
      "\u001b[34m#metrics {\"StartTime\": 1659467754.945018, \"EndTime\": 1659467754.9450374, \"Dimensions\": {\"Algorithm\": \"Linear Learner\", \"Host\": \"algo-1\", \"Operation\": \"training\", \"epoch\": 3, \"model\": 17}, \"Metrics\": {\"validation_binary_classification_cross_entropy_objective\": {\"sum\": 0.5051801549031881, \"count\": 1, \"min\": 0.5051801549031881, \"max\": 0.5051801549031881}}}\u001b[0m\n",
      "\u001b[34m#metrics {\"StartTime\": 1659467754.9450874, \"EndTime\": 1659467754.9451056, \"Dimensions\": {\"Algorithm\": \"Linear Learner\", \"Host\": \"algo-1\", \"Operation\": \"training\", \"epoch\": 3, \"model\": 18}, \"Metrics\": {\"validation_binary_classification_cross_entropy_objective\": {\"sum\": 0.5042159015708064, \"count\": 1, \"min\": 0.5042159015708064, \"max\": 0.5042159015708064}}}\u001b[0m\n",
      "\u001b[34m#metrics {\"StartTime\": 1659467754.9451675, \"EndTime\": 1659467754.9451864, \"Dimensions\": {\"Algorithm\": \"Linear Learner\", \"Host\": \"algo-1\", \"Operation\": \"training\", \"epoch\": 3, \"model\": 19}, \"Metrics\": {\"validation_binary_classification_cross_entropy_objective\": {\"sum\": 0.5051801668445977, \"count\": 1, \"min\": 0.5051801668445977, \"max\": 0.5051801668445977}}}\u001b[0m\n",
      "\u001b[34m#metrics {\"StartTime\": 1659467754.945238, \"EndTime\": 1659467754.9452796, \"Dimensions\": {\"Algorithm\": \"Linear Learner\", \"Host\": \"algo-1\", \"Operation\": \"training\", \"epoch\": 3, \"model\": 20}, \"Metrics\": {\"validation_binary_classification_cross_entropy_objective\": {\"sum\": 0.5043514944100829, \"count\": 1, \"min\": 0.5043514944100829, \"max\": 0.5043514944100829}}}\u001b[0m\n",
      "\u001b[34m#metrics {\"StartTime\": 1659467754.9453351, \"EndTime\": 1659467754.9453514, \"Dimensions\": {\"Algorithm\": \"Linear Learner\", \"Host\": \"algo-1\", \"Operation\": \"training\", \"epoch\": 3, \"model\": 21}, \"Metrics\": {\"validation_binary_classification_cross_entropy_objective\": {\"sum\": 0.5102993069292489, \"count\": 1, \"min\": 0.5102993069292489, \"max\": 0.5102993069292489}}}\u001b[0m\n",
      "\u001b[34m#metrics {\"StartTime\": 1659467754.9454038, \"EndTime\": 1659467754.9454215, \"Dimensions\": {\"Algorithm\": \"Linear Learner\", \"Host\": \"algo-1\", \"Operation\": \"training\", \"epoch\": 3, \"model\": 22}, \"Metrics\": {\"validation_binary_classification_cross_entropy_objective\": {\"sum\": 0.5043515076575841, \"count\": 1, \"min\": 0.5043515076575841, \"max\": 0.5043515076575841}}}\u001b[0m\n",
      "\u001b[34m#metrics {\"StartTime\": 1659467754.94548, \"EndTime\": 1659467754.9454978, \"Dimensions\": {\"Algorithm\": \"Linear Learner\", \"Host\": \"algo-1\", \"Operation\": \"training\", \"epoch\": 3, \"model\": 23}, \"Metrics\": {\"validation_binary_classification_cross_entropy_objective\": {\"sum\": 0.5102993474180906, \"count\": 1, \"min\": 0.5102993474180906, \"max\": 0.5102993474180906}}}\u001b[0m\n",
      "\u001b[34m#metrics {\"StartTime\": 1659467754.9455552, \"EndTime\": 1659467754.9455733, \"Dimensions\": {\"Algorithm\": \"Linear Learner\", \"Host\": \"algo-1\", \"Operation\": \"training\", \"epoch\": 3, \"model\": 24}, \"Metrics\": {\"validation_binary_classification_cross_entropy_objective\": {\"sum\": 0.5137147217102873, \"count\": 1, \"min\": 0.5137147217102873, \"max\": 0.5137147217102873}}}\u001b[0m\n",
      "\u001b[34m#metrics {\"StartTime\": 1659467754.945622, \"EndTime\": 1659467754.9456398, \"Dimensions\": {\"Algorithm\": \"Linear Learner\", \"Host\": \"algo-1\", \"Operation\": \"training\", \"epoch\": 3, \"model\": 25}, \"Metrics\": {\"validation_binary_classification_cross_entropy_objective\": {\"sum\": 0.5143242019230613, \"count\": 1, \"min\": 0.5143242019230613, \"max\": 0.5143242019230613}}}\u001b[0m\n",
      "\u001b[34m#metrics {\"StartTime\": 1659467754.9456942, \"EndTime\": 1659467754.945712, \"Dimensions\": {\"Algorithm\": \"Linear Learner\", \"Host\": \"algo-1\", \"Operation\": \"training\", \"epoch\": 3, \"model\": 26}, \"Metrics\": {\"validation_binary_classification_cross_entropy_objective\": {\"sum\": 0.5137234490148027, \"count\": 1, \"min\": 0.5137234490148027, \"max\": 0.5137234490148027}}}\u001b[0m\n",
      "\u001b[34m#metrics {\"StartTime\": 1659467754.9457612, \"EndTime\": 1659467754.9457786, \"Dimensions\": {\"Algorithm\": \"Linear Learner\", \"Host\": \"algo-1\", \"Operation\": \"training\", \"epoch\": 3, \"model\": 27}, \"Metrics\": {\"validation_binary_classification_cross_entropy_objective\": {\"sum\": 0.514328851982563, \"count\": 1, \"min\": 0.514328851982563, \"max\": 0.514328851982563}}}\u001b[0m\n",
      "\u001b[34m#metrics {\"StartTime\": 1659467754.9458432, \"EndTime\": 1659467754.9458618, \"Dimensions\": {\"Algorithm\": \"Linear Learner\", \"Host\": \"algo-1\", \"Operation\": \"training\", \"epoch\": 3, \"model\": 28}, \"Metrics\": {\"validation_binary_classification_cross_entropy_objective\": {\"sum\": 0.5137357081777686, \"count\": 1, \"min\": 0.5137357081777686, \"max\": 0.5137357081777686}}}\u001b[0m\n",
      "\u001b[34m#metrics {\"StartTime\": 1659467754.945907, \"EndTime\": 1659467754.9459243, \"Dimensions\": {\"Algorithm\": \"Linear Learner\", \"Host\": \"algo-1\", \"Operation\": \"training\", \"epoch\": 3, \"model\": 29}, \"Metrics\": {\"validation_binary_classification_cross_entropy_objective\": {\"sum\": 0.514058775922173, \"count\": 1, \"min\": 0.514058775922173, \"max\": 0.514058775922173}}}\u001b[0m\n",
      "\u001b[34m#metrics {\"StartTime\": 1659467754.9459853, \"EndTime\": 1659467754.9460046, \"Dimensions\": {\"Algorithm\": \"Linear Learner\", \"Host\": \"algo-1\", \"Operation\": \"training\", \"epoch\": 3, \"model\": 30}, \"Metrics\": {\"validation_binary_classification_cross_entropy_objective\": {\"sum\": 0.5137281645654722, \"count\": 1, \"min\": 0.5137281645654722, \"max\": 0.5137281645654722}}}\u001b[0m\n",
      "\u001b[34m#metrics {\"StartTime\": 1659467754.9460526, \"EndTime\": 1659467754.9460695, \"Dimensions\": {\"Algorithm\": \"Linear Learner\", \"Host\": \"algo-1\", \"Operation\": \"training\", \"epoch\": 3, \"model\": 31}, \"Metrics\": {\"validation_binary_classification_cross_entropy_objective\": {\"sum\": 0.5140587776014337, \"count\": 1, \"min\": 0.5140587776014337, \"max\": 0.5140587776014337}}}\u001b[0m\n",
      "\u001b[34m[08/02/2022 19:15:54 INFO 140621894309696] #quality_metric: host=algo-1, epoch=3, validation binary_classification_cross_entropy_objective <loss>=0.4809225188972209\u001b[0m\n",
      "\u001b[34m[08/02/2022 19:15:54 INFO 140621894309696] #early_stopping_criteria_metric: host=algo-1, epoch=3, criteria=binary_classification_cross_entropy_objective, value=0.4809225188972209\u001b[0m\n",
      "\u001b[34m[08/02/2022 19:15:54 INFO 140621894309696] Saving model for epoch: 3\u001b[0m\n",
      "\u001b[34m[08/02/2022 19:15:54 INFO 140621894309696] Saved checkpoint to \"/tmp/tmpbxju2qdi/mx-mod-0000.params\"\u001b[0m\n",
      "\u001b[34m[08/02/2022 19:15:54 INFO 140621894309696] #progress_metric: host=algo-1, completed 26.666666666666668 % of epochs\u001b[0m\n",
      "\u001b[34m#metrics {\"StartTime\": 1659467687.391576, \"EndTime\": 1659467754.9552534, \"Dimensions\": {\"Algorithm\": \"Linear Learner\", \"Host\": \"algo-1\", \"Operation\": \"training\", \"epoch\": 3, \"Meta\": \"training_data_iter\"}, \"Metrics\": {\"Total Records Seen\": {\"sum\": 5245888.0, \"count\": 1, \"min\": 5245888, \"max\": 5245888}, \"Total Batches Seen\": {\"sum\": 5248.0, \"count\": 1, \"min\": 5248, \"max\": 5248}, \"Max Records Seen Between Resets\": {\"sum\": 1308472.0, \"count\": 1, \"min\": 1308472, \"max\": 1308472}, \"Max Batches Seen Between Resets\": {\"sum\": 1309.0, \"count\": 1, \"min\": 1309, \"max\": 1309}, \"Reset Count\": {\"sum\": 6.0, \"count\": 1, \"min\": 6, \"max\": 6}, \"Number of Records Since Last Reset\": {\"sum\": 1308472.0, \"count\": 1, \"min\": 1308472, \"max\": 1308472}, \"Number of Batches Since Last Reset\": {\"sum\": 1309.0, \"count\": 1, \"min\": 1309, \"max\": 1309}}}\u001b[0m\n",
      "\u001b[34m[08/02/2022 19:15:54 INFO 140621894309696] #throughput_metric: host=algo-1, train throughput=19366.456972266755 records/second\u001b[0m\n",
      "\u001b[34m[2022-08-02 19:16:56.329] [tensorio] [info] epoch_stats={\"data_pipeline\": \"/opt/ml/input/data/train\", \"epoch\": 11, \"duration\": 61372, \"num_examples\": 1309, \"num_bytes\": 502453248}\u001b[0m\n",
      "\u001b[34m#metrics {\"StartTime\": 1659467816.3296056, \"EndTime\": 1659467816.3297207, \"Dimensions\": {\"Algorithm\": \"Linear Learner\", \"Host\": \"algo-1\", \"Operation\": \"training\", \"epoch\": 4, \"model\": 0}, \"Metrics\": {\"train_binary_classification_cross_entropy_objective\": {\"sum\": 0.48056698624730476, \"count\": 1, \"min\": 0.48056698624730476, \"max\": 0.48056698624730476}}}\u001b[0m\n",
      "\u001b[34m#metrics {\"StartTime\": 1659467816.3298502, \"EndTime\": 1659467816.3298776, \"Dimensions\": {\"Algorithm\": \"Linear Learner\", \"Host\": \"algo-1\", \"Operation\": \"training\", \"epoch\": 4, \"model\": 1}, \"Metrics\": {\"train_binary_classification_cross_entropy_objective\": {\"sum\": 0.48143546491150463, \"count\": 1, \"min\": 0.48143546491150463, \"max\": 0.48143546491150463}}}\u001b[0m\n",
      "\u001b[34m#metrics {\"StartTime\": 1659467816.3299458, \"EndTime\": 1659467816.3299673, \"Dimensions\": {\"Algorithm\": \"Linear Learner\", \"Host\": \"algo-1\", \"Operation\": \"training\", \"epoch\": 4, \"model\": 2}, \"Metrics\": {\"train_binary_classification_cross_entropy_objective\": {\"sum\": 0.4806068998330959, \"count\": 1, \"min\": 0.4806068998330959, \"max\": 0.4806068998330959}}}\u001b[0m\n",
      "\u001b[34m#metrics {\"StartTime\": 1659467816.3300295, \"EndTime\": 1659467816.3300488, \"Dimensions\": {\"Algorithm\": \"Linear Learner\", \"Host\": \"algo-1\", \"Operation\": \"training\", \"epoch\": 4, \"model\": 3}, \"Metrics\": {\"train_binary_classification_cross_entropy_objective\": {\"sum\": 0.4814354563488508, \"count\": 1, \"min\": 0.4814354563488508, \"max\": 0.4814354563488508}}}\u001b[0m\n",
      "\u001b[34m#metrics {\"StartTime\": 1659467816.3301082, \"EndTime\": 1659467816.3301282, \"Dimensions\": {\"Algorithm\": \"Linear Learner\", \"Host\": \"algo-1\", \"Operation\": \"training\", \"epoch\": 4, \"model\": 4}, \"Metrics\": {\"train_binary_classification_cross_entropy_objective\": {\"sum\": 0.4806851810373662, \"count\": 1, \"min\": 0.4806851810373662, \"max\": 0.4806851810373662}}}\u001b[0m\n",
      "\u001b[34m#metrics {\"StartTime\": 1659467816.3301857, \"EndTime\": 1659467816.330204, \"Dimensions\": {\"Algorithm\": \"Linear Learner\", \"Host\": \"algo-1\", \"Operation\": \"training\", \"epoch\": 4, \"model\": 5}, \"Metrics\": {\"train_binary_classification_cross_entropy_objective\": {\"sum\": 0.4945871407978396, \"count\": 1, \"min\": 0.4945871407978396, \"max\": 0.4945871407978396}}}\u001b[0m\n",
      "\u001b[34m#metrics {\"StartTime\": 1659467816.3302615, \"EndTime\": 1659467816.3302803, \"Dimensions\": {\"Algorithm\": \"Linear Learner\", \"Host\": \"algo-1\", \"Operation\": \"training\", \"epoch\": 4, \"model\": 6}, \"Metrics\": {\"train_binary_classification_cross_entropy_objective\": {\"sum\": 0.4806851811773551, \"count\": 1, \"min\": 0.4806851811773551, \"max\": 0.4806851811773551}}}\u001b[0m\n",
      "\u001b[34m#metrics {\"StartTime\": 1659467816.3303387, \"EndTime\": 1659467816.330357, \"Dimensions\": {\"Algorithm\": \"Linear Learner\", \"Host\": \"algo-1\", \"Operation\": \"training\", \"epoch\": 4, \"model\": 7}, \"Metrics\": {\"train_binary_classification_cross_entropy_objective\": {\"sum\": 0.4945871495704768, \"count\": 1, \"min\": 0.4945871495704768, \"max\": 0.4945871495704768}}}\u001b[0m\n",
      "\u001b[34m#metrics {\"StartTime\": 1659467816.3304114, \"EndTime\": 1659467816.33043, \"Dimensions\": {\"Algorithm\": \"Linear Learner\", \"Host\": \"algo-1\", \"Operation\": \"training\", \"epoch\": 4, \"model\": 8}, \"Metrics\": {\"train_binary_classification_cross_entropy_objective\": {\"sum\": 0.480839662907685, \"count\": 1, \"min\": 0.480839662907685, \"max\": 0.480839662907685}}}\u001b[0m\n",
      "\u001b[34m#metrics {\"StartTime\": 1659467816.330484, \"EndTime\": 1659467816.3305027, \"Dimensions\": {\"Algorithm\": \"Linear Learner\", \"Host\": \"algo-1\", \"Operation\": \"training\", \"epoch\": 4, \"model\": 9}, \"Metrics\": {\"train_binary_classification_cross_entropy_objective\": {\"sum\": 0.4816617380777995, \"count\": 1, \"min\": 0.4816617380777995, \"max\": 0.4816617380777995}}}\u001b[0m\n",
      "\u001b[34m#metrics {\"StartTime\": 1659467816.330561, \"EndTime\": 1659467816.3305793, \"Dimensions\": {\"Algorithm\": \"Linear Learner\", \"Host\": \"algo-1\", \"Operation\": \"training\", \"epoch\": 4, \"model\": 10}, \"Metrics\": {\"train_binary_classification_cross_entropy_objective\": {\"sum\": 0.4808787793267393, \"count\": 1, \"min\": 0.4808787793267393, \"max\": 0.4808787793267393}}}\u001b[0m\n",
      "\u001b[34m#metrics {\"StartTime\": 1659467816.330636, \"EndTime\": 1659467816.3306644, \"Dimensions\": {\"Algorithm\": \"Linear Learner\", \"Host\": \"algo-1\", \"Operation\": \"training\", \"epoch\": 4, \"model\": 11}, \"Metrics\": {\"train_binary_classification_cross_entropy_objective\": {\"sum\": 0.48166173756450686, \"count\": 1, \"min\": 0.48166173756450686, \"max\": 0.48166173756450686}}}\u001b[0m\n",
      "\u001b[34m#metrics {\"StartTime\": 1659467816.3307197, \"EndTime\": 1659467816.3307378, \"Dimensions\": {\"Algorithm\": \"Linear Learner\", \"Host\": \"algo-1\", \"Operation\": \"training\", \"epoch\": 4, \"model\": 12}, \"Metrics\": {\"train_binary_classification_cross_entropy_objective\": {\"sum\": 0.48095607379598354, \"count\": 1, \"min\": 0.48095607379598354, \"max\": 0.48095607379598354}}}\u001b[0m\n",
      "\u001b[34m#metrics {\"StartTime\": 1659467816.330792, \"EndTime\": 1659467816.3308086, \"Dimensions\": {\"Algorithm\": \"Linear Learner\", \"Host\": \"algo-1\", \"Operation\": \"training\", \"epoch\": 4, \"model\": 13}, \"Metrics\": {\"train_binary_classification_cross_entropy_objective\": {\"sum\": 0.49390723682835197, \"count\": 1, \"min\": 0.49390723682835197, \"max\": 0.49390723682835197}}}\u001b[0m\n",
      "\u001b[34m#metrics {\"StartTime\": 1659467816.3309226, \"EndTime\": 1659467816.330942, \"Dimensions\": {\"Algorithm\": \"Linear Learner\", \"Host\": \"algo-1\", \"Operation\": \"training\", \"epoch\": 4, \"model\": 14}, \"Metrics\": {\"train_binary_classification_cross_entropy_objective\": {\"sum\": 0.4809560736093317, \"count\": 1, \"min\": 0.4809560736093317, \"max\": 0.4809560736093317}}}\u001b[0m\n",
      "\u001b[34m#metrics {\"StartTime\": 1659467816.3309975, \"EndTime\": 1659467816.3310163, \"Dimensions\": {\"Algorithm\": \"Linear Learner\", \"Host\": \"algo-1\", \"Operation\": \"training\", \"epoch\": 4, \"model\": 15}, \"Metrics\": {\"train_binary_classification_cross_entropy_objective\": {\"sum\": 0.49390723671169456, \"count\": 1, \"min\": 0.49390723671169456, \"max\": 0.49390723671169456}}}\u001b[0m\n",
      "\u001b[34m#metrics {\"StartTime\": 1659467816.331072, \"EndTime\": 1659467816.3310895, \"Dimensions\": {\"Algorithm\": \"Linear Learner\", \"Host\": \"algo-1\", \"Operation\": \"training\", \"epoch\": 4, \"model\": 16}, \"Metrics\": {\"train_binary_classification_cross_entropy_objective\": {\"sum\": 0.5042174076931921, \"count\": 1, \"min\": 0.5042174076931921, \"max\": 0.5042174076931921}}}\u001b[0m\n",
      "\u001b[34m#metrics {\"StartTime\": 1659467816.3311458, \"EndTime\": 1659467816.3311648, \"Dimensions\": {\"Algorithm\": \"Linear Learner\", \"Host\": \"algo-1\", \"Operation\": \"training\", \"epoch\": 4, \"model\": 17}, \"Metrics\": {\"train_binary_classification_cross_entropy_objective\": {\"sum\": 0.504437306372033, \"count\": 1, \"min\": 0.504437306372033, \"max\": 0.504437306372033}}}\u001b[0m\n",
      "\u001b[34m#metrics {\"StartTime\": 1659467816.3312204, \"EndTime\": 1659467816.3312385, \"Dimensions\": {\"Algorithm\": \"Linear Learner\", \"Host\": \"algo-1\", \"Operation\": \"training\", \"epoch\": 4, \"model\": 18}, \"Metrics\": {\"train_binary_classification_cross_entropy_objective\": {\"sum\": 0.5042291232701106, \"count\": 1, \"min\": 0.5042291232701106, \"max\": 0.5042291232701106}}}\u001b[0m\n",
      "\u001b[34m#metrics {\"StartTime\": 1659467816.3312945, \"EndTime\": 1659467816.3313124, \"Dimensions\": {\"Algorithm\": \"Linear Learner\", \"Host\": \"algo-1\", \"Operation\": \"training\", \"epoch\": 4, \"model\": 19}, \"Metrics\": {\"train_binary_classification_cross_entropy_objective\": {\"sum\": 0.5044373045288459, \"count\": 1, \"min\": 0.5044373045288459, \"max\": 0.5044373045288459}}}\u001b[0m\n",
      "\u001b[34m#metrics {\"StartTime\": 1659467816.331366, \"EndTime\": 1659467816.3313828, \"Dimensions\": {\"Algorithm\": \"Linear Learner\", \"Host\": \"algo-1\", \"Operation\": \"training\", \"epoch\": 4, \"model\": 20}, \"Metrics\": {\"train_binary_classification_cross_entropy_objective\": {\"sum\": 0.5042463925796182, \"count\": 1, \"min\": 0.5042463925796182, \"max\": 0.5042463925796182}}}\u001b[0m\n",
      "\u001b[34m#metrics {\"StartTime\": 1659467816.3314388, \"EndTime\": 1659467816.3314555, \"Dimensions\": {\"Algorithm\": \"Linear Learner\", \"Host\": \"algo-1\", \"Operation\": \"training\", \"epoch\": 4, \"model\": 21}, \"Metrics\": {\"train_binary_classification_cross_entropy_objective\": {\"sum\": 0.506823005116314, \"count\": 1, \"min\": 0.506823005116314, \"max\": 0.506823005116314}}}\u001b[0m\n",
      "\u001b[34m#metrics {\"StartTime\": 1659467816.3315086, \"EndTime\": 1659467816.3315253, \"Dimensions\": {\"Algorithm\": \"Linear Learner\", \"Host\": \"algo-1\", \"Operation\": \"training\", \"epoch\": 4, \"model\": 22}, \"Metrics\": {\"train_binary_classification_cross_entropy_objective\": {\"sum\": 0.5042463927196071, \"count\": 1, \"min\": 0.5042463927196071, \"max\": 0.5042463927196071}}}\u001b[0m\n",
      "\u001b[34m#metrics {\"StartTime\": 1659467816.331576, \"EndTime\": 1659467816.3315926, \"Dimensions\": {\"Algorithm\": \"Linear Learner\", \"Host\": \"algo-1\", \"Operation\": \"training\", \"epoch\": 4, \"model\": 23}, \"Metrics\": {\"train_binary_classification_cross_entropy_objective\": {\"sum\": 0.5068230051863084, \"count\": 1, \"min\": 0.5068230051863084, \"max\": 0.5068230051863084}}}\u001b[0m\n",
      "\u001b[34m#metrics {\"StartTime\": 1659467816.3316455, \"EndTime\": 1659467816.3316634, \"Dimensions\": {\"Algorithm\": \"Linear Learner\", \"Host\": \"algo-1\", \"Operation\": \"training\", \"epoch\": 4, \"model\": 24}, \"Metrics\": {\"train_binary_classification_cross_entropy_objective\": {\"sum\": 0.5137200076835235, \"count\": 1, \"min\": 0.5137200076835235, \"max\": 0.5137200076835235}}}\u001b[0m\n",
      "\u001b[34m#metrics {\"StartTime\": 1659467816.331719, \"EndTime\": 1659467816.3317354, \"Dimensions\": {\"Algorithm\": \"Linear Learner\", \"Host\": \"algo-1\", \"Operation\": \"training\", \"epoch\": 4, \"model\": 25}, \"Metrics\": {\"train_binary_classification_cross_entropy_objective\": {\"sum\": 0.5138065244808838, \"count\": 1, \"min\": 0.5138065244808838, \"max\": 0.5138065244808838}}}\u001b[0m\n",
      "\u001b[34m#metrics {\"StartTime\": 1659467816.3317912, \"EndTime\": 1659467816.331809, \"Dimensions\": {\"Algorithm\": \"Linear Learner\", \"Host\": \"algo-1\", \"Operation\": \"training\", \"epoch\": 4, \"model\": 26}, \"Metrics\": {\"train_binary_classification_cross_entropy_objective\": {\"sum\": 0.513723619980185, \"count\": 1, \"min\": 0.513723619980185, \"max\": 0.513723619980185}}}\u001b[0m\n",
      "\u001b[34m#metrics {\"StartTime\": 1659467816.3318636, \"EndTime\": 1659467816.331882, \"Dimensions\": {\"Algorithm\": \"Linear Learner\", \"Host\": \"algo-1\", \"Operation\": \"training\", \"epoch\": 4, \"model\": 27}, \"Metrics\": {\"train_binary_classification_cross_entropy_objective\": {\"sum\": 0.513806663536515, \"count\": 1, \"min\": 0.513806663536515, \"max\": 0.513806663536515}}}\u001b[0m\n",
      "\u001b[34m#metrics {\"StartTime\": 1659467816.3319347, \"EndTime\": 1659467816.331952, \"Dimensions\": {\"Algorithm\": \"Linear Learner\", \"Host\": \"algo-1\", \"Operation\": \"training\", \"epoch\": 4, \"model\": 28}, \"Metrics\": {\"train_binary_classification_cross_entropy_objective\": {\"sum\": 0.5137295053931187, \"count\": 1, \"min\": 0.5137295053931187, \"max\": 0.5137295053931187}}}\u001b[0m\n",
      "\u001b[34m#metrics {\"StartTime\": 1659467816.3320086, \"EndTime\": 1659467816.3320246, \"Dimensions\": {\"Algorithm\": \"Linear Learner\", \"Host\": \"algo-1\", \"Operation\": \"training\", \"epoch\": 4, \"model\": 29}, \"Metrics\": {\"train_binary_classification_cross_entropy_objective\": {\"sum\": 0.5146822894035129, \"count\": 1, \"min\": 0.5146822894035129, \"max\": 0.5146822894035129}}}\u001b[0m\n",
      "\u001b[34m#metrics {\"StartTime\": 1659467816.3320875, \"EndTime\": 1659467816.332105, \"Dimensions\": {\"Algorithm\": \"Linear Learner\", \"Host\": \"algo-1\", \"Operation\": \"training\", \"epoch\": 4, \"model\": 30}, \"Metrics\": {\"train_binary_classification_cross_entropy_objective\": {\"sum\": 0.5137295973891512, \"count\": 1, \"min\": 0.5137295973891512, \"max\": 0.5137295973891512}}}\u001b[0m\n",
      "\u001b[34m#metrics {\"StartTime\": 1659467816.3321664, \"EndTime\": 1659467816.332183, \"Dimensions\": {\"Algorithm\": \"Linear Learner\", \"Host\": \"algo-1\", \"Operation\": \"training\", \"epoch\": 4, \"model\": 31}, \"Metrics\": {\"train_binary_classification_cross_entropy_objective\": {\"sum\": 0.514682290033463, \"count\": 1, \"min\": 0.514682290033463, \"max\": 0.514682290033463}}}\u001b[0m\n",
      "\u001b[34m[08/02/2022 19:16:56 INFO 140621894309696] #quality_metric: host=algo-1, epoch=4, train binary_classification_cross_entropy_objective <loss>=0.48056698624730476\u001b[0m\n",
      "\u001b[34m[2022-08-02 19:17:01.790] [tensorio] [info] epoch_stats={\"data_pipeline\": \"/opt/ml/input/data/validation\", \"epoch\": 14, \"duration\": 5423, \"num_examples\": 164, \"num_bytes\": 62806656}\u001b[0m\n",
      "\u001b[34m#metrics {\"StartTime\": 1659467821.8114011, \"EndTime\": 1659467821.8114703, \"Dimensions\": {\"Algorithm\": \"Linear Learner\", \"Host\": \"algo-1\", \"Operation\": \"training\", \"epoch\": 4, \"model\": 0}, \"Metrics\": {\"validation_binary_classification_cross_entropy_objective\": {\"sum\": 0.480922630101597, \"count\": 1, \"min\": 0.480922630101597, \"max\": 0.480922630101597}}}\u001b[0m\n",
      "\u001b[34m#metrics {\"StartTime\": 1659467821.8115637, \"EndTime\": 1659467821.8115869, \"Dimensions\": {\"Algorithm\": \"Linear Learner\", \"Host\": \"algo-1\", \"Operation\": \"training\", \"epoch\": 4, \"model\": 1}, \"Metrics\": {\"validation_binary_classification_cross_entropy_objective\": {\"sum\": 0.48198998257843884, \"count\": 1, \"min\": 0.48198998257843884, \"max\": 0.48198998257843884}}}\u001b[0m\n",
      "\u001b[34m#metrics {\"StartTime\": 1659467821.8116505, \"EndTime\": 1659467821.8116684, \"Dimensions\": {\"Algorithm\": \"Linear Learner\", \"Host\": \"algo-1\", \"Operation\": \"training\", \"epoch\": 4, \"model\": 2}, \"Metrics\": {\"validation_binary_classification_cross_entropy_objective\": {\"sum\": 0.4809256788927156, \"count\": 1, \"min\": 0.4809256788927156, \"max\": 0.4809256788927156}}}\u001b[0m\n",
      "\u001b[34m#metrics {\"StartTime\": 1659467821.8117218, \"EndTime\": 1659467821.8117392, \"Dimensions\": {\"Algorithm\": \"Linear Learner\", \"Host\": \"algo-1\", \"Operation\": \"training\", \"epoch\": 4, \"model\": 3}, \"Metrics\": {\"validation_binary_classification_cross_entropy_objective\": {\"sum\": 0.48198999619910904, \"count\": 1, \"min\": 0.48198999619910904, \"max\": 0.48198999619910904}}}\u001b[0m\n",
      "\u001b[34m#metrics {\"StartTime\": 1659467821.8117945, \"EndTime\": 1659467821.811813, \"Dimensions\": {\"Algorithm\": \"Linear Learner\", \"Host\": \"algo-1\", \"Operation\": \"training\", \"epoch\": 4, \"model\": 4}, \"Metrics\": {\"validation_binary_classification_cross_entropy_objective\": {\"sum\": 0.48093413397041074, \"count\": 1, \"min\": 0.48093413397041074, \"max\": 0.48093413397041074}}}\u001b[0m\n",
      "\u001b[34m#metrics {\"StartTime\": 1659467821.8118663, \"EndTime\": 1659467821.8118834, \"Dimensions\": {\"Algorithm\": \"Linear Learner\", \"Host\": \"algo-1\", \"Operation\": \"training\", \"epoch\": 4, \"model\": 5}, \"Metrics\": {\"validation_binary_classification_cross_entropy_objective\": {\"sum\": 0.49297439877182364, \"count\": 1, \"min\": 0.49297439877182364, \"max\": 0.49297439877182364}}}\u001b[0m\n",
      "\u001b[34m#metrics {\"StartTime\": 1659467821.8119354, \"EndTime\": 1659467821.8119516, \"Dimensions\": {\"Algorithm\": \"Linear Learner\", \"Host\": \"algo-1\", \"Operation\": \"training\", \"epoch\": 4, \"model\": 6}, \"Metrics\": {\"validation_binary_classification_cross_entropy_objective\": {\"sum\": 0.48093413807527025, \"count\": 1, \"min\": 0.48093413807527025, \"max\": 0.48093413807527025}}}\u001b[0m\n",
      "\u001b[34m#metrics {\"StartTime\": 1659467821.8120093, \"EndTime\": 1659467821.812028, \"Dimensions\": {\"Algorithm\": \"Linear Learner\", \"Host\": \"algo-1\", \"Operation\": \"training\", \"epoch\": 4, \"model\": 7}, \"Metrics\": {\"validation_binary_classification_cross_entropy_objective\": {\"sum\": 0.4929743942937951, \"count\": 1, \"min\": 0.4929743942937951, \"max\": 0.4929743942937951}}}\u001b[0m\n",
      "\u001b[34m#metrics {\"StartTime\": 1659467821.8120842, \"EndTime\": 1659467821.8121018, \"Dimensions\": {\"Algorithm\": \"Linear Learner\", \"Host\": \"algo-1\", \"Operation\": \"training\", \"epoch\": 4, \"model\": 8}, \"Metrics\": {\"validation_binary_classification_cross_entropy_objective\": {\"sum\": 0.48113319036351415, \"count\": 1, \"min\": 0.48113319036351415, \"max\": 0.48113319036351415}}}\u001b[0m\n",
      "\u001b[34m#metrics {\"StartTime\": 1659467821.8121583, \"EndTime\": 1659467821.8121774, \"Dimensions\": {\"Algorithm\": \"Linear Learner\", \"Host\": \"algo-1\", \"Operation\": \"training\", \"epoch\": 4, \"model\": 9}, \"Metrics\": {\"validation_binary_classification_cross_entropy_objective\": {\"sum\": 0.4822132507391016, \"count\": 1, \"min\": 0.4822132507391016, \"max\": 0.4822132507391016}}}\u001b[0m\n",
      "\u001b[34m#metrics {\"StartTime\": 1659467821.812231, \"EndTime\": 1659467821.8122485, \"Dimensions\": {\"Algorithm\": \"Linear Learner\", \"Host\": \"algo-1\", \"Operation\": \"training\", \"epoch\": 4, \"model\": 10}, \"Metrics\": {\"validation_binary_classification_cross_entropy_objective\": {\"sum\": 0.4811378212048099, \"count\": 1, \"min\": 0.4811378212048099, \"max\": 0.4811378212048099}}}\u001b[0m\n",
      "\u001b[34m#metrics {\"StartTime\": 1659467821.8123035, \"EndTime\": 1659467821.812322, \"Dimensions\": {\"Algorithm\": \"Linear Learner\", \"Host\": \"algo-1\", \"Operation\": \"training\", \"epoch\": 4, \"model\": 11}, \"Metrics\": {\"validation_binary_classification_cross_entropy_objective\": {\"sum\": 0.4822132473805802, \"count\": 1, \"min\": 0.4822132473805802, \"max\": 0.4822132473805802}}}\u001b[0m\n",
      "\u001b[34m#metrics {\"StartTime\": 1659467821.8123765, \"EndTime\": 1659467821.812394, \"Dimensions\": {\"Algorithm\": \"Linear Learner\", \"Host\": \"algo-1\", \"Operation\": \"training\", \"epoch\": 4, \"model\": 12}, \"Metrics\": {\"validation_binary_classification_cross_entropy_objective\": {\"sum\": 0.48114586654289077, \"count\": 1, \"min\": 0.48114586654289077, \"max\": 0.48114586654289077}}}\u001b[0m\n",
      "\u001b[34m#metrics {\"StartTime\": 1659467821.8124452, \"EndTime\": 1659467821.8124623, \"Dimensions\": {\"Algorithm\": \"Linear Learner\", \"Host\": \"algo-1\", \"Operation\": \"training\", \"epoch\": 4, \"model\": 13}, \"Metrics\": {\"validation_binary_classification_cross_entropy_objective\": {\"sum\": 0.4923655693658686, \"count\": 1, \"min\": 0.4923655693658686, \"max\": 0.4923655693658686}}}\u001b[0m\n",
      "\u001b[34m#metrics {\"StartTime\": 1659467821.8125136, \"EndTime\": 1659467821.8125298, \"Dimensions\": {\"Algorithm\": \"Linear Learner\", \"Host\": \"algo-1\", \"Operation\": \"training\", \"epoch\": 4, \"model\": 14}, \"Metrics\": {\"validation_binary_classification_cross_entropy_objective\": {\"sum\": 0.48114586374412294, \"count\": 1, \"min\": 0.48114586374412294, \"max\": 0.48114586374412294}}}\u001b[0m\n",
      "\u001b[34m#metrics {\"StartTime\": 1659467821.812585, \"EndTime\": 1659467821.8126044, \"Dimensions\": {\"Algorithm\": \"Linear Learner\", \"Host\": \"algo-1\", \"Operation\": \"training\", \"epoch\": 4, \"model\": 15}, \"Metrics\": {\"validation_binary_classification_cross_entropy_objective\": {\"sum\": 0.4923655609695651, \"count\": 1, \"min\": 0.4923655609695651, \"max\": 0.4923655609695651}}}\u001b[0m\n",
      "\u001b[34m#metrics {\"StartTime\": 1659467821.8126593, \"EndTime\": 1659467821.8126774, \"Dimensions\": {\"Algorithm\": \"Linear Learner\", \"Host\": \"algo-1\", \"Operation\": \"training\", \"epoch\": 4, \"model\": 16}, \"Metrics\": {\"validation_binary_classification_cross_entropy_objective\": {\"sum\": 0.5041662109401868, \"count\": 1, \"min\": 0.5041662109401868, \"max\": 0.5041662109401868}}}\u001b[0m\n",
      "\u001b[34m#metrics {\"StartTime\": 1659467821.8127325, \"EndTime\": 1659467821.81275, \"Dimensions\": {\"Algorithm\": \"Linear Learner\", \"Host\": \"algo-1\", \"Operation\": \"training\", \"epoch\": 4, \"model\": 17}, \"Metrics\": {\"validation_binary_classification_cross_entropy_objective\": {\"sum\": 0.5049646850426968, \"count\": 1, \"min\": 0.5049646850426968, \"max\": 0.5049646850426968}}}\u001b[0m\n",
      "\u001b[34m#metrics {\"StartTime\": 1659467821.8128064, \"EndTime\": 1659467821.8128235, \"Dimensions\": {\"Algorithm\": \"Linear Learner\", \"Host\": \"algo-1\", \"Operation\": \"training\", \"epoch\": 4, \"model\": 18}, \"Metrics\": {\"validation_binary_classification_cross_entropy_objective\": {\"sum\": 0.5042160103495839, \"count\": 1, \"min\": 0.5042160103495839, \"max\": 0.5042160103495839}}}\u001b[0m\n",
      "\u001b[34m#metrics {\"StartTime\": 1659467821.8128781, \"EndTime\": 1659467821.8128963, \"Dimensions\": {\"Algorithm\": \"Linear Learner\", \"Host\": \"algo-1\", \"Operation\": \"training\", \"epoch\": 4, \"model\": 19}, \"Metrics\": {\"validation_binary_classification_cross_entropy_objective\": {\"sum\": 0.5049646960511837, \"count\": 1, \"min\": 0.5049646960511837, \"max\": 0.5049646960511837}}}\u001b[0m\n",
      "\u001b[34m#metrics {\"StartTime\": 1659467821.8129506, \"EndTime\": 1659467821.8129678, \"Dimensions\": {\"Algorithm\": \"Linear Learner\", \"Host\": \"algo-1\", \"Operation\": \"training\", \"epoch\": 4, \"model\": 20}, \"Metrics\": {\"validation_binary_classification_cross_entropy_objective\": {\"sum\": 0.5042408232924788, \"count\": 1, \"min\": 0.5042408232924788, \"max\": 0.5042408232924788}}}\u001b[0m\n",
      "\u001b[34m#metrics {\"StartTime\": 1659467821.8130202, \"EndTime\": 1659467821.8130374, \"Dimensions\": {\"Algorithm\": \"Linear Learner\", \"Host\": \"algo-1\", \"Operation\": \"training\", \"epoch\": 4, \"model\": 21}, \"Metrics\": {\"validation_binary_classification_cross_entropy_objective\": {\"sum\": 0.5087453797044615, \"count\": 1, \"min\": 0.5087453797044615, \"max\": 0.5087453797044615}}}\u001b[0m\n",
      "\u001b[34m#metrics {\"StartTime\": 1659467821.8130925, \"EndTime\": 1659467821.8131094, \"Dimensions\": {\"Algorithm\": \"Linear Learner\", \"Host\": \"algo-1\", \"Operation\": \"training\", \"epoch\": 4, \"model\": 22}, \"Metrics\": {\"validation_binary_classification_cross_entropy_objective\": {\"sum\": 0.5042408270241692, \"count\": 1, \"min\": 0.5042408270241692, \"max\": 0.5042408270241692}}}\u001b[0m\n",
      "\u001b[34m#metrics {\"StartTime\": 1659467821.8131626, \"EndTime\": 1659467821.8131785, \"Dimensions\": {\"Algorithm\": \"Linear Learner\", \"Host\": \"algo-1\", \"Operation\": \"training\", \"epoch\": 4, \"model\": 23}, \"Metrics\": {\"validation_binary_classification_cross_entropy_objective\": {\"sum\": 0.5087453614191783, \"count\": 1, \"min\": 0.5087453614191783, \"max\": 0.5087453614191783}}}\u001b[0m\n",
      "\u001b[34m#metrics {\"StartTime\": 1659467821.8132288, \"EndTime\": 1659467821.813246, \"Dimensions\": {\"Algorithm\": \"Linear Learner\", \"Host\": \"algo-1\", \"Operation\": \"training\", \"epoch\": 4, \"model\": 24}, \"Metrics\": {\"validation_binary_classification_cross_entropy_objective\": {\"sum\": 0.5137162313656692, \"count\": 1, \"min\": 0.5137162313656692, \"max\": 0.5137162313656692}}}\u001b[0m\n",
      "\u001b[34m#metrics {\"StartTime\": 1659467821.8133276, \"EndTime\": 1659467821.8133464, \"Dimensions\": {\"Algorithm\": \"Linear Learner\", \"Host\": \"algo-1\", \"Operation\": \"training\", \"epoch\": 4, \"model\": 25}, \"Metrics\": {\"validation_binary_classification_cross_entropy_objective\": {\"sum\": 0.5141897621761418, \"count\": 1, \"min\": 0.5141897621761418, \"max\": 0.5141897621761418}}}\u001b[0m\n",
      "\u001b[34m#metrics {\"StartTime\": 1659467821.813403, \"EndTime\": 1659467821.8134212, \"Dimensions\": {\"Algorithm\": \"Linear Learner\", \"Host\": \"algo-1\", \"Operation\": \"training\", \"epoch\": 4, \"model\": 26}, \"Metrics\": {\"validation_binary_classification_cross_entropy_objective\": {\"sum\": 0.5137280365684889, \"count\": 1, \"min\": 0.5137280365684889, \"max\": 0.5137280365684889}}}\u001b[0m\n",
      "\u001b[34m#metrics {\"StartTime\": 1659467821.8134787, \"EndTime\": 1659467821.813497, \"Dimensions\": {\"Algorithm\": \"Linear Learner\", \"Host\": \"algo-1\", \"Operation\": \"training\", \"epoch\": 4, \"model\": 27}, \"Metrics\": {\"validation_binary_classification_cross_entropy_objective\": {\"sum\": 0.5141880379485576, \"count\": 1, \"min\": 0.5141880379485576, \"max\": 0.5141880379485576}}}\u001b[0m\n",
      "\u001b[34m#metrics {\"StartTime\": 1659467821.8135529, \"EndTime\": 1659467821.8135688, \"Dimensions\": {\"Algorithm\": \"Linear Learner\", \"Host\": \"algo-1\", \"Operation\": \"training\", \"epoch\": 4, \"model\": 28}, \"Metrics\": {\"validation_binary_classification_cross_entropy_objective\": {\"sum\": 0.5137299753682755, \"count\": 1, \"min\": 0.5137299753682755, \"max\": 0.5137299753682755}}}\u001b[0m\n",
      "\u001b[34m#metrics {\"StartTime\": 1659467821.8136249, \"EndTime\": 1659467821.8136423, \"Dimensions\": {\"Algorithm\": \"Linear Learner\", \"Host\": \"algo-1\", \"Operation\": \"training\", \"epoch\": 4, \"model\": 29}, \"Metrics\": {\"validation_binary_classification_cross_entropy_objective\": {\"sum\": 0.514070118208789, \"count\": 1, \"min\": 0.514070118208789, \"max\": 0.514070118208789}}}\u001b[0m\n",
      "\u001b[34m#metrics {\"StartTime\": 1659467821.8136947, \"EndTime\": 1659467821.8137114, \"Dimensions\": {\"Algorithm\": \"Linear Learner\", \"Host\": \"algo-1\", \"Operation\": \"training\", \"epoch\": 4, \"model\": 30}, \"Metrics\": {\"validation_binary_classification_cross_entropy_objective\": {\"sum\": 0.5137307448428515, \"count\": 1, \"min\": 0.5137307448428515, \"max\": 0.5137307448428515}}}\u001b[0m\n",
      "\u001b[34m#metrics {\"StartTime\": 1659467821.8137617, \"EndTime\": 1659467821.8137794, \"Dimensions\": {\"Algorithm\": \"Linear Learner\", \"Host\": \"algo-1\", \"Operation\": \"training\", \"epoch\": 4, \"model\": 31}, \"Metrics\": {\"validation_binary_classification_cross_entropy_objective\": {\"sum\": 0.5140701180222045, \"count\": 1, \"min\": 0.5140701180222045, \"max\": 0.5140701180222045}}}\u001b[0m\n",
      "\u001b[34m[08/02/2022 19:17:01 INFO 140621894309696] #quality_metric: host=algo-1, epoch=4, validation binary_classification_cross_entropy_objective <loss>=0.480922630101597\u001b[0m\n",
      "\u001b[34m[08/02/2022 19:17:01 INFO 140621894309696] #early_stopping_criteria_metric: host=algo-1, epoch=4, criteria=binary_classification_cross_entropy_objective, value=0.480922630101597\u001b[0m\n",
      "\u001b[34m[08/02/2022 19:17:01 INFO 140621894309696] Saving model for epoch: 4\u001b[0m\n",
      "\u001b[34m[08/02/2022 19:17:01 INFO 140621894309696] Saved checkpoint to \"/tmp/tmphhebj4i0/mx-mod-0000.params\"\u001b[0m\n",
      "\u001b[34m[08/02/2022 19:17:01 INFO 140621894309696] Early stop condition met. Stopping training.\u001b[0m\n",
      "\u001b[34m[08/02/2022 19:17:01 INFO 140621894309696] #progress_metric: host=algo-1, completed 100 % epochs\u001b[0m\n",
      "\u001b[34m#metrics {\"StartTime\": 1659467754.9564204, \"EndTime\": 1659467821.8225033, \"Dimensions\": {\"Algorithm\": \"Linear Learner\", \"Host\": \"algo-1\", \"Operation\": \"training\", \"epoch\": 4, \"Meta\": \"training_data_iter\"}, \"Metrics\": {\"Total Records Seen\": {\"sum\": 6554360.0, \"count\": 1, \"min\": 6554360, \"max\": 6554360}, \"Total Batches Seen\": {\"sum\": 6557.0, \"count\": 1, \"min\": 6557, \"max\": 6557}, \"Max Records Seen Between Resets\": {\"sum\": 1308472.0, \"count\": 1, \"min\": 1308472, \"max\": 1308472}, \"Max Batches Seen Between Resets\": {\"sum\": 1309.0, \"count\": 1, \"min\": 1309, \"max\": 1309}, \"Reset Count\": {\"sum\": 7.0, \"count\": 1, \"min\": 7, \"max\": 7}, \"Number of Records Since Last Reset\": {\"sum\": 1308472.0, \"count\": 1, \"min\": 1308472, \"max\": 1308472}, \"Number of Batches Since Last Reset\": {\"sum\": 1309.0, \"count\": 1, \"min\": 1309, \"max\": 1309}}}\u001b[0m\n",
      "\u001b[34m[08/02/2022 19:17:01 INFO 140621894309696] #throughput_metric: host=algo-1, train throughput=19568.50231361244 records/second\u001b[0m\n",
      "\u001b[34m[08/02/2022 19:17:01 WARNING 140621894309696] wait_for_all_workers will not sync workers since the kv store is not running distributed\u001b[0m\n",
      "\u001b[34m[08/02/2022 19:17:01 WARNING 140621894309696] wait_for_all_workers will not sync workers since the kv store is not running distributed\u001b[0m\n",
      "\u001b[34m[2022-08-02 19:17:07.773] [tensorio] [info] epoch_stats={\"data_pipeline\": \"/opt/ml/input/data/validation\", \"epoch\": 17, \"duration\": 5921, \"num_examples\": 164, \"num_bytes\": 62806656}\u001b[0m\n",
      "\u001b[34m[08/02/2022 19:17:07 INFO 140621894309696] #early_stopping_criteria_metric: host=algo-1, epoch=4, criteria=binary_classification_cross_entropy_objective, value=0.480922630101597\u001b[0m\n",
      "\u001b[34m[2022-08-02 19:17:08.694] [tensorio] [info] epoch_stats={\"data_pipeline\": \"/opt/ml/input/data/validation\", \"epoch\": 19, \"duration\": 906, \"num_examples\": 164, \"num_bytes\": 62806656}\u001b[0m\n",
      "\u001b[34m[08/02/2022 19:17:08 INFO 140621894309696] #validation_score (algo-1) : ('binary_classification_cross_entropy_objective', 0.4812285692001338)\u001b[0m\n",
      "\u001b[34m[08/02/2022 19:17:08 INFO 140621894309696] #validation_score (algo-1) : ('binary_classification_accuracy', 0.793432339400461)\u001b[0m\n",
      "\u001b[34m[08/02/2022 19:17:08 INFO 140621894309696] #validation_score (algo-1) : ('binary_f_1.000', 0.10448473282442748)\u001b[0m\n",
      "\u001b[34m[08/02/2022 19:17:08 INFO 140621894309696] #validation_score (algo-1) : ('precision', 0.580559646539028)\u001b[0m\n",
      "\u001b[34m[08/02/2022 19:17:08 INFO 140621894309696] #validation_score (algo-1) : ('recall', 0.05740832435266362)\u001b[0m\n",
      "\u001b[34m[08/02/2022 19:17:08 INFO 140621894309696] #validation_score (algo-1) : ('roc_auc_score', 0.6755339266052294)\u001b[0m\n",
      "\u001b[34m[08/02/2022 19:17:08 INFO 140621894309696] #validation_score (algo-1) : ('binary_balanced_accuracy', 0.5)\u001b[0m\n",
      "\u001b[34m[08/02/2022 19:17:08 INFO 140621894309696] #validation_score (algo-1) : ('binary_log_loss', 0.7494043266967695)\u001b[0m\n",
      "\u001b[34m[08/02/2022 19:17:08 INFO 140621894309696] #quality_metric: host=algo-1, validation binary_classification_cross_entropy_objective <loss>=0.4812285692001338\u001b[0m\n",
      "\u001b[34m[08/02/2022 19:17:08 INFO 140621894309696] #quality_metric: host=algo-1, validation binary_classification_accuracy <score>=0.793432339400461\u001b[0m\n",
      "\u001b[34m[08/02/2022 19:17:08 INFO 140621894309696] #quality_metric: host=algo-1, validation binary_f_1.000 <score>=0.10448473282442748\u001b[0m\n",
      "\u001b[34m[08/02/2022 19:17:08 INFO 140621894309696] #quality_metric: host=algo-1, validation precision <score>=0.580559646539028\u001b[0m\n",
      "\u001b[34m[08/02/2022 19:17:08 INFO 140621894309696] #quality_metric: host=algo-1, validation recall <score>=0.05740832435266362\u001b[0m\n",
      "\u001b[34m[08/02/2022 19:17:08 INFO 140621894309696] #quality_metric: host=algo-1, validation roc_auc_score <score>=0.6755339266052294\u001b[0m\n",
      "\u001b[34m[08/02/2022 19:17:08 INFO 140621894309696] #quality_metric: host=algo-1, validation binary_balanced_accuracy <score>=0.5\u001b[0m\n",
      "\u001b[34m[08/02/2022 19:17:08 INFO 140621894309696] #quality_metric: host=algo-1, validation binary_log_loss <score>=0.7494043266967695\u001b[0m\n",
      "\u001b[34m[08/02/2022 19:17:08 INFO 140621894309696] Best model found for hyperparameters: {\"optimizer\": \"adam\", \"learning_rate\": 0.005, \"l1\": 0.0, \"wd\": 0.0001, \"lr_scheduler_step\": 10, \"lr_scheduler_factor\": 0.99, \"lr_scheduler_minimum_lr\": 1e-05}\u001b[0m\n",
      "\u001b[34m[08/02/2022 19:17:09 INFO 140621894309696] Saved checkpoint to \"/tmp/tmp9bo677a0/mx-mod-0000.params\"\u001b[0m\n",
      "\u001b[34m[2022-08-02 19:17:09.006] [tensorio] [info] epoch_stats={\"data_pipeline\": \"/opt/ml/input/data/test\", \"epoch\": 0, \"duration\": 345333, \"num_examples\": 1, \"num_bytes\": 384000}\u001b[0m\n",
      "\u001b[34m[2022-08-02 19:17:09.797] [tensorio] [info] epoch_stats={\"data_pipeline\": \"/opt/ml/input/data/test\", \"epoch\": 1, \"duration\": 790, \"num_examples\": 164, \"num_bytes\": 62806656}\u001b[0m\n",
      "\u001b[34m#metrics {\"StartTime\": 1659467829.0032172, \"EndTime\": 1659467830.1091633, \"Dimensions\": {\"Algorithm\": \"Linear Learner\", \"Host\": \"algo-1\", \"Operation\": \"training\", \"Meta\": \"test_data_iter\"}, \"Metrics\": {\"Total Records Seen\": {\"sum\": 163559.0, \"count\": 1, \"min\": 163559, \"max\": 163559}, \"Total Batches Seen\": {\"sum\": 164.0, \"count\": 1, \"min\": 164, \"max\": 164}, \"Max Records Seen Between Resets\": {\"sum\": 163559.0, \"count\": 1, \"min\": 163559, \"max\": 163559}, \"Max Batches Seen Between Resets\": {\"sum\": 164.0, \"count\": 1, \"min\": 164, \"max\": 164}, \"Reset Count\": {\"sum\": 1.0, \"count\": 1, \"min\": 1, \"max\": 1}, \"Number of Records Since Last Reset\": {\"sum\": 163559.0, \"count\": 1, \"min\": 163559, \"max\": 163559}, \"Number of Batches Since Last Reset\": {\"sum\": 164.0, \"count\": 1, \"min\": 164, \"max\": 164}}}\u001b[0m\n",
      "\u001b[34m[08/02/2022 19:17:10 INFO 140621894309696] #test_score (algo-1) : ('binary_classification_cross_entropy_objective', 0.48052571910630776)\u001b[0m\n",
      "\u001b[34m[08/02/2022 19:17:10 INFO 140621894309696] #test_score (algo-1) : ('binary_classification_accuracy', 0.7925641511625774)\u001b[0m\n",
      "\u001b[34m[08/02/2022 19:17:10 INFO 140621894309696] #test_score (algo-1) : ('binary_f_1.000', 0.09837895296306139)\u001b[0m\n",
      "\u001b[34m[08/02/2022 19:17:10 INFO 140621894309696] #test_score (algo-1) : ('precision', 0.5614194722474978)\u001b[0m\n",
      "\u001b[34m[08/02/2022 19:17:10 INFO 140621894309696] #test_score (algo-1) : ('recall', 0.05391314478781348)\u001b[0m\n",
      "\u001b[34m[08/02/2022 19:17:10 INFO 140621894309696] #test_score (algo-1) : ('roc_auc_score', 0.677966386756482)\u001b[0m\n",
      "\u001b[34m[08/02/2022 19:17:10 INFO 140621894309696] #test_score (algo-1) : ('binary_balanced_accuracy', 0.5)\u001b[0m\n",
      "\u001b[34m[08/02/2022 19:17:10 INFO 140621894309696] #test_score (algo-1) : ('binary_log_loss', 0.7493260221060317)\u001b[0m\n",
      "\u001b[34m[08/02/2022 19:17:10 INFO 140621894309696] #quality_metric: host=algo-1, test binary_classification_cross_entropy_objective <loss>=0.48052571910630776\u001b[0m\n",
      "\u001b[34m[08/02/2022 19:17:10 INFO 140621894309696] #quality_metric: host=algo-1, test binary_classification_accuracy <score>=0.7925641511625774\u001b[0m\n",
      "\u001b[34m[08/02/2022 19:17:10 INFO 140621894309696] #quality_metric: host=algo-1, test binary_f_1.000 <score>=0.09837895296306139\u001b[0m\n",
      "\u001b[34m[08/02/2022 19:17:10 INFO 140621894309696] #quality_metric: host=algo-1, test precision <score>=0.5614194722474978\u001b[0m\n",
      "\u001b[34m[08/02/2022 19:17:10 INFO 140621894309696] #quality_metric: host=algo-1, test recall <score>=0.05391314478781348\u001b[0m\n",
      "\u001b[34m[08/02/2022 19:17:10 INFO 140621894309696] #quality_metric: host=algo-1, test roc_auc_score <score>=0.677966386756482\u001b[0m\n",
      "\u001b[34m[08/02/2022 19:17:10 INFO 140621894309696] #quality_metric: host=algo-1, test binary_balanced_accuracy <score>=0.5\u001b[0m\n",
      "\u001b[34m[08/02/2022 19:17:10 INFO 140621894309696] #quality_metric: host=algo-1, test binary_log_loss <score>=0.7493260221060317\u001b[0m\n",
      "\u001b[34m#metrics {\"StartTime\": 1659467483.6509187, \"EndTime\": 1659467830.1174467, \"Dimensions\": {\"Algorithm\": \"Linear Learner\", \"Host\": \"algo-1\", \"Operation\": \"training\"}, \"Metrics\": {\"initialize.time\": {\"sum\": 380.72776794433594, \"count\": 1, \"min\": 380.72776794433594, \"max\": 380.72776794433594}, \"epochs\": {\"sum\": 15.0, \"count\": 1, \"min\": 15, \"max\": 15}, \"check_early_stopping.time\": {\"sum\": 2.1784305572509766, \"count\": 6, \"min\": 0.1862049102783203, \"max\": 0.7560253143310547}, \"update.time\": {\"sum\": 337724.4427204132, \"count\": 5, \"min\": 66862.61367797852, \"max\": 68005.87487220764}, \"finalize.time\": {\"sum\": 7176.980495452881, \"count\": 1, \"min\": 7176.980495452881, \"max\": 7176.980495452881}, \"setuptime\": {\"sum\": 31.65459632873535, \"count\": 1, \"min\": 31.65459632873535, \"max\": 31.65459632873535}, \"totaltime\": {\"sum\": 346786.8552207947, \"count\": 1, \"min\": 346786.8552207947, \"max\": 346786.8552207947}}}\u001b[0m\n",
      "\n",
      "2022-08-02 19:17:17 Uploading - Uploading generated training model\n",
      "2022-08-02 19:17:45 Completed - Training job completed\n",
      "ProfilerReport-1659467263: NoIssuesFound\n",
      "Training seconds: 464\n",
      "Billable seconds: 464\n"
     ]
    }
   ],
   "source": [
    "classifier_estimator2.fit([train_records,val_records,test_records])"
   ]
  },
  {
   "cell_type": "markdown",
   "metadata": {},
   "source": [
    "Perform a batch prediction by using the newly trained model."
   ]
  },
  {
   "cell_type": "code",
   "execution_count": 137,
   "metadata": {},
   "outputs": [
    {
     "name": "stderr",
     "output_type": "stream",
     "text": [
      "Defaulting to the only supported framework/algorithm version: 1. Ignoring framework/algorithm version: 1.\n"
     ]
    },
    {
     "name": "stdout",
     "output_type": "stream",
     "text": [
      "...................................\u001b[34mDocker entrypoint called with argument(s): serve\u001b[0m\n",
      "\u001b[34mRunning default environment configuration script\u001b[0m\n",
      "\n",
      "\u001b[34m[08/02/2022 19:47:38 INFO 140270518318912] loaded entry point class algorithm.serve.server_config:config_api\u001b[0m\n",
      "\u001b[34m[08/02/2022 19:47:38 INFO 140270518318912] loading entry points\u001b[0m\n",
      "\u001b[34m[08/02/2022 19:47:38 INFO 140270518318912] loaded request iterator application/json\u001b[0m\n",
      "\u001b[35m[08/02/2022 19:47:38 INFO 140270518318912] loaded entry point class algorithm.serve.server_config:config_api\u001b[0m\n",
      "\u001b[35m[08/02/2022 19:47:38 INFO 140270518318912] loading entry points\u001b[0m\n",
      "\u001b[35m[08/02/2022 19:47:38 INFO 140270518318912] loaded request iterator application/json\u001b[0m\n",
      "\u001b[34m[08/02/2022 19:47:38 INFO 140270518318912] loaded request iterator application/jsonlines\u001b[0m\n",
      "\u001b[34m[08/02/2022 19:47:38 INFO 140270518318912] loaded request iterator application/x-recordio-protobuf\u001b[0m\n",
      "\u001b[34m[08/02/2022 19:47:38 INFO 140270518318912] loaded request iterator text/csv\u001b[0m\n",
      "\u001b[34m[08/02/2022 19:47:38 INFO 140270518318912] loaded response encoder application/json\u001b[0m\n",
      "\u001b[34m[08/02/2022 19:47:38 INFO 140270518318912] loaded response encoder application/jsonlines\u001b[0m\n",
      "\u001b[34m[08/02/2022 19:47:38 INFO 140270518318912] loaded response encoder application/x-recordio-protobuf\u001b[0m\n",
      "\u001b[34m[08/02/2022 19:47:38 INFO 140270518318912] loaded response encoder text/csv\u001b[0m\n",
      "\u001b[34m[08/02/2022 19:47:38 INFO 140270518318912] loaded entry point class algorithm:model\u001b[0m\n",
      "\u001b[34m[08/02/2022 19:47:38 INFO 140270518318912] Number of server workers: 4\u001b[0m\n",
      "\u001b[34m[08/02/2022 19:47:38 INFO 140270518318912] loading model...\u001b[0m\n",
      "\u001b[35m[08/02/2022 19:47:38 INFO 140270518318912] loaded request iterator application/jsonlines\u001b[0m\n",
      "\u001b[35m[08/02/2022 19:47:38 INFO 140270518318912] loaded request iterator application/x-recordio-protobuf\u001b[0m\n",
      "\u001b[35m[08/02/2022 19:47:38 INFO 140270518318912] loaded request iterator text/csv\u001b[0m\n",
      "\u001b[35m[08/02/2022 19:47:38 INFO 140270518318912] loaded response encoder application/json\u001b[0m\n",
      "\u001b[35m[08/02/2022 19:47:38 INFO 140270518318912] loaded response encoder application/jsonlines\u001b[0m\n",
      "\u001b[35m[08/02/2022 19:47:38 INFO 140270518318912] loaded response encoder application/x-recordio-protobuf\u001b[0m\n",
      "\u001b[35m[08/02/2022 19:47:38 INFO 140270518318912] loaded response encoder text/csv\u001b[0m\n",
      "\u001b[35m[08/02/2022 19:47:38 INFO 140270518318912] loaded entry point class algorithm:model\u001b[0m\n",
      "\u001b[35m[08/02/2022 19:47:38 INFO 140270518318912] Number of server workers: 4\u001b[0m\n",
      "\u001b[35m[08/02/2022 19:47:38 INFO 140270518318912] loading model...\u001b[0m\n",
      "\u001b[34m[08/02/2022 19:47:38 INFO 140270518318912] ...model loaded.\u001b[0m\n",
      "\u001b[34m[2022-08-02 19:47:38 +0000] [1] [INFO] Starting gunicorn 20.1.0\u001b[0m\n",
      "\u001b[34m[2022-08-02 19:47:38 +0000] [1] [INFO] Listening at: http://0.0.0.0:8080 (1)\u001b[0m\n",
      "\u001b[34m[2022-08-02 19:47:38 +0000] [1] [INFO] Using worker: sync\u001b[0m\n",
      "\u001b[34m[2022-08-02 19:47:38 +0000] [60] [INFO] Booting worker with pid: 60\u001b[0m\n",
      "\u001b[34m[2022-08-02 19:47:38 +0000] [69] [INFO] Booting worker with pid: 69\u001b[0m\n",
      "\u001b[34m[2022-08-02 19:47:38 +0000] [78] [INFO] Booting worker with pid: 78\u001b[0m\n",
      "\u001b[34m[2022-08-02 19:47:38 +0000] [87] [INFO] Booting worker with pid: 87\u001b[0m\n",
      "\u001b[35m[08/02/2022 19:47:38 INFO 140270518318912] ...model loaded.\u001b[0m\n",
      "\u001b[35m[2022-08-02 19:47:38 +0000] [1] [INFO] Starting gunicorn 20.1.0\u001b[0m\n",
      "\u001b[35m[2022-08-02 19:47:38 +0000] [1] [INFO] Listening at: http://0.0.0.0:8080 (1)\u001b[0m\n",
      "\u001b[35m[2022-08-02 19:47:38 +0000] [1] [INFO] Using worker: sync\u001b[0m\n",
      "\u001b[35m[2022-08-02 19:47:38 +0000] [60] [INFO] Booting worker with pid: 60\u001b[0m\n",
      "\u001b[35m[2022-08-02 19:47:38 +0000] [69] [INFO] Booting worker with pid: 69\u001b[0m\n",
      "\u001b[35m[2022-08-02 19:47:38 +0000] [78] [INFO] Booting worker with pid: 78\u001b[0m\n",
      "\u001b[35m[2022-08-02 19:47:38 +0000] [87] [INFO] Booting worker with pid: 87\u001b[0m\n",
      "\u001b[34m#metrics {\"StartTime\": 1659469658.5478501, \"EndTime\": 1659469659.7124977, \"Dimensions\": {\"Algorithm\": \"LinearLearnerModel\", \"Host\": \"UNKNOWN\", \"Operation\": \"scoring\"}, \"Metrics\": {\"execution_parameters.count\": {\"sum\": 1.0, \"count\": 1, \"min\": 1, \"max\": 1}}}\u001b[0m\n",
      "\u001b[35m#metrics {\"StartTime\": 1659469658.5478501, \"EndTime\": 1659469659.7124977, \"Dimensions\": {\"Algorithm\": \"LinearLearnerModel\", \"Host\": \"UNKNOWN\", \"Operation\": \"scoring\"}, \"Metrics\": {\"execution_parameters.count\": {\"sum\": 1.0, \"count\": 1, \"min\": 1, \"max\": 1}}}\u001b[0m\n",
      "\u001b[34m#metrics {\"StartTime\": 1659469659.712836, \"EndTime\": 1659469662.7551365, \"Dimensions\": {\"Algorithm\": \"LinearLearnerModel\", \"Host\": \"UNKNOWN\", \"Operation\": \"scoring\"}, \"Metrics\": {\"json.encoder.time\": {\"sum\": 151.41034126281738, \"count\": 1, \"min\": 151.41034126281738, \"max\": 151.41034126281738}, \"invocations.count\": {\"sum\": 1.0, \"count\": 1, \"min\": 1, \"max\": 1}}}\u001b[0m\n",
      "\u001b[34m#metrics {\"StartTime\": 1659469658.5478501, \"EndTime\": 1659469662.811105, \"Dimensions\": {\"Algorithm\": \"LinearLearnerModel\", \"Host\": \"UNKNOWN\", \"Operation\": \"scoring\"}, \"Metrics\": {\"json.encoder.time\": {\"sum\": 148.46229553222656, \"count\": 1, \"min\": 148.46229553222656, \"max\": 148.46229553222656}, \"invocations.count\": {\"sum\": 1.0, \"count\": 1, \"min\": 1, \"max\": 1}}}\u001b[0m\n",
      "\u001b[34m#metrics {\"StartTime\": 1659469658.5478501, \"EndTime\": 1659469662.8538167, \"Dimensions\": {\"Algorithm\": \"LinearLearnerModel\", \"Host\": \"UNKNOWN\", \"Operation\": \"scoring\"}, \"Metrics\": {\"json.encoder.time\": {\"sum\": 154.7536849975586, \"count\": 1, \"min\": 154.7536849975586, \"max\": 154.7536849975586}, \"invocations.count\": {\"sum\": 1.0, \"count\": 1, \"min\": 1, \"max\": 1}}}\u001b[0m\n",
      "\u001b[34m#metrics {\"StartTime\": 1659469658.5478501, \"EndTime\": 1659469662.8817458, \"Dimensions\": {\"Algorithm\": \"LinearLearnerModel\", \"Host\": \"UNKNOWN\", \"Operation\": \"scoring\"}, \"Metrics\": {\"json.encoder.time\": {\"sum\": 148.88477325439453, \"count\": 1, \"min\": 148.88477325439453, \"max\": 148.88477325439453}, \"invocations.count\": {\"sum\": 1.0, \"count\": 1, \"min\": 1, \"max\": 1}}}\u001b[0m\n",
      "\u001b[35m#metrics {\"StartTime\": 1659469659.712836, \"EndTime\": 1659469662.7551365, \"Dimensions\": {\"Algorithm\": \"LinearLearnerModel\", \"Host\": \"UNKNOWN\", \"Operation\": \"scoring\"}, \"Metrics\": {\"json.encoder.time\": {\"sum\": 151.41034126281738, \"count\": 1, \"min\": 151.41034126281738, \"max\": 151.41034126281738}, \"invocations.count\": {\"sum\": 1.0, \"count\": 1, \"min\": 1, \"max\": 1}}}\u001b[0m\n",
      "\u001b[35m#metrics {\"StartTime\": 1659469658.5478501, \"EndTime\": 1659469662.811105, \"Dimensions\": {\"Algorithm\": \"LinearLearnerModel\", \"Host\": \"UNKNOWN\", \"Operation\": \"scoring\"}, \"Metrics\": {\"json.encoder.time\": {\"sum\": 148.46229553222656, \"count\": 1, \"min\": 148.46229553222656, \"max\": 148.46229553222656}, \"invocations.count\": {\"sum\": 1.0, \"count\": 1, \"min\": 1, \"max\": 1}}}\u001b[0m\n",
      "\u001b[35m#metrics {\"StartTime\": 1659469658.5478501, \"EndTime\": 1659469662.8538167, \"Dimensions\": {\"Algorithm\": \"LinearLearnerModel\", \"Host\": \"UNKNOWN\", \"Operation\": \"scoring\"}, \"Metrics\": {\"json.encoder.time\": {\"sum\": 154.7536849975586, \"count\": 1, \"min\": 154.7536849975586, \"max\": 154.7536849975586}, \"invocations.count\": {\"sum\": 1.0, \"count\": 1, \"min\": 1, \"max\": 1}}}\u001b[0m\n",
      "\u001b[35m#metrics {\"StartTime\": 1659469658.5478501, \"EndTime\": 1659469662.8817458, \"Dimensions\": {\"Algorithm\": \"LinearLearnerModel\", \"Host\": \"UNKNOWN\", \"Operation\": \"scoring\"}, \"Metrics\": {\"json.encoder.time\": {\"sum\": 148.88477325439453, \"count\": 1, \"min\": 148.88477325439453, \"max\": 148.88477325439453}, \"invocations.count\": {\"sum\": 1.0, \"count\": 1, \"min\": 1, \"max\": 1}}}\u001b[0m\n",
      "\u001b[34m#metrics {\"StartTime\": 1659469662.8112814, \"EndTime\": 1659469663.6413639, \"Dimensions\": {\"Algorithm\": \"LinearLearnerModel\", \"Host\": \"UNKNOWN\", \"Operation\": \"scoring\"}, \"Metrics\": {\"json.encoder.time\": {\"sum\": 64.59426879882812, \"count\": 1, \"min\": 64.59426879882812, \"max\": 64.59426879882812}, \"invocations.count\": {\"sum\": 1.0, \"count\": 1, \"min\": 1, \"max\": 1}}}\u001b[0m\n",
      "\u001b[35m#metrics {\"StartTime\": 1659469662.8112814, \"EndTime\": 1659469663.6413639, \"Dimensions\": {\"Algorithm\": \"LinearLearnerModel\", \"Host\": \"UNKNOWN\", \"Operation\": \"scoring\"}, \"Metrics\": {\"json.encoder.time\": {\"sum\": 64.59426879882812, \"count\": 1, \"min\": 64.59426879882812, \"max\": 64.59426879882812}, \"invocations.count\": {\"sum\": 1.0, \"count\": 1, \"min\": 1, \"max\": 1}}}\u001b[0m\n",
      "\u001b[32m2022-08-02T19:47:39.722:[sagemaker logs]: MaxConcurrentTransforms=4, MaxPayloadInMB=6, BatchStrategy=MULTI_RECORD\u001b[0m\n",
      "\u001b[34mDocker entrypoint called with argument(s): serve\u001b[0m\n",
      "\u001b[34mRunning default environment configuration script\u001b[0m\n",
      "\u001b[35mDocker entrypoint called with argument(s): serve\u001b[0m\n",
      "\u001b[35mRunning default environment configuration script\u001b[0m\n",
      "\u001b[34m[08/02/2022 19:47:38 INFO 140270518318912] loaded entry point class algorithm.serve.server_config:config_api\u001b[0m\n",
      "\u001b[34m[08/02/2022 19:47:38 INFO 140270518318912] loading entry points\u001b[0m\n",
      "\u001b[34m[08/02/2022 19:47:38 INFO 140270518318912] loaded request iterator application/json\u001b[0m\n",
      "\u001b[35m[08/02/2022 19:47:38 INFO 140270518318912] loaded entry point class algorithm.serve.server_config:config_api\u001b[0m\n",
      "\u001b[35m[08/02/2022 19:47:38 INFO 140270518318912] loading entry points\u001b[0m\n",
      "\u001b[35m[08/02/2022 19:47:38 INFO 140270518318912] loaded request iterator application/json\u001b[0m\n",
      "\u001b[34m[08/02/2022 19:47:38 INFO 140270518318912] loaded request iterator application/jsonlines\u001b[0m\n",
      "\u001b[34m[08/02/2022 19:47:38 INFO 140270518318912] loaded request iterator application/x-recordio-protobuf\u001b[0m\n",
      "\u001b[34m[08/02/2022 19:47:38 INFO 140270518318912] loaded request iterator text/csv\u001b[0m\n",
      "\u001b[34m[08/02/2022 19:47:38 INFO 140270518318912] loaded response encoder application/json\u001b[0m\n",
      "\u001b[34m[08/02/2022 19:47:38 INFO 140270518318912] loaded response encoder application/jsonlines\u001b[0m\n",
      "\u001b[34m[08/02/2022 19:47:38 INFO 140270518318912] loaded response encoder application/x-recordio-protobuf\u001b[0m\n",
      "\u001b[34m[08/02/2022 19:47:38 INFO 140270518318912] loaded response encoder text/csv\u001b[0m\n",
      "\u001b[34m[08/02/2022 19:47:38 INFO 140270518318912] loaded entry point class algorithm:model\u001b[0m\n",
      "\u001b[34m[08/02/2022 19:47:38 INFO 140270518318912] Number of server workers: 4\u001b[0m\n",
      "\u001b[34m[08/02/2022 19:47:38 INFO 140270518318912] loading model...\u001b[0m\n",
      "\u001b[35m[08/02/2022 19:47:38 INFO 140270518318912] loaded request iterator application/jsonlines\u001b[0m\n",
      "\u001b[35m[08/02/2022 19:47:38 INFO 140270518318912] loaded request iterator application/x-recordio-protobuf\u001b[0m\n",
      "\u001b[35m[08/02/2022 19:47:38 INFO 140270518318912] loaded request iterator text/csv\u001b[0m\n",
      "\u001b[35m[08/02/2022 19:47:38 INFO 140270518318912] loaded response encoder application/json\u001b[0m\n",
      "\u001b[35m[08/02/2022 19:47:38 INFO 140270518318912] loaded response encoder application/jsonlines\u001b[0m\n",
      "\u001b[35m[08/02/2022 19:47:38 INFO 140270518318912] loaded response encoder application/x-recordio-protobuf\u001b[0m\n",
      "\u001b[35m[08/02/2022 19:47:38 INFO 140270518318912] loaded response encoder text/csv\u001b[0m\n",
      "\u001b[35m[08/02/2022 19:47:38 INFO 140270518318912] loaded entry point class algorithm:model\u001b[0m\n",
      "\u001b[35m[08/02/2022 19:47:38 INFO 140270518318912] Number of server workers: 4\u001b[0m\n",
      "\u001b[35m[08/02/2022 19:47:38 INFO 140270518318912] loading model...\u001b[0m\n",
      "\u001b[34m[08/02/2022 19:47:38 INFO 140270518318912] ...model loaded.\u001b[0m\n",
      "\u001b[34m[2022-08-02 19:47:38 +0000] [1] [INFO] Starting gunicorn 20.1.0\u001b[0m\n",
      "\u001b[34m[2022-08-02 19:47:38 +0000] [1] [INFO] Listening at: http://0.0.0.0:8080 (1)\u001b[0m\n",
      "\u001b[34m[2022-08-02 19:47:38 +0000] [1] [INFO] Using worker: sync\u001b[0m\n",
      "\u001b[34m[2022-08-02 19:47:38 +0000] [60] [INFO] Booting worker with pid: 60\u001b[0m\n",
      "\u001b[34m[2022-08-02 19:47:38 +0000] [69] [INFO] Booting worker with pid: 69\u001b[0m\n",
      "\u001b[34m[2022-08-02 19:47:38 +0000] [78] [INFO] Booting worker with pid: 78\u001b[0m\n",
      "\u001b[34m[2022-08-02 19:47:38 +0000] [87] [INFO] Booting worker with pid: 87\u001b[0m\n",
      "\u001b[35m[08/02/2022 19:47:38 INFO 140270518318912] ...model loaded.\u001b[0m\n",
      "\u001b[35m[2022-08-02 19:47:38 +0000] [1] [INFO] Starting gunicorn 20.1.0\u001b[0m\n",
      "\u001b[35m[2022-08-02 19:47:38 +0000] [1] [INFO] Listening at: http://0.0.0.0:8080 (1)\u001b[0m\n",
      "\u001b[35m[2022-08-02 19:47:38 +0000] [1] [INFO] Using worker: sync\u001b[0m\n",
      "\u001b[35m[2022-08-02 19:47:38 +0000] [60] [INFO] Booting worker with pid: 60\u001b[0m\n",
      "\u001b[35m[2022-08-02 19:47:38 +0000] [69] [INFO] Booting worker with pid: 69\u001b[0m\n",
      "\u001b[35m[2022-08-02 19:47:38 +0000] [78] [INFO] Booting worker with pid: 78\u001b[0m\n",
      "\u001b[35m[2022-08-02 19:47:38 +0000] [87] [INFO] Booting worker with pid: 87\u001b[0m\n",
      "\u001b[34m#metrics {\"StartTime\": 1659469658.5478501, \"EndTime\": 1659469659.7124977, \"Dimensions\": {\"Algorithm\": \"LinearLearnerModel\", \"Host\": \"UNKNOWN\", \"Operation\": \"scoring\"}, \"Metrics\": {\"execution_parameters.count\": {\"sum\": 1.0, \"count\": 1, \"min\": 1, \"max\": 1}}}\u001b[0m\n",
      "\u001b[35m#metrics {\"StartTime\": 1659469658.5478501, \"EndTime\": 1659469659.7124977, \"Dimensions\": {\"Algorithm\": \"LinearLearnerModel\", \"Host\": \"UNKNOWN\", \"Operation\": \"scoring\"}, \"Metrics\": {\"execution_parameters.count\": {\"sum\": 1.0, \"count\": 1, \"min\": 1, \"max\": 1}}}\u001b[0m\n",
      "\u001b[34m#metrics {\"StartTime\": 1659469659.712836, \"EndTime\": 1659469662.7551365, \"Dimensions\": {\"Algorithm\": \"LinearLearnerModel\", \"Host\": \"UNKNOWN\", \"Operation\": \"scoring\"}, \"Metrics\": {\"json.encoder.time\": {\"sum\": 151.41034126281738, \"count\": 1, \"min\": 151.41034126281738, \"max\": 151.41034126281738}, \"invocations.count\": {\"sum\": 1.0, \"count\": 1, \"min\": 1, \"max\": 1}}}\u001b[0m\n",
      "\u001b[34m#metrics {\"StartTime\": 1659469658.5478501, \"EndTime\": 1659469662.811105, \"Dimensions\": {\"Algorithm\": \"LinearLearnerModel\", \"Host\": \"UNKNOWN\", \"Operation\": \"scoring\"}, \"Metrics\": {\"json.encoder.time\": {\"sum\": 148.46229553222656, \"count\": 1, \"min\": 148.46229553222656, \"max\": 148.46229553222656}, \"invocations.count\": {\"sum\": 1.0, \"count\": 1, \"min\": 1, \"max\": 1}}}\u001b[0m\n",
      "\u001b[34m#metrics {\"StartTime\": 1659469658.5478501, \"EndTime\": 1659469662.8538167, \"Dimensions\": {\"Algorithm\": \"LinearLearnerModel\", \"Host\": \"UNKNOWN\", \"Operation\": \"scoring\"}, \"Metrics\": {\"json.encoder.time\": {\"sum\": 154.7536849975586, \"count\": 1, \"min\": 154.7536849975586, \"max\": 154.7536849975586}, \"invocations.count\": {\"sum\": 1.0, \"count\": 1, \"min\": 1, \"max\": 1}}}\u001b[0m\n",
      "\u001b[34m#metrics {\"StartTime\": 1659469658.5478501, \"EndTime\": 1659469662.8817458, \"Dimensions\": {\"Algorithm\": \"LinearLearnerModel\", \"Host\": \"UNKNOWN\", \"Operation\": \"scoring\"}, \"Metrics\": {\"json.encoder.time\": {\"sum\": 148.88477325439453, \"count\": 1, \"min\": 148.88477325439453, \"max\": 148.88477325439453}, \"invocations.count\": {\"sum\": 1.0, \"count\": 1, \"min\": 1, \"max\": 1}}}\u001b[0m\n",
      "\u001b[35m#metrics {\"StartTime\": 1659469659.712836, \"EndTime\": 1659469662.7551365, \"Dimensions\": {\"Algorithm\": \"LinearLearnerModel\", \"Host\": \"UNKNOWN\", \"Operation\": \"scoring\"}, \"Metrics\": {\"json.encoder.time\": {\"sum\": 151.41034126281738, \"count\": 1, \"min\": 151.41034126281738, \"max\": 151.41034126281738}, \"invocations.count\": {\"sum\": 1.0, \"count\": 1, \"min\": 1, \"max\": 1}}}\u001b[0m\n",
      "\u001b[35m#metrics {\"StartTime\": 1659469658.5478501, \"EndTime\": 1659469662.811105, \"Dimensions\": {\"Algorithm\": \"LinearLearnerModel\", \"Host\": \"UNKNOWN\", \"Operation\": \"scoring\"}, \"Metrics\": {\"json.encoder.time\": {\"sum\": 148.46229553222656, \"count\": 1, \"min\": 148.46229553222656, \"max\": 148.46229553222656}, \"invocations.count\": {\"sum\": 1.0, \"count\": 1, \"min\": 1, \"max\": 1}}}\u001b[0m\n",
      "\u001b[35m#metrics {\"StartTime\": 1659469658.5478501, \"EndTime\": 1659469662.8538167, \"Dimensions\": {\"Algorithm\": \"LinearLearnerModel\", \"Host\": \"UNKNOWN\", \"Operation\": \"scoring\"}, \"Metrics\": {\"json.encoder.time\": {\"sum\": 154.7536849975586, \"count\": 1, \"min\": 154.7536849975586, \"max\": 154.7536849975586}, \"invocations.count\": {\"sum\": 1.0, \"count\": 1, \"min\": 1, \"max\": 1}}}\u001b[0m\n",
      "\u001b[35m#metrics {\"StartTime\": 1659469658.5478501, \"EndTime\": 1659469662.8817458, \"Dimensions\": {\"Algorithm\": \"LinearLearnerModel\", \"Host\": \"UNKNOWN\", \"Operation\": \"scoring\"}, \"Metrics\": {\"json.encoder.time\": {\"sum\": 148.88477325439453, \"count\": 1, \"min\": 148.88477325439453, \"max\": 148.88477325439453}, \"invocations.count\": {\"sum\": 1.0, \"count\": 1, \"min\": 1, \"max\": 1}}}\u001b[0m\n",
      "\u001b[34m#metrics {\"StartTime\": 1659469662.8112814, \"EndTime\": 1659469663.6413639, \"Dimensions\": {\"Algorithm\": \"LinearLearnerModel\", \"Host\": \"UNKNOWN\", \"Operation\": \"scoring\"}, \"Metrics\": {\"json.encoder.time\": {\"sum\": 64.59426879882812, \"count\": 1, \"min\": 64.59426879882812, \"max\": 64.59426879882812}, \"invocations.count\": {\"sum\": 1.0, \"count\": 1, \"min\": 1, \"max\": 1}}}\u001b[0m\n",
      "\u001b[35m#metrics {\"StartTime\": 1659469662.8112814, \"EndTime\": 1659469663.6413639, \"Dimensions\": {\"Algorithm\": \"LinearLearnerModel\", \"Host\": \"UNKNOWN\", \"Operation\": \"scoring\"}, \"Metrics\": {\"json.encoder.time\": {\"sum\": 64.59426879882812, \"count\": 1, \"min\": 64.59426879882812, \"max\": 64.59426879882812}, \"invocations.count\": {\"sum\": 1.0, \"count\": 1, \"min\": 1, \"max\": 1}}}\u001b[0m\n",
      "\u001b[32m2022-08-02T19:47:39.722:[sagemaker logs]: MaxConcurrentTransforms=4, MaxPayloadInMB=6, BatchStrategy=MULTI_RECORD\u001b[0m\n"
     ]
    }
   ],
   "source": [
    "test_labels2, target_predicted2 = batch_linear_predict(test, classifier_estimator2)"
   ]
  },
  {
   "cell_type": "markdown",
   "metadata": {},
   "source": [
    "Plot a confusion matrix."
   ]
  },
  {
   "cell_type": "code",
   "execution_count": 138,
   "metadata": {},
   "outputs": [
    {
     "data": {
      "image/png": "[encoded data removed]",
      "text/plain": [
       "<Figure size 432x288 with 1 Axes>"
      ]
     },
     "metadata": {
      "needs_background": "light"
     },
     "output_type": "display_data"
    }
   ],
   "source": [
    "plot_confusion_matrix(test_labels2, target_predicted2)"
   ]
  },
  {
   "cell_type": "markdown",
   "metadata": {},
   "source": [
    "Plot the ROC curve."
   ]
  },
  {
   "cell_type": "code",
   "execution_count": 139,
   "metadata": {},
   "outputs": [
    {
     "name": "stdout",
     "output_type": "stream",
     "text": [
      "Sensitivity or TPR:  5.391314478781347 %\n",
      "Specificity or TNR:  98.88103013325492 %\n",
      "Precision:  56.14194722474978 %\n",
      "Negative Predictive Value:  79.73193894996943 %\n",
      "False Positive Rate:  1.1189698667450823 %\n",
      "False Negative Rate:  94.60868552121865 %\n",
      "False Discovery Rate:  43.85805277525023 %\n",
      "Accuracy:  79.25641511625774 %\n",
      "Validation AUC 0.5213617230601812\n",
      "Figure(432x288)\n"
     ]
    },
    {
     "data": {
      "image/png": "[encoded data removed]",
      "text/plain": [
       "<Figure size 432x288 with 2 Axes>"
      ]
     },
     "metadata": {
      "needs_background": "light"
     },
     "output_type": "display_data"
    },
    {
     "data": {
      "text/plain": [
       "<Figure size 432x288 with 0 Axes>"
      ]
     },
     "metadata": {},
     "output_type": "display_data"
    }
   ],
   "source": [
    "plot_roc(test_labels2, target_predicted2)"
   ]
  },
  {
   "cell_type": "markdown",
   "metadata": {},
   "source": [
    "The linear model shows only a little improvement in performance. Try a tree-based ensemble model, which is called *XGBoost*, with Amazon SageMaker."
   ]
  },
  {
   "cell_type": "markdown",
   "metadata": {},
   "source": [
    "### Try the XGBoost model"
   ]
  },
  {
   "cell_type": "markdown",
   "metadata": {},
   "source": [
    "Perform these steps:  \n",
    "\n",
    "1. Use the training set variables and save them as CSV files: train.csv, validation.csv and test.csv.\n",
    "2. Store the bucket name in the variable. The Amazon S3 bucket name is provided to the left of the lab instructions.  \n",
    "a. `bucket = <LabBucketName>`  \n",
    "b. `prefix = 'flight-xgb'`  \n",
    "3. Use the AWS SDK for Python (Boto3) to upload the model to the bucket.    "
   ]
  },
  {
   "cell_type": "code",
   "execution_count": 140,
   "metadata": {},
   "outputs": [],
   "source": [
    "bucket='c56451a956613l2388373t1w807694885535-flightbucket-1w156ne1fdwbj'\n",
    "prefix='flight-xgb'\n",
    "train_file='flight_train.csv'\n",
    "test_file='flight_test.csv'\n",
    "validate_file='flight_validate.csv'\n",
    "whole_file='flight.csv'\n",
    "s3_resource = boto3.Session().resource('s3')\n",
    "\n",
    "def upload_s3_csv(filename, folder, dataframe):\n",
    "    csv_buffer = io.StringIO()\n",
    "    dataframe.to_csv(csv_buffer, header=False, index=False )\n",
    "    s3_resource.Bucket(bucket).Object(os.path.join(prefix, folder, filename)).put(Body=csv_buffer.getvalue())\n",
    "\n",
    "upload_s3_csv(train_file, 'train', train)\n",
    "upload_s3_csv(test_file, 'test', test)\n",
    "upload_s3_csv(validate_file, 'validate', validate)"
   ]
  },
  {
   "cell_type": "markdown",
   "metadata": {},
   "source": [
    "Use the `sagemaker.inputs.TrainingInput` function to create a `record_set` for the training and validation datasets."
   ]
  },
  {
   "cell_type": "code",
   "execution_count": 141,
   "metadata": {},
   "outputs": [],
   "source": [
    "train_channel = sagemaker.inputs.TrainingInput(\n",
    "    \"s3://{}/{}/train/\".format(bucket,prefix,train_file),\n",
    "    content_type='text/csv')\n",
    "\n",
    "validate_channel = sagemaker.inputs.TrainingInput(\n",
    "    \"s3://{}/{}/validate/\".format(bucket,prefix,validate_file),\n",
    "    content_type='text/csv')\n",
    "\n",
    "data_channels = {'train': train_channel, 'validation': validate_channel}"
   ]
  },
  {
   "cell_type": "code",
   "execution_count": 142,
   "metadata": {},
   "outputs": [],
   "source": [
    "from sagemaker.image_uris import retrieve\n",
    "container = retrieve('xgboost',boto3.Session().region_name,'1.0-1')"
   ]
  },
  {
   "cell_type": "code",
   "execution_count": 143,
   "metadata": {},
   "outputs": [
    {
     "name": "stdout",
     "output_type": "stream",
     "text": [
      "2022-08-02 19:57:41 Starting - Starting the training job...\n",
      "2022-08-02 19:58:09 Starting - Preparing the instances for trainingProfilerReport-1659470261: InProgress\n",
      ".........\n",
      "2022-08-02 19:59:42 Downloading - Downloading input data......\n",
      "2022-08-02 20:00:39 Training - Downloading the training image.....\u001b[34mINFO:sagemaker-containers:Imported framework sagemaker_xgboost_container.training\u001b[0m\n",
      "\u001b[34mINFO:sagemaker-containers:Failed to parse hyperparameter eval_metric value auc to Json.\u001b[0m\n",
      "\u001b[34mReturning the value itself\u001b[0m\n",
      "\u001b[34mINFO:sagemaker-containers:Failed to parse hyperparameter objective value binary:logistic to Json.\u001b[0m\n",
      "\u001b[34mReturning the value itself\u001b[0m\n",
      "\u001b[34mINFO:sagemaker-containers:No GPUs detected (normal if no gpus installed)\u001b[0m\n",
      "\u001b[34mINFO:sagemaker_xgboost_container.training:Running XGBoost Sagemaker in algorithm mode\u001b[0m\n",
      "\u001b[34mINFO:root:Determined delimiter of CSV input is ','\u001b[0m\n",
      "\u001b[34mINFO:root:Determined delimiter of CSV input is ','\u001b[0m\n",
      "\u001b[34mINFO:root:Determined delimiter of CSV input is ','\u001b[0m\n",
      "\n",
      "2022-08-02 20:01:39 Training - Training image download completed. Training in progress.\u001b[34m[20:01:32] 1308472x84 matrix with 109911648 entries loaded from /opt/ml/input/data/train?format=csv&label_column=0&delimiter=,\u001b[0m\n",
      "\u001b[34mINFO:root:Determined delimiter of CSV input is ','\u001b[0m\n",
      "\u001b[34m[20:01:33] 163559x84 matrix with 13738956 entries loaded from /opt/ml/input/data/validation?format=csv&label_column=0&delimiter=,\u001b[0m\n",
      "\u001b[34mINFO:root:Single node training.\u001b[0m\n",
      "\u001b[34mINFO:root:Train matrix has 1308472 rows\u001b[0m\n",
      "\u001b[34mINFO:root:Validation matrix has 163559 rows\u001b[0m\n",
      "\u001b[34m[0]#011train-auc:0.65345#011validation-auc:0.65382\u001b[0m\n",
      "\u001b[34m[1]#011train-auc:0.66726#011validation-auc:0.66690\u001b[0m\n",
      "\u001b[34m[2]#011train-auc:0.66914#011validation-auc:0.66928\u001b[0m\n",
      "\u001b[34m[3]#011train-auc:0.67457#011validation-auc:0.67475\u001b[0m\n",
      "\u001b[34m[4]#011train-auc:0.67521#011validation-auc:0.67552\u001b[0m\n",
      "\u001b[34m[5]#011train-auc:0.67793#011validation-auc:0.67817\u001b[0m\n",
      "\u001b[34m[6]#011train-auc:0.67917#011validation-auc:0.67937\u001b[0m\n",
      "\u001b[34m[7]#011train-auc:0.68173#011validation-auc:0.68192\u001b[0m\n",
      "\u001b[34m[8]#011train-auc:0.68415#011validation-auc:0.68412\u001b[0m\n",
      "\u001b[34m[9]#011train-auc:0.68695#011validation-auc:0.68682\u001b[0m\n",
      "\u001b[34m[10]#011train-auc:0.68845#011validation-auc:0.68859\u001b[0m\n",
      "\u001b[34m[11]#011train-auc:0.69106#011validation-auc:0.69114\u001b[0m\n",
      "\u001b[34m[12]#011train-auc:0.69312#011validation-auc:0.69290\u001b[0m\n",
      "\u001b[34m[13]#011train-auc:0.69432#011validation-auc:0.69412\u001b[0m\n",
      "\u001b[34m[14]#011train-auc:0.69615#011validation-auc:0.69609\u001b[0m\n",
      "\u001b[34m[15]#011train-auc:0.69758#011validation-auc:0.69739\u001b[0m\n",
      "\u001b[34m[16]#011train-auc:0.69874#011validation-auc:0.69830\u001b[0m\n",
      "\u001b[34m[17]#011train-auc:0.70053#011validation-auc:0.70013\u001b[0m\n",
      "\u001b[34m[18]#011train-auc:0.70163#011validation-auc:0.70110\u001b[0m\n",
      "\u001b[34m[19]#011train-auc:0.70279#011validation-auc:0.70229\u001b[0m\n",
      "\u001b[34m[20]#011train-auc:0.70395#011validation-auc:0.70342\u001b[0m\n",
      "\u001b[34m[21]#011train-auc:0.70507#011validation-auc:0.70451\u001b[0m\n",
      "\u001b[34m[22]#011train-auc:0.70571#011validation-auc:0.70502\u001b[0m\n",
      "\u001b[34m[23]#011train-auc:0.70659#011validation-auc:0.70576\u001b[0m\n",
      "\u001b[34m[24]#011train-auc:0.70717#011validation-auc:0.70624\u001b[0m\n",
      "\u001b[34m[25]#011train-auc:0.70781#011validation-auc:0.70686\u001b[0m\n",
      "\u001b[34m[26]#011train-auc:0.70839#011validation-auc:0.70743\u001b[0m\n",
      "\u001b[34m[27]#011train-auc:0.70906#011validation-auc:0.70808\u001b[0m\n",
      "\u001b[34m[28]#011train-auc:0.70952#011validation-auc:0.70842\u001b[0m\n",
      "\u001b[34m[29]#011train-auc:0.71017#011validation-auc:0.70900\u001b[0m\n",
      "\u001b[34m[30]#011train-auc:0.71252#011validation-auc:0.71108\u001b[0m\n",
      "\u001b[34m[31]#011train-auc:0.71305#011validation-auc:0.71154\u001b[0m\n",
      "\u001b[34m[32]#011train-auc:0.71409#011validation-auc:0.71235\u001b[0m\n",
      "\u001b[34m[33]#011train-auc:0.71475#011validation-auc:0.71281\u001b[0m\n",
      "\u001b[34m[34]#011train-auc:0.71533#011validation-auc:0.71332\u001b[0m\n",
      "\u001b[34m[35]#011train-auc:0.71615#011validation-auc:0.71411\u001b[0m\n",
      "\u001b[34m[36]#011train-auc:0.71674#011validation-auc:0.71466\u001b[0m\n",
      "\u001b[34m[37]#011train-auc:0.71707#011validation-auc:0.71492\u001b[0m\n",
      "\u001b[34m[38]#011train-auc:0.71763#011validation-auc:0.71543\u001b[0m\n",
      "\u001b[34m[39]#011train-auc:0.71797#011validation-auc:0.71571\u001b[0m\n",
      "\u001b[34m[40]#011train-auc:0.71822#011validation-auc:0.71592\u001b[0m\n",
      "\u001b[34m[41]#011train-auc:0.71846#011validation-auc:0.71618\u001b[0m\n",
      "\u001b[34m[42]#011train-auc:0.71915#011validation-auc:0.71671\u001b[0m\n",
      "\u001b[34m[43]#011train-auc:0.71967#011validation-auc:0.71720\u001b[0m\n",
      "\u001b[34m[44]#011train-auc:0.72008#011validation-auc:0.71748\u001b[0m\n",
      "\u001b[34m[45]#011train-auc:0.72107#011validation-auc:0.71848\u001b[0m\n",
      "\u001b[34m[46]#011train-auc:0.72133#011validation-auc:0.71871\u001b[0m\n",
      "\u001b[34m[47]#011train-auc:0.72176#011validation-auc:0.71915\u001b[0m\n"
     ]
    },
    {
     "ename": "KeyboardInterrupt",
     "evalue": "",
     "output_type": "error",
     "traceback": [
      "\u001b[0;31m---------------------------------------------------------------------------\u001b[0m",
      "\u001b[0;31mKeyboardInterrupt\u001b[0m                         Traceback (most recent call last)",
      "\u001b[0;32m/tmp/ipykernel_9214/2525073976.py\u001b[0m in \u001b[0;36m<cell line: 20>\u001b[0;34m()\u001b[0m\n\u001b[1;32m     18\u001b[0m                         num_round=100)\n\u001b[1;32m     19\u001b[0m \u001b[0;34m\u001b[0m\u001b[0m\n\u001b[0;32m---> 20\u001b[0;31m \u001b[0mxgb\u001b[0m\u001b[0;34m.\u001b[0m\u001b[0mfit\u001b[0m\u001b[0;34m(\u001b[0m\u001b[0minputs\u001b[0m\u001b[0;34m=\u001b[0m\u001b[0mdata_channels\u001b[0m\u001b[0;34m)\u001b[0m\u001b[0;34m\u001b[0m\u001b[0;34m\u001b[0m\u001b[0m\n\u001b[0m",
      "\u001b[0;32m~/anaconda3/envs/python3/lib/python3.8/site-packages/sagemaker/workflow/pipeline_context.py\u001b[0m in \u001b[0;36mwrapper\u001b[0;34m(*args, **kwargs)\u001b[0m\n\u001b[1;32m    208\u001b[0m             \u001b[0;32mreturn\u001b[0m \u001b[0mself_instance\u001b[0m\u001b[0;34m.\u001b[0m\u001b[0msagemaker_session\u001b[0m\u001b[0;34m.\u001b[0m\u001b[0mcontext\u001b[0m\u001b[0;34m\u001b[0m\u001b[0;34m\u001b[0m\u001b[0m\n\u001b[1;32m    209\u001b[0m \u001b[0;34m\u001b[0m\u001b[0m\n\u001b[0;32m--> 210\u001b[0;31m         \u001b[0;32mreturn\u001b[0m \u001b[0mrun_func\u001b[0m\u001b[0;34m(\u001b[0m\u001b[0;34m*\u001b[0m\u001b[0margs\u001b[0m\u001b[0;34m,\u001b[0m \u001b[0;34m**\u001b[0m\u001b[0mkwargs\u001b[0m\u001b[0;34m)\u001b[0m\u001b[0;34m\u001b[0m\u001b[0;34m\u001b[0m\u001b[0m\n\u001b[0m\u001b[1;32m    211\u001b[0m \u001b[0;34m\u001b[0m\u001b[0m\n\u001b[1;32m    212\u001b[0m     \u001b[0;32mreturn\u001b[0m \u001b[0mwrapper\u001b[0m\u001b[0;34m\u001b[0m\u001b[0;34m\u001b[0m\u001b[0m\n",
      "\u001b[0;32m~/anaconda3/envs/python3/lib/python3.8/site-packages/sagemaker/estimator.py\u001b[0m in \u001b[0;36mfit\u001b[0;34m(self, inputs, wait, logs, job_name, experiment_config)\u001b[0m\n\u001b[1;32m   1019\u001b[0m         \u001b[0mself\u001b[0m\u001b[0;34m.\u001b[0m\u001b[0mjobs\u001b[0m\u001b[0;34m.\u001b[0m\u001b[0mappend\u001b[0m\u001b[0;34m(\u001b[0m\u001b[0mself\u001b[0m\u001b[0;34m.\u001b[0m\u001b[0mlatest_training_job\u001b[0m\u001b[0;34m)\u001b[0m\u001b[0;34m\u001b[0m\u001b[0;34m\u001b[0m\u001b[0m\n\u001b[1;32m   1020\u001b[0m         \u001b[0;32mif\u001b[0m \u001b[0mwait\u001b[0m\u001b[0;34m:\u001b[0m\u001b[0;34m\u001b[0m\u001b[0;34m\u001b[0m\u001b[0m\n\u001b[0;32m-> 1021\u001b[0;31m             \u001b[0mself\u001b[0m\u001b[0;34m.\u001b[0m\u001b[0mlatest_training_job\u001b[0m\u001b[0;34m.\u001b[0m\u001b[0mwait\u001b[0m\u001b[0;34m(\u001b[0m\u001b[0mlogs\u001b[0m\u001b[0;34m=\u001b[0m\u001b[0mlogs\u001b[0m\u001b[0;34m)\u001b[0m\u001b[0;34m\u001b[0m\u001b[0;34m\u001b[0m\u001b[0m\n\u001b[0m\u001b[1;32m   1022\u001b[0m \u001b[0;34m\u001b[0m\u001b[0m\n\u001b[1;32m   1023\u001b[0m     \u001b[0;32mdef\u001b[0m \u001b[0m_compilation_job_name\u001b[0m\u001b[0;34m(\u001b[0m\u001b[0mself\u001b[0m\u001b[0;34m)\u001b[0m\u001b[0;34m:\u001b[0m\u001b[0;34m\u001b[0m\u001b[0;34m\u001b[0m\u001b[0m\n",
      "\u001b[0;32m~/anaconda3/envs/python3/lib/python3.8/site-packages/sagemaker/estimator.py\u001b[0m in \u001b[0;36mwait\u001b[0;34m(self, logs)\u001b[0m\n\u001b[1;32m   2097\u001b[0m         \u001b[0;31m# If logs are requested, call logs_for_jobs.\u001b[0m\u001b[0;34m\u001b[0m\u001b[0;34m\u001b[0m\u001b[0;34m\u001b[0m\u001b[0m\n\u001b[1;32m   2098\u001b[0m         \u001b[0;32mif\u001b[0m \u001b[0mlogs\u001b[0m \u001b[0;34m!=\u001b[0m \u001b[0;34m\"None\"\u001b[0m\u001b[0;34m:\u001b[0m\u001b[0;34m\u001b[0m\u001b[0;34m\u001b[0m\u001b[0m\n\u001b[0;32m-> 2099\u001b[0;31m             \u001b[0mself\u001b[0m\u001b[0;34m.\u001b[0m\u001b[0msagemaker_session\u001b[0m\u001b[0;34m.\u001b[0m\u001b[0mlogs_for_job\u001b[0m\u001b[0;34m(\u001b[0m\u001b[0mself\u001b[0m\u001b[0;34m.\u001b[0m\u001b[0mjob_name\u001b[0m\u001b[0;34m,\u001b[0m \u001b[0mwait\u001b[0m\u001b[0;34m=\u001b[0m\u001b[0;32mTrue\u001b[0m\u001b[0;34m,\u001b[0m \u001b[0mlog_type\u001b[0m\u001b[0;34m=\u001b[0m\u001b[0mlogs\u001b[0m\u001b[0;34m)\u001b[0m\u001b[0;34m\u001b[0m\u001b[0;34m\u001b[0m\u001b[0m\n\u001b[0m\u001b[1;32m   2100\u001b[0m         \u001b[0;32melse\u001b[0m\u001b[0;34m:\u001b[0m\u001b[0;34m\u001b[0m\u001b[0;34m\u001b[0m\u001b[0m\n\u001b[1;32m   2101\u001b[0m             \u001b[0mself\u001b[0m\u001b[0;34m.\u001b[0m\u001b[0msagemaker_session\u001b[0m\u001b[0;34m.\u001b[0m\u001b[0mwait_for_job\u001b[0m\u001b[0;34m(\u001b[0m\u001b[0mself\u001b[0m\u001b[0;34m.\u001b[0m\u001b[0mjob_name\u001b[0m\u001b[0;34m)\u001b[0m\u001b[0;34m\u001b[0m\u001b[0;34m\u001b[0m\u001b[0m\n",
      "\u001b[0;32m~/anaconda3/envs/python3/lib/python3.8/site-packages/sagemaker/session.py\u001b[0m in \u001b[0;36mlogs_for_job\u001b[0;34m(self, job_name, wait, poll, log_type)\u001b[0m\n\u001b[1;32m   3799\u001b[0m                 \u001b[0;32mbreak\u001b[0m\u001b[0;34m\u001b[0m\u001b[0;34m\u001b[0m\u001b[0m\n\u001b[1;32m   3800\u001b[0m \u001b[0;34m\u001b[0m\u001b[0m\n\u001b[0;32m-> 3801\u001b[0;31m             \u001b[0mtime\u001b[0m\u001b[0;34m.\u001b[0m\u001b[0msleep\u001b[0m\u001b[0;34m(\u001b[0m\u001b[0mpoll\u001b[0m\u001b[0;34m)\u001b[0m\u001b[0;34m\u001b[0m\u001b[0;34m\u001b[0m\u001b[0m\n\u001b[0m\u001b[1;32m   3802\u001b[0m \u001b[0;34m\u001b[0m\u001b[0m\n\u001b[1;32m   3803\u001b[0m             \u001b[0;32mif\u001b[0m \u001b[0mstate\u001b[0m \u001b[0;34m==\u001b[0m \u001b[0mLogState\u001b[0m\u001b[0;34m.\u001b[0m\u001b[0mJOB_COMPLETE\u001b[0m\u001b[0;34m:\u001b[0m\u001b[0;34m\u001b[0m\u001b[0;34m\u001b[0m\u001b[0m\n",
      "\u001b[0;31mKeyboardInterrupt\u001b[0m: "
     ]
    }
   ],
   "source": [
    "sess = sagemaker.Session()\n",
    "s3_output_location=\"s3://{}/{}/output/\".format(bucket,prefix)\n",
    "\n",
    "xgb = sagemaker.estimator.Estimator(container,\n",
    "                                    role = sagemaker.get_execution_role(), \n",
    "                                    instance_count=1, \n",
    "                                    instance_type=instance_type,\n",
    "                                    output_path=s3_output_location,\n",
    "                                    sagemaker_session=sess)\n",
    "xgb.set_hyperparameters(max_depth=5,\n",
    "                        eta=0.2,\n",
    "                        gamma=4,\n",
    "                        min_child_weight=6,\n",
    "                        subsample=0.8,\n",
    "                        silent=0,\n",
    "                        objective='binary:logistic',\n",
    "                        eval_metric = \"auc\", \n",
    "                        num_round=100)\n",
    "\n",
    "xgb.fit(inputs=data_channels)"
   ]
  },
  {
   "cell_type": "markdown",
   "metadata": {},
   "source": [
    "Use the batch transformer for your new model, and evaluate the model on the test dataset."
   ]
  },
  {
   "cell_type": "code",
   "execution_count": null,
   "metadata": {},
   "outputs": [],
   "source": [
    "batch_X = test.iloc[:,1:];\n",
    "batch_X_file='batch-in.csv'\n",
    "upload_s3_csv(batch_X_file, 'batch-in', batch_X)"
   ]
  },
  {
   "cell_type": "code",
   "execution_count": null,
   "metadata": {},
   "outputs": [],
   "source": [
    "batch_output = \"s3://{}/{}/batch-out/\".format(bucket,prefix)\n",
    "batch_input = \"s3://{}/{}/batch-in/{}\".format(bucket,prefix,batch_X_file)\n",
    "\n",
    "xgb_transformer = xgb.transformer(instance_count=1,\n",
    "                                       instance_type=instance_type,\n",
    "                                       strategy='MultiRecord',\n",
    "                                       assemble_with='Line',\n",
    "                                       output_path=batch_output)\n",
    "\n",
    "xgb_transformer.transform(data=batch_input,\n",
    "                         data_type='S3Prefix',\n",
    "                         content_type='text/csv',\n",
    "                         split_type='Line')\n",
    "xgb_transformer.wait()"
   ]
  },
  {
   "cell_type": "markdown",
   "metadata": {},
   "source": [
    "Get the predicted target and test labels."
   ]
  },
  {
   "cell_type": "code",
   "execution_count": null,
   "metadata": {},
   "outputs": [],
   "source": [
    "s3 = boto3.client('s3')\n",
    "obj = s3.get_object(Bucket=bucket, Key=\"{}/batch-out/{}\".format(prefix,'batch-in.csv.out'))\n",
    "target_predicted = pd.read_csv(io.BytesIO(obj['Body'].read()),',',names=['target'])\n",
    "test_labels = test.iloc[:,0]"
   ]
  },
  {
   "cell_type": "markdown",
   "metadata": {},
   "source": [
    "Calculate the predicted values based on the defined threshold.\n",
    "\n",
    "**Note:** The predicted target will be a score, which must be converted to a binary class."
   ]
  },
  {
   "cell_type": "code",
   "execution_count": null,
   "metadata": {},
   "outputs": [],
   "source": [
    "print(target_predicted.head())\n",
    "\n",
    "def binary_convert(x):\n",
    "    threshold = 0.55\n",
    "    if x > threshold:\n",
    "        return 1\n",
    "    else:\n",
    "        return 0\n",
    "\n",
    "target_predicted['target'] = target_predicted['target'].apply(binary_convert)\n",
    "\n",
    "test_labels = test.iloc[:,0]\n",
    "\n",
    "print(target_predicted.head())"
   ]
  },
  {
   "cell_type": "markdown",
   "metadata": {},
   "source": [
    "Plot a confusion matrix for your `target_predicted` and `test_labels`."
   ]
  },
  {
   "cell_type": "code",
   "execution_count": null,
   "metadata": {},
   "outputs": [],
   "source": [
    "plot_confusion_matrix(test_labels, target_predicted)"
   ]
  },
  {
   "cell_type": "markdown",
   "metadata": {},
   "source": [
    "Plot the ROC chart:"
   ]
  },
  {
   "cell_type": "code",
   "execution_count": null,
   "metadata": {},
   "outputs": [],
   "source": [
    "plot_roc(test_labels, target_predicted)"
   ]
  },
  {
   "cell_type": "markdown",
   "metadata": {},
   "source": [
    "### Try different thresholds"
   ]
  },
  {
   "cell_type": "markdown",
   "metadata": {},
   "source": [
    "**Question**: Based on how well the model handled the test set, what can you conclude?"
   ]
  },
  {
   "cell_type": "code",
   "execution_count": null,
   "metadata": {},
   "outputs": [],
   "source": [
    "#Enter your answer here"
   ]
  },
  {
   "cell_type": "markdown",
   "metadata": {},
   "source": [
    "### Hyperparameter optimization (HPO)"
   ]
  },
  {
   "cell_type": "code",
   "execution_count": null,
   "metadata": {},
   "outputs": [],
   "source": [
    "from sagemaker.tuner import IntegerParameter, CategoricalParameter, ContinuousParameter, HyperparameterTuner\n",
    "\n",
    "### You can spin up multiple instances to do hyperparameter optimization in parallel\n",
    "\n",
    "xgb = sagemaker.estimator.Estimator(container,\n",
    "                                    role=sagemaker.get_execution_role(), \n",
    "                                    instance_count= 1, # make sure you have a limit set for these instances\n",
    "                                    instance_type=instance_type, \n",
    "                                    output_path='s3://{}/{}/output'.format(bucket, prefix),\n",
    "                                    sagemaker_session=sess)\n",
    "\n",
    "xgb.set_hyperparameters(eval_metric='auc',\n",
    "                        objective='binary:logistic',\n",
    "                        num_round=100,\n",
    "                        rate_drop=0.3,\n",
    "                        tweedie_variance_power=1.4)\n",
    "\n",
    "hyperparameter_ranges = {'alpha': ContinuousParameter(0, 1000, scaling_type='Linear'),\n",
    "                         'eta': ContinuousParameter(0.1, 0.5, scaling_type='Linear'),\n",
    "                         'min_child_weight': ContinuousParameter(3, 10, scaling_type='Linear'),\n",
    "                         'subsample': ContinuousParameter(0.5, 1),\n",
    "                         'num_round': IntegerParameter(10,150)}\n",
    "\n",
    "objective_metric_name = 'validation:auc'\n",
    "\n",
    "tuner = HyperparameterTuner(xgb,\n",
    "                            objective_metric_name,\n",
    "                            hyperparameter_ranges,\n",
    "                            max_jobs=10, # Set this to 10 or above depending upon budget and available time.\n",
    "                            max_parallel_jobs=1)"
   ]
  },
  {
   "cell_type": "code",
   "execution_count": null,
   "metadata": {},
   "outputs": [],
   "source": [
    "tuner.fit(inputs=data_channels)\n",
    "tuner.wait()"
   ]
  },
  {
   "cell_type": "markdown",
   "metadata": {},
   "source": [
    "<i class=\"fas fa-exclamation-triangle\" style=\"color:red\"></i> Wait until the training job is finished. It might take 25-30 minutes.\n",
    "\n",
    "**To monitor hyperparameter optimization jobs:**  \n",
    "\n",
    "1. In the AWS Management Console, on the **Services** menu, choose **Amazon SageMaker**.  \n",
    "2. Choose **Training > Hyperparameter tuning jobs**.\n",
    "3. You can check the status of each hyperparameter tuning job, its objective metric value, and its logs.  "
   ]
  },
  {
   "cell_type": "markdown",
   "metadata": {},
   "source": [
    "Check that the job completed successfully."
   ]
  },
  {
   "cell_type": "code",
   "execution_count": null,
   "metadata": {},
   "outputs": [],
   "source": [
    "boto3.client('sagemaker').describe_hyper_parameter_tuning_job(\n",
    "    HyperParameterTuningJobName=tuner.latest_tuning_job.job_name)['HyperParameterTuningJobStatus']"
   ]
  },
  {
   "cell_type": "markdown",
   "metadata": {},
   "source": [
    "The hyperparameter tuning job will have a model that worked the best. You can get the information about that model from the tuning job."
   ]
  },
  {
   "cell_type": "code",
   "execution_count": null,
   "metadata": {},
   "outputs": [],
   "source": [
    "sage_client = boto3.Session().client('sagemaker')\n",
    "tuning_job_name = tuner.latest_tuning_job.job_name\n",
    "print(f'tuning job name:{tuning_job_name}')\n",
    "tuning_job_result = sage_client.describe_hyper_parameter_tuning_job(HyperParameterTuningJobName=tuning_job_name)\n",
    "best_training_job = tuning_job_result['BestTrainingJob']\n",
    "best_training_job_name = best_training_job['TrainingJobName']\n",
    "print(f\"best training job: {best_training_job_name}\")\n",
    "\n",
    "best_estimator = tuner.best_estimator()\n",
    "\n",
    "tuner_df = sagemaker.HyperparameterTuningJobAnalytics(tuning_job_name).dataframe()\n",
    "tuner_df.head()"
   ]
  },
  {
   "cell_type": "markdown",
   "metadata": {},
   "source": [
    "Use the estimator `best_estimator` and train it by using the data. \n",
    "\n",
    "**Tip:** See the previous XGBoost estimator fit function."
   ]
  },
  {
   "cell_type": "code",
   "execution_count": null,
   "metadata": {},
   "outputs": [],
   "source": [
    "# Enter your code here'"
   ]
  },
  {
   "cell_type": "markdown",
   "metadata": {},
   "source": [
    "Use the batch transformer for your new model, and evaluate the model on the test dataset."
   ]
  },
  {
   "cell_type": "code",
   "execution_count": null,
   "metadata": {},
   "outputs": [],
   "source": [
    "batch_output = \"s3://{}/{}/batch-out/\".format(bucket,prefix)\n",
    "batch_input = \"s3://{}/{}/batch-in/{}\".format(bucket,prefix,batch_X_file)\n",
    "\n",
    "xgb_transformer = best_estimator.transformer(instance_count=1,\n",
    "                                       instance_type=instance_type,\n",
    "                                       strategy='MultiRecord',\n",
    "                                       assemble_with='Line',\n",
    "                                       output_path=batch_output)\n",
    "\n",
    "xgb_transformer.transform(data=batch_input,\n",
    "                         data_type='S3Prefix',\n",
    "                         content_type='text/csv',\n",
    "                         split_type='Line')\n",
    "xgb_transformer.wait()"
   ]
  },
  {
   "cell_type": "code",
   "execution_count": null,
   "metadata": {},
   "outputs": [],
   "source": [
    "s3 = boto3.client('s3')\n",
    "obj = s3.get_object(Bucket=bucket, Key=\"{}/batch-out/{}\".format(prefix,'batch-in.csv.out'))\n",
    "target_predicted = pd.read_csv(io.BytesIO(obj['Body'].read()),',',names=['target'])\n",
    "test_labels = test.iloc[:,0]"
   ]
  },
  {
   "cell_type": "markdown",
   "metadata": {},
   "source": [
    "Get the predicted target and test labels."
   ]
  },
  {
   "cell_type": "code",
   "execution_count": null,
   "metadata": {},
   "outputs": [],
   "source": [
    "print(target_predicted.head())\n",
    "\n",
    "def binary_convert(x):\n",
    "    threshold = 0.55\n",
    "    if x > threshold:\n",
    "        return 1\n",
    "    else:\n",
    "        return 0\n",
    "\n",
    "target_predicted['target'] = target_predicted['target'].apply(binary_convert)\n",
    "\n",
    "test_labels = test.iloc[:,0]\n",
    "\n",
    "print(target_predicted.head())"
   ]
  },
  {
   "cell_type": "markdown",
   "metadata": {},
   "source": [
    "Plot a confusion matrix for your `target_predicted` and `test_labels`."
   ]
  },
  {
   "cell_type": "code",
   "execution_count": null,
   "metadata": {},
   "outputs": [],
   "source": [
    "# Enter your code here"
   ]
  },
  {
   "cell_type": "markdown",
   "metadata": {},
   "source": [
    "Plot the ROC chart:"
   ]
  },
  {
   "cell_type": "code",
   "execution_count": null,
   "metadata": {},
   "outputs": [],
   "source": [
    "# Enter your code here"
   ]
  },
  {
   "cell_type": "markdown",
   "metadata": {},
   "source": [
    "**Question**: Try different hyperparameters and hyperparameter ranges. Do these changes improve the model?"
   ]
  },
  {
   "cell_type": "markdown",
   "metadata": {},
   "source": [
    "## Conclusion\n",
    "\n",
    "You have now iterated through training and evaluating your model at least a couple of times. It's time to wrap up this project and reflect on:\n",
    "\n",
    "- What you learned \n",
    "- What types of steps you might take moving forward (assuming that you had more time)\n",
    "\n",
    "Use the following cell to answer some of these questions and other relevant questions:\n",
    "\n",
    "1. Does your model performance meet your business goal? If not, what are some things you'd like to do differently if you had more time for tuning?\n",
    "2. How much did your model improve as you made changes to your dataset, features, and hyperparameters? What types of techniques did you employ throughout this project, and which yielded the greatest improvements in your model?\n",
    "3. What were some of the biggest challenges that you encountered throughout this project?\n",
    "4. Do you have any unanswered questions about aspects of the pipeline that didn't make sense to you?\n",
    "5. What were the three most important things that you learned about machine learning while working on this project?\n",
    "\n",
    "#### <span style=\"color: blue;\">Project presentation: Make sure that you also summarize your answers to these questions in your project presentation. Combine all your notes for your project presentation and prepare to present your findings to the class.</span>"
   ]
  },
  {
   "cell_type": "code",
   "execution_count": null,
   "metadata": {},
   "outputs": [],
   "source": [
    "# Write your answers here"
   ]
  }
 ],
 "metadata": {
  "kernelspec": {
   "display_name": "conda_python3",
   "language": "python",
   "name": "conda_python3"
  },
  "language_info": {
   "codemirror_mode": {
    "name": "ipython",
    "version": 3
   },
   "file_extension": ".py",
   "mimetype": "text/x-python",
   "name": "python",
   "nbconvert_exporter": "python",
   "pygments_lexer": "ipython3",
   "version": "3.8.12"
  }
 },
 "nbformat": 4,
 "nbformat_minor": 4
}
