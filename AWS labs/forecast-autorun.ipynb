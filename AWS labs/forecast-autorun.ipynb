{
 "cells": [
  {
   "cell_type": "markdown",
   "metadata": {},
   "source": [
    "# AWS Academy Machine Learning Foundations - Amazon Forecast Lab\n",
    "\n",
    "## STOP! - This file is automatically run on lab startup. Do not attempt to run the cells!\n",
    "\n",
    "This Jupyter notebook is part of the Amazon Forecast student lab. It was ran when the lab was created.\n",
    "\n",
    "If you just started the lab, load `forecast-lab.ipynb` and work through that notebook instead of this one.\n",
    "\n",
    "If you were directed to this file, read through the cells and explanations. Avoid running the cells.\n"
   ]
  },
  {
   "cell_type": "markdown",
   "metadata": {},
   "source": [
    "## Notebook summary\n",
    "\n",
    "This notebook loads and preprocesses the online retail dataset. The data is uploaded to Amazon Simple Storage Service (Amazon S3), where it is used to create a forecast through Amazon Forecast. The notebook performs the following steps:\n",
    "\n",
    "- **Importing and functions** imports the packages used and creates helper functions.\n",
    "- **Importing data** downloads and loads the data into a pandas DataFrame.\n",
    "- **Data preprocessing** filters the data that is ready for training\n",
    "- **Generating training and testing DataFrames** downsamples the data to a daily frequency and splits the dataset into training and testing DataFrames.\n",
    "- **Uploading to Amazon S3** uploads the DataFrames to Amazon S3 as comma-separated values (CSV) files.\n",
    "- **Creating the Amazon Forecast dataset group** creates the project dataset group.\n",
    "- **Creating the datasets** creates the datasets in the dataset group and waits for the import to complete.\n",
    "- **Creating the predictor** trains the predictor by using the dataset group.\n",
    "- **Getting accuracy metrics** displays the metrics for the predictor.\n",
    "- **Creating the forecast** creates a test forecast.\n",
    "- **Optional cleanup** can perform a cleanup if it isn't completed in the `forecast-lab.ipynb` notebook.\n",
    "\n",
    "This notebook takes between 60–90 minutes to complete.\n"
   ]
  },
  {
   "cell_type": "markdown",
   "metadata": {},
   "source": [
    "## Importing and functions\n",
    "\n",
    "The following code imports these packages:\n",
    "\n",
    "- *boto3* represents the AWS SDK for Python (Boto3), which is the Python library for AWS\n",
    "- *pandas* provides DataFrames for manipulating time series data\n",
    "- *matplotlib* provides plotting functions\n",
    "- *sagemaker* represents the API that's needed to work with Amazon SageMaker\n",
    "- *time*, *sys*, *os*, *io*, and *json* provide helper functions \n",
    "\n",
    "In addition, two helper functions are created:\n",
    "\n",
    "- `upload_s3_csv` uploads pandas DataFrames to Amazon S3 as CSV files. The header is removed, but *not* the index.\n",
    "- `StatusIndicator` provides a status function for long-running API calls to Amazon Forecast.\n",
    "\n"
   ]
  },
  {
   "cell_type": "code",
   "execution_count": 1,
   "metadata": {
    "execution": {
     "iopub.execute_input": "2022-07-18T22:18:07.700009Z",
     "iopub.status.busy": "2022-07-18T22:18:07.690741Z",
     "iopub.status.idle": "2022-07-18T22:18:19.638135Z",
     "shell.execute_reply": "2022-07-18T22:18:19.638643Z"
    }
   },
   "outputs": [
    {
     "name": "stdout",
     "output_type": "stream",
     "text": [
      "Stored 'bucket_name' (str)\n"
     ]
    }
   ],
   "source": [
    "import warnings\n",
    "warnings.filterwarnings('ignore')\n",
    "bucket_name='c56451a956615l2404133t1w8614592941-forecastbucket-1dlupqc9o20u6'\n",
    "\n",
    "import boto3\n",
    "import pandas as pd\n",
    "import matplotlib\n",
    "import matplotlib.pyplot as plt\n",
    "import time, sys, os, io, json\n",
    "import sagemaker\n",
    "\n",
    "%store bucket_name\n",
    "\n",
    "s3_resource = boto3.Session().resource('s3')\n",
    "\n",
    "def upload_s3_csv(filename, folder, dataframe):\n",
    "    csv_buffer = io.StringIO()\n",
    "    dataframe.to_csv(filename, header=False, index=True)\n",
    "    dataframe.to_csv(csv_buffer, header=False, index=True )\n",
    "    s3_resource.Bucket(bucket_name).Object(os.path.join(prefix, folder, filename)).put(Body=csv_buffer.getvalue())\n",
    "\n",
    "class StatusIndicator:\n",
    "    \n",
    "    def __init__(self):\n",
    "        self.previous_status = None\n",
    "        self.need_newline = False\n",
    "        \n",
    "    def update( self, status ):\n",
    "        if self.previous_status != status:\n",
    "            if self.need_newline:\n",
    "                sys.stdout.write(\"\\n\")\n",
    "            sys.stdout.write( status + \" \")\n",
    "            self.need_newline = True\n",
    "            self.previous_status = status\n",
    "        else:\n",
    "            sys.stdout.write(\".\")\n",
    "            self.need_newline = True\n",
    "        sys.stdout.flush()\n",
    "\n",
    "    def end(self):\n",
    "        if self.need_newline:\n",
    "            sys.stdout.write(\"\\n\")"
   ]
  },
  {
   "cell_type": "markdown",
   "metadata": {},
   "source": [
    "## Importing data\n",
    "\n",
    "The following cell downloads the dataset, which is an Microsoft Excel file. This file is loaded into pandas as a DataFrame."
   ]
  },
  {
   "cell_type": "code",
   "execution_count": 2,
   "metadata": {
    "execution": {
     "iopub.execute_input": "2022-07-18T22:18:19.653280Z",
     "iopub.status.busy": "2022-07-18T22:18:19.652666Z",
     "iopub.status.idle": "2022-07-18T22:18:19.737644Z",
     "shell.execute_reply": "2022-07-18T22:18:19.737058Z"
    }
   },
   "outputs": [],
   "source": [
    "\n",
    "session = boto3.Session()\n",
    "forecast = session.client(service_name='forecast') \n",
    "forecast_query = session.client(service_name='forecastquery')\n"
   ]
  },
  {
   "cell_type": "markdown",
   "metadata": {},
   "source": [
    "## Data preprocessing\n",
    "\n",
    "The following cell completes the following preprocessing steps:\n",
    "\n",
    "- Removes instances with missing values\n",
    "- Sets the index to the InvoiceDate feature\n",
    "- Removes instances that aren't from the United Kingdom\n",
    "- Removes instances that don't use the target stock code (21232)\n",
    "- Keeps instances where the price is greater than 0\n",
    "\n"
   ]
  },
  {
   "cell_type": "code",
   "execution_count": 3,
   "metadata": {
    "execution": {
     "iopub.execute_input": "2022-07-18T22:18:19.743554Z",
     "iopub.status.busy": "2022-07-18T22:18:19.742882Z",
     "iopub.status.idle": "2022-07-18T22:19:39.989823Z",
     "shell.execute_reply": "2022-07-18T22:19:39.989018Z"
    }
   },
   "outputs": [],
   "source": [
    "retail = pd.read_excel('online_retail_II.xlsx',engine='openpyxl')\n",
    "retail = retail.dropna()\n",
    "retail['InvoiceDate'] = pd.to_datetime(retail.InvoiceDate)\n",
    "retail = retail.set_index('InvoiceDate')\n",
    "\n",
    "country_filter = ['United Kingdom']\n",
    "retail = retail[retail['Country'].isin(country_filter)]\n",
    "\n",
    "#stockcodes = ['ADJUST', 'ADJUST2', 'POST', 'M']\n",
    "#stockcodes = [21232,22423]\n",
    "stockcodes = [21232]\n",
    "retail = retail[retail.StockCode.isin(stockcodes)]\n",
    "\n",
    "retail = retail[retail['Price']>0]"
   ]
  },
  {
   "cell_type": "markdown",
   "metadata": {},
   "source": [
    "## Generating the training and testing DataFrames\n",
    "\n",
    "The following cell:\n",
    "\n",
    "- Splits the data into time series and related times series pandas DataFrames.\n",
    "- Downsamples the data from multiple sales entries per day into a single daily value. The **Quantity** column is summed, and the mean is used for the **Price** column.\n",
    "- Splits the DataFrames into a training set of data from January 2010–October 2010, and a testing set of data from November 2010–December 2010.\n",
    "\n"
   ]
  },
  {
   "cell_type": "code",
   "execution_count": 4,
   "metadata": {
    "execution": {
     "iopub.execute_input": "2022-07-18T22:19:39.997422Z",
     "iopub.status.busy": "2022-07-18T22:19:39.996797Z",
     "iopub.status.idle": "2022-07-18T22:19:40.096604Z",
     "shell.execute_reply": "2022-07-18T22:19:40.097104Z"
    }
   },
   "outputs": [],
   "source": [
    "\n",
    "retail_timeseries = retail[['StockCode','Quantity']]\n",
    "\n",
    "retail_timeseries = retail_timeseries.groupby('StockCode').resample('D').sum().reset_index().set_index(['InvoiceDate'])\n",
    "\n",
    "df_related_time_series = retail[['StockCode','Price']]\n",
    "df_related_time_series2 = df_related_time_series.groupby('StockCode').resample('D').mean().reset_index().set_index(['InvoiceDate'])\n",
    "df_related_time_series3 = df_related_time_series2.groupby('StockCode').pad()\n",
    "\n",
    "#df_related_time_series4 = df_related_time_series3.reset_index().set_index('InvoiceDate')\n",
    "\n",
    "# Select January to November for one DataFrame.\n",
    "jan_to_oct = retail_timeseries['2009-12':'2010-10']\n",
    "nov_to_dec = retail_timeseries['2010-11':'2010-12']\n",
    "jan_to_oct_related = df_related_time_series2['2009-12':'2010-10']"
   ]
  },
  {
   "cell_type": "code",
   "execution_count": 5,
   "metadata": {
    "execution": {
     "iopub.execute_input": "2022-07-18T22:19:40.106286Z",
     "iopub.status.busy": "2022-07-18T22:19:40.105676Z",
     "iopub.status.idle": "2022-07-18T22:19:40.113310Z",
     "shell.execute_reply": "2022-07-18T22:19:40.112795Z"
    }
   },
   "outputs": [
    {
     "data": {
      "text/html": [
       "<div>\n",
       "<style scoped>\n",
       "    .dataframe tbody tr th:only-of-type {\n",
       "        vertical-align: middle;\n",
       "    }\n",
       "\n",
       "    .dataframe tbody tr th {\n",
       "        vertical-align: top;\n",
       "    }\n",
       "\n",
       "    .dataframe thead th {\n",
       "        text-align: right;\n",
       "    }\n",
       "</style>\n",
       "<table border=\"1\" class=\"dataframe\">\n",
       "  <thead>\n",
       "    <tr style=\"text-align: right;\">\n",
       "      <th></th>\n",
       "      <th>StockCode</th>\n",
       "      <th>Price</th>\n",
       "    </tr>\n",
       "    <tr>\n",
       "      <th>InvoiceDate</th>\n",
       "      <th></th>\n",
       "      <th></th>\n",
       "    </tr>\n",
       "  </thead>\n",
       "  <tbody>\n",
       "    <tr>\n",
       "      <th>2009-12-01</th>\n",
       "      <td>21232</td>\n",
       "      <td>1.250000</td>\n",
       "    </tr>\n",
       "    <tr>\n",
       "      <th>2009-12-02</th>\n",
       "      <td>21232</td>\n",
       "      <td>1.186667</td>\n",
       "    </tr>\n",
       "    <tr>\n",
       "      <th>2009-12-03</th>\n",
       "      <td>21232</td>\n",
       "      <td>1.234167</td>\n",
       "    </tr>\n",
       "    <tr>\n",
       "      <th>2009-12-04</th>\n",
       "      <td>21232</td>\n",
       "      <td>1.234167</td>\n",
       "    </tr>\n",
       "    <tr>\n",
       "      <th>2009-12-05</th>\n",
       "      <td>21232</td>\n",
       "      <td>1.250000</td>\n",
       "    </tr>\n",
       "  </tbody>\n",
       "</table>\n",
       "</div>"
      ],
      "text/plain": [
       "             StockCode     Price\n",
       "InvoiceDate                     \n",
       "2009-12-01       21232  1.250000\n",
       "2009-12-02       21232  1.186667\n",
       "2009-12-03       21232  1.234167\n",
       "2009-12-04       21232  1.234167\n",
       "2009-12-05       21232  1.250000"
      ]
     },
     "execution_count": 1,
     "metadata": {},
     "output_type": "execute_result"
    }
   ],
   "source": [
    "df_related_time_series2.head()"
   ]
  },
  {
   "cell_type": "markdown",
   "metadata": {},
   "source": [
    "## Uploading to Amazon S3\n",
    "\n",
    "The following cell uploads the DataFrames to Amazon S3 by using the helper function that was created earlier."
   ]
  },
  {
   "cell_type": "code",
   "execution_count": 6,
   "metadata": {
    "execution": {
     "iopub.execute_input": "2022-07-18T22:19:40.119305Z",
     "iopub.status.busy": "2022-07-18T22:19:40.118689Z",
     "iopub.status.idle": "2022-07-18T22:19:40.323613Z",
     "shell.execute_reply": "2022-07-18T22:19:40.323023Z"
    }
   },
   "outputs": [],
   "source": [
    "\n",
    "prefix='lab_4'\n",
    "train='../autorun/retail_ts_train.csv'\n",
    "train_related='../autorun/related_ts_train.csv'\n",
    "test='../autorun/retail_ts_test.csv'\n",
    "\n",
    "key=prefix + '/forecast/' + train\n",
    "# key='lab_4_forecast_t/forecast/retail_time_series_train.csv'\n",
    "related_key = prefix + '/forecast/' + train_related\n",
    "# related_key='lab_4_forecast_t/forecast/related.csv'\n",
    "\n",
    "upload_s3_csv(train, 'forecast', jan_to_oct)\n",
    "upload_s3_csv(train_related, 'forecast', jan_to_oct_related)\n",
    "upload_s3_csv(test, 'forecast', nov_to_dec)\n",
    "\n",
    "dataset_frequency = \"D\" \n",
    "timestamp_format = \"yyyy-MM-dd\"\n",
    "\n",
    "# project = prefix\n",
    "dataset_name = prefix+'_ds'\n",
    "related_dataset_name = prefix+'_rds'\n",
    "dataset_group_name = prefix +'_dsg'\n",
    "\n",
    "s3_data_path = \"s3://\"+bucket_name+\"/\"+key\n",
    "s3_related_data_path = \"s3://\"+bucket_name+\"/\"+related_key"
   ]
  },
  {
   "cell_type": "code",
   "execution_count": 7,
   "metadata": {
    "execution": {
     "iopub.execute_input": "2022-07-18T22:19:40.331187Z",
     "iopub.status.busy": "2022-07-18T22:19:40.328774Z",
     "iopub.status.idle": "2022-07-18T22:19:40.334868Z",
     "shell.execute_reply": "2022-07-18T22:19:40.334246Z"
    }
   },
   "outputs": [
    {
     "data": {
      "text/html": [
       "<div>\n",
       "<style scoped>\n",
       "    .dataframe tbody tr th:only-of-type {\n",
       "        vertical-align: middle;\n",
       "    }\n",
       "\n",
       "    .dataframe tbody tr th {\n",
       "        vertical-align: top;\n",
       "    }\n",
       "\n",
       "    .dataframe thead th {\n",
       "        text-align: right;\n",
       "    }\n",
       "</style>\n",
       "<table border=\"1\" class=\"dataframe\">\n",
       "  <thead>\n",
       "    <tr style=\"text-align: right;\">\n",
       "      <th></th>\n",
       "      <th>StockCode</th>\n",
       "      <th>Price</th>\n",
       "    </tr>\n",
       "    <tr>\n",
       "      <th>InvoiceDate</th>\n",
       "      <th></th>\n",
       "      <th></th>\n",
       "    </tr>\n",
       "  </thead>\n",
       "  <tbody>\n",
       "    <tr>\n",
       "      <th>2009-12-01</th>\n",
       "      <td>21232</td>\n",
       "      <td>1.250000</td>\n",
       "    </tr>\n",
       "    <tr>\n",
       "      <th>2009-12-02</th>\n",
       "      <td>21232</td>\n",
       "      <td>1.186667</td>\n",
       "    </tr>\n",
       "    <tr>\n",
       "      <th>2009-12-03</th>\n",
       "      <td>21232</td>\n",
       "      <td>1.234167</td>\n",
       "    </tr>\n",
       "    <tr>\n",
       "      <th>2009-12-04</th>\n",
       "      <td>21232</td>\n",
       "      <td>1.234167</td>\n",
       "    </tr>\n",
       "    <tr>\n",
       "      <th>2009-12-05</th>\n",
       "      <td>21232</td>\n",
       "      <td>1.250000</td>\n",
       "    </tr>\n",
       "  </tbody>\n",
       "</table>\n",
       "</div>"
      ],
      "text/plain": [
       "             StockCode     Price\n",
       "InvoiceDate                     \n",
       "2009-12-01       21232  1.250000\n",
       "2009-12-02       21232  1.186667\n",
       "2009-12-03       21232  1.234167\n",
       "2009-12-04       21232  1.234167\n",
       "2009-12-05       21232  1.250000"
      ]
     },
     "execution_count": 1,
     "metadata": {},
     "output_type": "execute_result"
    }
   ],
   "source": [
    "jan_to_oct_related.head()"
   ]
  },
  {
   "cell_type": "code",
   "execution_count": 8,
   "metadata": {
    "execution": {
     "iopub.execute_input": "2022-07-18T22:19:40.341657Z",
     "iopub.status.busy": "2022-07-18T22:19:40.340649Z",
     "iopub.status.idle": "2022-07-18T22:19:40.345142Z",
     "shell.execute_reply": "2022-07-18T22:19:40.345618Z"
    }
   },
   "outputs": [
    {
     "name": "stdout",
     "output_type": "stream",
     "text": [
      "Stored 'prefix' (str)\n",
      "Stored 'train' (str)\n",
      "Stored 'test' (str)\n",
      "Stored 'key' (str)\n"
     ]
    }
   ],
   "source": [
    "\n",
    "%store prefix\n",
    "%store train\n",
    "%store test\n",
    "%store key"
   ]
  },
  {
   "cell_type": "markdown",
   "metadata": {},
   "source": [
    "## Creating the Amazon Forecast dataset group\n",
    "\n",
    "The following cell creates the dataset group for the forecast."
   ]
  },
  {
   "cell_type": "code",
   "execution_count": 9,
   "metadata": {
    "execution": {
     "iopub.execute_input": "2022-07-18T22:19:40.351589Z",
     "iopub.status.busy": "2022-07-18T22:19:40.350943Z",
     "iopub.status.idle": "2022-07-18T22:19:40.412796Z",
     "shell.execute_reply": "2022-07-18T22:19:40.413337Z"
    }
   },
   "outputs": [],
   "source": [
    "dataset_group_arn = None\n",
    "dsgs = forecast.list_dataset_groups()\n",
    "for dsg in dsgs['DatasetGroups']:\n",
    "    if dsg['DatasetGroupName']==dataset_group_name:\n",
    "        dataset_group_arn=dsg['DatasetGroupArn']"
   ]
  },
  {
   "cell_type": "code",
   "execution_count": 10,
   "metadata": {
    "execution": {
     "iopub.execute_input": "2022-07-18T22:19:40.417893Z",
     "iopub.status.busy": "2022-07-18T22:19:40.417034Z",
     "iopub.status.idle": "2022-07-18T22:19:40.419945Z",
     "shell.execute_reply": "2022-07-18T22:19:40.419312Z"
    }
   },
   "outputs": [],
   "source": [
    "if dataset_group_arn is None:\n",
    "    create_dataset_group_response = forecast.create_dataset_group(DatasetGroupName=dataset_group_name, Domain=\"RETAIL\" )\n",
    "    dataset_group_arn = create_dataset_group_response['DatasetGroupArn']"
   ]
  },
  {
   "cell_type": "markdown",
   "metadata": {},
   "source": [
    "## Creating the datasets\n",
    "\n",
    "The following cell creates the time series and related datasets, and adds them to the dataset group.\n",
    "\n",
    "The cell will wait loop and display the status until the datasets are created."
   ]
  },
  {
   "cell_type": "code",
   "execution_count": 11,
   "metadata": {
    "execution": {
     "iopub.execute_input": "2022-07-18T22:19:40.434321Z",
     "iopub.status.busy": "2022-07-18T22:19:40.433192Z",
     "iopub.status.idle": "2022-07-18T22:19:40.627110Z",
     "shell.execute_reply": "2022-07-18T22:19:40.626447Z"
    }
   },
   "outputs": [],
   "source": [
    "iam = boto3.resource('iam')\n",
    "role_arn = iam.Role('ForecastRole').arn\n",
    "\n",
    "# This is the schema of the time series dataset.\n",
    "schema ={\n",
    "   \"Attributes\":[\n",
    "      {\n",
    "         \"AttributeName\":\"timestamp\",\n",
    "         \"AttributeType\":\"timestamp\"\n",
    "      },\n",
    "      {\n",
    "         \"AttributeName\":\"item_id\",\n",
    "         \"AttributeType\":\"string\"\n",
    "      },\n",
    "      {\n",
    "         \"AttributeName\":\"demand\",\n",
    "         \"AttributeType\":\"float\"\n",
    "      }\n",
    "   ]\n",
    "}"
   ]
  },
  {
   "cell_type": "code",
   "execution_count": 12,
   "metadata": {
    "execution": {
     "iopub.execute_input": "2022-07-18T22:19:40.633493Z",
     "iopub.status.busy": "2022-07-18T22:19:40.632886Z",
     "iopub.status.idle": "2022-07-18T22:19:40.680660Z",
     "shell.execute_reply": "2022-07-18T22:19:40.680118Z"
    }
   },
   "outputs": [],
   "source": [
    "dataset_arn = None\n",
    "dataset_list = forecast.list_datasets()\n",
    "for dataset in dataset_list['Datasets']:\n",
    "    if dataset['DatasetName']==dataset_name:\n",
    "        dataset_arn = dataset['DatasetArn']"
   ]
  },
  {
   "cell_type": "code",
   "execution_count": 13,
   "metadata": {
    "execution": {
     "iopub.execute_input": "2022-07-18T22:19:40.685418Z",
     "iopub.status.busy": "2022-07-18T22:19:40.684599Z",
     "iopub.status.idle": "2022-07-18T22:19:40.687490Z",
     "shell.execute_reply": "2022-07-18T22:19:40.686882Z"
    }
   },
   "outputs": [],
   "source": [
    "if dataset_arn is None:\n",
    "    time_series_response=forecast.create_dataset(\n",
    "                        Domain=\"RETAIL\",\n",
    "                        DatasetType='TARGET_TIME_SERIES',\n",
    "                        DatasetName=dataset_name,\n",
    "                        DataFrequency=dataset_frequency, \n",
    "                        Schema = schema\n",
    "    )\n",
    "\n",
    "    dataset_arn = time_series_response['DatasetArn']"
   ]
  },
  {
   "cell_type": "code",
   "execution_count": 14,
   "metadata": {
    "execution": {
     "iopub.execute_input": "2022-07-18T22:19:40.693649Z",
     "iopub.status.busy": "2022-07-18T22:19:40.693026Z",
     "iopub.status.idle": "2022-07-18T22:19:40.758346Z",
     "shell.execute_reply": "2022-07-18T22:19:40.757794Z"
    }
   },
   "outputs": [],
   "source": [
    "# Create the import job for the time series dataset.\n",
    "dataset_import_job_name = 'EP_DSIMPORT_JOB_TARGET'\n",
    "ds_import_job_arn = None\n",
    "dataset_import_job_list = forecast.list_dataset_import_jobs()\n",
    "\n",
    "for dataset_import_job in dataset_import_job_list['DatasetImportJobs']:\n",
    "    if dataset_import_job['DatasetImportJobName'] == dataset_import_job_name:\n",
    "        ds_import_job_arn = dataset_import_job['DatasetImportJobArn']"
   ]
  },
  {
   "cell_type": "code",
   "execution_count": 15,
   "metadata": {
    "execution": {
     "iopub.execute_input": "2022-07-18T22:19:40.763020Z",
     "iopub.status.busy": "2022-07-18T22:19:40.762405Z",
     "iopub.status.idle": "2022-07-18T22:19:40.765287Z",
     "shell.execute_reply": "2022-07-18T22:19:40.764785Z"
    }
   },
   "outputs": [],
   "source": [
    "# If the import job doesn't already exist, create it\n",
    "if ds_import_job_arn is None:\n",
    "    data_source = {\"S3Config\" : {\"Path\":s3_data_path,\"RoleArn\": role_arn} }\n",
    "    ds_import_job_response=forecast.create_dataset_import_job(DatasetImportJobName=dataset_import_job_name,\n",
    "                                                          DatasetArn=dataset_arn,\n",
    "                                                          DataSource= data_source,\n",
    "                                                          TimestampFormat=timestamp_format\n",
    "                                                         )\n",
    "    ds_import_job_arn=ds_import_job_response['DatasetImportJobArn']"
   ]
  },
  {
   "cell_type": "code",
   "execution_count": 16,
   "metadata": {
    "execution": {
     "iopub.execute_input": "2022-07-18T22:19:40.769161Z",
     "iopub.status.busy": "2022-07-18T22:19:40.768429Z",
     "iopub.status.idle": "2022-07-18T22:19:40.771516Z",
     "shell.execute_reply": "2022-07-18T22:19:40.771999Z"
    }
   },
   "outputs": [
    {
     "name": "stdout",
     "output_type": "stream",
     "text": [
      "arn:aws:forecast:us-east-1:861459294103:dataset-import-job/lab_4_ds/EP_DSIMPORT_JOB_TARGET\n"
     ]
    }
   ],
   "source": [
    "print(ds_import_job_arn)"
   ]
  },
  {
   "cell_type": "code",
   "execution_count": 17,
   "metadata": {
    "execution": {
     "iopub.execute_input": "2022-07-18T22:19:40.776320Z",
     "iopub.status.busy": "2022-07-18T22:19:40.775690Z",
     "iopub.status.idle": "2022-07-18T22:19:40.778609Z",
     "shell.execute_reply": "2022-07-18T22:19:40.778086Z"
    }
   },
   "outputs": [],
   "source": [
    "    \n",
    "# This is the schema of the related data, which contains the price.\n",
    "related_schema ={\n",
    "   \"Attributes\":[\n",
    "      {\n",
    "         \"AttributeName\":\"timestamp\",\n",
    "         \"AttributeType\":\"timestamp\"\n",
    "      },\n",
    "      {\n",
    "         \"AttributeName\":\"item_id\",\n",
    "         \"AttributeType\":\"string\"\n",
    "      },\n",
    "      {\n",
    "         \"AttributeName\":\"price\",\n",
    "         \"AttributeType\":\"float\"\n",
    "      }\n",
    "   ]\n",
    "}\n",
    "\n"
   ]
  },
  {
   "cell_type": "code",
   "execution_count": 18,
   "metadata": {
    "execution": {
     "iopub.execute_input": "2022-07-18T22:19:40.784187Z",
     "iopub.status.busy": "2022-07-18T22:19:40.783575Z",
     "iopub.status.idle": "2022-07-18T22:19:40.851822Z",
     "shell.execute_reply": "2022-07-18T22:19:40.851135Z"
    }
   },
   "outputs": [],
   "source": [
    "related_dataset_arn = None\n",
    "dataset_list = forecast.list_datasets()\n",
    "for dataset in dataset_list['Datasets']:\n",
    "   if dataset['DatasetName']==related_dataset_name:\n",
    "        related_dataset_arn = dataset['DatasetArn']"
   ]
  },
  {
   "cell_type": "code",
   "execution_count": 19,
   "metadata": {
    "execution": {
     "iopub.execute_input": "2022-07-18T22:19:40.856816Z",
     "iopub.status.busy": "2022-07-18T22:19:40.855914Z",
     "iopub.status.idle": "2022-07-18T22:19:40.858722Z",
     "shell.execute_reply": "2022-07-18T22:19:40.858157Z"
    }
   },
   "outputs": [],
   "source": [
    "if related_dataset_arn is None:\n",
    "    related_time_series_response=forecast.create_dataset(\n",
    "                        Domain=\"RETAIL\",\n",
    "                        DatasetType='RELATED_TIME_SERIES',\n",
    "                        DatasetName=related_dataset_name,\n",
    "                        DataFrequency=dataset_frequency, \n",
    "                        Schema = related_schema)\n",
    "    related_dataset_arn = related_time_series_response['DatasetArn']"
   ]
  },
  {
   "cell_type": "code",
   "execution_count": 20,
   "metadata": {
    "execution": {
     "iopub.execute_input": "2022-07-18T22:19:40.865830Z",
     "iopub.status.busy": "2022-07-18T22:19:40.865178Z",
     "iopub.status.idle": "2022-07-18T22:19:40.937265Z",
     "shell.execute_reply": "2022-07-18T22:19:40.936736Z"
    }
   },
   "outputs": [
    {
     "name": "stdout",
     "output_type": "stream",
     "text": [
      "{'DatasetImportJobArn': 'arn:aws:forecast:us-east-1:861459294103:dataset-import-job/lab_4_rds/EP_DSIMPORT_JOB_TARGET_RELATED', 'DatasetImportJobName': 'EP_DSIMPORT_JOB_TARGET_RELATED', 'DataSource': {'S3Config': {'Path': 's3://c56451a956615l2404133t1w8614592941-forecastbucket-y4x8zm4hp7sq/lab_4/forecast/../autorun/related_ts_train.csv', 'RoleArn': 'arn:aws:iam::861459294103:role/ForecastRole'}}, 'Status': 'ACTIVE', 'CreationTime': datetime.datetime(2022, 7, 18, 18, 28, 33, 853000, tzinfo=tzlocal()), 'LastModificationTime': datetime.datetime(2022, 7, 18, 18, 45, 40, 601000, tzinfo=tzlocal())}\n",
      "{'DatasetImportJobArn': 'arn:aws:forecast:us-east-1:861459294103:dataset-import-job/lab_4_ds/EP_DSIMPORT_JOB_TARGET', 'DatasetImportJobName': 'EP_DSIMPORT_JOB_TARGET', 'DataSource': {'S3Config': {'Path': 's3://c56451a956615l2404133t1w8614592941-forecastbucket-y4x8zm4hp7sq/lab_4/forecast/../autorun/retail_ts_train.csv', 'RoleArn': 'arn:aws:iam::861459294103:role/ForecastRole'}}, 'Status': 'ACTIVE', 'CreationTime': datetime.datetime(2022, 7, 18, 18, 28, 33, 262000, tzinfo=tzlocal()), 'LastModificationTime': datetime.datetime(2022, 7, 18, 18, 45, 40, 622000, tzinfo=tzlocal())}\n"
     ]
    }
   ],
   "source": [
    "# forecast.describe_dataset(DatasetArn=related_dataset_arn)\n",
    "\n",
    "\n",
    "related_dataset_import_job_name = 'EP_DSIMPORT_JOB_TARGET_RELATED'\n",
    "ds_related_import_job_arn = None\n",
    "related_data_source = {\"S3Config\" : {\"Path\":s3_related_data_path,\"RoleArn\": role_arn} }\n",
    "\n",
    "dataset_import_job_list = forecast.list_dataset_import_jobs()\n",
    "\n",
    "for dataset_import_job in dataset_import_job_list['DatasetImportJobs']:\n",
    "    print(dataset_import_job)\n",
    "    if dataset_import_job['DatasetImportJobName']==related_dataset_import_job_name:\n",
    "        if dataset_import_job['Status'] == 'ACTIVE':\n",
    "            ds_related_import_job_arn = dataset_import_job['DatasetImportJobArn']\n",
    "        elif dataset_import_job['Status'] in ['CREATE_FAILED']:\n",
    "            forecast.delete_dataset_import_job(DatasetImportJobArn=dataset_import_job['DatasetImportJobArn'])\n",
    "            time.sleep(60)\n",
    "        else:\n",
    "            pass\n",
    "            "
   ]
  },
  {
   "cell_type": "code",
   "execution_count": 21,
   "metadata": {
    "execution": {
     "iopub.execute_input": "2022-07-18T22:19:40.941243Z",
     "iopub.status.busy": "2022-07-18T22:19:40.940595Z",
     "iopub.status.idle": "2022-07-18T22:19:40.944005Z",
     "shell.execute_reply": "2022-07-18T22:19:40.943496Z"
    }
   },
   "outputs": [
    {
     "name": "stdout",
     "output_type": "stream",
     "text": [
      "arn:aws:forecast:us-east-1:861459294103:dataset-import-job/lab_4_rds/EP_DSIMPORT_JOB_TARGET_RELATED\n"
     ]
    }
   ],
   "source": [
    "print(ds_related_import_job_arn)"
   ]
  },
  {
   "cell_type": "code",
   "execution_count": 22,
   "metadata": {
    "execution": {
     "iopub.execute_input": "2022-07-18T22:19:40.948546Z",
     "iopub.status.busy": "2022-07-18T22:19:40.947920Z",
     "iopub.status.idle": "2022-07-18T22:19:40.950654Z",
     "shell.execute_reply": "2022-07-18T22:19:40.950128Z"
    }
   },
   "outputs": [],
   "source": [
    "\n",
    "if ds_related_import_job_arn is None:\n",
    "    ds_related_import_job_response=forecast.create_dataset_import_job(DatasetImportJobName=related_dataset_import_job_name,\n",
    "                                                          DatasetArn=related_dataset_arn,\n",
    "                                                          DataSource= related_data_source,\n",
    "                                                          TimestampFormat=timestamp_format\n",
    "                                                         )\n",
    "    ds_related_import_job_arn=ds_related_import_job_response['DatasetImportJobArn']"
   ]
  },
  {
   "cell_type": "code",
   "execution_count": 23,
   "metadata": {
    "execution": {
     "iopub.execute_input": "2022-07-18T22:19:40.956177Z",
     "iopub.status.busy": "2022-07-18T22:19:40.955575Z",
     "iopub.status.idle": "2022-07-18T22:19:41.038071Z",
     "shell.execute_reply": "2022-07-18T22:19:41.037456Z"
    }
   },
   "outputs": [
    {
     "name": "stdout",
     "output_type": "stream",
     "text": [
      "{'DatasetGroupName': 'lab_4_dsg', 'DatasetGroupArn': 'arn:aws:forecast:us-east-1:861459294103:dataset-group/lab_4_dsg', 'DatasetArns': ['arn:aws:forecast:us-east-1:861459294103:dataset/lab_4_ds', 'arn:aws:forecast:us-east-1:861459294103:dataset/lab_4_rds'], 'Domain': 'RETAIL', 'Status': 'ACTIVE', 'CreationTime': datetime.datetime(2022, 7, 18, 18, 28, 32, 455000, tzinfo=tzlocal()), 'LastModificationTime': datetime.datetime(2022, 7, 18, 18, 45, 40, 722000, tzinfo=tzlocal()), 'ResponseMetadata': {'RequestId': 'd03a16d9-30fa-4886-8c32-311cef04b070', 'HTTPStatusCode': 200, 'HTTPHeaders': {'content-type': 'application/x-amz-json-1.1', 'date': 'Mon, 18 Jul 2022 22:19:40 GMT', 'x-amzn-requestid': 'd03a16d9-30fa-4886-8c32-311cef04b070', 'content-length': '359', 'connection': 'keep-alive'}, 'RetryAttempts': 0}}\n"
     ]
    }
   ],
   "source": [
    "# Add the time series and related dataset to the dataset group.\n",
    "dsg = forecast.describe_dataset_group(DatasetGroupArn=dataset_group_arn)\n",
    "print(dsg)"
   ]
  },
  {
   "cell_type": "code",
   "execution_count": 24,
   "metadata": {
    "execution": {
     "iopub.execute_input": "2022-07-18T22:19:41.042340Z",
     "iopub.status.busy": "2022-07-18T22:19:41.041536Z",
     "iopub.status.idle": "2022-07-18T22:19:41.045058Z",
     "shell.execute_reply": "2022-07-18T22:19:41.044456Z"
    }
   },
   "outputs": [
    {
     "name": "stdout",
     "output_type": "stream",
     "text": [
      "arn:aws:forecast:us-east-1:861459294103:dataset/lab_4_ds\n",
      "arn:aws:forecast:us-east-1:861459294103:dataset/lab_4_rds\n"
     ]
    }
   ],
   "source": [
    "print(dataset_arn)\n",
    "print(related_dataset_arn)"
   ]
  },
  {
   "cell_type": "code",
   "execution_count": 25,
   "metadata": {
    "execution": {
     "iopub.execute_input": "2022-07-18T22:19:41.050776Z",
     "iopub.status.busy": "2022-07-18T22:19:41.050154Z",
     "iopub.status.idle": "2022-07-18T22:19:41.158111Z",
     "shell.execute_reply": "2022-07-18T22:19:41.157576Z"
    }
   },
   "outputs": [
    {
     "data": {
      "text/plain": [
       "{'ResponseMetadata': {'RequestId': '61f48c16-e57b-426c-9c87-296a2306dbe0',\n",
       "  'HTTPStatusCode': 200,\n",
       "  'HTTPHeaders': {'content-type': 'application/x-amz-json-1.1',\n",
       "   'date': 'Mon, 18 Jul 2022 22:19:40 GMT',\n",
       "   'x-amzn-requestid': '61f48c16-e57b-426c-9c87-296a2306dbe0',\n",
       "   'content-length': '2',\n",
       "   'connection': 'keep-alive'},\n",
       "  'RetryAttempts': 0}}"
      ]
     },
     "execution_count": 1,
     "metadata": {},
     "output_type": "execute_result"
    }
   ],
   "source": [
    "forecast.update_dataset_group(DatasetGroupArn=dataset_group_arn, DatasetArns=[dataset_arn, related_dataset_arn])"
   ]
  },
  {
   "cell_type": "code",
   "execution_count": 26,
   "metadata": {
    "execution": {
     "iopub.execute_input": "2022-07-18T22:19:41.166756Z",
     "iopub.status.busy": "2022-07-18T22:19:41.166115Z",
     "iopub.status.idle": "2022-07-18T22:19:41.262688Z",
     "shell.execute_reply": "2022-07-18T22:19:41.263160Z"
    }
   },
   "outputs": [
    {
     "name": "stdout",
     "output_type": "stream",
     "text": [
      "ACTIVE \n"
     ]
    }
   ],
   "source": [
    "# Wait for the related dataset to finish.\n",
    "status_indicator = StatusIndicator()\n",
    "\n",
    "while True:\n",
    "    status = forecast.describe_dataset_import_job(DatasetImportJobArn=ds_related_import_job_arn)['Status']\n",
    "    status_indicator.update(status)\n",
    "    if status in ('ACTIVE', 'CREATE_FAILED'): break\n",
    "    time.sleep(10)\n",
    "\n",
    "status_indicator.end()"
   ]
  },
  {
   "cell_type": "code",
   "execution_count": 27,
   "metadata": {
    "execution": {
     "iopub.execute_input": "2022-07-18T22:19:41.269398Z",
     "iopub.status.busy": "2022-07-18T22:19:41.268748Z",
     "iopub.status.idle": "2022-07-18T22:19:41.333615Z",
     "shell.execute_reply": "2022-07-18T22:19:41.333082Z"
    }
   },
   "outputs": [
    {
     "name": "stdout",
     "output_type": "stream",
     "text": [
      "ACTIVE \n"
     ]
    }
   ],
   "source": [
    "# Wait for the time series dataset to finish. This process typically takes longer than the related set.\n",
    "status_indicator = StatusIndicator()\n",
    "\n",
    "while True:\n",
    "    status = forecast.describe_dataset_import_job(DatasetImportJobArn=ds_import_job_arn)['Status']\n",
    "    status_indicator.update(status)\n",
    "    if status in ('ACTIVE', 'CREATE_FAILED'): break\n",
    "    time.sleep(10)\n",
    "\n",
    "status_indicator.end()"
   ]
  },
  {
   "cell_type": "markdown",
   "metadata": {},
   "source": [
    "The following cell stores the Amazon Resource Names (ARNs) for the forecast objects that were created previously. They can be loaded from other notebooks."
   ]
  },
  {
   "cell_type": "code",
   "execution_count": 28,
   "metadata": {
    "execution": {
     "iopub.execute_input": "2022-07-18T22:19:41.341631Z",
     "iopub.status.busy": "2022-07-18T22:19:41.340647Z",
     "iopub.status.idle": "2022-07-18T22:19:41.346439Z",
     "shell.execute_reply": "2022-07-18T22:19:41.345913Z"
    }
   },
   "outputs": [
    {
     "name": "stdout",
     "output_type": "stream",
     "text": [
      "Stored 'ds_import_job_arn' (str)\n",
      "Stored 'dataset_arn' (str)\n",
      "Stored 'dataset_group_arn' (str)\n",
      "Stored 'related_dataset_arn' (str)\n",
      "Stored 'ds_related_import_job_arn' (str)\n"
     ]
    }
   ],
   "source": [
    "%store ds_import_job_arn\n",
    "%store dataset_arn\n",
    "%store dataset_group_arn\n",
    "%store related_dataset_arn\n",
    "%store ds_related_import_job_arn"
   ]
  },
  {
   "cell_type": "markdown",
   "metadata": {},
   "source": [
    "## Creating the predictor\n",
    "\n",
    "The following cell creates the predictor by using the following parameters:\n",
    "\n",
    "- The forecast horizon is set to *30 days*.\n",
    "- *DeepAR+* is the selected algorithm. For more information, see [DeepAR+ Algorithm](https://docs.aws.amazon.com/forecast/latest/dg/aws-forecast-recipe-deeparplus.html) in the AWS Documentation.\n",
    "- Hyperparameters are specified for the algorithm. These hyperparameters were generated by running the forecast with PerformHPO set to *true*. This created a hyperparameter tuning job on the model, which produced the values that follow.\n",
    "- A single backtest window for *30 days* is used.\n",
    "- The input data configuration is set to the dataset group that was created earlier.\n",
    "- Holidays for the United Kingdom are added as supplementary features.\n",
    "- A featurization pipeline is created for the price features. For more information, see the [Handling Missing Values](https://docs.aws.amazon.com/forecast/latest/dg/howitworks-missing-values.html) topic in the AWS Documentation.\n",
    "\n",
    "The cell will wait loop and display the status until the datasets are created."
   ]
  },
  {
   "cell_type": "code",
   "execution_count": 29,
   "metadata": {
    "execution": {
     "iopub.execute_input": "2022-07-18T22:19:41.360293Z",
     "iopub.status.busy": "2022-07-18T22:19:41.353999Z",
     "iopub.status.idle": "2022-07-18T22:19:41.411249Z",
     "shell.execute_reply": "2022-07-18T22:19:41.411759Z"
    }
   },
   "outputs": [
    {
     "name": "stdout",
     "output_type": "stream",
     "text": [
      "{'PredictorArn': 'arn:aws:forecast:us-east-1:861459294103:predictor/lab_4_deeparp_algo', 'PredictorName': 'lab_4_deeparp_algo', 'DatasetGroupArn': 'arn:aws:forecast:us-east-1:861459294103:dataset-group/lab_4_dsg', 'IsAutoPredictor': False, 'Status': 'ACTIVE', 'CreationTime': datetime.datetime(2022, 7, 18, 18, 45, 20, 721000, tzinfo=tzlocal()), 'LastModificationTime': datetime.datetime(2022, 7, 18, 19, 56, 7, 915000, tzinfo=tzlocal())}\n",
      "Stored 'predictor_arn' (str)\n"
     ]
    }
   ],
   "source": [
    "predictor_name= prefix+'_deeparp_algo'\n",
    "forecast_horizon = 30\n",
    "algorithm_arn = 'arn:aws:forecast:::algorithm/Deep_AR_Plus'\n",
    "\n",
    "training_parameters =  {'context_length': '172', \n",
    "                        'epochs': '500', \n",
    "                        'learning_rate': '0.00023391131837525837', \n",
    "                        'learning_rate_decay': '0.5', \n",
    "                        'likelihood': 'student-t', \n",
    "                        'max_learning_rate_decays': '0', \n",
    "                        'num_averaged_models': '1', \n",
    "                        'num_cells': '40', \n",
    "                        'num_layers': '2', \n",
    "                        'prediction_length': '30'}\n",
    "\n",
    "evaluation_parameters= {\"NumberOfBacktestWindows\": 1, \"BackTestWindowOffset\": 30}\n",
    "\n",
    "input_data_config = {\"DatasetGroupArn\": dataset_group_arn, \"SupplementaryFeatures\": [ {\"Name\": \"holiday\",\"Value\": \"UK\"} ]}\n",
    "                  \n",
    "featurization_config= {\"ForecastFrequency\": dataset_frequency,\n",
    "                      \"Featurizations\": \n",
    "                      [\n",
    "                          {\n",
    "                            \"AttributeName\": \"price\",\n",
    "                            \"FeaturizationPipeline\": [\n",
    "                                {\n",
    "                                    \"FeaturizationMethodName\": \"filling\",\n",
    "                                    \"FeaturizationMethodParameters\": {\n",
    "                                        \"middlefill\": \"median\",\n",
    "                                        \"backfill\": \"min\",\n",
    "                                        \"futurefill\": \"max\"               \n",
    "                                        }\n",
    "                                }\n",
    "                            ]\n",
    "                        }\n",
    "                      ]}\n",
    "\n",
    "predictor_arn = None\n",
    "predictors = forecast.list_predictors()\n",
    "for predictor in predictors['Predictors']:\n",
    "    print(predictor)\n",
    "    if predictor['PredictorName'] == predictor_name:\n",
    "        predictor_arn = predictor['PredictorArn']\n",
    "\n",
    "if predictor_arn is None:\n",
    "    create_predictor_response=forecast.create_predictor(PredictorName = predictor_name, \n",
    "                                                  AlgorithmArn = algorithm_arn,\n",
    "                                                  ForecastHorizon = forecast_horizon,\n",
    "                                                  PerformAutoML = False,\n",
    "                                                  PerformHPO = False,\n",
    "                                                  EvaluationParameters= evaluation_parameters, \n",
    "                                                  InputDataConfig = input_data_config,\n",
    "                                                  FeaturizationConfig = featurization_config,\n",
    "                                                  TrainingParameters = training_parameters\n",
    "                                                 )\n",
    "    predictor_arn = create_predictor_response['PredictorArn']\n",
    "\n",
    "%store predictor_arn"
   ]
  },
  {
   "cell_type": "code",
   "execution_count": 30,
   "metadata": {
    "execution": {
     "iopub.execute_input": "2022-07-18T22:19:41.418240Z",
     "iopub.status.busy": "2022-07-18T22:19:41.417602Z",
     "iopub.status.idle": "2022-07-18T22:19:41.473273Z",
     "shell.execute_reply": "2022-07-18T22:19:41.473791Z"
    }
   },
   "outputs": [
    {
     "name": "stdout",
     "output_type": "stream",
     "text": [
      "ACTIVE \n"
     ]
    }
   ],
   "source": [
    "status_indicator = StatusIndicator()\n",
    "while True:\n",
    "    status = forecast.describe_predictor(PredictorArn=predictor_arn)['Status']\n",
    "    status_indicator.update(status)\n",
    "    if status in ('ACTIVE', 'CREATE_FAILED'): break\n",
    "    time.sleep(10)\n",
    "\n",
    "status_indicator.end()"
   ]
  },
  {
   "cell_type": "code",
   "execution_count": 31,
   "metadata": {
    "execution": {
     "iopub.execute_input": "2022-07-18T22:19:41.478713Z",
     "iopub.status.busy": "2022-07-18T22:19:41.478109Z",
     "iopub.status.idle": "2022-07-18T22:19:41.567195Z",
     "shell.execute_reply": "2022-07-18T22:19:41.567698Z"
    }
   },
   "outputs": [
    {
     "name": "stdout",
     "output_type": "stream",
     "text": [
      "{'context_length': '172', 'epochs': '500', 'learning_rate': '0.00023391131837525837', 'learning_rate_decay': '0.5', 'likelihood': 'student-t', 'max_learning_rate_decays': '0', 'num_averaged_models': '1', 'num_cells': '40', 'num_layers': '2', 'prediction_length': '30'}\n"
     ]
    }
   ],
   "source": [
    "f = forecast.describe_predictor(PredictorArn=predictor_arn)\n",
    "print(f['TrainingParameters'])"
   ]
  },
  {
   "cell_type": "markdown",
   "metadata": {},
   "source": [
    "## Getting accuracy metrics\n",
    "\n",
    "The next cell prints the accuracy metrics for the predictor that was just created."
   ]
  },
  {
   "cell_type": "code",
   "execution_count": 32,
   "metadata": {
    "execution": {
     "iopub.execute_input": "2022-07-18T22:19:41.573398Z",
     "iopub.status.busy": "2022-07-18T22:19:41.572797Z",
     "iopub.status.idle": "2022-07-18T22:19:41.656417Z",
     "shell.execute_reply": "2022-07-18T22:19:41.655678Z"
    }
   },
   "outputs": [
    {
     "data": {
      "text/plain": [
       "{'PredictorEvaluationResults': [{'AlgorithmArn': 'arn:aws:forecast:::algorithm/Deep_AR_Plus',\n",
       "   'TestWindows': [{'EvaluationType': 'SUMMARY',\n",
       "     'Metrics': {'RMSE': 134.00919774284864,\n",
       "      'WeightedQuantileLosses': [{'Quantile': 0.9,\n",
       "        'LossValue': 0.9533150029067442},\n",
       "       {'Quantile': 0.5, 'LossValue': 0.7444006589298552},\n",
       "       {'Quantile': 0.1, 'LossValue': 0.21801636801827054}],\n",
       "      'ErrorMetrics': [{'ForecastType': 'mean',\n",
       "        'WAPE': 0.7460666236670049,\n",
       "        'RMSE': 134.00919774284864,\n",
       "        'MASE': 0.5882109196050737,\n",
       "        'MAPE': 0.6698353965820356}],\n",
       "      'AverageWeightedQuantileLoss': 0.6385773432849566}},\n",
       "    {'TestWindowStart': datetime.datetime(2010, 10, 2, 0, 0, tzinfo=tzlocal()),\n",
       "     'TestWindowEnd': datetime.datetime(2010, 11, 1, 0, 0, tzinfo=tzlocal()),\n",
       "     'ItemCount': 1,\n",
       "     'EvaluationType': 'COMPUTED',\n",
       "     'Metrics': {'RMSE': 134.00919774284864,\n",
       "      'WeightedQuantileLosses': [{'Quantile': 0.9,\n",
       "        'LossValue': 0.9533150029067442},\n",
       "       {'Quantile': 0.5, 'LossValue': 0.7444006589298552},\n",
       "       {'Quantile': 0.1, 'LossValue': 0.21801636801827054}],\n",
       "      'ErrorMetrics': [{'ForecastType': 'mean',\n",
       "        'WAPE': 0.7460666236670049,\n",
       "        'RMSE': 134.00919774284864,\n",
       "        'MASE': 0.5882109196050737,\n",
       "        'MAPE': 0.6698353965820356}],\n",
       "      'AverageWeightedQuantileLoss': 0.6385773432849566}}]}],\n",
       " 'IsAutoPredictor': False,\n",
       " 'ResponseMetadata': {'RequestId': '4924f9c8-fd81-4f88-ad31-50b8a8a7cfc1',\n",
       "  'HTTPStatusCode': 200,\n",
       "  'HTTPHeaders': {'content-type': 'application/x-amz-json-1.1',\n",
       "   'date': 'Mon, 18 Jul 2022 22:19:41 GMT',\n",
       "   'x-amzn-requestid': '4924f9c8-fd81-4f88-ad31-50b8a8a7cfc1',\n",
       "   'content-length': '1072',\n",
       "   'connection': 'keep-alive'},\n",
       "  'RetryAttempts': 0}}"
      ]
     },
     "execution_count": 1,
     "metadata": {},
     "output_type": "execute_result"
    }
   ],
   "source": [
    "forecast.get_accuracy_metrics(PredictorArn=predictor_arn)"
   ]
  },
  {
   "cell_type": "markdown",
   "metadata": {},
   "source": [
    "## Creating the forecast\n",
    "\n",
    "The following cell creates a forecast from the predictor that was created earlier. \n",
    "\n",
    "The predictor and forecast ARN values are stored so that they can be retrieved from the lab notebook.\n",
    "\n"
   ]
  },
  {
   "cell_type": "code",
   "execution_count": 33,
   "metadata": {
    "execution": {
     "iopub.execute_input": "2022-07-18T22:19:41.666584Z",
     "iopub.status.busy": "2022-07-18T22:19:41.665968Z",
     "iopub.status.idle": "2022-07-18T22:19:41.854202Z",
     "shell.execute_reply": "2022-07-18T22:19:41.853629Z"
    }
   },
   "outputs": [],
   "source": [
    "forecast_Name= prefix+'_deeparp_algo_forecast'\n",
    "forecast_arn = None\n",
    "forecasts = forecast.list_forecasts()\n",
    "for f in forecasts['Forecasts']:\n",
    "    if f['ForecastName']==forecast_Name:\n",
    "        forecast_arn = f['ForecastArn']\n",
    "        \n",
    "if forecast_arn is None:\n",
    "    create_forecast_response=forecast.create_forecast(ForecastName=forecast_Name,\n",
    "                                                  PredictorArn=predictor_arn)\n",
    "    forecast_arn = create_forecast_response['ForecastArn']"
   ]
  },
  {
   "cell_type": "code",
   "execution_count": 34,
   "metadata": {
    "execution": {
     "iopub.execute_input": "2022-07-18T22:19:41.858795Z",
     "iopub.status.busy": "2022-07-18T22:19:41.857997Z",
     "iopub.status.idle": "2022-07-18T22:19:41.861800Z",
     "shell.execute_reply": "2022-07-18T22:19:41.861238Z"
    },
    "tags": []
   },
   "outputs": [
    {
     "name": "stdout",
     "output_type": "stream",
     "text": [
      "Stored 'forecast_arn' (str)\n"
     ]
    }
   ],
   "source": [
    "%store forecast_arn\n"
   ]
  },
  {
   "cell_type": "code",
   "execution_count": 35,
   "metadata": {
    "execution": {
     "iopub.execute_input": "2022-07-18T22:19:41.868398Z",
     "iopub.status.busy": "2022-07-18T22:19:41.867729Z",
     "iopub.status.idle": "2022-07-18T22:36:17.879158Z",
     "shell.execute_reply": "2022-07-18T22:36:17.878620Z"
    }
   },
   "outputs": [
    {
     "name": "stdout",
     "output_type": "stream",
     "text": [
      "CREATE_PENDING \n",
      "CREATE_IN_PROGRESS .................................................................................................\n",
      "ACTIVE \n",
      "arn:aws:forecast:us-east-1:861459294103:forecast/lab_4_deeparp_algo_forecast\n"
     ]
    }
   ],
   "source": [
    "status_indicator = StatusIndicator()\n",
    "while True:\n",
    "    status = forecast.describe_forecast(ForecastArn=forecast_arn)['Status']\n",
    "    status_indicator.update(status)\n",
    "    if status in ('ACTIVE', 'CREATE_FAILED'): break\n",
    "    time.sleep(10)\n",
    "\n",
    "status_indicator.end()\n",
    "\n",
    "print(forecast_arn)"
   ]
  },
  {
   "cell_type": "markdown",
   "metadata": {},
   "source": [
    "The next cell creates a quick forecast as a test, which can be useful for troubleshooting."
   ]
  },
  {
   "cell_type": "code",
   "execution_count": 36,
   "metadata": {
    "execution": {
     "iopub.execute_input": "2022-07-18T22:36:17.885281Z",
     "iopub.status.busy": "2022-07-18T22:36:17.884678Z",
     "iopub.status.idle": "2022-07-18T22:36:19.493217Z",
     "shell.execute_reply": "2022-07-18T22:36:19.492579Z"
    }
   },
   "outputs": [
    {
     "name": "stdout",
     "output_type": "stream",
     "text": [
      "\n",
      "{'Forecast': {'Predictions': {'p10': [{'Timestamp': '2010-11-01T00:00:00', 'Value': -9.7571210861}, {'Timestamp': '2010-11-02T00:00:00', 'Value': 29.4540252686}, {'Timestamp': '2010-11-03T00:00:00', 'Value': 36.668056488}, {'Timestamp': '2010-11-04T00:00:00', 'Value': 40.2012252808}, {'Timestamp': '2010-11-05T00:00:00', 'Value': -20.3314857483}, {'Timestamp': '2010-11-06T00:00:00', 'Value': -9.8204021454}, {'Timestamp': '2010-11-07T00:00:00', 'Value': 14.1882171631}, {'Timestamp': '2010-11-08T00:00:00', 'Value': 27.8944339752}, {'Timestamp': '2010-11-09T00:00:00', 'Value': 0.0503234863}, {'Timestamp': '2010-11-10T00:00:00', 'Value': -22.5631103516}, {'Timestamp': '2010-11-11T00:00:00', 'Value': -20.8479499817}, {'Timestamp': '2010-11-12T00:00:00', 'Value': -3.3248710632}, {'Timestamp': '2010-11-13T00:00:00', 'Value': -2.8114709854}, {'Timestamp': '2010-11-14T00:00:00', 'Value': 44.1766777039}, {'Timestamp': '2010-11-15T00:00:00', 'Value': 55.8097457886}, {'Timestamp': '2010-11-16T00:00:00', 'Value': 58.5392341614}, {'Timestamp': '2010-11-17T00:00:00', 'Value': -1.0365142822}, {'Timestamp': '2010-11-18T00:00:00', 'Value': 24.7277812958}, {'Timestamp': '2010-11-19T00:00:00', 'Value': 2.967792511}, {'Timestamp': '2010-11-20T00:00:00', 'Value': -4.4655151367}, {'Timestamp': '2010-11-21T00:00:00', 'Value': 10.1678295135}, {'Timestamp': '2010-11-22T00:00:00', 'Value': 31.2767086029}, {'Timestamp': '2010-11-23T00:00:00', 'Value': 43.8765182495}, {'Timestamp': '2010-11-24T00:00:00', 'Value': 21.3958320618}, {'Timestamp': '2010-11-25T00:00:00', 'Value': 17.0110282898}, {'Timestamp': '2010-11-26T00:00:00', 'Value': -4.9480218887}, {'Timestamp': '2010-11-27T00:00:00', 'Value': -3.7253046036}, {'Timestamp': '2010-11-28T00:00:00', 'Value': 15.5467720032}, {'Timestamp': '2010-11-29T00:00:00', 'Value': 17.9712162018}, {'Timestamp': '2010-11-30T00:00:00', 'Value': 32.2370758057}], 'p50': [{'Timestamp': '2010-11-01T00:00:00', 'Value': -8.6056346893}, {'Timestamp': '2010-11-02T00:00:00', 'Value': 32.2053871155}, {'Timestamp': '2010-11-03T00:00:00', 'Value': 39.0319213867}, {'Timestamp': '2010-11-04T00:00:00', 'Value': 43.9337882996}, {'Timestamp': '2010-11-05T00:00:00', 'Value': -16.2842712402}, {'Timestamp': '2010-11-06T00:00:00', 'Value': -4.2147541046}, {'Timestamp': '2010-11-07T00:00:00', 'Value': 23.8522014618}, {'Timestamp': '2010-11-08T00:00:00', 'Value': 46.3265037537}, {'Timestamp': '2010-11-09T00:00:00', 'Value': 68.4266052246}, {'Timestamp': '2010-11-10T00:00:00', 'Value': 69.2805404663}, {'Timestamp': '2010-11-11T00:00:00', 'Value': 62.0143089294}, {'Timestamp': '2010-11-12T00:00:00', 'Value': 37.7757949829}, {'Timestamp': '2010-11-13T00:00:00', 'Value': 11.8608989716}, {'Timestamp': '2010-11-14T00:00:00', 'Value': 57.7246780396}, {'Timestamp': '2010-11-15T00:00:00', 'Value': 72.5650405884}, {'Timestamp': '2010-11-16T00:00:00', 'Value': 92.6500930786}, {'Timestamp': '2010-11-17T00:00:00', 'Value': 65.4984970093}, {'Timestamp': '2010-11-18T00:00:00', 'Value': 47.34324646}, {'Timestamp': '2010-11-19T00:00:00', 'Value': 31.6962127686}, {'Timestamp': '2010-11-20T00:00:00', 'Value': 5.7113828659}, {'Timestamp': '2010-11-21T00:00:00', 'Value': 44.7913475037}, {'Timestamp': '2010-11-22T00:00:00', 'Value': 51.9129867554}, {'Timestamp': '2010-11-23T00:00:00', 'Value': 77.8986358643}, {'Timestamp': '2010-11-24T00:00:00', 'Value': 60.5322151184}, {'Timestamp': '2010-11-25T00:00:00', 'Value': 37.955696106}, {'Timestamp': '2010-11-26T00:00:00', 'Value': 12.8957977295}, {'Timestamp': '2010-11-27T00:00:00', 'Value': 8.0049095154}, {'Timestamp': '2010-11-28T00:00:00', 'Value': 24.597951889}, {'Timestamp': '2010-11-29T00:00:00', 'Value': 32.1774024963}, {'Timestamp': '2010-11-30T00:00:00', 'Value': 43.3186378479}], 'p90': [{'Timestamp': '2010-11-01T00:00:00', 'Value': -7.5065326691}, {'Timestamp': '2010-11-02T00:00:00', 'Value': 34.7498283386}, {'Timestamp': '2010-11-03T00:00:00', 'Value': 41.5090408325}, {'Timestamp': '2010-11-04T00:00:00', 'Value': 47.7141838074}, {'Timestamp': '2010-11-05T00:00:00', 'Value': -12.509645462}, {'Timestamp': '2010-11-06T00:00:00', 'Value': 3.0610613823}, {'Timestamp': '2010-11-07T00:00:00', 'Value': 32.2038230896}, {'Timestamp': '2010-11-08T00:00:00', 'Value': 69.0688095093}, {'Timestamp': '2010-11-09T00:00:00', 'Value': 132.3823547363}, {'Timestamp': '2010-11-10T00:00:00', 'Value': 164.4650115967}, {'Timestamp': '2010-11-11T00:00:00', 'Value': 161.2159423828}, {'Timestamp': '2010-11-12T00:00:00', 'Value': 90.8257598877}, {'Timestamp': '2010-11-13T00:00:00', 'Value': 38.9117431641}, {'Timestamp': '2010-11-14T00:00:00', 'Value': 73.7878952026}, {'Timestamp': '2010-11-15T00:00:00', 'Value': 93.5307006836}, {'Timestamp': '2010-11-16T00:00:00', 'Value': 141.247253418}, {'Timestamp': '2010-11-17T00:00:00', 'Value': 131.273727417}, {'Timestamp': '2010-11-18T00:00:00', 'Value': 115.9075241089}, {'Timestamp': '2010-11-19T00:00:00', 'Value': 66.4336776733}, {'Timestamp': '2010-11-20T00:00:00', 'Value': 29.4721832275}, {'Timestamp': '2010-11-21T00:00:00', 'Value': 81.2667388916}, {'Timestamp': '2010-11-22T00:00:00', 'Value': 83.025680542}, {'Timestamp': '2010-11-23T00:00:00', 'Value': 122.101890564}, {'Timestamp': '2010-11-24T00:00:00', 'Value': 104.6154022217}, {'Timestamp': '2010-11-25T00:00:00', 'Value': 66.2911911011}, {'Timestamp': '2010-11-26T00:00:00', 'Value': 37.0283470154}, {'Timestamp': '2010-11-27T00:00:00', 'Value': 27.4108543396}, {'Timestamp': '2010-11-28T00:00:00', 'Value': 50.3027801514}, {'Timestamp': '2010-11-29T00:00:00', 'Value': 62.0303039551}, {'Timestamp': '2010-11-30T00:00:00', 'Value': 56.574016571}]}}, 'ResponseMetadata': {'RequestId': '80240dd1-a3c5-461a-b9e3-c5083a620f5a', 'HTTPStatusCode': 200, 'HTTPHeaders': {'content-type': 'application/x-amz-json-1.1', 'date': 'Mon, 18 Jul 2022 22:36:18 GMT', 'x-amzn-requestid': '80240dd1-a3c5-461a-b9e3-c5083a620f5a', 'content-length': '5270', 'connection': 'keep-alive'}, 'RetryAttempts': 0}}\n"
     ]
    }
   ],
   "source": [
    "print()\n",
    "forecast_response = forecast_query.query_forecast(\n",
    "    ForecastArn=forecast_arn,\n",
    "    Filters={\"item_id\":\"21232\"}\n",
    ")\n",
    "print(forecast_response)"
   ]
  },
  {
   "cell_type": "markdown",
   "metadata": {},
   "source": [
    "## Optional cleanup\n",
    "\n",
    "Cleanup is performed in the `forecast-lab.ipynb` notebook. If you must perform the cleanup here, change the following cell to code by selecting the cell and pressing Y. Then, run the cell."
   ]
  },
  {
   "cell_type": "markdown",
   "metadata": {},
   "source": [
    "forecast.delete_forecast(ForecastArn=forecast_arn)\n",
    "time.sleep(60)"
   ]
  },
  {
   "cell_type": "markdown",
   "metadata": {},
   "source": [
    "forecast.delete_predictor(PredictorArn=predictor_arn)\n",
    "time.sleep(60)"
   ]
  },
  {
   "cell_type": "markdown",
   "metadata": {},
   "source": [
    "forecast.delete_dataset_import_job(DatasetImportJobArn=ds_import_job_arn)\n",
    "time.sleep(60)"
   ]
  },
  {
   "cell_type": "markdown",
   "metadata": {},
   "source": [
    "forecast.delete_dataset(DatasetArn=dataset_arn)\n",
    "time.sleep(60)"
   ]
  },
  {
   "cell_type": "markdown",
   "metadata": {},
   "source": [
    "forecast.delete_dataset_group(DatasetGroupArn=dataset_group_arn)"
   ]
  },
  {
   "cell_type": "code",
   "execution_count": null,
   "metadata": {},
   "outputs": [],
   "source": []
  }
 ],
 "metadata": {
  "kernelspec": {
   "display_name": "conda_python3",
   "language": "python",
   "name": "conda_python3"
  },
  "language_info": {
   "codemirror_mode": {
    "name": "ipython",
    "version": 3
   },
   "file_extension": ".py",
   "mimetype": "text/x-python",
   "name": "python",
   "nbconvert_exporter": "python",
   "pygments_lexer": "ipython3",
   "version": "3.6.13"
  }
 },
 "nbformat": 4,
 "nbformat_minor": 4
}
